{
 "cells": [
  {
   "cell_type": "code",
   "execution_count": 1,
   "metadata": {},
   "outputs": [
    {
     "data": {
      "application/vnd.jupyter.widget-view+json": {
       "model_id": "b04d5cd4e17e47f5ab89d348e42a427c",
       "version_major": 2,
       "version_minor": 0
      },
      "text/plain": [
       "Canvas(toolbar=Toolbar(toolitems=[('Home', 'Reset original view', 'home', 'home'), ('Back', 'Back to previous …"
      ]
     },
     "metadata": {},
     "output_type": "display_data"
    },
    {
     "data": {
      "application/vnd.jupyter.widget-view+json": {
       "model_id": "5e660e7024e240f9b32208badf354852",
       "version_major": 2,
       "version_minor": 0
      },
      "text/plain": [
       "interactive(children=(FloatSlider(value=0.0, description='X', max=5.0, min=-1.0, step=0.2), Output()), _dom_cl…"
      ]
     },
     "metadata": {},
     "output_type": "display_data"
    },
    {
     "data": {
      "application/vnd.jupyter.widget-view+json": {
       "model_id": "f0725a37a5ec4caabdf9646afced6fbe",
       "version_major": 2,
       "version_minor": 0
      },
      "text/plain": [
       "VBox(children=(Button(description='reset', style=ButtonStyle()),))"
      ]
     },
     "metadata": {},
     "output_type": "display_data"
    }
   ],
   "source": [
    "%matplotlib widget\n",
    "\n",
    "from __future__ import print_function\n",
    "from ipywidgets import interact, interactive, fixed, interact_manual, FloatSlider, Button\n",
    "import ipywidgets\n",
    "import numpy as np\n",
    "import matplotlib.pyplot as plt\n",
    "import matplotlib.image as mpimg\n",
    "\n",
    "A = (0, 0)\n",
    "B = (5, -2)\n",
    "D = (0, -1)\n",
    "v1 = 1.0/2.0\n",
    "v2 = 1.0\n",
    "\n",
    "fig, ax = plt.subplots(nrows=2, sharex=True, figsize=[5, 5])\n",
    "ax[0].plot(0, 0, \"ko\")\n",
    "ax[0].fill_between([-10, 10], 0, D[1], color=\"C5\", alpha=0.3)\n",
    "ax[0].plot(5, -2, \"rx\")\n",
    "ax[0].set_xlim(-1, 6)\n",
    "ax[0].set_ylim(-2.3, 0.5)\n",
    "ax[1].set_xlabel(r\"position $x \\,\\rm{[m]}$\", fontweight='bold')\n",
    "ax[0].set_ylabel(r\"position $y \\,\\rm{[m]}$\", fontweight='bold')\n",
    "ax[1].set_ylabel(r\"time $t \\,\\rm{[s]}$\", fontweight='bold')\n",
    "arr_sleigh = mpimg.imread('images/sleigh.png')\n",
    "arr_igloo = mpimg.imread('images/igloo.png')\n",
    "ax[0].imshow(arr_sleigh, extent=[-0.2, 0.2, -0.0, 0.4])\n",
    "ax[0].imshow(arr_igloo, extent=[B[0]-0.2, B[0]+0.2, B[1]-0.0, B[1]+0.4])\n",
    "ax[0].text(-0.9, -0.5, r\"Mud\", fontweight='bold')\n",
    "ax[0].text(-0.9, -1.7, r\"Snow\", fontweight='bold')\n",
    "l1, = ax[0].plot([A[0], D[0]], [A[1], D[1]], \"--\", color=\"C2\", lw=2)\n",
    "l2, = ax[0].plot([D[0], B[0]], [D[1], B[1]], \"--\", color=\"C2\", lw=2)\n",
    "t1 = ax[0].text((A[0]+ A[0])/2.+0.1, -0.5, r\"$d_m=1$\")\n",
    "t2 = ax[0].text((A[0]+ B[0])/2.+0.1, -1.5, r\"$d_s=%.1f$\" % (np.sqrt(1+25)))\n",
    "paim, = ax[0].plot(0, -1, \"r*\")\n",
    "\n",
    "ax[1].set_xlim(-1, 6)\n",
    "ax[1].set_ylim(6, 12)\n",
    "ax[1].grid()\n",
    "xx = 0.0\n",
    "d1 = np.sqrt(1 + xx**2)\n",
    "d2 = np.sqrt(1 + (B[0]-xx)**2)\n",
    "lt, = ax[1].plot(xx, d1/v1 + d2/v2, \"o\", color=\"C4\")\n",
    "listp = []\n",
    "\n",
    "\n",
    "def update(X=0.0):\n",
    "    xx=X\n",
    "    x = X\n",
    "    paim.set_xdata([x])\n",
    "    l1.set_xdata([A[0], x])\n",
    "    l2.set_xdata([x, B[0]])\n",
    "    t1.set_position([(x+A[0])/2.+0.1, -0.5])\n",
    "    t2.set_position([(x+B[0])/2.+0.1, -1.5])\n",
    "    d1 = np.sqrt(1 + x**2)\n",
    "    d2 = np.sqrt(1 + (B[0]-x)**2)\n",
    "    t1.set_text(r\"$d_m=%.1f$ m\" %d1)\n",
    "    t2.set_text(r\"$d_s=%.1f$ m\" %d2)\n",
    "    listp.append(ax[1].plot(x, d1/v1 + d2/v2, \".\", color=\"C1\"))\n",
    "    lt.set_xdata(x)\n",
    "    lt.set_ydata(d1/v1 + d2/v2)\n",
    "    ax[0].figure.canvas.draw()\n",
    "    ax[1].figure.canvas.draw()\n",
    "    # fig.canvas.draw_idle()\n",
    "\n",
    "def resetplot(z=True):\n",
    "    for aa in listp:\n",
    "        aa[0].remove()\n",
    "    listp[:] = []\n",
    "    # listp.append(ax[1].plot(xx, d1/v1 + d2/v2, \".\", color=\"C1\"))\n",
    "    ax[0].figure.canvas.draw()\n",
    "    ax[1].figure.canvas.draw()\n",
    "    return lt\n",
    "    \n",
    "inter = interact(update, X=FloatSlider(min=-1, max=5.0, step=0.2, continuous_update=True))\n",
    "button = Button(description='reset')\n",
    "button.on_click(resetplot)\n",
    "ipywidgets.VBox([button])\n"
   ]
  }
 ],
 "metadata": {
  "kernelspec": {
   "display_name": "Python 3",
   "language": "python",
   "name": "python3"
  },
  "language_info": {
   "codemirror_mode": {
    "name": "ipython",
    "version": 3
   },
   "file_extension": ".py",
   "mimetype": "text/x-python",
   "name": "python",
   "nbconvert_exporter": "python",
   "pygments_lexer": "ipython3",
   "version": "3.8.5"
  },
  "widgets": {
   "application/vnd.jupyter.widget-state+json": {
    "state": {
     "3ad466ed765947beb72b25ac2f9c8ba0": {
      "model_module": "@jupyter-widgets/controls",
      "model_module_version": "1.5.0",
      "model_name": "ButtonStyleModel",
      "state": {}
     },
     "41b86d4dc77341cdabf76e515770ce43": {
      "model_module": "@jupyter-widgets/base",
      "model_module_version": "1.2.0",
      "model_name": "LayoutModel",
      "state": {}
     },
     "529328eac63e44b0992826f7a665a1c2": {
      "model_module": "@jupyter-widgets/controls",
      "model_module_version": "1.5.0",
      "model_name": "ButtonModel",
      "state": {
       "description": "reset",
       "layout": "IPY_MODEL_41b86d4dc77341cdabf76e515770ce43",
       "style": "IPY_MODEL_3ad466ed765947beb72b25ac2f9c8ba0"
      }
     },
     "5e0fab137f984dadb8a3d8edd4bc70bb": {
      "model_module": "@jupyter-widgets/base",
      "model_module_version": "1.2.0",
      "model_name": "LayoutModel",
      "state": {}
     },
     "5e660e7024e240f9b32208badf354852": {
      "model_module": "@jupyter-widgets/controls",
      "model_module_version": "1.5.0",
      "model_name": "VBoxModel",
      "state": {
       "_dom_classes": [
        "widget-interact"
       ],
       "children": [
        "IPY_MODEL_d0398fa2321f44f187c24c1d8f9d6238",
        "IPY_MODEL_aaa715daded64264bc3ab140b3352e94"
       ],
       "layout": "IPY_MODEL_9289d176e2834d13ab2a91c5996dce92"
      }
     },
     "647e6cc465ed411b9f6e0ff802b63466": {
      "model_module": "@jupyter-widgets/base",
      "model_module_version": "1.2.0",
      "model_name": "LayoutModel",
      "state": {}
     },
     "728835e679aa4988984a965261f8969e": {
      "model_module": "@jupyter-widgets/base",
      "model_module_version": "1.2.0",
      "model_name": "LayoutModel",
      "state": {}
     },
     "9289d176e2834d13ab2a91c5996dce92": {
      "model_module": "@jupyter-widgets/base",
      "model_module_version": "1.2.0",
      "model_name": "LayoutModel",
      "state": {}
     },
     "a7ac6954d0374fcdb77c762006d4d4be": {
      "model_module": "@jupyter-widgets/controls",
      "model_module_version": "1.5.0",
      "model_name": "SliderStyleModel",
      "state": {
       "description_width": ""
      }
     },
     "aaa715daded64264bc3ab140b3352e94": {
      "model_module": "@jupyter-widgets/output",
      "model_module_version": "1.0.0",
      "model_name": "OutputModel",
      "state": {
       "layout": "IPY_MODEL_728835e679aa4988984a965261f8969e"
      }
     },
     "b04d5cd4e17e47f5ab89d348e42a427c": {
      "model_module": "jupyter-matplotlib",
      "model_module_version": "^0.7.4",
      "model_name": "MPLCanvasModel",
      "state": {
       "_cursor": "default",
       "_figure_label": "Figure 1",
       "_height": 500,
       "_image_mode": "diff",
       "_message": "x=5.56 y=−2.17",
       "_width": 500,
       "layout": "IPY_MODEL_d1bedcd67c9947d5a269438d18417e0a",
       "toolbar": "IPY_MODEL_d89c852f9a8c4f6d95543cd203266960",
       "toolbar_position": "left"
      }
     },
     "d0398fa2321f44f187c24c1d8f9d6238": {
      "model_module": "@jupyter-widgets/controls",
      "model_module_version": "1.5.0",
      "model_name": "FloatSliderModel",
      "state": {
       "description": "X",
       "layout": "IPY_MODEL_f521ffdc00174828a51de4951cbd0be3",
       "max": 5,
       "min": -1,
       "step": 0.2,
       "style": "IPY_MODEL_a7ac6954d0374fcdb77c762006d4d4be",
       "value": 0.8
      }
     },
     "d1bedcd67c9947d5a269438d18417e0a": {
      "model_module": "@jupyter-widgets/base",
      "model_module_version": "1.2.0",
      "model_name": "LayoutModel",
      "state": {}
     },
     "d89c852f9a8c4f6d95543cd203266960": {
      "model_module": "jupyter-matplotlib",
      "model_module_version": "^0.7.4",
      "model_name": "ToolbarModel",
      "state": {
       "layout": "IPY_MODEL_5e0fab137f984dadb8a3d8edd4bc70bb",
       "toolitems": [
        [
         "Home",
         "Reset original view",
         "home",
         "home"
        ],
        [
         "Back",
         "Back to previous view",
         "arrow-left",
         "back"
        ],
        [
         "Forward",
         "Forward to next view",
         "arrow-right",
         "forward"
        ],
        [
         "Pan",
         "Left button pans, Right button zooms\nx/y fixes axis, CTRL fixes aspect",
         "arrows",
         "pan"
        ],
        [
         "Zoom",
         "Zoom to rectangle\nx/y fixes axis, CTRL fixes aspect",
         "square-o",
         "zoom"
        ],
        [
         "Download",
         "Download plot",
         "floppy-o",
         "save_figure"
        ]
       ]
      }
     },
     "f0725a37a5ec4caabdf9646afced6fbe": {
      "model_module": "@jupyter-widgets/controls",
      "model_module_version": "1.5.0",
      "model_name": "VBoxModel",
      "state": {
       "children": [
        "IPY_MODEL_529328eac63e44b0992826f7a665a1c2"
       ],
       "layout": "IPY_MODEL_647e6cc465ed411b9f6e0ff802b63466"
      }
     },
     "f521ffdc00174828a51de4951cbd0be3": {
      "model_module": "@jupyter-widgets/base",
      "model_module_version": "1.2.0",
      "model_name": "LayoutModel",
      "state": {}
     }
    },
    "version_major": 2,
    "version_minor": 0
   }
  }
 },
 "nbformat": 4,
 "nbformat_minor": 4
}
