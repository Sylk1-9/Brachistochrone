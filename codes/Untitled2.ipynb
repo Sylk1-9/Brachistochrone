{
 "cells": [
  {
   "cell_type": "code",
   "execution_count": 5,
   "metadata": {},
   "outputs": [
    {
     "ename": "IndentationError",
     "evalue": "expected an indented block (<ipython-input-5-c8a60269addf>, line 50)",
     "output_type": "error",
     "traceback": [
      "\u001b[0;36m  File \u001b[0;32m\"<ipython-input-5-c8a60269addf>\"\u001b[0;36m, line \u001b[0;32m50\u001b[0m\n\u001b[0;31m    slider = interactive(pmp_example_sliders, corn_price=(10, 500, 10),\u001b[0m\n\u001b[0m    ^\u001b[0m\n\u001b[0;31mIndentationError\u001b[0m\u001b[0;31m:\u001b[0m expected an indented block\n"
     ]
    }
   ],
   "source": [
    "import matplotlib.pyplot as plt\n",
    "from numpy import *\n",
    " \n",
    "#fixed inputs from calibrated model\n",
    "#alpha and gamma for quadratic formulation from Howitt, 1995\n",
    "input_params = [743.0, 2.57]\n",
    " \n",
    "#crop revenue per acre, known\n",
    "crop_revenues = 1500\n",
    " \n",
    "#Creating the x-axis domain, controls range of x inputs\n",
    "t = linspace(0, 350)\n",
    " \n",
    "#t is the independent variable, corn_MC is dependent variable\n",
    "corn_MC = input_params[0]  + input_params[1] * t \n",
    " \n",
    "#note that you have to multiply t by 0 to populate entire line\n",
    "corn_MR = crop_revenues + 0 * t\n",
    " \n",
    "plt.figure(dpi=400) #set resolution of graph, can change. \n",
    " \n",
    "#label axes\n",
    "plt.ylabel('Marginal Cost ($/acre)')\n",
    "plt.xlabel('Acres of Corn Planted')\n",
    " \n",
    "#plot as many lines as you'd like, expand them here\n",
    "plt.plot(t, corn_MC, 'r', label='Marginal Cost')\n",
    "plt.plot(t, corn_MR, 'b', label='Marginal Revenue')\n",
    " \n",
    "#change size of ticks on axes\n",
    "plt.tick_params(labelsize=8)\n",
    " \n",
    "legend = plt.legend(loc=4, shadow=True)\n",
    "plt.show()\n",
    "\n",
    "\n",
    "from ipywidgets import *\n",
    "import scipy.optimize\n",
    "%matplotlib inline\n",
    "from numpy import *\n",
    "import matplotlib.pyplot as plt\n",
    " \n",
    "def pmp_example_sliders(corn_price=250, corn_initial_acres=200, x_axis_scale=350):\n",
    "\n",
    "###Code for Running Calibration and Graphing Resulting Graph###\n",
    "#create sliders for three variables to be changed\n",
    "#have to have function with changing parameters (shown above)\n",
    "#note that scale for corn_price is form 10 to 500 and stepping by 10\n",
    "\n",
    "slider = interactive(pmp_example_sliders, corn_price=(10, 500, 10),\n",
    "corn_initial_acres=(0.01,400, 10), x_axis_scale=(30, 650, 10))\n",
    " \n",
    "#display the resulting slider\n",
    "display(slider)\n"
   ]
  }
 ],
 "metadata": {
  "kernelspec": {
   "display_name": "Python 3",
   "language": "python",
   "name": "python3"
  },
  "language_info": {
   "codemirror_mode": {
    "name": "ipython",
    "version": 3
   },
   "file_extension": ".py",
   "mimetype": "text/x-python",
   "name": "python",
   "nbconvert_exporter": "python",
   "pygments_lexer": "ipython3",
   "version": "3.8.5"
  }
 },
 "nbformat": 4,
 "nbformat_minor": 4
}
