{
 "cells": [
  {
   "cell_type": "markdown",
   "metadata": {},
   "source": [
    "**Dear Brilliant team**\n",
    "\n",
    "I sincerely hope you will enjoy this course as much as I did while writing it. I tried to tackle the subject with various approaches within the limits of what jupyter notebooks can offer. Some parts are interactives and visuals, others are more textual and intuitives. Ideally, I would have added even more interactions and animations, even some games or quizz for example. At first, I also planned to write a part where the user interacts with some bits of codes, since it becomes more and more accessible and very informative for physics problems. But that would greatly increase the prerequisites for this course to be accessible. Anyway, I hope that this glimpse of my ideas will entertain you.\n",
    "\n",
    "**Dear readers and curious minds**\n",
    "\n",
    "The raw code of this Jupyter Notebook is intended to be hidden. If it is not, please run the python cell of the **Seconde part** of this notebook to generate the interactive plot. After that, please run the two cells just bellow this one.\n",
    "\n",
    "The lesson is intended for a public that have either a strong math background in high school, or a good level in bachelor studies about STEM related subjects. In particular, I assume the reader knowns how to solve a first order equation, what a function and its derivative are, basics in trigonometry relations, and some knowledge in physics.\n",
    "\n",
    "Along the road, some questions will be asked. Answers and hints are systematically proposed in the green frames that follow. There are proposed in an ascending order of details and complexity. The reader is strongly invited to read one hint at a time before trying to answer again, going back and forth between the questions and the solutions. Try to do as much as you can by yourself. The internet is also your friend for extra knowledge. Even when the whole solution is given, do not hesitate to redo the reasoning from the beginning, to check if you completely understand. Learning is more an active than a passive process. "
   ]
  },
  {
   "cell_type": "code",
   "execution_count": 2,
   "metadata": {},
   "outputs": [],
   "source": [
    "from IPython.display import HTML"
   ]
  },
  {
   "cell_type": "code",
   "execution_count": 3,
   "metadata": {},
   "outputs": [
    {
     "data": {
      "text/html": [
       "<script>\n",
       "code_show=true; \n",
       "function code_toggle() {\n",
       " if (code_show){\n",
       " $('div.input').hide();\n",
       " } else {\n",
       " $('div.input').show();\n",
       " }\n",
       " code_show = !code_show\n",
       "} \n",
       "$( document ).ready(code_toggle);\n",
       "</script>\n",
       "The raw code for this IPython notebook is by default hidden for clearer reading.\n",
       "To toggle on/off the raw code, click <a href=\"javascript:code_toggle()\">here</a>."
      ],
      "text/plain": [
       "<IPython.core.display.HTML object>"
      ]
     },
     "execution_count": 3,
     "metadata": {},
     "output_type": "execute_result"
    }
   ],
   "source": [
    "HTML('''<script>\n",
    "code_show=true; \n",
    "function code_toggle() {\n",
    " if (code_show){\n",
    " $('div.input').hide();\n",
    " } else {\n",
    " $('div.input').show();\n",
    " }\n",
    " code_show = !code_show\n",
    "} \n",
    "$( document ).ready(code_toggle);\n",
    "</script>\n",
    "The raw code for this IPython notebook is by default hidden for clearer reading.\n",
    "To toggle on/off the raw code, click <a href=\"javascript:code_toggle()\">here</a>.''')"
   ]
  },
  {
   "cell_type": "code",
   "execution_count": 5,
   "metadata": {},
   "outputs": [
    {
     "data": {
      "text/html": [
       "<style>\n",
       "body {\n",
       "    font-family: \"Geneva\", cursive, sans-serif;\n",
       "    font-size: 14px;\n",
       "}\n",
       "</style>\n"
      ],
      "text/plain": [
       "<IPython.core.display.HTML object>"
      ]
     },
     "metadata": {},
     "output_type": "display_data"
    }
   ],
   "source": [
    "%%html\n",
    "<style>\n",
    "body {\n",
    "    font-family: \"Geneva\", cursive, sans-serif;\n",
    "    font-size: 14px;\n",
    "}\n",
    "</style>"
   ]
  },
  {
   "cell_type": "markdown",
   "metadata": {},
   "source": [
    "<center>\n",
    "<figure>\n",
    "  <img src=\"images/FloatingIslands.png\" alt=\"Trulli\" style=\"width:800px\">\n",
    "  <figcaption><i>Floating Islands by PeterPrime on DeviantArt - 2013</i></figcaption>\n",
    "</figure> \n",
    "</center>\n",
    "\n",
    "\n",
    "# Introduction\n",
    "\n",
    "Legends say that on another planet, similar to ours, some cities are built up in the sky. The houses and small neighbourhood are isolated on **floating rocks**, connected by cables and bridges. Apart from the mysterious mechanism that makes islands fly, the physic there is similar to ours, here on earth.\n",
    "\n",
    "\n",
    "Akara lives on one of these floating islands, and she would like to deliver packages via a roller-coster to her friend Bonogonzo which lives just a little further down on another island. She constructed a unique tubular structure filled with vacuum and very slippery walls. When a parcel is sent, no initial push is given, and it simply slides down the track under gravity pull, without any friction. However, she would like to know which shape to give to the rail in order to minimise the time a package takes to arrive to her friend.\n",
    "\n",
    "The situation is pictured here after. But wait! Do not play the video yet. Akara's island is up left, while Bonogonzo's island is down on the right. Three different rails are showed: the first one simply follows a **straight** line (orange); the second adopts a very **steep** curve at the beginning, and flat at the end (green); the third path (red) go **deep** under Bonogonzo's island level before going up. I let you pause a moment for you to guess if there is a fastest route among the three proposed. If so, which of the tree paths is the fastest and why? You can click the video to discover the correct answer.\n",
    "\n"
   ]
  },
  {
   "cell_type": "code",
   "execution_count": 1,
   "metadata": {
    "scrolled": true
   },
   "outputs": [
    {
     "data": {
      "text/html": [
       "<video src=\"images/freefall2.mp4\" controls  width=\"800\" >\n",
       "      Your browser does not support the <code>video</code> element.\n",
       "    </video>"
      ],
      "text/plain": [
       "<IPython.core.display.Video object>"
      ]
     },
     "execution_count": 1,
     "metadata": {},
     "output_type": "execute_result"
    }
   ],
   "source": [
    "from IPython.display import Video\n",
    "\n",
    "Video(\"images/freefall2.mp4\", width=800)"
   ]
  },
  {
   "cell_type": "markdown",
   "metadata": {},
   "source": [
    "### Intuitive approach\n",
    "\n",
    "What do you think about the result? Surprised? Counter-intuitive? Too easy? Probably a bug in the course writer's simulation code? Pause a moment and think **why the steep is faster than the straight line**, and **why the deep paths seems to be the fastest**. You can use the help of the animation above to observe what's going on.\n",
    "\n",
    "<br>\n",
    "<div style=\"background-color: rgba(0, 255, 0, 0.1) ; padding: 10px; border: 2px solid green;\"> \n",
    "    \n",
    "#### Hints and solution : \n",
    "    \n",
    "    \n",
    "  - Intuitively, we can see that **as a package falls, it gains speed**. The lower it is in relation to Akara's island, the faster it goes along the rail.\n",
    "    \n",
    "    \n",
    "  - Although the **straight** line is the **shortest** distant, is it by far the **slowest**. The trajectory is a rough compromise between going toward Bonogonzo's island and going down to gain speed, and clearly, success is not there. The package looses too much time at the beginning.\n",
    "    \n",
    "    \n",
    "  - On the contrary, the first instants on the **steep** curve are spent going down as fast as possible to gain speed, then use this speed to go to the right and reach destination.\n",
    "    \n",
    "    \n",
    "  - Finally, the **deep** curve chooses to go rather deeply, maximising the velocity for a moment, before reaching Bonogonzo's island. This last approach is actually the **fastest**.\n",
    "\n",
    "</div>\n",
    "\n",
    "\n",
    "We have our intuitive solution! The curve which is the fastest should find a **compromise between reaching high speed by going down, while still spending some time going toward B's island**. Keep in mind that this is only an intuitive solution. We do not know the exact relation between the height and the speed of the object. In physics, intuitions  are generally a good starting point, but don't get too much sentimentally attached to them. Sometimes they can be completely misleading and prevent us from moving forward.\n",
    "\n",
    "This is only the beginning of the story. Believe it or not, Akaras's questioning is a famous problem in physics which leads to beautiful and multiple theoretical and experimental demonstrations. We will explore some of them. As you may have guessed already, the goal of this course is to build the fastest route... ! Does it exist? And if so, does it depends on the mass of the object? Answers will follow.\n",
    "\n",
    "### A challenge for the brightest\n",
    "\n",
    "This challenge was proposed to mathematicians by **Johann Bernoulli** in June 1696 in a straighter form :\n",
    "<br>\n",
    "<center>\n",
    "<br>\n",
    "<div style=\"background-color: rgba(0, 0, 255, 0.1) ; padding: 10px; border: 2px solid blue;\"> \n",
    "    \n",
    "<i>\n",
    "Given two points A and B in a vertical plane, what is the curve traced out by a point acted on only by gravity, which starts at A and reaches B in the shortest time.\n",
    "</i>\n",
    "\n",
    "</div>\n",
    "</center>\n",
    "\n",
    "Such curve was labelled **Brachistochrone**, meaning 'shortest time' from Ancient Greek. For the record, according to Newton's niece, Catherine Conduitt, Newton read the letter of Johann Bernoulli on January 1697, and found a solution in a single night! In the following, we will discover the approache of Johann Bernoulli which solved this problem in a beautiful way.\n",
    "\n",
    "<center>\n",
    "<figure>\n",
    "  <img src=\"images/Johann_Bernoulli2.jpg\" alt=\"Trulli\" style=\"width:200px\">\n",
    "  <figcaption><i>Johann Bernoulli, probably trying to draw the fastest path between Akara and Bonogonzo floating islands.</i></figcaption>\n",
    "</figure> \n",
    "</center>\n",
    "\n",
    "\n",
    "The lesson is divided in three parts. Firstly we build the physical background that allows us to understand the problem proposed by Johann Bernoulli. In the second part, some time is spent understanding an important law in physics, Snell's law. In the last part, we use this law to build the solution for the Brachistochrone problem."
   ]
  },
  {
   "cell_type": "markdown",
   "metadata": {},
   "source": [
    "# First part : a matter of energy\n",
    "\n",
    "Enough talking, here is a second question for you : is the mass of the package significative for the path design of the rails? (remember, we can neglect all loss of speed due to friction since the wall are slipery, and the tubes are filled with vacuum).\n",
    "\n",
    "The answer is immediate if you know a bit of **Galileo**'s work. It is even considered as the first law of modern physics:\n",
    "\n",
    "<center>\n",
    "<br>\n",
    "<div style=\"background-color: rgba(0, 0, 255, 0.1) ; padding: 10px; border: 2px solid blue;\"> \n",
    "<b>In the vacuum, the speed of an object in free fall is independent of its mass</b>\n",
    "</div>\n",
    "</center>\n",
    "\n",
    "<br>\n",
    "<center>\n",
    "<figure>\n",
    "  <img src=\"images/Galileo.jpg\" alt=\"Trulli\" style=\"width:200px\">\n",
    "  <figcaption><i>Galileo, probably thinking about what could be the first law of modern physics. Justus Sustermans (1636)</i></figcaption>\n",
    "</figure> \n",
    "</center>\n",
    "\n",
    "\n",
    "\n",
    "Well, it looks like this is the case for us. Since there is no friction on the rails (no vertical nor horizontal friction), the parcels are in some kind of free fall, right?\n",
    "\n",
    "Mathematically, a similar conclusion arises when considering one of the fundamental postulates of modern physics: **energy conservation**. Knowing that the total energy of a parcel is constant along the rails, and that it is equal to the sum of its kinetic and potential energy, $E_k$ and $E_p$ respectively, can you show why the absolute speed $v$ at anytime during the descent does not depend on its mass $m$, and depends only on the horizontal position $y$ of the parcel?\n",
    "\n",
    "\n",
    "<br>\n",
    "<div style=\"background-color: rgba(0, 255, 0, 0.1) ; padding: 10px; border: 2px solid green;\"> \n",
    "    \n",
    "<strong> Hints and steps of the solution </strong>\n",
    "\n",
    "- In physics, the concept of an object's <b>energy</b> is very abstract. It serves to quantify the capability of this object to do some <b>work</b>. Well, what is <b>work</b> then? It is a slightly less abstract quantity, which pictures the <b>process of converting this energy into motion via application of a force</b> (the snake probably slightly bites its tail here). Energy can therefore be seen as a kind of elusive quantity which only manifests itself via multiple and indirect ways: kinetic energy of a moving object, potential energy stored by an object's position in a gravitational field, thermal energy due to an object's temperature, ... In physics, energy is postulated as <b>conserved</b>, and simply transfers from one form to another.\n",
    "\n",
    "    A nice example is the trebuchet, which is another way to send \"packages\". As the counterweight is manually levered, it accumulates gravitational potential energy. When it is released, it transfers its energy into the projectile via the trebuchet arm. The projectile briefly undergoes a huge force which accelerates it (that is the <b>work</b>). Some of the initial potential energy of the counterweight is now present in the form of kinetic energy for the projectile. The rest of the energy is transferred elsewhere during the shot via frictions and heat in the trebuchet structure. \n",
    "    \n",
    "<figure>\n",
    "  <img src=\"images/trebuchet.gif\" alt=\"Trulli\" style=\"width:500px\">\n",
    "</figure> \n",
    "\n",
    "<br>\n",
    "    \n",
    "In our situation, it is <b>the own gravitationnal potential energy of the free falling object which is converted into kinetic energy.</b>\n",
    "\n",
    "<img src=\"images/Energy.001.jpeg\" alt=\"Drawing\" style=\"width: 500px;\"/>\n",
    "\n",
    "\n",
    "- The kinetic energy is proportional to the object's mass as well as the square of its speed $v$, and reads $\\displaystyle E_k=\\frac{m v^2}2$. While the potential energy, $E_p=m g y$, is again proportionnal to its mass in addition to its vertical position $y$, where $g\\simeq 10 \\,\\text{m/s}^2$ is the free fall acceleration of any object on this planet (considered as constant locally). The derivation of those relations are left for an other story. Now remember the postulate of energy conservation: the parcel <b>total</b> energy (potential+kinetic) is constant along the rail. Therefore, as it looses some potential energy, it should acquire equivalently some kinetic energy.\n",
    "\n",
    "\n",
    "- What is the heigh $y$ of the parcel when there seems to be no ground level? Simple, choose it! <b>Let us choose Akara's island as the \"ground level\"</b>, such that the <b>initial vertical position of the package is zero</b>,  $y=y_A=0$, with $y_A$ Akara's island vertical position. Bonogonzo's island vertical position will therefore be negative, $y_B<0$.\n",
    "\n",
    "    The following image pictures the coordinate choice. In addition, direction and amplitude of the absolute speed $v$ for some positions along the curve are represented as vector arrows.\n",
    "\n",
    "<img src=\"images/BrachistochroneCoordinates3.png\" alt=\"Drawing\" style=\"width: 600px;\"/>\n",
    "\n",
    "\n",
    "- Maths time: the key is to write the <b>total energy at any time</b>,\n",
    "\n",
    "    \\begin{align}\n",
    "    E &= E_k + E_p\\nonumber\\\\\n",
    "    &= \\frac 12  mv^2 + m g y.\\nonumber\n",
    "    \\end{align}\n",
    "\n",
    "    Now, write down and simplify the <b>initial energy $E_A$</b> of the parcel when it has not yet moved from A's island (located at height $y_A$), then equate it with the energy of the parcel $E$ when it is at any other height $y$. You should find a relation between the speed $v$ and the vertical position $y$.\n",
    "\n",
    "    \n",
    "\n",
    "- Applying as suggested above, the initial energy of the parcel on A's island reads : \n",
    "    \n",
    "    \\begin{align}\n",
    "    E_A &= E_{k,A} + E_{p,A}  \\\\\n",
    "    & = 0 + m g y_A ~ ~ ~ ~ \\text{(both it's kinetic and potential energy is null)}\n",
    "    \\end{align}\n",
    "    \n",
    "    Indeed, the initial potential energy, $m g y_A$, is zero due to our coordinate choice, $y_A=0$.\n",
    "\n",
    "    The total energy anywhere else, at height $y$, is\n",
    "    \n",
    "    \\begin{align}\n",
    "    E &= E_{k} + E_{p} \\\\\n",
    "    &= \\frac 12  mv^2 + m g y\n",
    "    \\end{align}\n",
    "    \n",
    "    Applying energy conservation : \n",
    "    \n",
    "    \\begin{align}\n",
    "    \\rightarrow E &= E_A  \\\\\n",
    "    \\Leftrightarrow~& \\frac 12  mv^2 + m g y = m g y_A \\\\\n",
    "    \\Leftrightarrow~& \\frac 12  v^2 + g y = m g y_A&\\text{(all mass terms  cancel out !)}\\nonumber \\\\\n",
    "    \\Leftrightarrow~& v = \\sqrt{2 g (y_A-y)}&\\text{(isolating the speed term)}\\nonumber\\\\\n",
    "    \\Leftrightarrow~& \\boxed{v(y) = \\sqrt{2 g \\Delta y}}\\nonumber &\\text{with $\\Delta y=y_A - y$, the distance from A's island}\n",
    "    \\end{align}\n",
    "    \n",
    "    That's right! From energy conservation, we deduce not only that the velocity in vacuum free fall does not depend on the mass $m$, but also that it is proportional to the square root of the vertical distance from Akara's island level. We can express it as a function of the vertical position of the parcel, $y$, \n",
    "\n",
    "    \\begin{align}\n",
    "      \\boxed{v(y) = \\sqrt{2 g (y_A - y)}}\n",
    "    \\end{align}\n",
    "\n",
    "    Note that $\\Delta y=y_A - y$ is alway positive, since we choose $y_A=0$, and the parcel is alway situated at the same level or lower than A, that is to say, its vertical coordinate satisfies $y\\leq0$.\n",
    "\n",
    "</div>\n",
    "\n",
    "### Free fall speed \n",
    "\n",
    "Okay, this not only confirms our intuition, but provides an exact relationship between speed and height as well. In addition, we make an important observation here : **the motion speed $v$ of the body in free fall does not depend on its horizontal position $x$**.\n",
    "\n",
    "On the following figure, three different curves that express the relation between the speed $v$ and the vertical distance $\\Delta y$ are shown. Can you find which one correctly discribes the free fall velocity deduced above ? Let say that Bonogonzo's island is at heigh $y_B = -5$ meters.\n",
    "\n",
    "<img src=\"images/speed_y2.jpg\" alt=\"Drawing\" style=\"width: 600px;\"/>\n",
    "\n",
    "<br>\n",
    "<div style=\"background-color: rgba(0, 255, 0, 0.1) ; padding: 10px; border: 2px solid green;\"> \n",
    "    \n",
    "<strong> Answer : </strong>\n",
    "\n",
    "1. Try to compute which value does the velocity function $v(y)$ take for known values of $y$ (Akara and Bonogonzo's islands coordinates for example).\n",
    "    \n",
    "    \n",
    "2. The initial speed is $v_A = 0$, so it cannot be curve 3. In addition, we concluded that the speed should **increase** with the distance $\\Delta y$, which is the inverse behaviour for curve 3.\n",
    "    \n",
    "    \n",
    "3. The final speed at Bonogonzo's island is $v_B = \\sqrt{2 g (y_A - y_B)} = \\sqrt{100} = 10 \\,\\text{[m/s]}$. We see that it is the case for curve 2, indeed $v(\\Delta y) = 10 \\, \\text{[m/s]}$ when $\\Delta y = 5 \\,\\text{[m]}$. Some of you may have directly recognised the typical shape of the square root function.\n",
    "\n",
    "</div>\n",
    "\n",
    "<br>\n",
    "<div style=\"background-color: rgba(0, 0, 255, 0.1) ; padding: 10px; border: 2px solid blue;\"> \n",
    "\n",
    "\n",
    "<strong> part I : summing up </strong>\n",
    "\n",
    "As you can see, <b>energy conservation</b> is a very powerfull tool in physics. <b>Knowing the initial conditions</b> of the problem, we can easily infer some propreties of the falling object. In particular, we were able to deduce a <b>universal speed relation</b>, $v(y) = \\sqrt{2 g (y_A - y)}$, without even knowing which path we will give to the rails.\n",
    "\n",
    "This last point if <b>very</b> important. Firstly, the relation is said to be universal as it does not depend on the mass of the falling package. It is good news for Akara, as she would only need to build one rail that will guide all her parcels as fast as possible for any weight. Secondly, now that we have a relation for the package velocity, we can go one step further and deduce the shape of the path that minimises the travel time. \n",
    "    \n",
    "    \n",
    "The fastest path between two points is generally the straight line. Here, things are a little bit tricky, as the speed is constantly changing with the vertical position, $y$, of the package. So it is not straightforward to find the <b>optimal</b> curve. But the main idea is here. We will see how Bernouilli had some very good intuition of what to do next.\n",
    "    \n",
    "</div>\n",
    "\n",
    "\n",
    "### Bonus problem : \n",
    "\n",
    "During the last century, some trebuchets were reconstructed based on ancien documents. For some of the biggest, the projectiles weight around $100$ Kg, while the counterweight about $6.000$ Kg. Let's say that the counterweight is raised 3 meters above its rest position before firering, and that the trebuchet is a perfect machine able to completely convert the gravitational potential energy of the counterweight into kinetic energy of the projectile. \n",
    "\n",
    "- Can you find the velocity of the projectile the moment it exits the trebuchet and starts flying in the air? \n",
    "\n",
    "- What if the counterweight mass is divided by four? \n",
    "\n",
    "- How does the counterweight height influence the shot?\n",
    "\n",
    "<br>\n",
    "<div style=\"background-color: rgba(0, 255, 0, 0.1) ; padding: 10px; border: 2px solid green;\"> \n",
    "    \n",
    "<strong> Solution </strong>\n",
    "\n",
    "- Again, the key is to equate potential and kinetic energy.\n",
    "    \n",
    "    \n",
    "- First, all of it is stored into the counterweight in the form of potential energy, $E_p = Mgh$, where $h=3\\,\\text{m}$ is the height of the counterweight, $M=6000 \\,\\text{Kg}$ its mass, and $g=10\\,\\text{m/s}$ the free fall gravitationnal acceleration.\n",
    "    \n",
    "    \n",
    "- Secondly, the kinetic energy of the projectile is written $E_k = \\frac 12 m v^2$ , with $m=100\\,\\text{Kg}$ its mass, and $v$ its speed (what we are looking for).\n",
    "    \n",
    "    \n",
    "- Following energy conservation, we equate both energies, \n",
    "\n",
    "\\begin{align}\n",
    "    E_k &= E_p \\\\\n",
    "    \\Leftrightarrow~~ \\frac12 m v^2&= Mgh \\\\\n",
    "    \\Rightarrow~~v_1=&\\sqrt{2  g  \\frac{h M}{m}} \\\\\n",
    "    &= 60 \\, \\text{m/s} &\\text{(carrefull with units !)}\\\\\n",
    "    &= 216 \\, \\text{Km/h} \n",
    "\\end{align}\n",
    "\n",
    "- For four times lighter counterweight, the speed is divided by two. Indeed, $v_2=\\sqrt{\\dfrac{2 (M/4) g h}{m}} = \\dfrac 12 \\sqrt{\\dfrac{2 M g h}{m}} = \\dfrac{v_1}{2}$.\n",
    "    \n",
    "Well, that is a lot of speed ! Of course, in practice, trebuchets are no perfect machines, and projectiles never reach such a velocity. From the equation above, we clearly see that the projectile goes faster as the mass ratio $\\dfrac {Mh}m$ is higher : smaller projectiles, heavier or higher counterweight, make faster shots."
   ]
  },
  {
   "cell_type": "markdown",
   "metadata": {},
   "source": [
    "# Seconde part : how light is the fastest\n",
    "\n",
    "Okey, let's recap what we learned up until now : \n",
    "\n",
    "- We are looking for a trajectory that minimises the time of free fall between two points $A$ and $B$. \n",
    "\n",
    "\n",
    "- Following the energy conservation principle, we have shown that the absolute velocity $v$ increases with the vertical distance, $\\Delta y$, from $A$, and does not depend on the object's mass $m$.\n",
    "\n",
    "\n",
    "- \"Brachistochrone\"is an existing word that means something.\n",
    "\n",
    "Before tackling the Brachistochrone problem, we will explore another subject which at first glance seems completely unrelated to our problem : **light trajectory**.\n",
    "\n",
    "### The mud problem\n",
    "\n",
    "Let's say that, coming back from a sleigh ride in the north with your deers, you are in a hurry because you want to go practicing some Brilliant's modules about quantum gravity. Your igloo is at sight, slightly offset on your left if you are facing south. What is the fastest route toward your igloo? Well, straight head of course! Straight paths are usually the fastest if your speed is constant along the road.\n",
    "\n",
    "Now, imagine a different situation as pictured below. Between you and your igloo, there is a long strip of mud land going from far West to far East. You are slower in the mud, as you have to push the sleigh yourself. As a consequence, you are a little bit delayed. What is your tactic to minimise the time of travel compared to go straight toward your igloo? Do you have an intuition of what to do? \n",
    "\n",
    "<br>\n",
    "<div style=\"background-color: rgba(0, 255, 0, 0.1) ; padding: 10px; border: 2px solid green;\"> \n",
    "    \n",
    "<strong> Solution </strong>\n",
    "\n",
    "- Unless pushing the sleigh is something you’re passionate about, you will probably naturally try to minimize the time spent in the mud by first going straight into it, pass the mud strip, then steer obliquely towards your igloo once out of the mud.\n",
    "    \n",
    "</div>\n",
    "\n",
    "\n",
    "<center>\n",
    "<figure>\n",
    "  <img src=\"images/mud1.jpg\" alt=\"Trulli\" style=\"width:900px\">\n",
    "    <figcaption><i>Fig. 1 : Icons from Smashicons and Pixelmeetup</i></figcaption>\n",
    "</figure> \n",
    "</center>\n",
    "\n",
    "\n",
    "How long will it take? Well, it depends how slow you are in the mud, and where exactly is your igloo.\n",
    "\n",
    "- We will define the speed in the mud as $v_m$, and the speed on snow as $v_s=1\\,\\text{m/s}$. Let say that you move twice as slow in the mud than on snow, $v_s = 2 v_m$.\n",
    "\n",
    "\n",
    "- Let's choose your position as the origin of our coordinate system, $(x_A, y_A) = (0, 0)$, and the igloo at position $(x_B, y_B) = (5, -2)$.\n",
    "\n",
    "\n",
    "- The mud strip is 1 meter wide.\n",
    "\n",
    "Question time: how long will it take to travel to your igloo following the path proposed above? \n",
    "\n",
    "\n",
    "<br>\n",
    "<div style=\"background-color: rgba(0, 255, 0, 0.1) ; padding: 10px; border: 2px solid green;\"> \n",
    "   \n",
    "<strong> Solution </strong>\n",
    "\n",
    "1. Remember that the time of travel, $t$, for a constant velocity, $v$, is the distance, $d$, divided by the velocity, therefore $t = \\dfrac d v$.\n",
    "\n",
    "\n",
    "2. Since we have two distinct velocities depending on whether we are on the mud or on the snow, the computation of the travel time must be divided into two parts.\n",
    "\n",
    "\n",
    "3. Remember Pythagoras theorem? For a right triangle, the square of the hypotenuse length ($c$) (the side opposite the right angle) is equal to the sum of the two sides lengths ($a$ and $b$) each squared, $a^2 + b^2 = c^2$. Use it to compute the distance traveled in the snow.\n",
    "\n",
    "\n",
    "4. Let us define the distance traveled in the mud as $d_m$, and in the snow as $d_s$. The former is easy to compute: $d_m = 1\\,\\text{m}$, the latter is computed using Pythagoras theorem : if $d_s$ is the hypotenuse, the two other sides have length $1\\,\\text m$ and $5\\,\\text m$. Therefore, $1^2 + 5^2 = d_s^2$, rearranged, it gives $d_s = \\sqrt{26} \\simeq 5.1\\,\\text m$.\n",
    "\n",
    "5. The total time is the sum of the time passed in the mud, $t_m = \\dfrac{d_m}{v_m}$ with that passed on the snow, $t_s = \\dfrac{d_s}{v_s}$. The answer is therefore\n",
    "    \n",
    "\\begin{align} \n",
    "t &= t_m + t_s \\\\\n",
    "&= \\dfrac{1}{1/2} + \\dfrac{\\sqrt{26}}{1} \\\\\n",
    "&\\simeq 2 + 5.1\\\\\n",
    "& = 7.1\\,\\text{s}\\\\\n",
    "\\end{align}\n",
    "\n",
    "</div>\n",
    "\n",
    "\n",
    "Good, but not good enough... Can we do faster? Yes!\n",
    "\n",
    "Going backward, we easily see why the proposed path on Fig. 1 (we will call it the **naive path**) is not the fastest. Going slower in the mud does not mean that we have to go straight and spend the least possible amount of time troughs it. Some times can be spent going toward the igloo when moving into it. In other words, **a compromise has to be found in order to spend time going toward the snow to go faster, and going toward the igloo to reach the final destination**. Huuuuum ! Does this situation seem familiar?\n",
    "\n",
    "Ok, now, how to figure out which direction to aim when moving in the mud strip?\n",
    "\n",
    "The next figure is an interactive one. The first plot show your path, while the second records the time of travel. You can interact with the slider below in order to modify the position $X$ of your direction in the mud strip (pictured as a red star on the first plot). The bottom figure will compute and record for you the travel time for the values of $X$ that you select on the slider. The calculation works the same way we did for the naive path. The reset button will clear the bottom figure.\n",
    "\n",
    "How do you interpret the results? Does the fastest path exist? Do you have a first guess of which one is it? For which value of $X$ approximately ? \n",
    "\n",
    "<br>\n",
    "<div style=\"background-color: rgba(0, 255, 0, 0.1) ; padding: 10px; border: 2px solid green;\"> \n",
    "   \n",
    "<strong> Solution </strong>\n",
    "\n",
    "- As you explored some values for $X$, you should have observed that the time of travel, $t$, varies. This is, of course, no surprise.\n",
    "\n",
    "\n",
    "- What you just built on the second figure is a graph which is kind of valley-shaped. It pictures the time, $t$, versus the orientation taken in the mud strip, $X$.\n",
    "\n",
    "\n",
    "- What happens at the extremes of the graph? Well, the time seems maximal. This is again no surprise, as those paths are those which spend the most time in the mud.\n",
    "\n",
    "\n",
    "- What interests us is the hollow of the valley, where the travel time is <b>minimal</b>. At first sight, the minimal travel time seems to be just bellow 7 secondes, for a value of $X \\simeq 0.5$.\n",
    "    \n",
    "</div>\n"
   ]
  },
  {
   "cell_type": "code",
   "execution_count": 1,
   "metadata": {
    "scrolled": false
   },
   "outputs": [
    {
     "data": {
      "application/vnd.jupyter.widget-view+json": {
       "model_id": "bf15e3a08eff42e8a3c7ba8442271ca1",
       "version_major": 2,
       "version_minor": 0
      },
      "text/plain": [
       "Canvas(toolbar=Toolbar(toolitems=[('Home', 'Reset original view', 'home', 'home'), ('Back', 'Back to previous …"
      ]
     },
     "metadata": {},
     "output_type": "display_data"
    },
    {
     "data": {
      "application/vnd.jupyter.widget-view+json": {
       "model_id": "0fd686afc3504406b2f1dfb16fe05a28",
       "version_major": 2,
       "version_minor": 0
      },
      "text/plain": [
       "interactive(children=(FloatSlider(value=0.0, description='X', max=4.0, min=-1.0, step=0.2), Output()), _dom_cl…"
      ]
     },
     "metadata": {},
     "output_type": "display_data"
    },
    {
     "data": {
      "application/vnd.jupyter.widget-view+json": {
       "model_id": "eb98f1869f9d41a69f890d6bc2e9d26e",
       "version_major": 2,
       "version_minor": 0
      },
      "text/plain": [
       "VBox(children=(Button(description='reset', style=ButtonStyle()),))"
      ]
     },
     "metadata": {},
     "output_type": "display_data"
    }
   ],
   "source": [
    "%matplotlib widget\n",
    "\n",
    "from __future__ import print_function\n",
    "from ipywidgets import interact, interactive, fixed, interact_manual, FloatSlider, Button\n",
    "import ipywidgets\n",
    "import numpy as np\n",
    "import matplotlib.pyplot as plt\n",
    "import matplotlib.image as mpimg\n",
    "\n",
    "A = (0, 0)\n",
    "B = (5, -2)\n",
    "D = (0, -1)\n",
    "v1 = 1.0/2.0\n",
    "v2 = 1.0\n",
    "\n",
    "fig, ax = plt.subplots(nrows=2, sharex=True, figsize=[5, 5])\n",
    "ax[0].plot(0, 0, \"ko\")\n",
    "ax[0].fill_between([-10, 10], 0, D[1], color=\"C5\", alpha=0.3)\n",
    "ax[0].plot(5, -2, \"rx\")\n",
    "ax[0].set_xlim(-1, 6)\n",
    "ax[0].set_ylim(-2.3, 0.5)\n",
    "ax[1].set_xlabel(r\"position $x \\,\\rm{[m]}$\", fontweight='bold')\n",
    "ax[0].set_ylabel(r\"position $y \\,\\rm{[m]}$\", fontweight='bold')\n",
    "ax[1].set_ylabel(r\"time $t \\,\\rm{[s]}$\", fontweight='bold')\n",
    "arr_sleigh = mpimg.imread('images/sleigh.png')\n",
    "arr_igloo = mpimg.imread('images/igloo.png')\n",
    "ax[0].imshow(arr_sleigh, extent=[-0.2, 0.2, -0.0, 0.4])\n",
    "ax[0].imshow(arr_igloo, extent=[B[0]-0.2, B[0]+0.2, B[1]-0.0, B[1]+0.4])\n",
    "ax[0].text(-0.9, -0.5, r\"Mud\", fontweight='bold')\n",
    "ax[0].text(-0.9, -1.7, r\"Snow\", fontweight='bold')\n",
    "l1, = ax[0].plot([A[0], D[0]], [A[1], D[1]], \"--\", color=\"C2\", lw=2)\n",
    "l2, = ax[0].plot([D[0], B[0]], [D[1], B[1]], \"--\", color=\"C2\", lw=2)\n",
    "t1 = ax[0].text((A[0]+ A[0])/2.+0.1, -0.5, r\"$d_m=1$\")\n",
    "t2 = ax[0].text((A[0]+ B[0])/2.+0.1, -1.5, r\"$d_s=%.1f$\" % (np.sqrt(1+25)))\n",
    "paim, = ax[0].plot(0, -1, \"r*\")\n",
    "\n",
    "ax[1].set_xlim(-1, 6)\n",
    "ax[1].set_ylim(6, 12)\n",
    "ax[1].grid()\n",
    "xx = 0.0\n",
    "d1 = np.sqrt(1 + xx**2)\n",
    "d2 = np.sqrt(1 + (B[0]-xx)**2)\n",
    "lt, = ax[1].plot(xx, d1/v1 + d2/v2, \"o\", color=\"C4\")\n",
    "listp = []\n",
    "\n",
    "\n",
    "def update(X=0.0):\n",
    "    xx=X\n",
    "    x = X\n",
    "    paim.set_xdata([x])\n",
    "    l1.set_xdata([A[0], x])\n",
    "    l2.set_xdata([x, B[0]])\n",
    "    t1.set_position([(x+A[0])/2.+0.1, -0.5])\n",
    "    t2.set_position([(x+B[0])/2.+0.1, -1.5])\n",
    "    d1 = np.sqrt(1 + x**2)\n",
    "    d2 = np.sqrt(1 + (B[0]-x)**2)\n",
    "    t1.set_text(r\"$d_m=%.1f$ m\" %d1)\n",
    "    t2.set_text(r\"$d_s=%.1f$ m\" %d2)\n",
    "    listp.append(ax[1].plot(x, d1/v1 + d2/v2, \".\", color=\"C1\"))\n",
    "    lt.set_xdata(x)\n",
    "    lt.set_ydata(d1/v1 + d2/v2)\n",
    "    ax[0].figure.canvas.draw()\n",
    "    ax[1].figure.canvas.draw()\n",
    "    # fig.canvas.draw_idle()\n",
    "\n",
    "def resetplot(z=True):\n",
    "    for aa in listp:\n",
    "        aa[0].remove()\n",
    "    listp[:] = []\n",
    "    # listp.append(ax[1].plot(xx, d1/v1 + d2/v2, \".\", color=\"C1\"))\n",
    "    ax[0].figure.canvas.draw()\n",
    "    ax[1].figure.canvas.draw()\n",
    "    return lt\n",
    "    \n",
    "inter = interact(update, X=FloatSlider(min=-1, max=4.0, step=0.2, continuous_update=True))\n",
    "button = Button(description='reset')\n",
    "button.on_click(resetplot)\n",
    "ipywidgets.VBox([button])"
   ]
  }
 ],
 "metadata": {
  "kernelspec": {
   "display_name": "Python 3",
   "language": "python",
   "name": "python3"
  },
  "language_info": {
   "codemirror_mode": {
    "name": "ipython",
    "version": 3
   },
   "file_extension": ".py",
   "mimetype": "text/x-python",
   "name": "python",
   "nbconvert_exporter": "python",
   "pygments_lexer": "ipython3",
   "version": "3.8.5"
  },
  "widgets": {
   "application/vnd.jupyter.widget-state+json": {
    "state": {
     "0055a0b7489149a9b8161bc1e706e271": {
      "model_module": "@jupyter-widgets/controls",
      "model_module_version": "1.5.0",
      "model_name": "SliderStyleModel",
      "state": {
       "description_width": ""
      }
     },
     "005a1c9a204148fe9ed7e57d90e5e1be": {
      "model_module": "@jupyter-widgets/controls",
      "model_module_version": "1.5.0",
      "model_name": "FloatSliderModel",
      "state": {
       "description": "x",
       "layout": "IPY_MODEL_b8fffeb1d93f41de882551e223059d06",
       "max": 5.5,
       "min": -0.5,
       "step": 0.2,
       "style": "IPY_MODEL_886b352c73ba4861b33c2459f517b706",
       "value": 5.5
      }
     },
     "00f6201aa69348b1b9f146a33fa54464": {
      "model_module": "@jupyter-widgets/base",
      "model_module_version": "1.2.0",
      "model_name": "LayoutModel",
      "state": {}
     },
     "01570938200f4abba0c08a8b7619949f": {
      "model_module": "@jupyter-widgets/controls",
      "model_module_version": "1.5.0",
      "model_name": "SliderStyleModel",
      "state": {
       "description_width": ""
      }
     },
     "01bd7edd70844303b577f24e8e6c00a4": {
      "model_module": "@jupyter-widgets/base",
      "model_module_version": "1.2.0",
      "model_name": "LayoutModel",
      "state": {}
     },
     "020f7c3caea243c6839d4650b1cbc3d3": {
      "model_module": "@jupyter-widgets/base",
      "model_module_version": "1.2.0",
      "model_name": "LayoutModel",
      "state": {}
     },
     "0240a67c9cb14b0bb67d6c9fd378a2d8": {
      "model_module": "@jupyter-widgets/controls",
      "model_module_version": "1.5.0",
      "model_name": "ButtonModel",
      "state": {
       "description": "reset",
       "layout": "IPY_MODEL_4374b5e0206143c594b1cd70490846b1",
       "style": "IPY_MODEL_2ac5b2e339c240109b39fcc83c917642"
      }
     },
     "0252dea23f1447f58962b7a2d3e12b8b": {
      "model_module": "@jupyter-widgets/base",
      "model_module_version": "1.2.0",
      "model_name": "LayoutModel",
      "state": {}
     },
     "0273e740ce1149fbb3b8cd46b8d4fb3c": {
      "model_module": "@jupyter-widgets/controls",
      "model_module_version": "1.5.0",
      "model_name": "SliderStyleModel",
      "state": {
       "description_width": ""
      }
     },
     "029ffb62a05b419797c8b124391bc3fa": {
      "model_module": "@jupyter-widgets/controls",
      "model_module_version": "1.5.0",
      "model_name": "VBoxModel",
      "state": {
       "_dom_classes": [
        "widget-interact"
       ],
       "children": [
        "IPY_MODEL_1e608053ad8c446f8419be284a677b9d",
        "IPY_MODEL_8e6a57a8e95e4511bcaced6329dfa30e"
       ],
       "layout": "IPY_MODEL_fee974acab0242528ed3b67aa0830222"
      }
     },
     "02a447fbbd834554a39de48c3d3af60e": {
      "model_module": "@jupyter-widgets/base",
      "model_module_version": "1.2.0",
      "model_name": "LayoutModel",
      "state": {}
     },
     "02b38a796576427d9a87e22fc5cadd09": {
      "model_module": "@jupyter-widgets/output",
      "model_module_version": "1.0.0",
      "model_name": "OutputModel",
      "state": {
       "layout": "IPY_MODEL_1ba677462b8945a8852f5b65f2fc1e35"
      }
     },
     "0358498ac9114743b8bc908e44c3009b": {
      "model_module": "@jupyter-widgets/controls",
      "model_module_version": "1.5.0",
      "model_name": "ButtonModel",
      "state": {
       "description": "reset",
       "layout": "IPY_MODEL_994193fe5a114d38873c0f1e609e3b14",
       "style": "IPY_MODEL_1e1bbfd65058456192c551ea845199ab"
      }
     },
     "03e74abe9fcf489ebcc80dd716cb4280": {
      "model_module": "@jupyter-widgets/base",
      "model_module_version": "1.2.0",
      "model_name": "LayoutModel",
      "state": {}
     },
     "03f46bfd56ea4ee6aec8bdfd50579775": {
      "model_module": "@jupyter-widgets/output",
      "model_module_version": "1.0.0",
      "model_name": "OutputModel",
      "state": {
       "layout": "IPY_MODEL_973ee96511664b429e392e266773f47e"
      }
     },
     "04022d3c5a514c5ebea2d869066d434c": {
      "model_module": "@jupyter-widgets/output",
      "model_module_version": "1.0.0",
      "model_name": "OutputModel",
      "state": {
       "layout": "IPY_MODEL_c8dbe3a532e04d2384e8b986d73caa58"
      }
     },
     "043835ba7f9e47d6895ff14b09691a2f": {
      "model_module": "@jupyter-widgets/base",
      "model_module_version": "1.2.0",
      "model_name": "LayoutModel",
      "state": {}
     },
     "04407bad52774728a7e830c8a7fc8c6a": {
      "model_module": "@jupyter-widgets/controls",
      "model_module_version": "1.5.0",
      "model_name": "ButtonModel",
      "state": {
       "description": "reset",
       "layout": "IPY_MODEL_0d09f2cd228c4e739b34f6fe6418ad2b",
       "style": "IPY_MODEL_86b78179f4914ba293e53697745d543f"
      }
     },
     "0449f457c9d44ece912875aebcde2f6e": {
      "model_module": "jupyter-matplotlib",
      "model_module_version": "^0.7.4",
      "model_name": "ToolbarModel",
      "state": {
       "layout": "IPY_MODEL_1b9a33bacc86454da7f37f432032ae0f",
       "toolitems": [
        [
         "Home",
         "Reset original view",
         "home",
         "home"
        ],
        [
         "Back",
         "Back to previous view",
         "arrow-left",
         "back"
        ],
        [
         "Forward",
         "Forward to next view",
         "arrow-right",
         "forward"
        ],
        [
         "Pan",
         "Left button pans, Right button zooms\nx/y fixes axis, CTRL fixes aspect",
         "arrows",
         "pan"
        ],
        [
         "Zoom",
         "Zoom to rectangle\nx/y fixes axis, CTRL fixes aspect",
         "square-o",
         "zoom"
        ],
        [
         "Download",
         "Download plot",
         "floppy-o",
         "save_figure"
        ]
       ]
      }
     },
     "04789c923bae4d2c968140908ae546f0": {
      "model_module": "@jupyter-widgets/controls",
      "model_module_version": "1.5.0",
      "model_name": "ButtonModel",
      "state": {
       "description": "reset",
       "layout": "IPY_MODEL_d37f9414252243f1b4317a10d3fac209",
       "style": "IPY_MODEL_cb9c48532a9746bc8ac9bb0c6b83258e"
      }
     },
     "04c63db8d1704e6d955ccdc731215f20": {
      "model_module": "@jupyter-widgets/base",
      "model_module_version": "1.2.0",
      "model_name": "LayoutModel",
      "state": {}
     },
     "04d374bac3bd4c23b3d223bf6a148e05": {
      "model_module": "@jupyter-widgets/base",
      "model_module_version": "1.2.0",
      "model_name": "LayoutModel",
      "state": {}
     },
     "054c8826454747e695a48a2c8bf3a5e9": {
      "model_module": "@jupyter-widgets/base",
      "model_module_version": "1.2.0",
      "model_name": "LayoutModel",
      "state": {}
     },
     "0560268796be45e7a9bde93e65c9e0eb": {
      "model_module": "@jupyter-widgets/controls",
      "model_module_version": "1.5.0",
      "model_name": "ButtonModel",
      "state": {
       "description": "reset",
       "layout": "IPY_MODEL_856cc3ab9edf49d6aebd4a19c5615a00",
       "style": "IPY_MODEL_4b4ba75e98124f92b468211e16398e2f"
      }
     },
     "05648f7384674c9084113f7c20c02162": {
      "model_module": "@jupyter-widgets/controls",
      "model_module_version": "1.5.0",
      "model_name": "FloatSliderModel",
      "state": {
       "description": "x",
       "layout": "IPY_MODEL_7f4dfbb3ebb144c8a123925dd6f06b66",
       "max": 5.5,
       "min": -0.5,
       "step": 0.2,
       "style": "IPY_MODEL_0273e740ce1149fbb3b8cd46b8d4fb3c"
      }
     },
     "058331c00c6d44f4a901d9d35afa7832": {
      "model_module": "@jupyter-widgets/output",
      "model_module_version": "1.0.0",
      "model_name": "OutputModel",
      "state": {
       "layout": "IPY_MODEL_b7eecc9b753c41b688702d4851576c7c"
      }
     },
     "064537b011584c8d8ebec1b3b6ac4b93": {
      "model_module": "@jupyter-widgets/controls",
      "model_module_version": "1.5.0",
      "model_name": "ButtonStyleModel",
      "state": {}
     },
     "0648356408de4767bd7c70d6d93599fc": {
      "model_module": "@jupyter-widgets/base",
      "model_module_version": "1.2.0",
      "model_name": "LayoutModel",
      "state": {}
     },
     "064a6609168543aeabda92f7b3559672": {
      "model_module": "@jupyter-widgets/base",
      "model_module_version": "1.2.0",
      "model_name": "LayoutModel",
      "state": {}
     },
     "065a8c1d0a9d4201ad2d52dbf67d781c": {
      "model_module": "@jupyter-widgets/controls",
      "model_module_version": "1.5.0",
      "model_name": "FloatSliderModel",
      "state": {
       "description": "x",
       "layout": "IPY_MODEL_aed2f7b6802d47cd807bbb043c8807c9",
       "max": 5.5,
       "min": -0.5,
       "step": 0.2,
       "style": "IPY_MODEL_33ee5cd4adc04602b75856e89d0b1c1f"
      }
     },
     "0687997ccb044f63bc76db6e5c5a536f": {
      "model_module": "@jupyter-widgets/controls",
      "model_module_version": "1.5.0",
      "model_name": "ButtonStyleModel",
      "state": {}
     },
     "068820a8991947548ab8c87d3f94f7a7": {
      "model_module": "@jupyter-widgets/base",
      "model_module_version": "1.2.0",
      "model_name": "LayoutModel",
      "state": {}
     },
     "068c73c3f53b41fba86606b90f4127e3": {
      "model_module": "@jupyter-widgets/controls",
      "model_module_version": "1.5.0",
      "model_name": "ButtonStyleModel",
      "state": {}
     },
     "06b31b06e2844803a253ea83dacb5720": {
      "model_module": "@jupyter-widgets/controls",
      "model_module_version": "1.5.0",
      "model_name": "SliderStyleModel",
      "state": {
       "description_width": ""
      }
     },
     "06f69a7b95034056956ed9451c6be36c": {
      "model_module": "@jupyter-widgets/base",
      "model_module_version": "1.2.0",
      "model_name": "LayoutModel",
      "state": {}
     },
     "0716fa5293a246c4a7ee9ecfa76ea5f3": {
      "model_module": "@jupyter-widgets/base",
      "model_module_version": "1.2.0",
      "model_name": "LayoutModel",
      "state": {}
     },
     "0728b7f01d9a4e9988fbce520199a2cf": {
      "model_module": "@jupyter-widgets/controls",
      "model_module_version": "1.5.0",
      "model_name": "ButtonModel",
      "state": {
       "description": "reset",
       "layout": "IPY_MODEL_1e53bc6537c64172a4293ff4f7617f9e",
       "style": "IPY_MODEL_5b5358a7b4dd430681f183f332c5b649"
      }
     },
     "077bdcc9907a43cc9c0117552612bd78": {
      "model_module": "@jupyter-widgets/base",
      "model_module_version": "1.2.0",
      "model_name": "LayoutModel",
      "state": {}
     },
     "07e3d491685342ba9ec4c8c05e46b0c9": {
      "model_module": "@jupyter-widgets/controls",
      "model_module_version": "1.5.0",
      "model_name": "VBoxModel",
      "state": {
       "_dom_classes": [
        "widget-interact"
       ],
       "children": [
        "IPY_MODEL_ea9f3d239b8440f0baf36dcc1eccc660",
        "IPY_MODEL_c374d3c3c80f4c4f96e9cb7f9ef6286f"
       ],
       "layout": "IPY_MODEL_7a422eb0438d46edafb39e1968538462"
      }
     },
     "0865c40f5d604d6e9ab79d4696d5d216": {
      "model_module": "jupyter-matplotlib",
      "model_module_version": "^0.7.4",
      "model_name": "ToolbarModel",
      "state": {
       "layout": "IPY_MODEL_d9803222fc6b479e9987e5cf703deda2",
       "toolitems": [
        [
         "Home",
         "Reset original view",
         "home",
         "home"
        ],
        [
         "Back",
         "Back to previous view",
         "arrow-left",
         "back"
        ],
        [
         "Forward",
         "Forward to next view",
         "arrow-right",
         "forward"
        ],
        [
         "Pan",
         "Left button pans, Right button zooms\nx/y fixes axis, CTRL fixes aspect",
         "arrows",
         "pan"
        ],
        [
         "Zoom",
         "Zoom to rectangle\nx/y fixes axis, CTRL fixes aspect",
         "square-o",
         "zoom"
        ],
        [
         "Download",
         "Download plot",
         "floppy-o",
         "save_figure"
        ]
       ]
      }
     },
     "089f066fd258482484790a3610c5ff41": {
      "model_module": "jupyter-matplotlib",
      "model_module_version": "^0.7.4",
      "model_name": "ToolbarModel",
      "state": {
       "layout": "IPY_MODEL_4fa9d85d0f334c509e2f7669e6bf76d6",
       "toolitems": [
        [
         "Home",
         "Reset original view",
         "home",
         "home"
        ],
        [
         "Back",
         "Back to previous view",
         "arrow-left",
         "back"
        ],
        [
         "Forward",
         "Forward to next view",
         "arrow-right",
         "forward"
        ],
        [
         "Pan",
         "Left button pans, Right button zooms\nx/y fixes axis, CTRL fixes aspect",
         "arrows",
         "pan"
        ],
        [
         "Zoom",
         "Zoom to rectangle\nx/y fixes axis, CTRL fixes aspect",
         "square-o",
         "zoom"
        ],
        [
         "Download",
         "Download plot",
         "floppy-o",
         "save_figure"
        ]
       ]
      }
     },
     "0902fe3246d84c418fc0d098470f9e58": {
      "model_module": "@jupyter-widgets/controls",
      "model_module_version": "1.5.0",
      "model_name": "ButtonModel",
      "state": {
       "description": "reset",
       "layout": "IPY_MODEL_c92e5c948ab846fc8013aee7b8a9107b",
       "style": "IPY_MODEL_0687997ccb044f63bc76db6e5c5a536f"
      }
     },
     "09a815ba86aa4af9ba8e4b11ca2d3cc4": {
      "model_module": "jupyter-matplotlib",
      "model_module_version": "^0.7.4",
      "model_name": "ToolbarModel",
      "state": {
       "layout": "IPY_MODEL_c9eeb203f6a044fca44f7a0b886b6dcd",
       "toolitems": [
        [
         "Home",
         "Reset original view",
         "home",
         "home"
        ],
        [
         "Back",
         "Back to previous view",
         "arrow-left",
         "back"
        ],
        [
         "Forward",
         "Forward to next view",
         "arrow-right",
         "forward"
        ],
        [
         "Pan",
         "Left button pans, Right button zooms\nx/y fixes axis, CTRL fixes aspect",
         "arrows",
         "pan"
        ],
        [
         "Zoom",
         "Zoom to rectangle\nx/y fixes axis, CTRL fixes aspect",
         "square-o",
         "zoom"
        ],
        [
         "Download",
         "Download plot",
         "floppy-o",
         "save_figure"
        ]
       ]
      }
     },
     "09de5849e5114c4da6804de6712b88d2": {
      "model_module": "@jupyter-widgets/controls",
      "model_module_version": "1.5.0",
      "model_name": "SliderStyleModel",
      "state": {
       "description_width": ""
      }
     },
     "0a190567933e419ba7ceeff64868d03f": {
      "model_module": "@jupyter-widgets/base",
      "model_module_version": "1.2.0",
      "model_name": "LayoutModel",
      "state": {}
     },
     "0a70aa16d99f48dca9e9025c8a7f678e": {
      "model_module": "@jupyter-widgets/base",
      "model_module_version": "1.2.0",
      "model_name": "LayoutModel",
      "state": {}
     },
     "0a8bfbf464ca4ccab685f82aa4dc0c8f": {
      "model_module": "@jupyter-widgets/controls",
      "model_module_version": "1.5.0",
      "model_name": "SliderStyleModel",
      "state": {
       "description_width": ""
      }
     },
     "0a8ecbb4465b46a58b0bc0332d07778f": {
      "model_module": "@jupyter-widgets/controls",
      "model_module_version": "1.5.0",
      "model_name": "ButtonStyleModel",
      "state": {}
     },
     "0a9904fd915f46d9b305513ce24e35f0": {
      "model_module": "@jupyter-widgets/base",
      "model_module_version": "1.2.0",
      "model_name": "LayoutModel",
      "state": {}
     },
     "0b30c885000b468e93bcd646d7994610": {
      "model_module": "@jupyter-widgets/base",
      "model_module_version": "1.2.0",
      "model_name": "LayoutModel",
      "state": {}
     },
     "0b76830f0aeb469396f2b950c08a2d09": {
      "model_module": "jupyter-matplotlib",
      "model_module_version": "^0.7.4",
      "model_name": "ToolbarModel",
      "state": {
       "layout": "IPY_MODEL_69465e66d07e48eb9330e3b672609b95",
       "toolitems": [
        [
         "Home",
         "Reset original view",
         "home",
         "home"
        ],
        [
         "Back",
         "Back to previous view",
         "arrow-left",
         "back"
        ],
        [
         "Forward",
         "Forward to next view",
         "arrow-right",
         "forward"
        ],
        [
         "Pan",
         "Left button pans, Right button zooms\nx/y fixes axis, CTRL fixes aspect",
         "arrows",
         "pan"
        ],
        [
         "Zoom",
         "Zoom to rectangle\nx/y fixes axis, CTRL fixes aspect",
         "square-o",
         "zoom"
        ],
        [
         "Download",
         "Download plot",
         "floppy-o",
         "save_figure"
        ]
       ]
      }
     },
     "0b7a476f1bcb4ef18ddfecc5aa02d2d0": {
      "model_module": "@jupyter-widgets/output",
      "model_module_version": "1.0.0",
      "model_name": "OutputModel",
      "state": {
       "layout": "IPY_MODEL_3f95c807b2b74a02b0366e02d34e030c",
       "outputs": [
        {
         "ename": "AttributeError",
         "evalue": "'NoneType' object has no attribute 'set_xdata'",
         "output_type": "error",
         "traceback": [
          "\u001b[0;31m---------------------------------------------------------------------------\u001b[0m",
          "\u001b[0;31mAttributeError\u001b[0m                            Traceback (most recent call last)",
          "\u001b[0;32m/usr/local/lib/python3.8/site-packages/ipywidgets/widgets/interaction.py\u001b[0m in \u001b[0;36mupdate\u001b[0;34m(self, *args)\u001b[0m\n\u001b[1;32m    254\u001b[0m                     \u001b[0mvalue\u001b[0m \u001b[0;34m=\u001b[0m \u001b[0mwidget\u001b[0m\u001b[0;34m.\u001b[0m\u001b[0mget_interact_value\u001b[0m\u001b[0;34m(\u001b[0m\u001b[0;34m)\u001b[0m\u001b[0;34m\u001b[0m\u001b[0;34m\u001b[0m\u001b[0m\n\u001b[1;32m    255\u001b[0m                     \u001b[0mself\u001b[0m\u001b[0;34m.\u001b[0m\u001b[0mkwargs\u001b[0m\u001b[0;34m[\u001b[0m\u001b[0mwidget\u001b[0m\u001b[0;34m.\u001b[0m\u001b[0m_kwarg\u001b[0m\u001b[0;34m]\u001b[0m \u001b[0;34m=\u001b[0m \u001b[0mvalue\u001b[0m\u001b[0;34m\u001b[0m\u001b[0;34m\u001b[0m\u001b[0m\n\u001b[0;32m--> 256\u001b[0;31m                 \u001b[0mself\u001b[0m\u001b[0;34m.\u001b[0m\u001b[0mresult\u001b[0m \u001b[0;34m=\u001b[0m \u001b[0mself\u001b[0m\u001b[0;34m.\u001b[0m\u001b[0mf\u001b[0m\u001b[0;34m(\u001b[0m\u001b[0;34m**\u001b[0m\u001b[0mself\u001b[0m\u001b[0;34m.\u001b[0m\u001b[0mkwargs\u001b[0m\u001b[0;34m)\u001b[0m\u001b[0;34m\u001b[0m\u001b[0;34m\u001b[0m\u001b[0m\n\u001b[0m\u001b[1;32m    257\u001b[0m                 \u001b[0mshow_inline_matplotlib_plots\u001b[0m\u001b[0;34m(\u001b[0m\u001b[0;34m)\u001b[0m\u001b[0;34m\u001b[0m\u001b[0;34m\u001b[0m\u001b[0m\n\u001b[1;32m    258\u001b[0m                 \u001b[0;32mif\u001b[0m \u001b[0mself\u001b[0m\u001b[0;34m.\u001b[0m\u001b[0mauto_display\u001b[0m \u001b[0;32mand\u001b[0m \u001b[0mself\u001b[0m\u001b[0;34m.\u001b[0m\u001b[0mresult\u001b[0m \u001b[0;32mis\u001b[0m \u001b[0;32mnot\u001b[0m \u001b[0;32mNone\u001b[0m\u001b[0;34m:\u001b[0m\u001b[0;34m\u001b[0m\u001b[0;34m\u001b[0m\u001b[0m\n",
          "\u001b[0;32m<ipython-input-66-1c4614b0b13d>\u001b[0m in \u001b[0;36mupdate\u001b[0;34m(x)\u001b[0m\n\u001b[1;32m     54\u001b[0m     \u001b[0mt2\u001b[0m\u001b[0;34m.\u001b[0m\u001b[0mset_text\u001b[0m\u001b[0;34m(\u001b[0m\u001b[0;34mr\"$d_s=%.1f$ m\"\u001b[0m \u001b[0;34m%\u001b[0m\u001b[0md2\u001b[0m\u001b[0;34m)\u001b[0m\u001b[0;34m\u001b[0m\u001b[0;34m\u001b[0m\u001b[0m\n\u001b[1;32m     55\u001b[0m     \u001b[0max\u001b[0m\u001b[0;34m[\u001b[0m\u001b[0;36m1\u001b[0m\u001b[0;34m]\u001b[0m\u001b[0;34m.\u001b[0m\u001b[0mplot\u001b[0m\u001b[0;34m(\u001b[0m\u001b[0mx\u001b[0m\u001b[0;34m,\u001b[0m \u001b[0md1\u001b[0m\u001b[0;34m/\u001b[0m\u001b[0mv1\u001b[0m \u001b[0;34m+\u001b[0m \u001b[0md2\u001b[0m\u001b[0;34m/\u001b[0m\u001b[0mv2\u001b[0m\u001b[0;34m,\u001b[0m \u001b[0;34m\".\"\u001b[0m\u001b[0;34m,\u001b[0m \u001b[0mcolor\u001b[0m\u001b[0;34m=\u001b[0m\u001b[0;34m\"C1\"\u001b[0m\u001b[0;34m)\u001b[0m\u001b[0;34m\u001b[0m\u001b[0;34m\u001b[0m\u001b[0m\n\u001b[0;32m---> 56\u001b[0;31m     \u001b[0mlt\u001b[0m\u001b[0;34m.\u001b[0m\u001b[0mset_xdata\u001b[0m\u001b[0;34m(\u001b[0m\u001b[0mx\u001b[0m\u001b[0;34m)\u001b[0m\u001b[0;34m\u001b[0m\u001b[0;34m\u001b[0m\u001b[0m\n\u001b[0m\u001b[1;32m     57\u001b[0m     \u001b[0mlt\u001b[0m\u001b[0;34m.\u001b[0m\u001b[0mset_ydata\u001b[0m\u001b[0;34m(\u001b[0m\u001b[0md1\u001b[0m\u001b[0;34m/\u001b[0m\u001b[0mv1\u001b[0m \u001b[0;34m+\u001b[0m \u001b[0md2\u001b[0m\u001b[0;34m/\u001b[0m\u001b[0mv2\u001b[0m\u001b[0;34m)\u001b[0m\u001b[0;34m\u001b[0m\u001b[0;34m\u001b[0m\u001b[0m\n\u001b[1;32m     58\u001b[0m     \u001b[0max\u001b[0m\u001b[0;34m[\u001b[0m\u001b[0;36m0\u001b[0m\u001b[0;34m]\u001b[0m\u001b[0;34m.\u001b[0m\u001b[0mfigure\u001b[0m\u001b[0;34m.\u001b[0m\u001b[0mcanvas\u001b[0m\u001b[0;34m.\u001b[0m\u001b[0mdraw\u001b[0m\u001b[0;34m(\u001b[0m\u001b[0;34m)\u001b[0m\u001b[0;34m\u001b[0m\u001b[0;34m\u001b[0m\u001b[0m\n",
          "\u001b[0;31mAttributeError\u001b[0m: 'NoneType' object has no attribute 'set_xdata'"
         ]
        }
       ]
      }
     },
     "0b839fe7c14c450189606919e160e9cb": {
      "model_module": "@jupyter-widgets/base",
      "model_module_version": "1.2.0",
      "model_name": "LayoutModel",
      "state": {}
     },
     "0b9cc36cecc744ebbde2e8a115b06faa": {
      "model_module": "@jupyter-widgets/base",
      "model_module_version": "1.2.0",
      "model_name": "LayoutModel",
      "state": {}
     },
     "0c0c5354e69147efa24ad52f17d1309a": {
      "model_module": "jupyter-matplotlib",
      "model_module_version": "^0.7.4",
      "model_name": "ToolbarModel",
      "state": {
       "layout": "IPY_MODEL_a10d93e765484102834839a3f8375c36",
       "toolitems": [
        [
         "Home",
         "Reset original view",
         "home",
         "home"
        ],
        [
         "Back",
         "Back to previous view",
         "arrow-left",
         "back"
        ],
        [
         "Forward",
         "Forward to next view",
         "arrow-right",
         "forward"
        ],
        [
         "Pan",
         "Left button pans, Right button zooms\nx/y fixes axis, CTRL fixes aspect",
         "arrows",
         "pan"
        ],
        [
         "Zoom",
         "Zoom to rectangle\nx/y fixes axis, CTRL fixes aspect",
         "square-o",
         "zoom"
        ],
        [
         "Download",
         "Download plot",
         "floppy-o",
         "save_figure"
        ]
       ]
      }
     },
     "0c261071fa7942efa1e41f45c5dc9c32": {
      "model_module": "@jupyter-widgets/base",
      "model_module_version": "1.2.0",
      "model_name": "LayoutModel",
      "state": {}
     },
     "0c2dcc38b9844520a99d90701c85cace": {
      "model_module": "@jupyter-widgets/base",
      "model_module_version": "1.2.0",
      "model_name": "LayoutModel",
      "state": {}
     },
     "0c41387c86ac4d698d04fbcdde8f9443": {
      "model_module": "@jupyter-widgets/controls",
      "model_module_version": "1.5.0",
      "model_name": "FloatSliderModel",
      "state": {
       "description": "x",
       "layout": "IPY_MODEL_a13061468e1d431db20dd17c60e7e856",
       "max": 5,
       "min": -1,
       "step": 0.2,
       "style": "IPY_MODEL_70cd99db443a4519be9d871373240ab3"
      }
     },
     "0c5dd25b1c1344bb9fec2b028429fb9c": {
      "model_module": "@jupyter-widgets/controls",
      "model_module_version": "1.5.0",
      "model_name": "ButtonModel",
      "state": {
       "description": "reset",
       "layout": "IPY_MODEL_b082cf16a39849d38917935aa816c5d4",
       "style": "IPY_MODEL_d0d334c325ee4e5ab5dec75580b550b9"
      }
     },
     "0ca104c90740446eae2c13d3ca41ea1d": {
      "model_module": "@jupyter-widgets/base",
      "model_module_version": "1.2.0",
      "model_name": "LayoutModel",
      "state": {}
     },
     "0cd1cbc7d7694cef983f4021b68d1e01": {
      "model_module": "@jupyter-widgets/controls",
      "model_module_version": "1.5.0",
      "model_name": "SliderStyleModel",
      "state": {
       "description_width": ""
      }
     },
     "0d09f2cd228c4e739b34f6fe6418ad2b": {
      "model_module": "@jupyter-widgets/base",
      "model_module_version": "1.2.0",
      "model_name": "LayoutModel",
      "state": {}
     },
     "0d207f0a479d484fa49dbe23104c1ef0": {
      "model_module": "@jupyter-widgets/base",
      "model_module_version": "1.2.0",
      "model_name": "LayoutModel",
      "state": {}
     },
     "0d2872568a234bec970b072f9a0cbf75": {
      "model_module": "@jupyter-widgets/controls",
      "model_module_version": "1.5.0",
      "model_name": "VBoxModel",
      "state": {
       "_dom_classes": [
        "widget-interact"
       ],
       "children": [
        "IPY_MODEL_66e076363a164a4d9ecd3c00f67b0ba6",
        "IPY_MODEL_8f730c6bb8ad46fab4880402a78d4864"
       ],
       "layout": "IPY_MODEL_2ebcc1ae0da74739a771566eff85ee7b"
      }
     },
     "0ddc6fc7fee34611bc36d1806d47de86": {
      "model_module": "@jupyter-widgets/base",
      "model_module_version": "1.2.0",
      "model_name": "LayoutModel",
      "state": {}
     },
     "0e2988c055c74962835be4f4e2570f69": {
      "model_module": "@jupyter-widgets/controls",
      "model_module_version": "1.5.0",
      "model_name": "VBoxModel",
      "state": {
       "_dom_classes": [
        "widget-interact"
       ],
       "children": [
        "IPY_MODEL_f69cc9e383f5475c8568dfb1e0deb07a",
        "IPY_MODEL_267db485124441d182b2304db3ff0b0a"
       ],
       "layout": "IPY_MODEL_c71b8b9b17b94f82a5a8f7f2c8e3ada3"
      }
     },
     "0f226105dff64d798b192698b231aa71": {
      "model_module": "@jupyter-widgets/controls",
      "model_module_version": "1.5.0",
      "model_name": "VBoxModel",
      "state": {
       "children": [
        "IPY_MODEL_65a4e67fb87f4b118e4760d55d73b2c2"
       ],
       "layout": "IPY_MODEL_2158d03c5f904c5e8ef814b8626f7ea5"
      }
     },
     "0f40412920cb4a14a36f820151315e45": {
      "model_module": "@jupyter-widgets/base",
      "model_module_version": "1.2.0",
      "model_name": "LayoutModel",
      "state": {}
     },
     "0f5f08a65f08430089edae63713b241f": {
      "model_module": "@jupyter-widgets/controls",
      "model_module_version": "1.5.0",
      "model_name": "VBoxModel",
      "state": {
       "_dom_classes": [
        "widget-interact"
       ],
       "children": [
        "IPY_MODEL_2e904fe93dff4caea5282e52eb559407",
        "IPY_MODEL_a85d77c7211b44ffadc2038702849402"
       ],
       "layout": "IPY_MODEL_db0b1d34de8441aaa1451230c785b762"
      }
     },
     "0f6f18d2f6a64c978c78aaff7344b1ee": {
      "model_module": "@jupyter-widgets/controls",
      "model_module_version": "1.5.0",
      "model_name": "VBoxModel",
      "state": {
       "children": [
        "IPY_MODEL_f6afc7ad91d0426bb290b40ce8d7900f"
       ],
       "layout": "IPY_MODEL_03e74abe9fcf489ebcc80dd716cb4280"
      }
     },
     "0f954168d138440280e7ed03cade7a21": {
      "model_module": "@jupyter-widgets/controls",
      "model_module_version": "1.5.0",
      "model_name": "ButtonModel",
      "state": {
       "description": "reset",
       "layout": "IPY_MODEL_30d80656ea6d419fa5f19dde4717e00c",
       "style": "IPY_MODEL_5db9d810f93c424daba139d941fdf329"
      }
     },
     "0fa6023cb420406fa20b89705f0fd39e": {
      "model_module": "@jupyter-widgets/base",
      "model_module_version": "1.2.0",
      "model_name": "LayoutModel",
      "state": {}
     },
     "0fb2e3882de8442794a6b6771112e4b8": {
      "model_module": "@jupyter-widgets/base",
      "model_module_version": "1.2.0",
      "model_name": "LayoutModel",
      "state": {}
     },
     "0fd686afc3504406b2f1dfb16fe05a28": {
      "model_module": "@jupyter-widgets/controls",
      "model_module_version": "1.5.0",
      "model_name": "VBoxModel",
      "state": {
       "_dom_classes": [
        "widget-interact"
       ],
       "children": [
        "IPY_MODEL_f88590606a0c4b729488f787694eb7d2",
        "IPY_MODEL_9cb28ac4c64e421ba5e758002bb39ad9"
       ],
       "layout": "IPY_MODEL_1358600ae797432f9a289e748f2e2b48"
      }
     },
     "1022fab275d64a2dbf6570e8e845b9b6": {
      "model_module": "@jupyter-widgets/base",
      "model_module_version": "1.2.0",
      "model_name": "LayoutModel",
      "state": {}
     },
     "107749bb439847e39d3469df09e516bf": {
      "model_module": "jupyter-matplotlib",
      "model_module_version": "^0.7.4",
      "model_name": "ToolbarModel",
      "state": {
       "layout": "IPY_MODEL_c02d675c37b744e982f5f5f21a4d1e8a",
       "toolitems": [
        [
         "Home",
         "Reset original view",
         "home",
         "home"
        ],
        [
         "Back",
         "Back to previous view",
         "arrow-left",
         "back"
        ],
        [
         "Forward",
         "Forward to next view",
         "arrow-right",
         "forward"
        ],
        [
         "Pan",
         "Left button pans, Right button zooms\nx/y fixes axis, CTRL fixes aspect",
         "arrows",
         "pan"
        ],
        [
         "Zoom",
         "Zoom to rectangle\nx/y fixes axis, CTRL fixes aspect",
         "square-o",
         "zoom"
        ],
        [
         "Download",
         "Download plot",
         "floppy-o",
         "save_figure"
        ]
       ]
      }
     },
     "107c0cf2e1b644fe917f5798cc9325b1": {
      "model_module": "@jupyter-widgets/base",
      "model_module_version": "1.2.0",
      "model_name": "LayoutModel",
      "state": {}
     },
     "10861f8ffd7544e5a0993943a07352e5": {
      "model_module": "@jupyter-widgets/controls",
      "model_module_version": "1.5.0",
      "model_name": "VBoxModel",
      "state": {
       "children": [
        "IPY_MODEL_d3aedbe634dd40cc9997055e6ac2f2db"
       ],
       "layout": "IPY_MODEL_822834f698224d978edaa3636129be86"
      }
     },
     "10e15625eff5463d9f7d7f5c27c1ecb7": {
      "model_module": "@jupyter-widgets/base",
      "model_module_version": "1.2.0",
      "model_name": "LayoutModel",
      "state": {}
     },
     "1101d117eda04cb6b35dc56e5bb1fb31": {
      "model_module": "@jupyter-widgets/base",
      "model_module_version": "1.2.0",
      "model_name": "LayoutModel",
      "state": {}
     },
     "113b90d4b7c94467a09e04500629f172": {
      "model_module": "@jupyter-widgets/controls",
      "model_module_version": "1.5.0",
      "model_name": "SliderStyleModel",
      "state": {
       "description_width": ""
      }
     },
     "119016f6d7c24d479b1d93a7963b2898": {
      "model_module": "@jupyter-widgets/base",
      "model_module_version": "1.2.0",
      "model_name": "LayoutModel",
      "state": {}
     },
     "11bfe4b98f2b4c8798f97162191a035c": {
      "model_module": "jupyter-matplotlib",
      "model_module_version": "^0.7.4",
      "model_name": "ToolbarModel",
      "state": {
       "layout": "IPY_MODEL_aab38c2812754f388b631136bbc9a0ef",
       "toolitems": [
        [
         "Home",
         "Reset original view",
         "home",
         "home"
        ],
        [
         "Back",
         "Back to previous view",
         "arrow-left",
         "back"
        ],
        [
         "Forward",
         "Forward to next view",
         "arrow-right",
         "forward"
        ],
        [
         "Pan",
         "Left button pans, Right button zooms\nx/y fixes axis, CTRL fixes aspect",
         "arrows",
         "pan"
        ],
        [
         "Zoom",
         "Zoom to rectangle\nx/y fixes axis, CTRL fixes aspect",
         "square-o",
         "zoom"
        ],
        [
         "Download",
         "Download plot",
         "floppy-o",
         "save_figure"
        ]
       ]
      }
     },
     "124d7955af64490186864cf967a0ca74": {
      "model_module": "@jupyter-widgets/controls",
      "model_module_version": "1.5.0",
      "model_name": "ButtonModel",
      "state": {
       "description": "reset",
       "layout": "IPY_MODEL_63ad554f2ccb40d289ac08e02c051ba1",
       "style": "IPY_MODEL_3466859614104d799ada9344aa9390d1"
      }
     },
     "12786d1e88484109a369ae4267befc5f": {
      "model_module": "jupyter-matplotlib",
      "model_module_version": "^0.7.4",
      "model_name": "ToolbarModel",
      "state": {
       "layout": "IPY_MODEL_12ddb58ee1f842a8abbd57b22d7fdd25",
       "toolitems": [
        [
         "Home",
         "Reset original view",
         "home",
         "home"
        ],
        [
         "Back",
         "Back to previous view",
         "arrow-left",
         "back"
        ],
        [
         "Forward",
         "Forward to next view",
         "arrow-right",
         "forward"
        ],
        [
         "Pan",
         "Left button pans, Right button zooms\nx/y fixes axis, CTRL fixes aspect",
         "arrows",
         "pan"
        ],
        [
         "Zoom",
         "Zoom to rectangle\nx/y fixes axis, CTRL fixes aspect",
         "square-o",
         "zoom"
        ],
        [
         "Download",
         "Download plot",
         "floppy-o",
         "save_figure"
        ]
       ]
      }
     },
     "12977d6fc38d40788733b85e68e031f7": {
      "model_module": "@jupyter-widgets/base",
      "model_module_version": "1.2.0",
      "model_name": "LayoutModel",
      "state": {}
     },
     "12a452d13d6c404e9c6ca11ca5101efe": {
      "model_module": "@jupyter-widgets/base",
      "model_module_version": "1.2.0",
      "model_name": "LayoutModel",
      "state": {}
     },
     "12ddb58ee1f842a8abbd57b22d7fdd25": {
      "model_module": "@jupyter-widgets/base",
      "model_module_version": "1.2.0",
      "model_name": "LayoutModel",
      "state": {}
     },
     "12ecb16ba6564288b7f1daa836a89e89": {
      "model_module": "@jupyter-widgets/controls",
      "model_module_version": "1.5.0",
      "model_name": "ButtonModel",
      "state": {
       "description": "reset",
       "layout": "IPY_MODEL_69c98b4c52f04612b4c7442c9993fda3",
       "style": "IPY_MODEL_7e1c6b2d3ecc420ab652a7a250d97e99"
      }
     },
     "134978a954b34ff092c46240da3facf0": {
      "model_module": "@jupyter-widgets/base",
      "model_module_version": "1.2.0",
      "model_name": "LayoutModel",
      "state": {}
     },
     "1358600ae797432f9a289e748f2e2b48": {
      "model_module": "@jupyter-widgets/base",
      "model_module_version": "1.2.0",
      "model_name": "LayoutModel",
      "state": {}
     },
     "13813ba55963455cae1042c9783ff8e2": {
      "model_module": "@jupyter-widgets/base",
      "model_module_version": "1.2.0",
      "model_name": "LayoutModel",
      "state": {}
     },
     "13cd7d70702642b79e0a2fc58f15bab7": {
      "model_module": "@jupyter-widgets/base",
      "model_module_version": "1.2.0",
      "model_name": "LayoutModel",
      "state": {}
     },
     "13f0e07ab7504e67a355097f7c69906b": {
      "model_module": "@jupyter-widgets/controls",
      "model_module_version": "1.5.0",
      "model_name": "VBoxModel",
      "state": {
       "_dom_classes": [
        "widget-interact"
       ],
       "children": [
        "IPY_MODEL_d9656c1a3e79428e9969823fa3e480c1",
        "IPY_MODEL_17b2ca8d142045199286ffe5d7a70290"
       ],
       "layout": "IPY_MODEL_6628c43fd3c549d090596a5124f16a95"
      }
     },
     "1438d9dfb6be40be8c93f567368343aa": {
      "model_module": "@jupyter-widgets/controls",
      "model_module_version": "1.5.0",
      "model_name": "SliderStyleModel",
      "state": {
       "description_width": ""
      }
     },
     "146789ae1d4342699e81d7a0606ed7b4": {
      "model_module": "@jupyter-widgets/controls",
      "model_module_version": "1.5.0",
      "model_name": "VBoxModel",
      "state": {
       "_dom_classes": [
        "widget-interact"
       ],
       "children": [
        "IPY_MODEL_daeca44fd311464ca43a8f55331959e5",
        "IPY_MODEL_5df6d3e2f53f4a1387117ad29ccb532f"
       ],
       "layout": "IPY_MODEL_342534192b4d49a18a3a7f25a809f8fe"
      }
     },
     "14c50486dae946cb978054726de9e04f": {
      "model_module": "@jupyter-widgets/controls",
      "model_module_version": "1.5.0",
      "model_name": "SliderStyleModel",
      "state": {
       "description_width": ""
      }
     },
     "15665532c13d44638fc7a9f3f7fbd0a0": {
      "model_module": "@jupyter-widgets/controls",
      "model_module_version": "1.5.0",
      "model_name": "SliderStyleModel",
      "state": {
       "description_width": ""
      }
     },
     "1568767c2da94e56af488a8c79bcfecb": {
      "model_module": "jupyter-matplotlib",
      "model_module_version": "^0.7.4",
      "model_name": "ToolbarModel",
      "state": {
       "layout": "IPY_MODEL_f28412966bc04fa29c9993d190c1001b",
       "toolitems": [
        [
         "Home",
         "Reset original view",
         "home",
         "home"
        ],
        [
         "Back",
         "Back to previous view",
         "arrow-left",
         "back"
        ],
        [
         "Forward",
         "Forward to next view",
         "arrow-right",
         "forward"
        ],
        [
         "Pan",
         "Left button pans, Right button zooms\nx/y fixes axis, CTRL fixes aspect",
         "arrows",
         "pan"
        ],
        [
         "Zoom",
         "Zoom to rectangle\nx/y fixes axis, CTRL fixes aspect",
         "square-o",
         "zoom"
        ],
        [
         "Download",
         "Download plot",
         "floppy-o",
         "save_figure"
        ]
       ]
      }
     },
     "1583e0992520401f9dcd4d984ee448e9": {
      "model_module": "@jupyter-widgets/controls",
      "model_module_version": "1.5.0",
      "model_name": "FloatSliderModel",
      "state": {
       "description": "x",
       "layout": "IPY_MODEL_054c8826454747e695a48a2c8bf3a5e9",
       "max": 5,
       "min": -1,
       "step": 0.2,
       "style": "IPY_MODEL_e604258835b246a48fe6815bf42f4a9b"
      }
     },
     "15d1df3e5dff4abd9fc959bfbda69080": {
      "model_module": "@jupyter-widgets/controls",
      "model_module_version": "1.5.0",
      "model_name": "VBoxModel",
      "state": {
       "_dom_classes": [
        "widget-interact"
       ],
       "children": [
        "IPY_MODEL_e19a2e21822e4b159a1bcd7e215617d2",
        "IPY_MODEL_84ec7c2579a54057bab987e974d61006"
       ],
       "layout": "IPY_MODEL_aceb69c8627544198bc310576a1af57c"
      }
     },
     "15d5750c6f764a85a93383e11828a092": {
      "model_module": "@jupyter-widgets/output",
      "model_module_version": "1.0.0",
      "model_name": "OutputModel",
      "state": {
       "layout": "IPY_MODEL_956ed2c0d5394f818038d093cc237cb0"
      }
     },
     "1634854b3d4c4007bc06daf5501e9026": {
      "model_module": "@jupyter-widgets/base",
      "model_module_version": "1.2.0",
      "model_name": "LayoutModel",
      "state": {}
     },
     "163b9e32897244f6aa2578d68a4c37b3": {
      "model_module": "@jupyter-widgets/base",
      "model_module_version": "1.2.0",
      "model_name": "LayoutModel",
      "state": {}
     },
     "1640e083570f4da380388b8c6926fc75": {
      "model_module": "@jupyter-widgets/base",
      "model_module_version": "1.2.0",
      "model_name": "LayoutModel",
      "state": {}
     },
     "16c8d958bd294abdb56978aab4e038f6": {
      "model_module": "@jupyter-widgets/base",
      "model_module_version": "1.2.0",
      "model_name": "LayoutModel",
      "state": {}
     },
     "1702e1683e9d4fa39a330e71c029d4c2": {
      "model_module": "@jupyter-widgets/base",
      "model_module_version": "1.2.0",
      "model_name": "LayoutModel",
      "state": {}
     },
     "172767f90113455fa5d4f21efc649209": {
      "model_module": "@jupyter-widgets/base",
      "model_module_version": "1.2.0",
      "model_name": "LayoutModel",
      "state": {}
     },
     "17869e9000164dccb9bfab081259aece": {
      "model_module": "@jupyter-widgets/base",
      "model_module_version": "1.2.0",
      "model_name": "LayoutModel",
      "state": {}
     },
     "179f85feffbe4f04aac24302ebed18d3": {
      "model_module": "@jupyter-widgets/controls",
      "model_module_version": "1.5.0",
      "model_name": "ButtonStyleModel",
      "state": {}
     },
     "17a1fec42b4848179e2f9564071fefb4": {
      "model_module": "@jupyter-widgets/base",
      "model_module_version": "1.2.0",
      "model_name": "LayoutModel",
      "state": {}
     },
     "17b2ca8d142045199286ffe5d7a70290": {
      "model_module": "@jupyter-widgets/output",
      "model_module_version": "1.0.0",
      "model_name": "OutputModel",
      "state": {
       "layout": "IPY_MODEL_78b0656d30d24aae89c6282b6d006857"
      }
     },
     "180fbf66c0bd4e39ad0da5501e142c5e": {
      "model_module": "@jupyter-widgets/base",
      "model_module_version": "1.2.0",
      "model_name": "LayoutModel",
      "state": {}
     },
     "1838f1d7958c40e6a7f6e09912149715": {
      "model_module": "@jupyter-widgets/controls",
      "model_module_version": "1.5.0",
      "model_name": "VBoxModel",
      "state": {
       "_dom_classes": [
        "widget-interact"
       ],
       "children": [
        "IPY_MODEL_bd820a62b35a47aaba0de492a7f488c3",
        "IPY_MODEL_69fef6425d44458f912eaeeefd47bd08"
       ],
       "layout": "IPY_MODEL_d8bf2a62dc774a0eaaf1bd4234776657"
      }
     },
     "184b6eb2f3564d68a30b06d88a51e04f": {
      "model_module": "@jupyter-widgets/base",
      "model_module_version": "1.2.0",
      "model_name": "LayoutModel",
      "state": {}
     },
     "186a2a4503104cd7b95d2ba6f7921c5b": {
      "model_module": "@jupyter-widgets/base",
      "model_module_version": "1.2.0",
      "model_name": "LayoutModel",
      "state": {}
     },
     "186a9a56478549ca91d7b8731d8695eb": {
      "model_module": "@jupyter-widgets/base",
      "model_module_version": "1.2.0",
      "model_name": "LayoutModel",
      "state": {}
     },
     "18784e2b6b0a43a3840806c2182c6129": {
      "model_module": "@jupyter-widgets/base",
      "model_module_version": "1.2.0",
      "model_name": "LayoutModel",
      "state": {}
     },
     "18a5e766244e409199179c483c044a23": {
      "model_module": "@jupyter-widgets/controls",
      "model_module_version": "1.5.0",
      "model_name": "VBoxModel",
      "state": {
       "children": [
        "IPY_MODEL_36e7815a92974773b5ca2c8bc3135c4e"
       ],
       "layout": "IPY_MODEL_71448b6391814fb390656f41a37cad67"
      }
     },
     "18ad02f53000468db08a4f715cf3253a": {
      "model_module": "@jupyter-widgets/controls",
      "model_module_version": "1.5.0",
      "model_name": "VBoxModel",
      "state": {
       "children": [
        "IPY_MODEL_c840095386cd44418c0f86bb22ebcb02"
       ],
       "layout": "IPY_MODEL_8fdca7a5f40345049ee2fa715ad4ae78"
      }
     },
     "190bf8a248124cb89eaea542c4ff1faa": {
      "model_module": "@jupyter-widgets/controls",
      "model_module_version": "1.5.0",
      "model_name": "VBoxModel",
      "state": {
       "children": [
        "IPY_MODEL_c0526eba0c3b4cd3beec4fc58924a1d0"
       ],
       "layout": "IPY_MODEL_b005b087308342d596058f74d273aef8"
      }
     },
     "19113dcf1eca4d9ba8d20918cf29b6fc": {
      "model_module": "@jupyter-widgets/base",
      "model_module_version": "1.2.0",
      "model_name": "LayoutModel",
      "state": {}
     },
     "191d512c182a472591332c2dfb4607b1": {
      "model_module": "@jupyter-widgets/base",
      "model_module_version": "1.2.0",
      "model_name": "LayoutModel",
      "state": {}
     },
     "194d85ad461343f3bd09355171cec578": {
      "model_module": "@jupyter-widgets/controls",
      "model_module_version": "1.5.0",
      "model_name": "FloatSliderModel",
      "state": {
       "description": "x",
       "layout": "IPY_MODEL_b92e6a817fb84677a34044a17f19d699",
       "max": 5,
       "min": -1,
       "step": 0.2,
       "style": "IPY_MODEL_3a0067b525e34eaa8bcf4b8f7bc469c7"
      }
     },
     "19adae52a637423f8f79d6ef483f17ee": {
      "model_module": "@jupyter-widgets/base",
      "model_module_version": "1.2.0",
      "model_name": "LayoutModel",
      "state": {}
     },
     "19e98e24b9e04f9bbe4359f35ac9d920": {
      "model_module": "@jupyter-widgets/base",
      "model_module_version": "1.2.0",
      "model_name": "LayoutModel",
      "state": {}
     },
     "19f47da58f7344ebb83f7ea1fae7f92e": {
      "model_module": "@jupyter-widgets/output",
      "model_module_version": "1.0.0",
      "model_name": "OutputModel",
      "state": {
       "layout": "IPY_MODEL_b8def092b6d146598c9b7b69a92c779b"
      }
     },
     "19f93fea7a6e4ff99298ef0e2da806ef": {
      "model_module": "@jupyter-widgets/base",
      "model_module_version": "1.2.0",
      "model_name": "LayoutModel",
      "state": {}
     },
     "1a632d91367a419f9180df3284cf49d3": {
      "model_module": "@jupyter-widgets/controls",
      "model_module_version": "1.5.0",
      "model_name": "VBoxModel",
      "state": {
       "children": [
        "IPY_MODEL_0902fe3246d84c418fc0d098470f9e58"
       ],
       "layout": "IPY_MODEL_c6f80935b7734132b799f836a1d6ffdd"
      }
     },
     "1a6f4f9a717c4d35861c2dfad6330173": {
      "model_module": "@jupyter-widgets/base",
      "model_module_version": "1.2.0",
      "model_name": "LayoutModel",
      "state": {}
     },
     "1ac8c01f9988400ea9c0c671b682990b": {
      "model_module": "@jupyter-widgets/base",
      "model_module_version": "1.2.0",
      "model_name": "LayoutModel",
      "state": {}
     },
     "1b4a77e028074de2b385315efeb1b9ea": {
      "model_module": "@jupyter-widgets/controls",
      "model_module_version": "1.5.0",
      "model_name": "VBoxModel",
      "state": {
       "_dom_classes": [
        "widget-interact"
       ],
       "children": [
        "IPY_MODEL_065a8c1d0a9d4201ad2d52dbf67d781c",
        "IPY_MODEL_bc981baf51a246a69e832e2a393eed07"
       ],
       "layout": "IPY_MODEL_a59082109beb4a15b74e95121f91ac0b"
      }
     },
     "1b9a33bacc86454da7f37f432032ae0f": {
      "model_module": "@jupyter-widgets/base",
      "model_module_version": "1.2.0",
      "model_name": "LayoutModel",
      "state": {}
     },
     "1ba677462b8945a8852f5b65f2fc1e35": {
      "model_module": "@jupyter-widgets/base",
      "model_module_version": "1.2.0",
      "model_name": "LayoutModel",
      "state": {}
     },
     "1be0e7bcf6bb44cbbdd564ab3c8044b0": {
      "model_module": "@jupyter-widgets/base",
      "model_module_version": "1.2.0",
      "model_name": "LayoutModel",
      "state": {}
     },
     "1c3b179b37d74e21b80be22d350f7c29": {
      "model_module": "@jupyter-widgets/controls",
      "model_module_version": "1.5.0",
      "model_name": "SliderStyleModel",
      "state": {
       "description_width": ""
      }
     },
     "1d339f697023460e9407bfc8cdc47a8a": {
      "model_module": "@jupyter-widgets/base",
      "model_module_version": "1.2.0",
      "model_name": "LayoutModel",
      "state": {}
     },
     "1d68099d98644c19879ba168263a4512": {
      "model_module": "@jupyter-widgets/controls",
      "model_module_version": "1.5.0",
      "model_name": "FloatSliderModel",
      "state": {
       "description": "X",
       "layout": "IPY_MODEL_d9adf284d6a04226a928d9a27fa8dd25",
       "max": 4,
       "min": -1,
       "step": 0.2,
       "style": "IPY_MODEL_f17af65ea1de4e8ba8f0df6378290fd3"
      }
     },
     "1df8bee9cdac43f6a71fca903379283d": {
      "model_module": "@jupyter-widgets/base",
      "model_module_version": "1.2.0",
      "model_name": "LayoutModel",
      "state": {}
     },
     "1e1bbfd65058456192c551ea845199ab": {
      "model_module": "@jupyter-widgets/controls",
      "model_module_version": "1.5.0",
      "model_name": "ButtonStyleModel",
      "state": {}
     },
     "1e42321a4a754b7e8bbfe675a8a8a78c": {
      "model_module": "@jupyter-widgets/base",
      "model_module_version": "1.2.0",
      "model_name": "LayoutModel",
      "state": {}
     },
     "1e53bc6537c64172a4293ff4f7617f9e": {
      "model_module": "@jupyter-widgets/base",
      "model_module_version": "1.2.0",
      "model_name": "LayoutModel",
      "state": {}
     },
     "1e608053ad8c446f8419be284a677b9d": {
      "model_module": "@jupyter-widgets/controls",
      "model_module_version": "1.5.0",
      "model_name": "FloatSliderModel",
      "state": {
       "description": "x",
       "layout": "IPY_MODEL_b1366d0d952544749aa8aed31e51d8e2",
       "max": 5,
       "min": -1,
       "step": 0.2,
       "style": "IPY_MODEL_851c387aa6c34a8faba24ea054d4a761",
       "value": -0.8
      }
     },
     "1e9af9105b154bc5a9e3015835b86dee": {
      "model_module": "@jupyter-widgets/controls",
      "model_module_version": "1.5.0",
      "model_name": "VBoxModel",
      "state": {
       "_dom_classes": [
        "widget-interact"
       ],
       "children": [
        "IPY_MODEL_71ccf30205714c9faaa956caa930b2d8",
        "IPY_MODEL_64cdd7f33cbb4d01ab4ce77da05e4489"
       ],
       "layout": "IPY_MODEL_c8a84ccb53ca4170b9300364e5d43b00"
      }
     },
     "1ea3adf2c0384d08b46ba7ce6a3a8b4b": {
      "model_module": "@jupyter-widgets/controls",
      "model_module_version": "1.5.0",
      "model_name": "ButtonModel",
      "state": {
       "description": "reset",
       "layout": "IPY_MODEL_69fd818bf880417da58298b7011dc8bb",
       "style": "IPY_MODEL_6c9cf9575b994f03826b6c8f95925a89"
      }
     },
     "1ead7371e2c24189984e99fa9cd33415": {
      "model_module": "@jupyter-widgets/controls",
      "model_module_version": "1.5.0",
      "model_name": "VBoxModel",
      "state": {
       "_dom_classes": [
        "widget-interact"
       ],
       "children": [
        "IPY_MODEL_de6a212c5a354df293b6ef3e56d02ff9",
        "IPY_MODEL_15d5750c6f764a85a93383e11828a092"
       ],
       "layout": "IPY_MODEL_cdf8ba2815234441ac2d3d1675a0966b"
      }
     },
     "1eb43975e0394b95b91917217b5e58e5": {
      "model_module": "@jupyter-widgets/base",
      "model_module_version": "1.2.0",
      "model_name": "LayoutModel",
      "state": {}
     },
     "1ee78182a7ba4293a806eff206647ebd": {
      "model_module": "@jupyter-widgets/controls",
      "model_module_version": "1.5.0",
      "model_name": "SliderStyleModel",
      "state": {
       "description_width": ""
      }
     },
     "1f220b36536d490eadb5a754b90f9e06": {
      "model_module": "@jupyter-widgets/base",
      "model_module_version": "1.2.0",
      "model_name": "LayoutModel",
      "state": {}
     },
     "1f78fb3ccfb74f20adb13ccf55c1f32f": {
      "model_module": "@jupyter-widgets/controls",
      "model_module_version": "1.5.0",
      "model_name": "ButtonStyleModel",
      "state": {}
     },
     "1f7ef121b56e447ba30324c36aed98ee": {
      "model_module": "jupyter-matplotlib",
      "model_module_version": "^0.7.4",
      "model_name": "ToolbarModel",
      "state": {
       "layout": "IPY_MODEL_0a9904fd915f46d9b305513ce24e35f0",
       "toolitems": [
        [
         "Home",
         "Reset original view",
         "home",
         "home"
        ],
        [
         "Back",
         "Back to previous view",
         "arrow-left",
         "back"
        ],
        [
         "Forward",
         "Forward to next view",
         "arrow-right",
         "forward"
        ],
        [
         "Pan",
         "Left button pans, Right button zooms\nx/y fixes axis, CTRL fixes aspect",
         "arrows",
         "pan"
        ],
        [
         "Zoom",
         "Zoom to rectangle\nx/y fixes axis, CTRL fixes aspect",
         "square-o",
         "zoom"
        ],
        [
         "Download",
         "Download plot",
         "floppy-o",
         "save_figure"
        ]
       ]
      }
     },
     "1f89e6964aec477ab1f933e93e975e08": {
      "model_module": "@jupyter-widgets/controls",
      "model_module_version": "1.5.0",
      "model_name": "VBoxModel",
      "state": {
       "children": [
        "IPY_MODEL_04407bad52774728a7e830c8a7fc8c6a"
       ],
       "layout": "IPY_MODEL_5833fe33776149b397481e7a99db74c0"
      }
     },
     "1fa4513bfe33453e82ddaa04b915fb6b": {
      "model_module": "@jupyter-widgets/base",
      "model_module_version": "1.2.0",
      "model_name": "LayoutModel",
      "state": {}
     },
     "1fc3e8de9bf1422492dc61ecaed5ce19": {
      "model_module": "@jupyter-widgets/controls",
      "model_module_version": "1.5.0",
      "model_name": "VBoxModel",
      "state": {
       "_dom_classes": [
        "widget-interact"
       ],
       "children": [
        "IPY_MODEL_e17c940fb3be423eb8e145fa9c12938c",
        "IPY_MODEL_5b458b4dff6a4dd1bda36601dea2d5b5"
       ],
       "layout": "IPY_MODEL_d95bde8593bb4d55bd8c6b4278adbe25"
      }
     },
     "20247b78ba4347c0982c42e71fa6ae65": {
      "model_module": "jupyter-matplotlib",
      "model_module_version": "^0.7.4",
      "model_name": "ToolbarModel",
      "state": {
       "layout": "IPY_MODEL_9a6c5141a72e44beb08dc75f5bba8636",
       "toolitems": [
        [
         "Home",
         "Reset original view",
         "home",
         "home"
        ],
        [
         "Back",
         "Back to previous view",
         "arrow-left",
         "back"
        ],
        [
         "Forward",
         "Forward to next view",
         "arrow-right",
         "forward"
        ],
        [
         "Pan",
         "Left button pans, Right button zooms\nx/y fixes axis, CTRL fixes aspect",
         "arrows",
         "pan"
        ],
        [
         "Zoom",
         "Zoom to rectangle\nx/y fixes axis, CTRL fixes aspect",
         "square-o",
         "zoom"
        ],
        [
         "Download",
         "Download plot",
         "floppy-o",
         "save_figure"
        ]
       ]
      }
     },
     "204e3c0b2e1f47efa891879cdcbe441e": {
      "model_module": "@jupyter-widgets/base",
      "model_module_version": "1.2.0",
      "model_name": "LayoutModel",
      "state": {}
     },
     "2051e64b63f5403c98c519c9a2811d96": {
      "model_module": "@jupyter-widgets/controls",
      "model_module_version": "1.5.0",
      "model_name": "FloatSliderModel",
      "state": {
       "description": "x",
       "layout": "IPY_MODEL_13cd7d70702642b79e0a2fc58f15bab7",
       "max": 5,
       "min": -1,
       "step": 0.2,
       "style": "IPY_MODEL_fdc7ba6eb1734387a50a1bc3987f23e1",
       "value": 3.2
      }
     },
     "20a0c564ec4049ea8b164481d98e91cd": {
      "model_module": "jupyter-matplotlib",
      "model_module_version": "^0.7.4",
      "model_name": "ToolbarModel",
      "state": {
       "layout": "IPY_MODEL_46309f4b87914a8b8ab735d792c6924f",
       "toolitems": [
        [
         "Home",
         "Reset original view",
         "home",
         "home"
        ],
        [
         "Back",
         "Back to previous view",
         "arrow-left",
         "back"
        ],
        [
         "Forward",
         "Forward to next view",
         "arrow-right",
         "forward"
        ],
        [
         "Pan",
         "Left button pans, Right button zooms\nx/y fixes axis, CTRL fixes aspect",
         "arrows",
         "pan"
        ],
        [
         "Zoom",
         "Zoom to rectangle\nx/y fixes axis, CTRL fixes aspect",
         "square-o",
         "zoom"
        ],
        [
         "Download",
         "Download plot",
         "floppy-o",
         "save_figure"
        ]
       ]
      }
     },
     "20e6975c39954676847ae72d2ed8d42e": {
      "model_module": "@jupyter-widgets/controls",
      "model_module_version": "1.5.0",
      "model_name": "SliderStyleModel",
      "state": {
       "description_width": ""
      }
     },
     "20fdef3892974a06add80a352163d4f6": {
      "model_module": "@jupyter-widgets/base",
      "model_module_version": "1.2.0",
      "model_name": "LayoutModel",
      "state": {}
     },
     "2118b8930f414336820dc50d8c003594": {
      "model_module": "@jupyter-widgets/base",
      "model_module_version": "1.2.0",
      "model_name": "LayoutModel",
      "state": {}
     },
     "213738a63a804997b6e79f39f87e9ea9": {
      "model_module": "@jupyter-widgets/base",
      "model_module_version": "1.2.0",
      "model_name": "LayoutModel",
      "state": {}
     },
     "2158d03c5f904c5e8ef814b8626f7ea5": {
      "model_module": "@jupyter-widgets/base",
      "model_module_version": "1.2.0",
      "model_name": "LayoutModel",
      "state": {}
     },
     "21611c3b57b741c291b89e1388035d83": {
      "model_module": "@jupyter-widgets/base",
      "model_module_version": "1.2.0",
      "model_name": "LayoutModel",
      "state": {}
     },
     "21a74969d24d4aa5aafb355e27c7a75a": {
      "model_module": "@jupyter-widgets/base",
      "model_module_version": "1.2.0",
      "model_name": "LayoutModel",
      "state": {}
     },
     "21a8bca474334bd68abfb7f37c654e10": {
      "model_module": "@jupyter-widgets/controls",
      "model_module_version": "1.5.0",
      "model_name": "FloatSliderModel",
      "state": {
       "description": "x",
       "layout": "IPY_MODEL_f0de3b626ee54883b7b083676033224f",
       "max": 5.5,
       "min": -0.5,
       "step": 0.2,
       "style": "IPY_MODEL_6a63056d7ba04ed5822415ec26d583d1",
       "value": 1.7
      }
     },
     "22422d1b23d44e349513f03a155da514": {
      "model_module": "@jupyter-widgets/base",
      "model_module_version": "1.2.0",
      "model_name": "LayoutModel",
      "state": {}
     },
     "2250207f8a9646108731ff1279354570": {
      "model_module": "jupyter-matplotlib",
      "model_module_version": "^0.7.4",
      "model_name": "ToolbarModel",
      "state": {
       "layout": "IPY_MODEL_71af19b1b73b4d3dbf2e8faf5493def0",
       "toolitems": [
        [
         "Home",
         "Reset original view",
         "home",
         "home"
        ],
        [
         "Back",
         "Back to previous view",
         "arrow-left",
         "back"
        ],
        [
         "Forward",
         "Forward to next view",
         "arrow-right",
         "forward"
        ],
        [
         "Pan",
         "Left button pans, Right button zooms\nx/y fixes axis, CTRL fixes aspect",
         "arrows",
         "pan"
        ],
        [
         "Zoom",
         "Zoom to rectangle\nx/y fixes axis, CTRL fixes aspect",
         "square-o",
         "zoom"
        ],
        [
         "Download",
         "Download plot",
         "floppy-o",
         "save_figure"
        ]
       ]
      }
     },
     "2276a9ed3a87429cb8897feffbb1cd6e": {
      "model_module": "@jupyter-widgets/base",
      "model_module_version": "1.2.0",
      "model_name": "LayoutModel",
      "state": {}
     },
     "2297bbe085154142882ca22ea785e23a": {
      "model_module": "@jupyter-widgets/controls",
      "model_module_version": "1.5.0",
      "model_name": "FloatSliderModel",
      "state": {
       "description": "x",
       "layout": "IPY_MODEL_44dac9c9cde14d1b806c253d59e15659",
       "max": 5.5,
       "min": -0.5,
       "step": 0.2,
       "style": "IPY_MODEL_1ee78182a7ba4293a806eff206647ebd"
      }
     },
     "22ed030968124df69fdce07761f9bf67": {
      "model_module": "@jupyter-widgets/base",
      "model_module_version": "1.2.0",
      "model_name": "LayoutModel",
      "state": {}
     },
     "235a2135c058467f8215e55a317e2720": {
      "model_module": "@jupyter-widgets/output",
      "model_module_version": "1.0.0",
      "model_name": "OutputModel",
      "state": {
       "layout": "IPY_MODEL_cdb8c3c2f0694269bbf86ff560211560",
       "outputs": [
        {
         "ename": "AttributeError",
         "evalue": "'list' object has no attribute 'set_position'",
         "output_type": "error",
         "traceback": [
          "\u001b[0;31m---------------------------------------------------------------------------\u001b[0m",
          "\u001b[0;31mAttributeError\u001b[0m                            Traceback (most recent call last)",
          "\u001b[0;32m/usr/local/lib/python3.8/site-packages/ipywidgets/widgets/interaction.py\u001b[0m in \u001b[0;36mupdate\u001b[0;34m(self, *args)\u001b[0m\n\u001b[1;32m    254\u001b[0m                     \u001b[0mvalue\u001b[0m \u001b[0;34m=\u001b[0m \u001b[0mwidget\u001b[0m\u001b[0;34m.\u001b[0m\u001b[0mget_interact_value\u001b[0m\u001b[0;34m(\u001b[0m\u001b[0;34m)\u001b[0m\u001b[0;34m\u001b[0m\u001b[0;34m\u001b[0m\u001b[0m\n\u001b[1;32m    255\u001b[0m                     \u001b[0mself\u001b[0m\u001b[0;34m.\u001b[0m\u001b[0mkwargs\u001b[0m\u001b[0;34m[\u001b[0m\u001b[0mwidget\u001b[0m\u001b[0;34m.\u001b[0m\u001b[0m_kwarg\u001b[0m\u001b[0;34m]\u001b[0m \u001b[0;34m=\u001b[0m \u001b[0mvalue\u001b[0m\u001b[0;34m\u001b[0m\u001b[0;34m\u001b[0m\u001b[0m\n\u001b[0;32m--> 256\u001b[0;31m                 \u001b[0mself\u001b[0m\u001b[0;34m.\u001b[0m\u001b[0mresult\u001b[0m \u001b[0;34m=\u001b[0m \u001b[0mself\u001b[0m\u001b[0;34m.\u001b[0m\u001b[0mf\u001b[0m\u001b[0;34m(\u001b[0m\u001b[0;34m**\u001b[0m\u001b[0mself\u001b[0m\u001b[0;34m.\u001b[0m\u001b[0mkwargs\u001b[0m\u001b[0;34m)\u001b[0m\u001b[0;34m\u001b[0m\u001b[0;34m\u001b[0m\u001b[0m\n\u001b[0m\u001b[1;32m    257\u001b[0m                 \u001b[0mshow_inline_matplotlib_plots\u001b[0m\u001b[0;34m(\u001b[0m\u001b[0;34m)\u001b[0m\u001b[0;34m\u001b[0m\u001b[0;34m\u001b[0m\u001b[0m\n\u001b[1;32m    258\u001b[0m                 \u001b[0;32mif\u001b[0m \u001b[0mself\u001b[0m\u001b[0;34m.\u001b[0m\u001b[0mauto_display\u001b[0m \u001b[0;32mand\u001b[0m \u001b[0mself\u001b[0m\u001b[0;34m.\u001b[0m\u001b[0mresult\u001b[0m \u001b[0;32mis\u001b[0m \u001b[0;32mnot\u001b[0m \u001b[0;32mNone\u001b[0m\u001b[0;34m:\u001b[0m\u001b[0;34m\u001b[0m\u001b[0;34m\u001b[0m\u001b[0m\n",
          "\u001b[0;32m<ipython-input-43-49fa4616cda5>\u001b[0m in \u001b[0;36mupdate\u001b[0;34m(x)\u001b[0m\n\u001b[1;32m     54\u001b[0m     \u001b[0mt2\u001b[0m\u001b[0;34m.\u001b[0m\u001b[0mset_text\u001b[0m\u001b[0;34m(\u001b[0m\u001b[0;34mr\"$d_s=%.1f$ m\"\u001b[0m \u001b[0;34m%\u001b[0m\u001b[0md2\u001b[0m\u001b[0;34m)\u001b[0m\u001b[0;34m\u001b[0m\u001b[0;34m\u001b[0m\u001b[0m\n\u001b[1;32m     55\u001b[0m     \u001b[0max\u001b[0m\u001b[0;34m[\u001b[0m\u001b[0;36m1\u001b[0m\u001b[0;34m]\u001b[0m\u001b[0;34m.\u001b[0m\u001b[0mplot\u001b[0m\u001b[0;34m(\u001b[0m\u001b[0mx\u001b[0m\u001b[0;34m,\u001b[0m \u001b[0md1\u001b[0m\u001b[0;34m/\u001b[0m\u001b[0mv1\u001b[0m \u001b[0;34m+\u001b[0m \u001b[0md2\u001b[0m\u001b[0;34m/\u001b[0m\u001b[0mv2\u001b[0m\u001b[0;34m,\u001b[0m \u001b[0;34m\".\"\u001b[0m\u001b[0;34m,\u001b[0m \u001b[0mcolor\u001b[0m\u001b[0;34m=\u001b[0m\u001b[0;34m\"C1\"\u001b[0m\u001b[0;34m)\u001b[0m\u001b[0;34m\u001b[0m\u001b[0;34m\u001b[0m\u001b[0m\n\u001b[0;32m---> 56\u001b[0;31m     \u001b[0mlt\u001b[0m\u001b[0;34m.\u001b[0m\u001b[0mset_position\u001b[0m\u001b[0;34m(\u001b[0m\u001b[0mx\u001b[0m\u001b[0;34m,\u001b[0m \u001b[0md1\u001b[0m\u001b[0;34m/\u001b[0m\u001b[0mv1\u001b[0m \u001b[0;34m+\u001b[0m \u001b[0md2\u001b[0m\u001b[0;34m/\u001b[0m\u001b[0mv2\u001b[0m\u001b[0;34m)\u001b[0m\u001b[0;34m\u001b[0m\u001b[0;34m\u001b[0m\u001b[0m\n\u001b[0m\u001b[1;32m     57\u001b[0m     \u001b[0max\u001b[0m\u001b[0;34m[\u001b[0m\u001b[0;36m0\u001b[0m\u001b[0;34m]\u001b[0m\u001b[0;34m.\u001b[0m\u001b[0mfigure\u001b[0m\u001b[0;34m.\u001b[0m\u001b[0mcanvas\u001b[0m\u001b[0;34m.\u001b[0m\u001b[0mdraw\u001b[0m\u001b[0;34m(\u001b[0m\u001b[0;34m)\u001b[0m\u001b[0;34m\u001b[0m\u001b[0;34m\u001b[0m\u001b[0m\n\u001b[1;32m     58\u001b[0m     \u001b[0max\u001b[0m\u001b[0;34m[\u001b[0m\u001b[0;36m1\u001b[0m\u001b[0;34m]\u001b[0m\u001b[0;34m.\u001b[0m\u001b[0mfigure\u001b[0m\u001b[0;34m.\u001b[0m\u001b[0mcanvas\u001b[0m\u001b[0;34m.\u001b[0m\u001b[0mdraw\u001b[0m\u001b[0;34m(\u001b[0m\u001b[0;34m)\u001b[0m\u001b[0;34m\u001b[0m\u001b[0;34m\u001b[0m\u001b[0m\n",
          "\u001b[0;31mAttributeError\u001b[0m: 'list' object has no attribute 'set_position'"
         ]
        }
       ]
      }
     },
     "23aef0a036a34c09a3de1d4eaa5d81f5": {
      "model_module": "@jupyter-widgets/output",
      "model_module_version": "1.0.0",
      "model_name": "OutputModel",
      "state": {
       "layout": "IPY_MODEL_4564fa935e204d94a15bffa18d1efa06"
      }
     },
     "23bfbd43c4424f1eb47ac1ed521908c7": {
      "model_module": "@jupyter-widgets/controls",
      "model_module_version": "1.5.0",
      "model_name": "ButtonStyleModel",
      "state": {}
     },
     "23f1d86454954d91902bc31a431a4d8f": {
      "model_module": "@jupyter-widgets/base",
      "model_module_version": "1.2.0",
      "model_name": "LayoutModel",
      "state": {}
     },
     "240a35590a4d46168ab7f43f1d2bbc39": {
      "model_module": "@jupyter-widgets/base",
      "model_module_version": "1.2.0",
      "model_name": "LayoutModel",
      "state": {}
     },
     "240fc8a4deae476a8117cd821b17081e": {
      "model_module": "@jupyter-widgets/controls",
      "model_module_version": "1.5.0",
      "model_name": "VBoxModel",
      "state": {
       "_dom_classes": [
        "widget-interact"
       ],
       "children": [
        "IPY_MODEL_52ef5be50e3240b5aadc1f4d5fd8feee",
        "IPY_MODEL_9c76c81128de43ef9b512bdd4c65b428"
       ],
       "layout": "IPY_MODEL_3093f56d87b447d3ab89469f41783547"
      }
     },
     "241f7f89eacd40839687304bf66d0d9d": {
      "model_module": "@jupyter-widgets/base",
      "model_module_version": "1.2.0",
      "model_name": "LayoutModel",
      "state": {}
     },
     "2433ac2c12ea4e578e95ddac41270d22": {
      "model_module": "@jupyter-widgets/base",
      "model_module_version": "1.2.0",
      "model_name": "LayoutModel",
      "state": {}
     },
     "24ff66d7b40d4d63b3eedb131c6d335d": {
      "model_module": "@jupyter-widgets/controls",
      "model_module_version": "1.5.0",
      "model_name": "VBoxModel",
      "state": {
       "_dom_classes": [
        "widget-interact"
       ],
       "children": [
        "IPY_MODEL_b472164f84334c02bc1e87a1f3ea7556",
        "IPY_MODEL_0b7a476f1bcb4ef18ddfecc5aa02d2d0"
       ],
       "layout": "IPY_MODEL_1101d117eda04cb6b35dc56e5bb1fb31"
      }
     },
     "2548bced1a6a455a9eeb50b6d44f04b6": {
      "model_module": "@jupyter-widgets/controls",
      "model_module_version": "1.5.0",
      "model_name": "SliderStyleModel",
      "state": {
       "description_width": ""
      }
     },
     "254baf7009f2496599ccbf9c2f4732d8": {
      "model_module": "@jupyter-widgets/base",
      "model_module_version": "1.2.0",
      "model_name": "LayoutModel",
      "state": {}
     },
     "25a8020d0eb148d3931934af51f25b44": {
      "model_module": "@jupyter-widgets/output",
      "model_module_version": "1.0.0",
      "model_name": "OutputModel",
      "state": {
       "layout": "IPY_MODEL_93d09b6a4c99443892acfc22d6f970f0"
      }
     },
     "25e0fccb482d4f7ca8a6b7b483f6a168": {
      "model_module": "@jupyter-widgets/base",
      "model_module_version": "1.2.0",
      "model_name": "LayoutModel",
      "state": {}
     },
     "25eaa2ca444648a7a3d26ae2b4af8586": {
      "model_module": "@jupyter-widgets/controls",
      "model_module_version": "1.5.0",
      "model_name": "VBoxModel",
      "state": {
       "children": [
        "IPY_MODEL_3cb3c38a0ab344a782b9788b7ce09795"
       ],
       "layout": "IPY_MODEL_6e9633914e6e4279a25bf9c02bb610a9"
      }
     },
     "263773dfd61b46e6829b577897f12bbb": {
      "model_module": "@jupyter-widgets/base",
      "model_module_version": "1.2.0",
      "model_name": "LayoutModel",
      "state": {}
     },
     "26488fc3288b41a59e7f1b5a793e293a": {
      "model_module": "@jupyter-widgets/base",
      "model_module_version": "1.2.0",
      "model_name": "LayoutModel",
      "state": {}
     },
     "267db485124441d182b2304db3ff0b0a": {
      "model_module": "@jupyter-widgets/output",
      "model_module_version": "1.0.0",
      "model_name": "OutputModel",
      "state": {
       "layout": "IPY_MODEL_5dcf038a5bad4373aba4054c59bd2634"
      }
     },
     "26a6d592b2ea48ca80fd68d6161ef9a7": {
      "model_module": "@jupyter-widgets/controls",
      "model_module_version": "1.5.0",
      "model_name": "FloatSliderModel",
      "state": {
       "description": "x",
       "layout": "IPY_MODEL_3f6e407b1e384232b05d9d2e649b4859",
       "max": 5,
       "min": -1,
       "step": 0.2,
       "style": "IPY_MODEL_332ea2942e2843deaf20d7e448c1c83f"
      }
     },
     "26b72712571d4ef9b7154ca954290dad": {
      "model_module": "@jupyter-widgets/controls",
      "model_module_version": "1.5.0",
      "model_name": "SliderStyleModel",
      "state": {
       "description_width": ""
      }
     },
     "26bc33bf95bb4f8886fd8aac073ec0be": {
      "model_module": "@jupyter-widgets/controls",
      "model_module_version": "1.5.0",
      "model_name": "ButtonModel",
      "state": {
       "description": "reset",
       "layout": "IPY_MODEL_b955b0e492a54e1eb5fc732376327218",
       "style": "IPY_MODEL_dde4ad298fd2417eb805d161843fce7b"
      }
     },
     "27110426c20a42a094e82c569a9a81cb": {
      "model_module": "@jupyter-widgets/controls",
      "model_module_version": "1.5.0",
      "model_name": "VBoxModel",
      "state": {
       "_dom_classes": [
        "widget-interact"
       ],
       "children": [
        "IPY_MODEL_194d85ad461343f3bd09355171cec578",
        "IPY_MODEL_63b6184b8f4d4517a0e0e951fcaa5e1a"
       ],
       "layout": "IPY_MODEL_724574d4a3fd4288ba1b0e7819431445"
      }
     },
     "27587c69bc1e4a55b8f4829840ca40fd": {
      "model_module": "@jupyter-widgets/base",
      "model_module_version": "1.2.0",
      "model_name": "LayoutModel",
      "state": {}
     },
     "277184cf7b5f4992acb3750cad7beda4": {
      "model_module": "@jupyter-widgets/base",
      "model_module_version": "1.2.0",
      "model_name": "LayoutModel",
      "state": {}
     },
     "27b566bdde67486dae0b678b83e34238": {
      "model_module": "@jupyter-widgets/controls",
      "model_module_version": "1.5.0",
      "model_name": "SliderStyleModel",
      "state": {
       "description_width": ""
      }
     },
     "27bbabd4e2fe4814b074a4df8f7c3212": {
      "model_module": "@jupyter-widgets/base",
      "model_module_version": "1.2.0",
      "model_name": "LayoutModel",
      "state": {}
     },
     "27c2123423c2427aa5c17a31da8b7e5d": {
      "model_module": "@jupyter-widgets/controls",
      "model_module_version": "1.5.0",
      "model_name": "SliderStyleModel",
      "state": {
       "description_width": ""
      }
     },
     "281b788f509e46efb8c1198b706435d6": {
      "model_module": "@jupyter-widgets/base",
      "model_module_version": "1.2.0",
      "model_name": "LayoutModel",
      "state": {}
     },
     "28a9dc738c2c4d9ea7f5f0e32c026606": {
      "model_module": "@jupyter-widgets/controls",
      "model_module_version": "1.5.0",
      "model_name": "SliderStyleModel",
      "state": {
       "description_width": ""
      }
     },
     "28c062b5df964755a0fa68826c8ea43d": {
      "model_module": "@jupyter-widgets/controls",
      "model_module_version": "1.5.0",
      "model_name": "FloatSliderModel",
      "state": {
       "description": "x",
       "layout": "IPY_MODEL_f2f7bb39c4c942b69aacb2315b137816",
       "max": 5.5,
       "min": -0.5,
       "step": 0.2,
       "style": "IPY_MODEL_733eadeab3b748dd80cd6326cdf0a3e6"
      }
     },
     "28df26fec1f046e097037f91b2acb0d9": {
      "model_module": "@jupyter-widgets/base",
      "model_module_version": "1.2.0",
      "model_name": "LayoutModel",
      "state": {}
     },
     "28ffbc0c04f04ff7a8829afc809291b4": {
      "model_module": "@jupyter-widgets/base",
      "model_module_version": "1.2.0",
      "model_name": "LayoutModel",
      "state": {}
     },
     "294670015bca44fa80644e4c8ffe75e2": {
      "model_module": "@jupyter-widgets/controls",
      "model_module_version": "1.5.0",
      "model_name": "SliderStyleModel",
      "state": {
       "description_width": ""
      }
     },
     "2a336f90a58f4851a68cbca200f55ecb": {
      "model_module": "@jupyter-widgets/base",
      "model_module_version": "1.2.0",
      "model_name": "LayoutModel",
      "state": {}
     },
     "2a35f8ada02a4c17918a6f4f2d525ade": {
      "model_module": "jupyter-matplotlib",
      "model_module_version": "^0.7.4",
      "model_name": "ToolbarModel",
      "state": {
       "layout": "IPY_MODEL_0716fa5293a246c4a7ee9ecfa76ea5f3",
       "toolitems": [
        [
         "Home",
         "Reset original view",
         "home",
         "home"
        ],
        [
         "Back",
         "Back to previous view",
         "arrow-left",
         "back"
        ],
        [
         "Forward",
         "Forward to next view",
         "arrow-right",
         "forward"
        ],
        [
         "Pan",
         "Left button pans, Right button zooms\nx/y fixes axis, CTRL fixes aspect",
         "arrows",
         "pan"
        ],
        [
         "Zoom",
         "Zoom to rectangle\nx/y fixes axis, CTRL fixes aspect",
         "square-o",
         "zoom"
        ],
        [
         "Download",
         "Download plot",
         "floppy-o",
         "save_figure"
        ]
       ]
      }
     },
     "2a372966399d44a480ee43bc4011f554": {
      "model_module": "@jupyter-widgets/output",
      "model_module_version": "1.0.0",
      "model_name": "OutputModel",
      "state": {
       "layout": "IPY_MODEL_3bea416c27fd4deaab0daff4dc49fc81",
       "outputs": [
        {
         "ename": "ValueError",
         "evalue": "\ny \\,\\text{[m]}\n    ^\nUnknown symbol: \\text, found '\\'  (at char 4), (line:1, col:5)",
         "output_type": "error",
         "traceback": [
          "\u001b[0;31m---------------------------------------------------------------------------\u001b[0m",
          "\u001b[0;31mParseFatalException\u001b[0m                       Traceback (most recent call last)",
          "\u001b[0;32m/usr/local/lib/python3.8/site-packages/matplotlib/mathtext.py\u001b[0m in \u001b[0;36mparse\u001b[0;34m(self, s, fonts_object, fontsize, dpi)\u001b[0m\n\u001b[1;32m   2616\u001b[0m         \u001b[0;32mtry\u001b[0m\u001b[0;34m:\u001b[0m\u001b[0;34m\u001b[0m\u001b[0;34m\u001b[0m\u001b[0m\n\u001b[0;32m-> 2617\u001b[0;31m             \u001b[0mresult\u001b[0m \u001b[0;34m=\u001b[0m \u001b[0mself\u001b[0m\u001b[0;34m.\u001b[0m\u001b[0m_expression\u001b[0m\u001b[0;34m.\u001b[0m\u001b[0mparseString\u001b[0m\u001b[0;34m(\u001b[0m\u001b[0ms\u001b[0m\u001b[0;34m)\u001b[0m\u001b[0;34m\u001b[0m\u001b[0;34m\u001b[0m\u001b[0m\n\u001b[0m\u001b[1;32m   2618\u001b[0m         \u001b[0;32mexcept\u001b[0m \u001b[0mParseBaseException\u001b[0m \u001b[0;32mas\u001b[0m \u001b[0merr\u001b[0m\u001b[0;34m:\u001b[0m\u001b[0;34m\u001b[0m\u001b[0;34m\u001b[0m\u001b[0m\n",
          "\u001b[0;32m/usr/local/lib/python3.8/site-packages/pyparsing.py\u001b[0m in \u001b[0;36mparseString\u001b[0;34m(self, instring, parseAll)\u001b[0m\n\u001b[1;32m   1954\u001b[0m                     \u001b[0mexc\u001b[0m\u001b[0;34m.\u001b[0m\u001b[0m__traceback__\u001b[0m \u001b[0;34m=\u001b[0m \u001b[0mself\u001b[0m\u001b[0;34m.\u001b[0m\u001b[0m_trim_traceback\u001b[0m\u001b[0;34m(\u001b[0m\u001b[0mexc\u001b[0m\u001b[0;34m.\u001b[0m\u001b[0m__traceback__\u001b[0m\u001b[0;34m)\u001b[0m\u001b[0;34m\u001b[0m\u001b[0;34m\u001b[0m\u001b[0m\n\u001b[0;32m-> 1955\u001b[0;31m                 \u001b[0;32mraise\u001b[0m \u001b[0mexc\u001b[0m\u001b[0;34m\u001b[0m\u001b[0;34m\u001b[0m\u001b[0m\n\u001b[0m\u001b[1;32m   1956\u001b[0m         \u001b[0;32melse\u001b[0m\u001b[0;34m:\u001b[0m\u001b[0;34m\u001b[0m\u001b[0;34m\u001b[0m\u001b[0m\n",
          "\u001b[0;32m/usr/local/lib/python3.8/site-packages/matplotlib/mathtext.py\u001b[0m in \u001b[0;36munknown_symbol\u001b[0;34m(self, s, loc, toks)\u001b[0m\n\u001b[1;32m   2774\u001b[0m         \u001b[0mc\u001b[0m \u001b[0;34m=\u001b[0m \u001b[0mtoks\u001b[0m\u001b[0;34m[\u001b[0m\u001b[0;36m0\u001b[0m\u001b[0;34m]\u001b[0m\u001b[0;34m\u001b[0m\u001b[0;34m\u001b[0m\u001b[0m\n\u001b[0;32m-> 2775\u001b[0;31m         \u001b[0;32mraise\u001b[0m \u001b[0mParseFatalException\u001b[0m\u001b[0;34m(\u001b[0m\u001b[0ms\u001b[0m\u001b[0;34m,\u001b[0m \u001b[0mloc\u001b[0m\u001b[0;34m,\u001b[0m \u001b[0;34m\"Unknown symbol: %s\"\u001b[0m \u001b[0;34m%\u001b[0m \u001b[0mc\u001b[0m\u001b[0;34m)\u001b[0m\u001b[0;34m\u001b[0m\u001b[0;34m\u001b[0m\u001b[0m\n\u001b[0m\u001b[1;32m   2776\u001b[0m \u001b[0;34m\u001b[0m\u001b[0m\n",
          "\u001b[0;31mParseFatalException\u001b[0m: Unknown symbol: \\text, found '\\'  (at char 4), (line:1, col:5)",
          "\nThe above exception was the direct cause of the following exception:\n",
          "\u001b[0;31mValueError\u001b[0m                                Traceback (most recent call last)",
          "\u001b[0;32m/usr/local/lib/python3.8/site-packages/ipywidgets/widgets/interaction.py\u001b[0m in \u001b[0;36mupdate\u001b[0;34m(self, *args)\u001b[0m\n\u001b[1;32m    254\u001b[0m                     \u001b[0mvalue\u001b[0m \u001b[0;34m=\u001b[0m \u001b[0mwidget\u001b[0m\u001b[0;34m.\u001b[0m\u001b[0mget_interact_value\u001b[0m\u001b[0;34m(\u001b[0m\u001b[0;34m)\u001b[0m\u001b[0;34m\u001b[0m\u001b[0;34m\u001b[0m\u001b[0m\n\u001b[1;32m    255\u001b[0m                     \u001b[0mself\u001b[0m\u001b[0;34m.\u001b[0m\u001b[0mkwargs\u001b[0m\u001b[0;34m[\u001b[0m\u001b[0mwidget\u001b[0m\u001b[0;34m.\u001b[0m\u001b[0m_kwarg\u001b[0m\u001b[0;34m]\u001b[0m \u001b[0;34m=\u001b[0m \u001b[0mvalue\u001b[0m\u001b[0;34m\u001b[0m\u001b[0;34m\u001b[0m\u001b[0m\n\u001b[0;32m--> 256\u001b[0;31m                 \u001b[0mself\u001b[0m\u001b[0;34m.\u001b[0m\u001b[0mresult\u001b[0m \u001b[0;34m=\u001b[0m \u001b[0mself\u001b[0m\u001b[0;34m.\u001b[0m\u001b[0mf\u001b[0m\u001b[0;34m(\u001b[0m\u001b[0;34m**\u001b[0m\u001b[0mself\u001b[0m\u001b[0;34m.\u001b[0m\u001b[0mkwargs\u001b[0m\u001b[0;34m)\u001b[0m\u001b[0;34m\u001b[0m\u001b[0;34m\u001b[0m\u001b[0m\n\u001b[0m\u001b[1;32m    257\u001b[0m                 \u001b[0mshow_inline_matplotlib_plots\u001b[0m\u001b[0;34m(\u001b[0m\u001b[0;34m)\u001b[0m\u001b[0;34m\u001b[0m\u001b[0;34m\u001b[0m\u001b[0m\n\u001b[1;32m    258\u001b[0m                 \u001b[0;32mif\u001b[0m \u001b[0mself\u001b[0m\u001b[0;34m.\u001b[0m\u001b[0mauto_display\u001b[0m \u001b[0;32mand\u001b[0m \u001b[0mself\u001b[0m\u001b[0;34m.\u001b[0m\u001b[0mresult\u001b[0m \u001b[0;32mis\u001b[0m \u001b[0;32mnot\u001b[0m \u001b[0;32mNone\u001b[0m\u001b[0;34m:\u001b[0m\u001b[0;34m\u001b[0m\u001b[0;34m\u001b[0m\u001b[0m\n",
          "\u001b[0;32m<ipython-input-38-06a3c9790bea>\u001b[0m in \u001b[0;36mupdate\u001b[0;34m(x)\u001b[0m\n\u001b[1;32m     50\u001b[0m     \u001b[0mt2\u001b[0m\u001b[0;34m.\u001b[0m\u001b[0mset_text\u001b[0m\u001b[0;34m(\u001b[0m\u001b[0;34mr\"$d_s=%.1f$ m\"\u001b[0m \u001b[0;34m%\u001b[0m\u001b[0md2\u001b[0m\u001b[0;34m)\u001b[0m\u001b[0;34m\u001b[0m\u001b[0;34m\u001b[0m\u001b[0m\n\u001b[1;32m     51\u001b[0m     \u001b[0max\u001b[0m\u001b[0;34m[\u001b[0m\u001b[0;36m1\u001b[0m\u001b[0;34m]\u001b[0m\u001b[0;34m.\u001b[0m\u001b[0mplot\u001b[0m\u001b[0;34m(\u001b[0m\u001b[0mx\u001b[0m\u001b[0;34m,\u001b[0m \u001b[0md1\u001b[0m\u001b[0;34m/\u001b[0m\u001b[0mv1\u001b[0m \u001b[0;34m+\u001b[0m \u001b[0md2\u001b[0m\u001b[0;34m/\u001b[0m\u001b[0mv2\u001b[0m\u001b[0;34m,\u001b[0m \u001b[0;34m\".\"\u001b[0m\u001b[0;34m,\u001b[0m \u001b[0mcolor\u001b[0m\u001b[0;34m=\u001b[0m\u001b[0;34m\"C1\"\u001b[0m\u001b[0;34m)\u001b[0m\u001b[0;34m\u001b[0m\u001b[0;34m\u001b[0m\u001b[0m\n\u001b[0;32m---> 52\u001b[0;31m     \u001b[0max\u001b[0m\u001b[0;34m[\u001b[0m\u001b[0;36m0\u001b[0m\u001b[0;34m]\u001b[0m\u001b[0;34m.\u001b[0m\u001b[0mfigure\u001b[0m\u001b[0;34m.\u001b[0m\u001b[0mcanvas\u001b[0m\u001b[0;34m.\u001b[0m\u001b[0mdraw\u001b[0m\u001b[0;34m(\u001b[0m\u001b[0;34m)\u001b[0m\u001b[0;34m\u001b[0m\u001b[0;34m\u001b[0m\u001b[0m\n\u001b[0m\u001b[1;32m     53\u001b[0m     \u001b[0max\u001b[0m\u001b[0;34m[\u001b[0m\u001b[0;36m1\u001b[0m\u001b[0;34m]\u001b[0m\u001b[0;34m.\u001b[0m\u001b[0mfigure\u001b[0m\u001b[0;34m.\u001b[0m\u001b[0mcanvas\u001b[0m\u001b[0;34m.\u001b[0m\u001b[0mdraw\u001b[0m\u001b[0;34m(\u001b[0m\u001b[0;34m)\u001b[0m\u001b[0;34m\u001b[0m\u001b[0;34m\u001b[0m\u001b[0m\n\u001b[1;32m     54\u001b[0m     \u001b[0;31m# fig.canvas.draw_idle()\u001b[0m\u001b[0;34m\u001b[0m\u001b[0;34m\u001b[0m\u001b[0;34m\u001b[0m\u001b[0m\n",
          "\u001b[0;32m/usr/local/lib/python3.8/site-packages/matplotlib/backends/backend_webagg_core.py\u001b[0m in \u001b[0;36mdraw\u001b[0;34m(self)\u001b[0m\n\u001b[1;32m    150\u001b[0m         \u001b[0mself\u001b[0m\u001b[0;34m.\u001b[0m\u001b[0m_png_is_old\u001b[0m \u001b[0;34m=\u001b[0m \u001b[0;32mTrue\u001b[0m\u001b[0;34m\u001b[0m\u001b[0;34m\u001b[0m\u001b[0m\n\u001b[1;32m    151\u001b[0m         \u001b[0;32mtry\u001b[0m\u001b[0;34m:\u001b[0m\u001b[0;34m\u001b[0m\u001b[0;34m\u001b[0m\u001b[0m\n\u001b[0;32m--> 152\u001b[0;31m             \u001b[0msuper\u001b[0m\u001b[0;34m(\u001b[0m\u001b[0;34m)\u001b[0m\u001b[0;34m.\u001b[0m\u001b[0mdraw\u001b[0m\u001b[0;34m(\u001b[0m\u001b[0;34m)\u001b[0m\u001b[0;34m\u001b[0m\u001b[0;34m\u001b[0m\u001b[0m\n\u001b[0m\u001b[1;32m    153\u001b[0m         \u001b[0;32mfinally\u001b[0m\u001b[0;34m:\u001b[0m\u001b[0;34m\u001b[0m\u001b[0;34m\u001b[0m\u001b[0m\n\u001b[1;32m    154\u001b[0m             \u001b[0mself\u001b[0m\u001b[0;34m.\u001b[0m\u001b[0mmanager\u001b[0m\u001b[0;34m.\u001b[0m\u001b[0mrefresh_all\u001b[0m\u001b[0;34m(\u001b[0m\u001b[0;34m)\u001b[0m  \u001b[0;31m# Swap the frames.\u001b[0m\u001b[0;34m\u001b[0m\u001b[0;34m\u001b[0m\u001b[0m\n",
          "\u001b[0;32m/usr/local/lib/python3.8/site-packages/matplotlib/backends/backend_agg.py\u001b[0m in \u001b[0;36mdraw\u001b[0;34m(self)\u001b[0m\n\u001b[1;32m    405\u001b[0m              (self.toolbar._wait_cursor_for_draw_cm() if self.toolbar\n\u001b[1;32m    406\u001b[0m               else nullcontext()):\n\u001b[0;32m--> 407\u001b[0;31m             \u001b[0mself\u001b[0m\u001b[0;34m.\u001b[0m\u001b[0mfigure\u001b[0m\u001b[0;34m.\u001b[0m\u001b[0mdraw\u001b[0m\u001b[0;34m(\u001b[0m\u001b[0mself\u001b[0m\u001b[0;34m.\u001b[0m\u001b[0mrenderer\u001b[0m\u001b[0;34m)\u001b[0m\u001b[0;34m\u001b[0m\u001b[0;34m\u001b[0m\u001b[0m\n\u001b[0m\u001b[1;32m    408\u001b[0m             \u001b[0;31m# A GUI class may be need to update a window using this draw, so\u001b[0m\u001b[0;34m\u001b[0m\u001b[0;34m\u001b[0m\u001b[0;34m\u001b[0m\u001b[0m\n\u001b[1;32m    409\u001b[0m             \u001b[0;31m# don't forget to call the superclass.\u001b[0m\u001b[0;34m\u001b[0m\u001b[0;34m\u001b[0m\u001b[0;34m\u001b[0m\u001b[0m\n",
          "\u001b[0;32m/usr/local/lib/python3.8/site-packages/matplotlib/artist.py\u001b[0m in \u001b[0;36mdraw_wrapper\u001b[0;34m(artist, renderer, *args, **kwargs)\u001b[0m\n\u001b[1;32m     39\u001b[0m                 \u001b[0mrenderer\u001b[0m\u001b[0;34m.\u001b[0m\u001b[0mstart_filter\u001b[0m\u001b[0;34m(\u001b[0m\u001b[0;34m)\u001b[0m\u001b[0;34m\u001b[0m\u001b[0;34m\u001b[0m\u001b[0m\n\u001b[1;32m     40\u001b[0m \u001b[0;34m\u001b[0m\u001b[0m\n\u001b[0;32m---> 41\u001b[0;31m             \u001b[0;32mreturn\u001b[0m \u001b[0mdraw\u001b[0m\u001b[0;34m(\u001b[0m\u001b[0martist\u001b[0m\u001b[0;34m,\u001b[0m \u001b[0mrenderer\u001b[0m\u001b[0;34m,\u001b[0m \u001b[0;34m*\u001b[0m\u001b[0margs\u001b[0m\u001b[0;34m,\u001b[0m \u001b[0;34m**\u001b[0m\u001b[0mkwargs\u001b[0m\u001b[0;34m)\u001b[0m\u001b[0;34m\u001b[0m\u001b[0;34m\u001b[0m\u001b[0m\n\u001b[0m\u001b[1;32m     42\u001b[0m         \u001b[0;32mfinally\u001b[0m\u001b[0;34m:\u001b[0m\u001b[0;34m\u001b[0m\u001b[0;34m\u001b[0m\u001b[0m\n\u001b[1;32m     43\u001b[0m             \u001b[0;32mif\u001b[0m \u001b[0martist\u001b[0m\u001b[0;34m.\u001b[0m\u001b[0mget_agg_filter\u001b[0m\u001b[0;34m(\u001b[0m\u001b[0;34m)\u001b[0m \u001b[0;32mis\u001b[0m \u001b[0;32mnot\u001b[0m \u001b[0;32mNone\u001b[0m\u001b[0;34m:\u001b[0m\u001b[0;34m\u001b[0m\u001b[0;34m\u001b[0m\u001b[0m\n",
          "\u001b[0;32m/usr/local/lib/python3.8/site-packages/matplotlib/figure.py\u001b[0m in \u001b[0;36mdraw\u001b[0;34m(self, renderer)\u001b[0m\n\u001b[1;32m   1861\u001b[0m \u001b[0;34m\u001b[0m\u001b[0m\n\u001b[1;32m   1862\u001b[0m             \u001b[0mself\u001b[0m\u001b[0;34m.\u001b[0m\u001b[0mpatch\u001b[0m\u001b[0;34m.\u001b[0m\u001b[0mdraw\u001b[0m\u001b[0;34m(\u001b[0m\u001b[0mrenderer\u001b[0m\u001b[0;34m)\u001b[0m\u001b[0;34m\u001b[0m\u001b[0;34m\u001b[0m\u001b[0m\n\u001b[0;32m-> 1863\u001b[0;31m             mimage._draw_list_compositing_images(\n\u001b[0m\u001b[1;32m   1864\u001b[0m                 renderer, self, artists, self.suppressComposite)\n\u001b[1;32m   1865\u001b[0m \u001b[0;34m\u001b[0m\u001b[0m\n",
          "\u001b[0;32m/usr/local/lib/python3.8/site-packages/matplotlib/image.py\u001b[0m in \u001b[0;36m_draw_list_compositing_images\u001b[0;34m(renderer, parent, artists, suppress_composite)\u001b[0m\n\u001b[1;32m    129\u001b[0m     \u001b[0;32mif\u001b[0m \u001b[0mnot_composite\u001b[0m \u001b[0;32mor\u001b[0m \u001b[0;32mnot\u001b[0m \u001b[0mhas_images\u001b[0m\u001b[0;34m:\u001b[0m\u001b[0;34m\u001b[0m\u001b[0;34m\u001b[0m\u001b[0m\n\u001b[1;32m    130\u001b[0m         \u001b[0;32mfor\u001b[0m \u001b[0ma\u001b[0m \u001b[0;32min\u001b[0m \u001b[0martists\u001b[0m\u001b[0;34m:\u001b[0m\u001b[0;34m\u001b[0m\u001b[0;34m\u001b[0m\u001b[0m\n\u001b[0;32m--> 131\u001b[0;31m             \u001b[0ma\u001b[0m\u001b[0;34m.\u001b[0m\u001b[0mdraw\u001b[0m\u001b[0;34m(\u001b[0m\u001b[0mrenderer\u001b[0m\u001b[0;34m)\u001b[0m\u001b[0;34m\u001b[0m\u001b[0;34m\u001b[0m\u001b[0m\n\u001b[0m\u001b[1;32m    132\u001b[0m     \u001b[0;32melse\u001b[0m\u001b[0;34m:\u001b[0m\u001b[0;34m\u001b[0m\u001b[0;34m\u001b[0m\u001b[0m\n\u001b[1;32m    133\u001b[0m         \u001b[0;31m# Composite any adjacent images together\u001b[0m\u001b[0;34m\u001b[0m\u001b[0;34m\u001b[0m\u001b[0;34m\u001b[0m\u001b[0m\n",
          "\u001b[0;32m/usr/local/lib/python3.8/site-packages/matplotlib/artist.py\u001b[0m in \u001b[0;36mdraw_wrapper\u001b[0;34m(artist, renderer, *args, **kwargs)\u001b[0m\n\u001b[1;32m     39\u001b[0m                 \u001b[0mrenderer\u001b[0m\u001b[0;34m.\u001b[0m\u001b[0mstart_filter\u001b[0m\u001b[0;34m(\u001b[0m\u001b[0;34m)\u001b[0m\u001b[0;34m\u001b[0m\u001b[0;34m\u001b[0m\u001b[0m\n\u001b[1;32m     40\u001b[0m \u001b[0;34m\u001b[0m\u001b[0m\n\u001b[0;32m---> 41\u001b[0;31m             \u001b[0;32mreturn\u001b[0m \u001b[0mdraw\u001b[0m\u001b[0;34m(\u001b[0m\u001b[0martist\u001b[0m\u001b[0;34m,\u001b[0m \u001b[0mrenderer\u001b[0m\u001b[0;34m,\u001b[0m \u001b[0;34m*\u001b[0m\u001b[0margs\u001b[0m\u001b[0;34m,\u001b[0m \u001b[0;34m**\u001b[0m\u001b[0mkwargs\u001b[0m\u001b[0;34m)\u001b[0m\u001b[0;34m\u001b[0m\u001b[0;34m\u001b[0m\u001b[0m\n\u001b[0m\u001b[1;32m     42\u001b[0m         \u001b[0;32mfinally\u001b[0m\u001b[0;34m:\u001b[0m\u001b[0;34m\u001b[0m\u001b[0;34m\u001b[0m\u001b[0m\n\u001b[1;32m     43\u001b[0m             \u001b[0;32mif\u001b[0m \u001b[0martist\u001b[0m\u001b[0;34m.\u001b[0m\u001b[0mget_agg_filter\u001b[0m\u001b[0;34m(\u001b[0m\u001b[0;34m)\u001b[0m \u001b[0;32mis\u001b[0m \u001b[0;32mnot\u001b[0m \u001b[0;32mNone\u001b[0m\u001b[0;34m:\u001b[0m\u001b[0;34m\u001b[0m\u001b[0;34m\u001b[0m\u001b[0m\n",
          "\u001b[0;32m/usr/local/lib/python3.8/site-packages/matplotlib/cbook/deprecation.py\u001b[0m in \u001b[0;36mwrapper\u001b[0;34m(*inner_args, **inner_kwargs)\u001b[0m\n\u001b[1;32m    409\u001b[0m                          \u001b[0;32melse\u001b[0m \u001b[0mdeprecation_addendum\u001b[0m\u001b[0;34m,\u001b[0m\u001b[0;34m\u001b[0m\u001b[0;34m\u001b[0m\u001b[0m\n\u001b[1;32m    410\u001b[0m                 **kwargs)\n\u001b[0;32m--> 411\u001b[0;31m         \u001b[0;32mreturn\u001b[0m \u001b[0mfunc\u001b[0m\u001b[0;34m(\u001b[0m\u001b[0;34m*\u001b[0m\u001b[0minner_args\u001b[0m\u001b[0;34m,\u001b[0m \u001b[0;34m**\u001b[0m\u001b[0minner_kwargs\u001b[0m\u001b[0;34m)\u001b[0m\u001b[0;34m\u001b[0m\u001b[0;34m\u001b[0m\u001b[0m\n\u001b[0m\u001b[1;32m    412\u001b[0m \u001b[0;34m\u001b[0m\u001b[0m\n\u001b[1;32m    413\u001b[0m     \u001b[0;32mreturn\u001b[0m \u001b[0mwrapper\u001b[0m\u001b[0;34m\u001b[0m\u001b[0;34m\u001b[0m\u001b[0m\n",
          "\u001b[0;32m/usr/local/lib/python3.8/site-packages/matplotlib/axes/_base.py\u001b[0m in \u001b[0;36mdraw\u001b[0;34m(self, renderer, inframe)\u001b[0m\n\u001b[1;32m   2745\u001b[0m             \u001b[0mrenderer\u001b[0m\u001b[0;34m.\u001b[0m\u001b[0mstop_rasterizing\u001b[0m\u001b[0;34m(\u001b[0m\u001b[0;34m)\u001b[0m\u001b[0;34m\u001b[0m\u001b[0;34m\u001b[0m\u001b[0m\n\u001b[1;32m   2746\u001b[0m \u001b[0;34m\u001b[0m\u001b[0m\n\u001b[0;32m-> 2747\u001b[0;31m         \u001b[0mmimage\u001b[0m\u001b[0;34m.\u001b[0m\u001b[0m_draw_list_compositing_images\u001b[0m\u001b[0;34m(\u001b[0m\u001b[0mrenderer\u001b[0m\u001b[0;34m,\u001b[0m \u001b[0mself\u001b[0m\u001b[0;34m,\u001b[0m \u001b[0martists\u001b[0m\u001b[0;34m)\u001b[0m\u001b[0;34m\u001b[0m\u001b[0;34m\u001b[0m\u001b[0m\n\u001b[0m\u001b[1;32m   2748\u001b[0m \u001b[0;34m\u001b[0m\u001b[0m\n\u001b[1;32m   2749\u001b[0m         \u001b[0mrenderer\u001b[0m\u001b[0;34m.\u001b[0m\u001b[0mclose_group\u001b[0m\u001b[0;34m(\u001b[0m\u001b[0;34m'axes'\u001b[0m\u001b[0;34m)\u001b[0m\u001b[0;34m\u001b[0m\u001b[0;34m\u001b[0m\u001b[0m\n",
          "\u001b[0;32m/usr/local/lib/python3.8/site-packages/matplotlib/image.py\u001b[0m in \u001b[0;36m_draw_list_compositing_images\u001b[0;34m(renderer, parent, artists, suppress_composite)\u001b[0m\n\u001b[1;32m    129\u001b[0m     \u001b[0;32mif\u001b[0m \u001b[0mnot_composite\u001b[0m \u001b[0;32mor\u001b[0m \u001b[0;32mnot\u001b[0m \u001b[0mhas_images\u001b[0m\u001b[0;34m:\u001b[0m\u001b[0;34m\u001b[0m\u001b[0;34m\u001b[0m\u001b[0m\n\u001b[1;32m    130\u001b[0m         \u001b[0;32mfor\u001b[0m \u001b[0ma\u001b[0m \u001b[0;32min\u001b[0m \u001b[0martists\u001b[0m\u001b[0;34m:\u001b[0m\u001b[0;34m\u001b[0m\u001b[0;34m\u001b[0m\u001b[0m\n\u001b[0;32m--> 131\u001b[0;31m             \u001b[0ma\u001b[0m\u001b[0;34m.\u001b[0m\u001b[0mdraw\u001b[0m\u001b[0;34m(\u001b[0m\u001b[0mrenderer\u001b[0m\u001b[0;34m)\u001b[0m\u001b[0;34m\u001b[0m\u001b[0;34m\u001b[0m\u001b[0m\n\u001b[0m\u001b[1;32m    132\u001b[0m     \u001b[0;32melse\u001b[0m\u001b[0;34m:\u001b[0m\u001b[0;34m\u001b[0m\u001b[0;34m\u001b[0m\u001b[0m\n\u001b[1;32m    133\u001b[0m         \u001b[0;31m# Composite any adjacent images together\u001b[0m\u001b[0;34m\u001b[0m\u001b[0;34m\u001b[0m\u001b[0;34m\u001b[0m\u001b[0m\n",
          "\u001b[0;32m/usr/local/lib/python3.8/site-packages/matplotlib/artist.py\u001b[0m in \u001b[0;36mdraw_wrapper\u001b[0;34m(artist, renderer, *args, **kwargs)\u001b[0m\n\u001b[1;32m     39\u001b[0m                 \u001b[0mrenderer\u001b[0m\u001b[0;34m.\u001b[0m\u001b[0mstart_filter\u001b[0m\u001b[0;34m(\u001b[0m\u001b[0;34m)\u001b[0m\u001b[0;34m\u001b[0m\u001b[0;34m\u001b[0m\u001b[0m\n\u001b[1;32m     40\u001b[0m \u001b[0;34m\u001b[0m\u001b[0m\n\u001b[0;32m---> 41\u001b[0;31m             \u001b[0;32mreturn\u001b[0m \u001b[0mdraw\u001b[0m\u001b[0;34m(\u001b[0m\u001b[0martist\u001b[0m\u001b[0;34m,\u001b[0m \u001b[0mrenderer\u001b[0m\u001b[0;34m,\u001b[0m \u001b[0;34m*\u001b[0m\u001b[0margs\u001b[0m\u001b[0;34m,\u001b[0m \u001b[0;34m**\u001b[0m\u001b[0mkwargs\u001b[0m\u001b[0;34m)\u001b[0m\u001b[0;34m\u001b[0m\u001b[0;34m\u001b[0m\u001b[0m\n\u001b[0m\u001b[1;32m     42\u001b[0m         \u001b[0;32mfinally\u001b[0m\u001b[0;34m:\u001b[0m\u001b[0;34m\u001b[0m\u001b[0;34m\u001b[0m\u001b[0m\n\u001b[1;32m     43\u001b[0m             \u001b[0;32mif\u001b[0m \u001b[0martist\u001b[0m\u001b[0;34m.\u001b[0m\u001b[0mget_agg_filter\u001b[0m\u001b[0;34m(\u001b[0m\u001b[0;34m)\u001b[0m \u001b[0;32mis\u001b[0m \u001b[0;32mnot\u001b[0m \u001b[0;32mNone\u001b[0m\u001b[0;34m:\u001b[0m\u001b[0;34m\u001b[0m\u001b[0;34m\u001b[0m\u001b[0m\n",
          "\u001b[0;32m/usr/local/lib/python3.8/site-packages/matplotlib/axis.py\u001b[0m in \u001b[0;36mdraw\u001b[0;34m(self, renderer, *args, **kwargs)\u001b[0m\n\u001b[1;32m   1176\u001b[0m         \u001b[0mself\u001b[0m\u001b[0;34m.\u001b[0m\u001b[0m_update_label_position\u001b[0m\u001b[0;34m(\u001b[0m\u001b[0mrenderer\u001b[0m\u001b[0;34m)\u001b[0m\u001b[0;34m\u001b[0m\u001b[0;34m\u001b[0m\u001b[0m\n\u001b[1;32m   1177\u001b[0m \u001b[0;34m\u001b[0m\u001b[0m\n\u001b[0;32m-> 1178\u001b[0;31m         \u001b[0mself\u001b[0m\u001b[0;34m.\u001b[0m\u001b[0mlabel\u001b[0m\u001b[0;34m.\u001b[0m\u001b[0mdraw\u001b[0m\u001b[0;34m(\u001b[0m\u001b[0mrenderer\u001b[0m\u001b[0;34m)\u001b[0m\u001b[0;34m\u001b[0m\u001b[0;34m\u001b[0m\u001b[0m\n\u001b[0m\u001b[1;32m   1179\u001b[0m \u001b[0;34m\u001b[0m\u001b[0m\n\u001b[1;32m   1180\u001b[0m         \u001b[0mself\u001b[0m\u001b[0;34m.\u001b[0m\u001b[0m_update_offset_text_position\u001b[0m\u001b[0;34m(\u001b[0m\u001b[0mticklabelBoxes\u001b[0m\u001b[0;34m,\u001b[0m \u001b[0mticklabelBoxes2\u001b[0m\u001b[0;34m)\u001b[0m\u001b[0;34m\u001b[0m\u001b[0;34m\u001b[0m\u001b[0m\n",
          "\u001b[0;32m/usr/local/lib/python3.8/site-packages/matplotlib/artist.py\u001b[0m in \u001b[0;36mdraw_wrapper\u001b[0;34m(artist, renderer, *args, **kwargs)\u001b[0m\n\u001b[1;32m     39\u001b[0m                 \u001b[0mrenderer\u001b[0m\u001b[0;34m.\u001b[0m\u001b[0mstart_filter\u001b[0m\u001b[0;34m(\u001b[0m\u001b[0;34m)\u001b[0m\u001b[0;34m\u001b[0m\u001b[0;34m\u001b[0m\u001b[0m\n\u001b[1;32m     40\u001b[0m \u001b[0;34m\u001b[0m\u001b[0m\n\u001b[0;32m---> 41\u001b[0;31m             \u001b[0;32mreturn\u001b[0m \u001b[0mdraw\u001b[0m\u001b[0;34m(\u001b[0m\u001b[0martist\u001b[0m\u001b[0;34m,\u001b[0m \u001b[0mrenderer\u001b[0m\u001b[0;34m,\u001b[0m \u001b[0;34m*\u001b[0m\u001b[0margs\u001b[0m\u001b[0;34m,\u001b[0m \u001b[0;34m**\u001b[0m\u001b[0mkwargs\u001b[0m\u001b[0;34m)\u001b[0m\u001b[0;34m\u001b[0m\u001b[0;34m\u001b[0m\u001b[0m\n\u001b[0m\u001b[1;32m     42\u001b[0m         \u001b[0;32mfinally\u001b[0m\u001b[0;34m:\u001b[0m\u001b[0;34m\u001b[0m\u001b[0;34m\u001b[0m\u001b[0m\n\u001b[1;32m     43\u001b[0m             \u001b[0;32mif\u001b[0m \u001b[0martist\u001b[0m\u001b[0;34m.\u001b[0m\u001b[0mget_agg_filter\u001b[0m\u001b[0;34m(\u001b[0m\u001b[0;34m)\u001b[0m \u001b[0;32mis\u001b[0m \u001b[0;32mnot\u001b[0m \u001b[0;32mNone\u001b[0m\u001b[0;34m:\u001b[0m\u001b[0;34m\u001b[0m\u001b[0;34m\u001b[0m\u001b[0m\n",
          "\u001b[0;32m/usr/local/lib/python3.8/site-packages/matplotlib/text.py\u001b[0m in \u001b[0;36mdraw\u001b[0;34m(self, renderer)\u001b[0m\n\u001b[1;32m    677\u001b[0m \u001b[0;34m\u001b[0m\u001b[0m\n\u001b[1;32m    678\u001b[0m         \u001b[0;32mwith\u001b[0m \u001b[0m_wrap_text\u001b[0m\u001b[0;34m(\u001b[0m\u001b[0mself\u001b[0m\u001b[0;34m)\u001b[0m \u001b[0;32mas\u001b[0m \u001b[0mtextobj\u001b[0m\u001b[0;34m:\u001b[0m\u001b[0;34m\u001b[0m\u001b[0;34m\u001b[0m\u001b[0m\n\u001b[0;32m--> 679\u001b[0;31m             \u001b[0mbbox\u001b[0m\u001b[0;34m,\u001b[0m \u001b[0minfo\u001b[0m\u001b[0;34m,\u001b[0m \u001b[0mdescent\u001b[0m \u001b[0;34m=\u001b[0m \u001b[0mtextobj\u001b[0m\u001b[0;34m.\u001b[0m\u001b[0m_get_layout\u001b[0m\u001b[0;34m(\u001b[0m\u001b[0mrenderer\u001b[0m\u001b[0;34m)\u001b[0m\u001b[0;34m\u001b[0m\u001b[0;34m\u001b[0m\u001b[0m\n\u001b[0m\u001b[1;32m    680\u001b[0m             \u001b[0mtrans\u001b[0m \u001b[0;34m=\u001b[0m \u001b[0mtextobj\u001b[0m\u001b[0;34m.\u001b[0m\u001b[0mget_transform\u001b[0m\u001b[0;34m(\u001b[0m\u001b[0;34m)\u001b[0m\u001b[0;34m\u001b[0m\u001b[0;34m\u001b[0m\u001b[0m\n\u001b[1;32m    681\u001b[0m \u001b[0;34m\u001b[0m\u001b[0m\n",
          "\u001b[0;32m/usr/local/lib/python3.8/site-packages/matplotlib/text.py\u001b[0m in \u001b[0;36m_get_layout\u001b[0;34m(self, renderer)\u001b[0m\n\u001b[1;32m    291\u001b[0m             \u001b[0mclean_line\u001b[0m\u001b[0;34m,\u001b[0m \u001b[0mismath\u001b[0m \u001b[0;34m=\u001b[0m \u001b[0mself\u001b[0m\u001b[0;34m.\u001b[0m\u001b[0m_preprocess_math\u001b[0m\u001b[0;34m(\u001b[0m\u001b[0mline\u001b[0m\u001b[0;34m)\u001b[0m\u001b[0;34m\u001b[0m\u001b[0;34m\u001b[0m\u001b[0m\n\u001b[1;32m    292\u001b[0m             \u001b[0;32mif\u001b[0m \u001b[0mclean_line\u001b[0m\u001b[0;34m:\u001b[0m\u001b[0;34m\u001b[0m\u001b[0;34m\u001b[0m\u001b[0m\n\u001b[0;32m--> 293\u001b[0;31m                 w, h, d = renderer.get_text_width_height_descent(\n\u001b[0m\u001b[1;32m    294\u001b[0m                     clean_line, self._fontproperties, ismath=ismath)\n\u001b[1;32m    295\u001b[0m             \u001b[0;32melse\u001b[0m\u001b[0;34m:\u001b[0m\u001b[0;34m\u001b[0m\u001b[0;34m\u001b[0m\u001b[0m\n",
          "\u001b[0;32m/usr/local/lib/python3.8/site-packages/matplotlib/backends/backend_agg.py\u001b[0m in \u001b[0;36mget_text_width_height_descent\u001b[0;34m(self, s, prop, ismath)\u001b[0m\n\u001b[1;32m    231\u001b[0m         \u001b[0;32mif\u001b[0m \u001b[0mismath\u001b[0m\u001b[0;34m:\u001b[0m\u001b[0;34m\u001b[0m\u001b[0;34m\u001b[0m\u001b[0m\n\u001b[1;32m    232\u001b[0m             \u001b[0mox\u001b[0m\u001b[0;34m,\u001b[0m \u001b[0moy\u001b[0m\u001b[0;34m,\u001b[0m \u001b[0mwidth\u001b[0m\u001b[0;34m,\u001b[0m \u001b[0mheight\u001b[0m\u001b[0;34m,\u001b[0m \u001b[0mdescent\u001b[0m\u001b[0;34m,\u001b[0m \u001b[0mfonts\u001b[0m\u001b[0;34m,\u001b[0m \u001b[0mused_characters\u001b[0m \u001b[0;34m=\u001b[0m\u001b[0;31m \u001b[0m\u001b[0;31m\\\u001b[0m\u001b[0;34m\u001b[0m\u001b[0;34m\u001b[0m\u001b[0m\n\u001b[0;32m--> 233\u001b[0;31m                 \u001b[0mself\u001b[0m\u001b[0;34m.\u001b[0m\u001b[0mmathtext_parser\u001b[0m\u001b[0;34m.\u001b[0m\u001b[0mparse\u001b[0m\u001b[0;34m(\u001b[0m\u001b[0ms\u001b[0m\u001b[0;34m,\u001b[0m \u001b[0mself\u001b[0m\u001b[0;34m.\u001b[0m\u001b[0mdpi\u001b[0m\u001b[0;34m,\u001b[0m \u001b[0mprop\u001b[0m\u001b[0;34m)\u001b[0m\u001b[0;34m\u001b[0m\u001b[0;34m\u001b[0m\u001b[0m\n\u001b[0m\u001b[1;32m    234\u001b[0m             \u001b[0;32mreturn\u001b[0m \u001b[0mwidth\u001b[0m\u001b[0;34m,\u001b[0m \u001b[0mheight\u001b[0m\u001b[0;34m,\u001b[0m \u001b[0mdescent\u001b[0m\u001b[0;34m\u001b[0m\u001b[0;34m\u001b[0m\u001b[0m\n\u001b[1;32m    235\u001b[0m \u001b[0;34m\u001b[0m\u001b[0m\n",
          "\u001b[0;32m/usr/local/lib/python3.8/site-packages/matplotlib/mathtext.py\u001b[0m in \u001b[0;36mparse\u001b[0;34m(self, s, dpi, prop)\u001b[0m\n\u001b[1;32m   3338\u001b[0m         \u001b[0;31m# mathtext.fontset rcParams also affect the parse (e.g. by affecting\u001b[0m\u001b[0;34m\u001b[0m\u001b[0;34m\u001b[0m\u001b[0;34m\u001b[0m\u001b[0m\n\u001b[1;32m   3339\u001b[0m         \u001b[0;31m# the glyph metrics).\u001b[0m\u001b[0;34m\u001b[0m\u001b[0;34m\u001b[0m\u001b[0;34m\u001b[0m\u001b[0m\n\u001b[0;32m-> 3340\u001b[0;31m         return self._parse_cached(\n\u001b[0m\u001b[1;32m   3341\u001b[0m             s, dpi, prop, rcParams['ps.useafm'], rcParams['mathtext.fontset'])\n\u001b[1;32m   3342\u001b[0m \u001b[0;34m\u001b[0m\u001b[0m\n",
          "\u001b[0;32m/usr/local/lib/python3.8/site-packages/matplotlib/mathtext.py\u001b[0m in \u001b[0;36m_parse_cached\u001b[0;34m(self, s, dpi, prop, ps_useafm, fontset)\u001b[0m\n\u001b[1;32m   3362\u001b[0m             \u001b[0mself\u001b[0m\u001b[0;34m.\u001b[0m\u001b[0m__class__\u001b[0m\u001b[0;34m.\u001b[0m\u001b[0m_parser\u001b[0m \u001b[0;34m=\u001b[0m \u001b[0mParser\u001b[0m\u001b[0;34m(\u001b[0m\u001b[0;34m)\u001b[0m\u001b[0;34m\u001b[0m\u001b[0;34m\u001b[0m\u001b[0m\n\u001b[1;32m   3363\u001b[0m \u001b[0;34m\u001b[0m\u001b[0m\n\u001b[0;32m-> 3364\u001b[0;31m         \u001b[0mbox\u001b[0m \u001b[0;34m=\u001b[0m \u001b[0mself\u001b[0m\u001b[0;34m.\u001b[0m\u001b[0m_parser\u001b[0m\u001b[0;34m.\u001b[0m\u001b[0mparse\u001b[0m\u001b[0;34m(\u001b[0m\u001b[0ms\u001b[0m\u001b[0;34m,\u001b[0m \u001b[0mfont_output\u001b[0m\u001b[0;34m,\u001b[0m \u001b[0mfontsize\u001b[0m\u001b[0;34m,\u001b[0m \u001b[0mdpi\u001b[0m\u001b[0;34m)\u001b[0m\u001b[0;34m\u001b[0m\u001b[0;34m\u001b[0m\u001b[0m\n\u001b[0m\u001b[1;32m   3365\u001b[0m         \u001b[0mfont_output\u001b[0m\u001b[0;34m.\u001b[0m\u001b[0mset_canvas_size\u001b[0m\u001b[0;34m(\u001b[0m\u001b[0mbox\u001b[0m\u001b[0;34m.\u001b[0m\u001b[0mwidth\u001b[0m\u001b[0;34m,\u001b[0m \u001b[0mbox\u001b[0m\u001b[0;34m.\u001b[0m\u001b[0mheight\u001b[0m\u001b[0;34m,\u001b[0m \u001b[0mbox\u001b[0m\u001b[0;34m.\u001b[0m\u001b[0mdepth\u001b[0m\u001b[0;34m)\u001b[0m\u001b[0;34m\u001b[0m\u001b[0;34m\u001b[0m\u001b[0m\n\u001b[1;32m   3366\u001b[0m         \u001b[0;32mreturn\u001b[0m \u001b[0mfont_output\u001b[0m\u001b[0;34m.\u001b[0m\u001b[0mget_results\u001b[0m\u001b[0;34m(\u001b[0m\u001b[0mbox\u001b[0m\u001b[0;34m)\u001b[0m\u001b[0;34m\u001b[0m\u001b[0;34m\u001b[0m\u001b[0m\n",
          "\u001b[0;32m/usr/local/lib/python3.8/site-packages/matplotlib/mathtext.py\u001b[0m in \u001b[0;36mparse\u001b[0;34m(self, s, fonts_object, fontsize, dpi)\u001b[0m\n\u001b[1;32m   2617\u001b[0m             \u001b[0mresult\u001b[0m \u001b[0;34m=\u001b[0m \u001b[0mself\u001b[0m\u001b[0;34m.\u001b[0m\u001b[0m_expression\u001b[0m\u001b[0;34m.\u001b[0m\u001b[0mparseString\u001b[0m\u001b[0;34m(\u001b[0m\u001b[0ms\u001b[0m\u001b[0;34m)\u001b[0m\u001b[0;34m\u001b[0m\u001b[0;34m\u001b[0m\u001b[0m\n\u001b[1;32m   2618\u001b[0m         \u001b[0;32mexcept\u001b[0m \u001b[0mParseBaseException\u001b[0m \u001b[0;32mas\u001b[0m \u001b[0merr\u001b[0m\u001b[0;34m:\u001b[0m\u001b[0;34m\u001b[0m\u001b[0;34m\u001b[0m\u001b[0m\n\u001b[0;32m-> 2619\u001b[0;31m             raise ValueError(\"\\n\".join([\"\",\n\u001b[0m\u001b[1;32m   2620\u001b[0m                                         \u001b[0merr\u001b[0m\u001b[0;34m.\u001b[0m\u001b[0mline\u001b[0m\u001b[0;34m,\u001b[0m\u001b[0;34m\u001b[0m\u001b[0;34m\u001b[0m\u001b[0m\n\u001b[1;32m   2621\u001b[0m                                         \u001b[0;34m\" \"\u001b[0m \u001b[0;34m*\u001b[0m \u001b[0;34m(\u001b[0m\u001b[0merr\u001b[0m\u001b[0;34m.\u001b[0m\u001b[0mcolumn\u001b[0m \u001b[0;34m-\u001b[0m \u001b[0;36m1\u001b[0m\u001b[0;34m)\u001b[0m \u001b[0;34m+\u001b[0m \u001b[0;34m\"^\"\u001b[0m\u001b[0;34m,\u001b[0m\u001b[0;34m\u001b[0m\u001b[0;34m\u001b[0m\u001b[0m\n",
          "\u001b[0;31mValueError\u001b[0m: \ny \\,\\text{[m]}\n    ^\nUnknown symbol: \\text, found '\\'  (at char 4), (line:1, col:5)"
         ]
        }
       ]
      }
     },
     "2a4cc9f7293344bd91e2c54a44ba4c34": {
      "model_module": "@jupyter-widgets/controls",
      "model_module_version": "1.5.0",
      "model_name": "VBoxModel",
      "state": {
       "_dom_classes": [
        "widget-interact"
       ],
       "children": [
        "IPY_MODEL_21a8bca474334bd68abfb7f37c654e10",
        "IPY_MODEL_cdd2c3da21734a32b3ab64d415e5a0bf"
       ],
       "layout": "IPY_MODEL_e61ca43ef53c47fc9393546486eaacf6"
      }
     },
     "2a4f607e85794f7eb447e05812dbf225": {
      "model_module": "jupyter-matplotlib",
      "model_module_version": "^0.7.4",
      "model_name": "ToolbarModel",
      "state": {
       "layout": "IPY_MODEL_2f0822fc492d413eb53d98c41fd374ad",
       "toolitems": [
        [
         "Home",
         "Reset original view",
         "home",
         "home"
        ],
        [
         "Back",
         "Back to previous view",
         "arrow-left",
         "back"
        ],
        [
         "Forward",
         "Forward to next view",
         "arrow-right",
         "forward"
        ],
        [
         "Pan",
         "Left button pans, Right button zooms\nx/y fixes axis, CTRL fixes aspect",
         "arrows",
         "pan"
        ],
        [
         "Zoom",
         "Zoom to rectangle\nx/y fixes axis, CTRL fixes aspect",
         "square-o",
         "zoom"
        ],
        [
         "Download",
         "Download plot",
         "floppy-o",
         "save_figure"
        ]
       ]
      }
     },
     "2a6a4b2ade4b426e9ab6e4a3d0db1c70": {
      "model_module": "@jupyter-widgets/controls",
      "model_module_version": "1.5.0",
      "model_name": "FloatSliderModel",
      "state": {
       "description": "x",
       "layout": "IPY_MODEL_81a444ef24dd4a948b69797f6b691b60",
       "max": 5,
       "min": -1,
       "step": 0.2,
       "style": "IPY_MODEL_d32b80c741a742f6adcf8d3ef3434c69"
      }
     },
     "2a9b8a205d9a4899a52240398af61c2b": {
      "model_module": "@jupyter-widgets/output",
      "model_module_version": "1.0.0",
      "model_name": "OutputModel",
      "state": {
       "layout": "IPY_MODEL_0fa6023cb420406fa20b89705f0fd39e"
      }
     },
     "2ac5b2e339c240109b39fcc83c917642": {
      "model_module": "@jupyter-widgets/controls",
      "model_module_version": "1.5.0",
      "model_name": "ButtonStyleModel",
      "state": {}
     },
     "2ad74e7b6cde4e1cb8f9f535a961d2dd": {
      "model_module": "@jupyter-widgets/controls",
      "model_module_version": "1.5.0",
      "model_name": "FloatSliderModel",
      "state": {
       "description": "x",
       "layout": "IPY_MODEL_fa02bc59e3fb4ad281ccb194bc47284f",
       "max": 5,
       "min": -1,
       "step": 0.2,
       "style": "IPY_MODEL_734727bc57a8414db6033b4f62d3d43c",
       "value": 2.2
      }
     },
     "2b0dea4951ce4a37b68a23a66e1abddb": {
      "model_module": "@jupyter-widgets/base",
      "model_module_version": "1.2.0",
      "model_name": "LayoutModel",
      "state": {}
     },
     "2b3381f386f74f7f9b2c932f5a2ba455": {
      "model_module": "@jupyter-widgets/controls",
      "model_module_version": "1.5.0",
      "model_name": "ButtonModel",
      "state": {
       "description": "reset",
       "layout": "IPY_MODEL_e809cdca397146a59bc47e801760e100",
       "style": "IPY_MODEL_e198f92d3d144c2a990e778a294fd468"
      }
     },
     "2b33c7f1a49b4a0ea33f79e4e596e4ae": {
      "model_module": "@jupyter-widgets/base",
      "model_module_version": "1.2.0",
      "model_name": "LayoutModel",
      "state": {}
     },
     "2b6053a04dde49beb11d80f54532fbd4": {
      "model_module": "@jupyter-widgets/controls",
      "model_module_version": "1.5.0",
      "model_name": "VBoxModel",
      "state": {
       "_dom_classes": [
        "widget-interact"
       ],
       "children": [
        "IPY_MODEL_0c41387c86ac4d698d04fbcdde8f9443",
        "IPY_MODEL_6a57d5789eb24855a27b89eca6426c24"
       ],
       "layout": "IPY_MODEL_1634854b3d4c4007bc06daf5501e9026"
      }
     },
     "2b78ddb85da747c1af94cee7d4f49ddf": {
      "model_module": "@jupyter-widgets/base",
      "model_module_version": "1.2.0",
      "model_name": "LayoutModel",
      "state": {}
     },
     "2b928cfaa0214c3eb6833a2745711924": {
      "model_module": "@jupyter-widgets/controls",
      "model_module_version": "1.5.0",
      "model_name": "ButtonModel",
      "state": {
       "description": "reset",
       "layout": "IPY_MODEL_69394616d85d4a308653259b1db5f588",
       "style": "IPY_MODEL_75b8675a15d64253bec8dfc6ab4a7a84"
      }
     },
     "2bf8a69953794c94bd820802a40df109": {
      "model_module": "@jupyter-widgets/output",
      "model_module_version": "1.0.0",
      "model_name": "OutputModel",
      "state": {
       "layout": "IPY_MODEL_c5c9da4f57e7427d8c6537166479c6a6"
      }
     },
     "2c3a8025d0494a9eb5f9f398ea7a395b": {
      "model_module": "@jupyter-widgets/controls",
      "model_module_version": "1.5.0",
      "model_name": "VBoxModel",
      "state": {
       "_dom_classes": [
        "widget-interact"
       ],
       "children": [
        "IPY_MODEL_cfa5aba8b3854bada1dbd9bdc9cc6b47",
        "IPY_MODEL_c29d6454ccf447158c49685b7f662edf"
       ],
       "layout": "IPY_MODEL_26488fc3288b41a59e7f1b5a793e293a"
      }
     },
     "2c92b888bb8a4c65a8c912e253b6b2df": {
      "model_module": "@jupyter-widgets/controls",
      "model_module_version": "1.5.0",
      "model_name": "SliderStyleModel",
      "state": {
       "description_width": ""
      }
     },
     "2c9f028bb3e444c7b47e8ecabbe28b5d": {
      "model_module": "@jupyter-widgets/base",
      "model_module_version": "1.2.0",
      "model_name": "LayoutModel",
      "state": {}
     },
     "2cc41276f3ef47ddbf20f15273f39620": {
      "model_module": "@jupyter-widgets/controls",
      "model_module_version": "1.5.0",
      "model_name": "VBoxModel",
      "state": {
       "children": [
        "IPY_MODEL_6aae33073ac64e4b97bf49287c58f9e4"
       ],
       "layout": "IPY_MODEL_c576a84224db4a2896a03d82a5cfcf96"
      }
     },
     "2cdc680fa6b043288d96585ba619a69b": {
      "model_module": "@jupyter-widgets/base",
      "model_module_version": "1.2.0",
      "model_name": "LayoutModel",
      "state": {}
     },
     "2cfedd89105b483e977cd1ed4b53d703": {
      "model_module": "jupyter-matplotlib",
      "model_module_version": "^0.7.4",
      "model_name": "ToolbarModel",
      "state": {
       "layout": "IPY_MODEL_f4e6875ae63e45b9a509a74aa22aaf74",
       "toolitems": [
        [
         "Home",
         "Reset original view",
         "home",
         "home"
        ],
        [
         "Back",
         "Back to previous view",
         "arrow-left",
         "back"
        ],
        [
         "Forward",
         "Forward to next view",
         "arrow-right",
         "forward"
        ],
        [
         "Pan",
         "Left button pans, Right button zooms\nx/y fixes axis, CTRL fixes aspect",
         "arrows",
         "pan"
        ],
        [
         "Zoom",
         "Zoom to rectangle\nx/y fixes axis, CTRL fixes aspect",
         "square-o",
         "zoom"
        ],
        [
         "Download",
         "Download plot",
         "floppy-o",
         "save_figure"
        ]
       ]
      }
     },
     "2d556f768cae488597f63b8ab763bfba": {
      "model_module": "@jupyter-widgets/controls",
      "model_module_version": "1.5.0",
      "model_name": "VBoxModel",
      "state": {
       "children": [
        "IPY_MODEL_0728b7f01d9a4e9988fbce520199a2cf"
       ],
       "layout": "IPY_MODEL_94051af3060f4d649a3a3c51f5c32a49"
      }
     },
     "2d56c9f1bf9043599d7db05b27d3e5ab": {
      "model_module": "@jupyter-widgets/controls",
      "model_module_version": "1.5.0",
      "model_name": "SliderStyleModel",
      "state": {
       "description_width": ""
      }
     },
     "2d738570591e4e03b073c57eeec708b4": {
      "model_module": "@jupyter-widgets/base",
      "model_module_version": "1.2.0",
      "model_name": "LayoutModel",
      "state": {}
     },
     "2d855d36f4a342bdb5a75e856d0d1e46": {
      "model_module": "@jupyter-widgets/controls",
      "model_module_version": "1.5.0",
      "model_name": "SliderStyleModel",
      "state": {
       "description_width": ""
      }
     },
     "2da5dc9262b94d618d1828311e576a92": {
      "model_module": "@jupyter-widgets/base",
      "model_module_version": "1.2.0",
      "model_name": "LayoutModel",
      "state": {}
     },
     "2dceb2fd90ca4215b5aa89915cbe2861": {
      "model_module": "@jupyter-widgets/controls",
      "model_module_version": "1.5.0",
      "model_name": "ButtonModel",
      "state": {
       "description": "reset",
       "layout": "IPY_MODEL_9bbedce6076b4b5fa63bfe9bc873231c",
       "style": "IPY_MODEL_626875539add4f9d8265863e37796419"
      }
     },
     "2e599581971a4cdeb213c7d6ee5d9ce1": {
      "model_module": "@jupyter-widgets/base",
      "model_module_version": "1.2.0",
      "model_name": "LayoutModel",
      "state": {}
     },
     "2e5e39b1407049c5adb988d5acf58ef7": {
      "model_module": "@jupyter-widgets/base",
      "model_module_version": "1.2.0",
      "model_name": "LayoutModel",
      "state": {}
     },
     "2e775ea01c7d4b06868b1f359fa07955": {
      "model_module": "@jupyter-widgets/base",
      "model_module_version": "1.2.0",
      "model_name": "LayoutModel",
      "state": {}
     },
     "2e904fe93dff4caea5282e52eb559407": {
      "model_module": "@jupyter-widgets/controls",
      "model_module_version": "1.5.0",
      "model_name": "FloatSliderModel",
      "state": {
       "description": "x",
       "layout": "IPY_MODEL_63691711a5ff4554a1446e49e1817b85",
       "max": 5,
       "min": -1,
       "step": 0.2,
       "style": "IPY_MODEL_ee3d60b035b74a85b87d00e9b276940a",
       "value": 1.6
      }
     },
     "2ebcc1ae0da74739a771566eff85ee7b": {
      "model_module": "@jupyter-widgets/base",
      "model_module_version": "1.2.0",
      "model_name": "LayoutModel",
      "state": {}
     },
     "2ec4b9f3d7bc48ba94ca400a06ea0e23": {
      "model_module": "jupyter-matplotlib",
      "model_module_version": "^0.7.4",
      "model_name": "ToolbarModel",
      "state": {
       "layout": "IPY_MODEL_742e92e957d042e89a7afaf97c3b34a3",
       "toolitems": [
        [
         "Home",
         "Reset original view",
         "home",
         "home"
        ],
        [
         "Back",
         "Back to previous view",
         "arrow-left",
         "back"
        ],
        [
         "Forward",
         "Forward to next view",
         "arrow-right",
         "forward"
        ],
        [
         "Pan",
         "Left button pans, Right button zooms\nx/y fixes axis, CTRL fixes aspect",
         "arrows",
         "pan"
        ],
        [
         "Zoom",
         "Zoom to rectangle\nx/y fixes axis, CTRL fixes aspect",
         "square-o",
         "zoom"
        ],
        [
         "Download",
         "Download plot",
         "floppy-o",
         "save_figure"
        ]
       ]
      }
     },
     "2ec54412e71a45f5ae98fd625779ea57": {
      "model_module": "@jupyter-widgets/base",
      "model_module_version": "1.2.0",
      "model_name": "LayoutModel",
      "state": {}
     },
     "2ef79f87a04b466298d1425f5b37bc18": {
      "model_module": "jupyter-matplotlib",
      "model_module_version": "^0.7.4",
      "model_name": "ToolbarModel",
      "state": {
       "layout": "IPY_MODEL_58dd87206f6c4ab3801e2b952c86dae2",
       "toolitems": [
        [
         "Home",
         "Reset original view",
         "home",
         "home"
        ],
        [
         "Back",
         "Back to previous view",
         "arrow-left",
         "back"
        ],
        [
         "Forward",
         "Forward to next view",
         "arrow-right",
         "forward"
        ],
        [
         "Pan",
         "Left button pans, Right button zooms\nx/y fixes axis, CTRL fixes aspect",
         "arrows",
         "pan"
        ],
        [
         "Zoom",
         "Zoom to rectangle\nx/y fixes axis, CTRL fixes aspect",
         "square-o",
         "zoom"
        ],
        [
         "Download",
         "Download plot",
         "floppy-o",
         "save_figure"
        ]
       ]
      }
     },
     "2eff792221b642d18fb7de5a2c19891b": {
      "model_module": "@jupyter-widgets/controls",
      "model_module_version": "1.5.0",
      "model_name": "VBoxModel",
      "state": {
       "_dom_classes": [
        "widget-interact"
       ],
       "children": [
        "IPY_MODEL_ab98a4fc7c4b44bb853e91db8dd88511",
        "IPY_MODEL_a0e764921a4e437caea93df54d8b48e9"
       ],
       "layout": "IPY_MODEL_2e5e39b1407049c5adb988d5acf58ef7"
      }
     },
     "2f0822fc492d413eb53d98c41fd374ad": {
      "model_module": "@jupyter-widgets/base",
      "model_module_version": "1.2.0",
      "model_name": "LayoutModel",
      "state": {}
     },
     "2f3bf188efef4299acc82fedfb072bca": {
      "model_module": "@jupyter-widgets/output",
      "model_module_version": "1.0.0",
      "model_name": "OutputModel",
      "state": {
       "layout": "IPY_MODEL_ce4c1c12ae864010a711e3074827fde9"
      }
     },
     "302d29428724491cacbdd577d6746a5e": {
      "model_module": "@jupyter-widgets/controls",
      "model_module_version": "1.5.0",
      "model_name": "VBoxModel",
      "state": {
       "_dom_classes": [
        "widget-interact"
       ],
       "children": [
        "IPY_MODEL_652e9e2ef8cf4742ab04ad4ce3e915e1",
        "IPY_MODEL_3a53617aa6864066950649544f757936"
       ],
       "layout": "IPY_MODEL_cbf435d83a3841d8b2dec6b77994c3c5"
      }
     },
     "305557c0341d4f008ebf48c53379bc1b": {
      "model_module": "@jupyter-widgets/controls",
      "model_module_version": "1.5.0",
      "model_name": "SliderStyleModel",
      "state": {
       "description_width": ""
      }
     },
     "3093f56d87b447d3ab89469f41783547": {
      "model_module": "@jupyter-widgets/base",
      "model_module_version": "1.2.0",
      "model_name": "LayoutModel",
      "state": {}
     },
     "30d80656ea6d419fa5f19dde4717e00c": {
      "model_module": "@jupyter-widgets/base",
      "model_module_version": "1.2.0",
      "model_name": "LayoutModel",
      "state": {}
     },
     "312e4d4ef75d44f1a9f73d1701dc1c45": {
      "model_module": "@jupyter-widgets/base",
      "model_module_version": "1.2.0",
      "model_name": "LayoutModel",
      "state": {}
     },
     "317b34536de9428c93028be9c6414feb": {
      "model_module": "@jupyter-widgets/base",
      "model_module_version": "1.2.0",
      "model_name": "LayoutModel",
      "state": {}
     },
     "31b7fc1d7ce84246820fce85736827f9": {
      "model_module": "jupyter-matplotlib",
      "model_module_version": "^0.7.4",
      "model_name": "ToolbarModel",
      "state": {
       "layout": "IPY_MODEL_19113dcf1eca4d9ba8d20918cf29b6fc",
       "toolitems": [
        [
         "Home",
         "Reset original view",
         "home",
         "home"
        ],
        [
         "Back",
         "Back to previous view",
         "arrow-left",
         "back"
        ],
        [
         "Forward",
         "Forward to next view",
         "arrow-right",
         "forward"
        ],
        [
         "Pan",
         "Left button pans, Right button zooms\nx/y fixes axis, CTRL fixes aspect",
         "arrows",
         "pan"
        ],
        [
         "Zoom",
         "Zoom to rectangle\nx/y fixes axis, CTRL fixes aspect",
         "square-o",
         "zoom"
        ],
        [
         "Download",
         "Download plot",
         "floppy-o",
         "save_figure"
        ]
       ]
      }
     },
     "31d8ac741d2f42b2b388bfdb0766d4d9": {
      "model_module": "@jupyter-widgets/base",
      "model_module_version": "1.2.0",
      "model_name": "LayoutModel",
      "state": {}
     },
     "31ef8859151d4162ac9264a7d08827a4": {
      "model_module": "@jupyter-widgets/base",
      "model_module_version": "1.2.0",
      "model_name": "LayoutModel",
      "state": {}
     },
     "3262eab10c914537b89f0a519cb3eb92": {
      "model_module": "@jupyter-widgets/base",
      "model_module_version": "1.2.0",
      "model_name": "LayoutModel",
      "state": {}
     },
     "3276355dd84044db936b71a09a03ea17": {
      "model_module": "@jupyter-widgets/output",
      "model_module_version": "1.0.0",
      "model_name": "OutputModel",
      "state": {
       "layout": "IPY_MODEL_602c6b371ff5444e8cdb80d2f5542cb6"
      }
     },
     "32947c2dd16043719de2c1b62a8165e2": {
      "model_module": "@jupyter-widgets/base",
      "model_module_version": "1.2.0",
      "model_name": "LayoutModel",
      "state": {}
     },
     "329faf2a50354ef3845eaab594f73f04": {
      "model_module": "@jupyter-widgets/base",
      "model_module_version": "1.2.0",
      "model_name": "LayoutModel",
      "state": {}
     },
     "32eef00b3b1845919f677332dcff7d76": {
      "model_module": "@jupyter-widgets/base",
      "model_module_version": "1.2.0",
      "model_name": "LayoutModel",
      "state": {}
     },
     "32f13a6fb21b4f6abc7f3c9bceb42f7a": {
      "model_module": "@jupyter-widgets/base",
      "model_module_version": "1.2.0",
      "model_name": "LayoutModel",
      "state": {}
     },
     "332ea2942e2843deaf20d7e448c1c83f": {
      "model_module": "@jupyter-widgets/controls",
      "model_module_version": "1.5.0",
      "model_name": "SliderStyleModel",
      "state": {
       "description_width": ""
      }
     },
     "332f9637fd6b46c79a62c2e1af784935": {
      "model_module": "@jupyter-widgets/base",
      "model_module_version": "1.2.0",
      "model_name": "LayoutModel",
      "state": {}
     },
     "3362efa1bb914d5ca610cb8c73d824ac": {
      "model_module": "jupyter-matplotlib",
      "model_module_version": "^0.7.4",
      "model_name": "ToolbarModel",
      "state": {
       "layout": "IPY_MODEL_b516d905151d40fdb852326c1d42ac9f",
       "toolitems": [
        [
         "Home",
         "Reset original view",
         "home",
         "home"
        ],
        [
         "Back",
         "Back to previous view",
         "arrow-left",
         "back"
        ],
        [
         "Forward",
         "Forward to next view",
         "arrow-right",
         "forward"
        ],
        [
         "Pan",
         "Left button pans, Right button zooms\nx/y fixes axis, CTRL fixes aspect",
         "arrows",
         "pan"
        ],
        [
         "Zoom",
         "Zoom to rectangle\nx/y fixes axis, CTRL fixes aspect",
         "square-o",
         "zoom"
        ],
        [
         "Download",
         "Download plot",
         "floppy-o",
         "save_figure"
        ]
       ]
      }
     },
     "338b86a15e5440d897f6d5321148289b": {
      "model_module": "@jupyter-widgets/base",
      "model_module_version": "1.2.0",
      "model_name": "LayoutModel",
      "state": {}
     },
     "338e3697306c4e138f93a76a8664946a": {
      "model_module": "@jupyter-widgets/base",
      "model_module_version": "1.2.0",
      "model_name": "LayoutModel",
      "state": {}
     },
     "33b27e898f9c4ab78677c555ebec4136": {
      "model_module": "@jupyter-widgets/base",
      "model_module_version": "1.2.0",
      "model_name": "LayoutModel",
      "state": {}
     },
     "33ee5cd4adc04602b75856e89d0b1c1f": {
      "model_module": "@jupyter-widgets/controls",
      "model_module_version": "1.5.0",
      "model_name": "SliderStyleModel",
      "state": {
       "description_width": ""
      }
     },
     "341065c3ecad4ac0b888834376c892bb": {
      "model_module": "@jupyter-widgets/controls",
      "model_module_version": "1.5.0",
      "model_name": "VBoxModel",
      "state": {
       "_dom_classes": [
        "widget-interact"
       ],
       "children": [
        "IPY_MODEL_626dbce4d1ce4b8cbc8f68c5edce90f2",
        "IPY_MODEL_a43da2b880ae45d99dc17485c4d30086"
       ],
       "layout": "IPY_MODEL_641ebff81c1f4d29b8af123a314862ef"
      }
     },
     "3422c7c0e5664905be1c2e46298da789": {
      "model_module": "@jupyter-widgets/controls",
      "model_module_version": "1.5.0",
      "model_name": "VBoxModel",
      "state": {
       "_dom_classes": [
        "widget-interact"
       ],
       "children": [
        "IPY_MODEL_b31707b6eac7495195496d8b2b3b7632",
        "IPY_MODEL_5a7399f9ffd64db3a9e342228bee0d0c"
       ],
       "layout": "IPY_MODEL_dbbe407f01194d24b64b9bd0c3117e39"
      }
     },
     "342534192b4d49a18a3a7f25a809f8fe": {
      "model_module": "@jupyter-widgets/base",
      "model_module_version": "1.2.0",
      "model_name": "LayoutModel",
      "state": {}
     },
     "342617a9843446dcbc39207fa6ed47d0": {
      "model_module": "@jupyter-widgets/controls",
      "model_module_version": "1.5.0",
      "model_name": "SliderStyleModel",
      "state": {
       "description_width": ""
      }
     },
     "3466859614104d799ada9344aa9390d1": {
      "model_module": "@jupyter-widgets/controls",
      "model_module_version": "1.5.0",
      "model_name": "ButtonStyleModel",
      "state": {}
     },
     "34b63efe87b3474b9eca120ec3230987": {
      "model_module": "@jupyter-widgets/controls",
      "model_module_version": "1.5.0",
      "model_name": "VBoxModel",
      "state": {
       "children": [
        "IPY_MODEL_8ef7fb1bc6fe4ac6ad2b432649bcb76d"
       ],
       "layout": "IPY_MODEL_a2977a6134d64716ba0753fa591399f5"
      }
     },
     "34c305805e8549c4ae04a94f0e168ca5": {
      "model_module": "@jupyter-widgets/base",
      "model_module_version": "1.2.0",
      "model_name": "LayoutModel",
      "state": {}
     },
     "34ce9ec3de764097a1dc81f60832e816": {
      "model_module": "jupyter-matplotlib",
      "model_module_version": "^0.7.4",
      "model_name": "ToolbarModel",
      "state": {
       "layout": "IPY_MODEL_c2f8705d70da407eb42f24dc9fd97cb4",
       "toolitems": [
        [
         "Home",
         "Reset original view",
         "home",
         "home"
        ],
        [
         "Back",
         "Back to previous view",
         "arrow-left",
         "back"
        ],
        [
         "Forward",
         "Forward to next view",
         "arrow-right",
         "forward"
        ],
        [
         "Pan",
         "Left button pans, Right button zooms\nx/y fixes axis, CTRL fixes aspect",
         "arrows",
         "pan"
        ],
        [
         "Zoom",
         "Zoom to rectangle\nx/y fixes axis, CTRL fixes aspect",
         "square-o",
         "zoom"
        ],
        [
         "Download",
         "Download plot",
         "floppy-o",
         "save_figure"
        ]
       ]
      }
     },
     "35246bdf6bd14eb69e643e216e924ad3": {
      "model_module": "@jupyter-widgets/base",
      "model_module_version": "1.2.0",
      "model_name": "LayoutModel",
      "state": {}
     },
     "355d5ad9c6fb41e7a99430cc482c9241": {
      "model_module": "@jupyter-widgets/base",
      "model_module_version": "1.2.0",
      "model_name": "LayoutModel",
      "state": {}
     },
     "36280736267e46fc88adb34c294aa263": {
      "model_module": "@jupyter-widgets/base",
      "model_module_version": "1.2.0",
      "model_name": "LayoutModel",
      "state": {}
     },
     "365990ebfde84248a3a085b0c2cb8751": {
      "model_module": "@jupyter-widgets/controls",
      "model_module_version": "1.5.0",
      "model_name": "SliderStyleModel",
      "state": {
       "description_width": ""
      }
     },
     "36752c9f5f764a978089847e99bcdf81": {
      "model_module": "@jupyter-widgets/base",
      "model_module_version": "1.2.0",
      "model_name": "LayoutModel",
      "state": {}
     },
     "3695a265d7994e17b4912913df939dfe": {
      "model_module": "@jupyter-widgets/base",
      "model_module_version": "1.2.0",
      "model_name": "LayoutModel",
      "state": {}
     },
     "369ace5497ab44aca013555b9b618e67": {
      "model_module": "@jupyter-widgets/controls",
      "model_module_version": "1.5.0",
      "model_name": "VBoxModel",
      "state": {
       "_dom_classes": [
        "widget-interact"
       ],
       "children": [
        "IPY_MODEL_3d27783ffded42ce9b181961d55860be",
        "IPY_MODEL_f98aa2076eac4c0aa0e1c9f323c48d13"
       ],
       "layout": "IPY_MODEL_eec823b3f5bd43ce83593c6787d199e9"
      }
     },
     "36b76623cd614d1bb8934abeb3589fe0": {
      "model_module": "jupyter-matplotlib",
      "model_module_version": "^0.7.4",
      "model_name": "ToolbarModel",
      "state": {
       "layout": "IPY_MODEL_3d443fb469b3441bb107555356e0fe50",
       "toolitems": [
        [
         "Home",
         "Reset original view",
         "home",
         "home"
        ],
        [
         "Back",
         "Back to previous view",
         "arrow-left",
         "back"
        ],
        [
         "Forward",
         "Forward to next view",
         "arrow-right",
         "forward"
        ],
        [
         "Pan",
         "Left button pans, Right button zooms\nx/y fixes axis, CTRL fixes aspect",
         "arrows",
         "pan"
        ],
        [
         "Zoom",
         "Zoom to rectangle\nx/y fixes axis, CTRL fixes aspect",
         "square-o",
         "zoom"
        ],
        [
         "Download",
         "Download plot",
         "floppy-o",
         "save_figure"
        ]
       ]
      }
     },
     "36e7815a92974773b5ca2c8bc3135c4e": {
      "model_module": "@jupyter-widgets/controls",
      "model_module_version": "1.5.0",
      "model_name": "ButtonModel",
      "state": {
       "description": "reset",
       "layout": "IPY_MODEL_ba0ae8387500444e82abe4957a8fbc58",
       "style": "IPY_MODEL_829bc7c7b37f40e18698a422b451bf3a"
      }
     },
     "36ee4ad5e201422187f81efecef60c2e": {
      "model_module": "@jupyter-widgets/base",
      "model_module_version": "1.2.0",
      "model_name": "LayoutModel",
      "state": {}
     },
     "37257ef2f2c5469891de50a68639a006": {
      "model_module": "@jupyter-widgets/base",
      "model_module_version": "1.2.0",
      "model_name": "LayoutModel",
      "state": {}
     },
     "3747dddf86414d1cbc7702e51b1e958e": {
      "model_module": "@jupyter-widgets/base",
      "model_module_version": "1.2.0",
      "model_name": "LayoutModel",
      "state": {}
     },
     "3803f918e32e42b790cdda6a6f02da5a": {
      "model_module": "@jupyter-widgets/base",
      "model_module_version": "1.2.0",
      "model_name": "LayoutModel",
      "state": {}
     },
     "38b362f543354c60aa5114d1c17443a0": {
      "model_module": "@jupyter-widgets/controls",
      "model_module_version": "1.5.0",
      "model_name": "FloatSliderModel",
      "state": {
       "description": "X",
       "layout": "IPY_MODEL_5865bc9389ad4162874f6e66fca44a44",
       "max": 5,
       "min": -1,
       "step": 0.1,
       "style": "IPY_MODEL_b802480a02be443aa7f50b4ece5d6a88",
       "value": 2.7
      }
     },
     "395efe3cd1764eec958c7cd5a4f636cc": {
      "model_module": "jupyter-matplotlib",
      "model_module_version": "^0.7.4",
      "model_name": "ToolbarModel",
      "state": {
       "layout": "IPY_MODEL_7eac0c08cbd8472c8eb25cd4af88de17",
       "toolitems": [
        [
         "Home",
         "Reset original view",
         "home",
         "home"
        ],
        [
         "Back",
         "Back to previous view",
         "arrow-left",
         "back"
        ],
        [
         "Forward",
         "Forward to next view",
         "arrow-right",
         "forward"
        ],
        [
         "Pan",
         "Left button pans, Right button zooms\nx/y fixes axis, CTRL fixes aspect",
         "arrows",
         "pan"
        ],
        [
         "Zoom",
         "Zoom to rectangle\nx/y fixes axis, CTRL fixes aspect",
         "square-o",
         "zoom"
        ],
        [
         "Download",
         "Download plot",
         "floppy-o",
         "save_figure"
        ]
       ]
      }
     },
     "3a0067b525e34eaa8bcf4b8f7bc469c7": {
      "model_module": "@jupyter-widgets/controls",
      "model_module_version": "1.5.0",
      "model_name": "SliderStyleModel",
      "state": {
       "description_width": ""
      }
     },
     "3a02d2851a314f1fa84ff16ff35b0f45": {
      "model_module": "@jupyter-widgets/base",
      "model_module_version": "1.2.0",
      "model_name": "LayoutModel",
      "state": {}
     },
     "3a53617aa6864066950649544f757936": {
      "model_module": "@jupyter-widgets/output",
      "model_module_version": "1.0.0",
      "model_name": "OutputModel",
      "state": {
       "layout": "IPY_MODEL_7c1f60fcd9e240c9944241108b8ddebc"
      }
     },
     "3a5a0161f7374d11b3c719e0d444a1e8": {
      "model_module": "@jupyter-widgets/controls",
      "model_module_version": "1.5.0",
      "model_name": "VBoxModel",
      "state": {
       "_dom_classes": [
        "widget-interact"
       ],
       "children": [
        "IPY_MODEL_7b5b884148f240c38d250a6c4b988af1",
        "IPY_MODEL_7a264bac98b140a88e098515a63a7cdc"
       ],
       "layout": "IPY_MODEL_21a74969d24d4aa5aafb355e27c7a75a"
      }
     },
     "3a69465741da4b108395b4cd10571924": {
      "model_module": "@jupyter-widgets/controls",
      "model_module_version": "1.5.0",
      "model_name": "VBoxModel",
      "state": {
       "_dom_classes": [
        "widget-interact"
       ],
       "children": [
        "IPY_MODEL_e666868775774b6abe26f3a113f6ab50",
        "IPY_MODEL_b28e19406da74501bb1506e0e5ea5bf3"
       ],
       "layout": "IPY_MODEL_b6ef0f8304c2444dbd6ba5376d9029f9"
      }
     },
     "3a7040f6f0b54c04a0ebc5b1a642bf4a": {
      "model_module": "@jupyter-widgets/controls",
      "model_module_version": "1.5.0",
      "model_name": "VBoxModel",
      "state": {
       "_dom_classes": [
        "widget-interact"
       ],
       "children": [
        "IPY_MODEL_4a9d354573b047ca9fb4c0f6fd555f77",
        "IPY_MODEL_9717c7a6ffd3433186941b9c77bcb58b"
       ],
       "layout": "IPY_MODEL_e94ff23748d444be9c184c635d843913"
      }
     },
     "3af80f781c424365af9a391bdf143917": {
      "model_module": "@jupyter-widgets/controls",
      "model_module_version": "1.5.0",
      "model_name": "ButtonModel",
      "state": {
       "description": "reset",
       "layout": "IPY_MODEL_119016f6d7c24d479b1d93a7963b2898",
       "style": "IPY_MODEL_ff9b64f6df62447181212d2f02ffdffd"
      }
     },
     "3b64f0e98fec49f085c127b2052a21ae": {
      "model_module": "@jupyter-widgets/controls",
      "model_module_version": "1.5.0",
      "model_name": "VBoxModel",
      "state": {
       "children": [
        "IPY_MODEL_2b928cfaa0214c3eb6833a2745711924"
       ],
       "layout": "IPY_MODEL_e4224afcab03473da22f09d80d65d94a"
      }
     },
     "3b87a639069e4cad804c5913c44c4392": {
      "model_module": "@jupyter-widgets/base",
      "model_module_version": "1.2.0",
      "model_name": "LayoutModel",
      "state": {}
     },
     "3ba22756bbca4fbfab943c428bec6097": {
      "model_module": "jupyter-matplotlib",
      "model_module_version": "^0.7.4",
      "model_name": "ToolbarModel",
      "state": {
       "layout": "IPY_MODEL_7f43d3298ab243f0b6c0c66ff835dd89",
       "toolitems": [
        [
         "Home",
         "Reset original view",
         "home",
         "home"
        ],
        [
         "Back",
         "Back to previous view",
         "arrow-left",
         "back"
        ],
        [
         "Forward",
         "Forward to next view",
         "arrow-right",
         "forward"
        ],
        [
         "Pan",
         "Left button pans, Right button zooms\nx/y fixes axis, CTRL fixes aspect",
         "arrows",
         "pan"
        ],
        [
         "Zoom",
         "Zoom to rectangle\nx/y fixes axis, CTRL fixes aspect",
         "square-o",
         "zoom"
        ],
        [
         "Download",
         "Download plot",
         "floppy-o",
         "save_figure"
        ]
       ]
      }
     },
     "3bea416c27fd4deaab0daff4dc49fc81": {
      "model_module": "@jupyter-widgets/base",
      "model_module_version": "1.2.0",
      "model_name": "LayoutModel",
      "state": {}
     },
     "3c2b37dde5b24d7bb842dc8539054ca4": {
      "model_module": "@jupyter-widgets/base",
      "model_module_version": "1.2.0",
      "model_name": "LayoutModel",
      "state": {}
     },
     "3c677192a8c54ff9a804d12cd55128b8": {
      "model_module": "@jupyter-widgets/controls",
      "model_module_version": "1.5.0",
      "model_name": "ButtonStyleModel",
      "state": {}
     },
     "3cb3c38a0ab344a782b9788b7ce09795": {
      "model_module": "@jupyter-widgets/controls",
      "model_module_version": "1.5.0",
      "model_name": "ButtonModel",
      "state": {
       "description": "reset",
       "layout": "IPY_MODEL_8a00f7a1db8a495f8bc0316282990f80",
       "style": "IPY_MODEL_f6f1073775594e92b4eba7fb4f2e38ee"
      }
     },
     "3cba5f29f80b4565aad42a6fe07b1423": {
      "model_module": "@jupyter-widgets/controls",
      "model_module_version": "1.5.0",
      "model_name": "ButtonModel",
      "state": {
       "description": "reset",
       "layout": "IPY_MODEL_b36482133da546b0bc0d54170380945c",
       "style": "IPY_MODEL_1f78fb3ccfb74f20adb13ccf55c1f32f"
      }
     },
     "3d27783ffded42ce9b181961d55860be": {
      "model_module": "@jupyter-widgets/controls",
      "model_module_version": "1.5.0",
      "model_name": "FloatSliderModel",
      "state": {
       "description": "x",
       "layout": "IPY_MODEL_d4c573b4465a46639579fa777f306528",
       "max": 5,
       "min": -1,
       "step": 0.2,
       "style": "IPY_MODEL_365990ebfde84248a3a085b0c2cb8751",
       "value": 0.6
      }
     },
     "3d41be5ec8d84462b96cb184a92c235d": {
      "model_module": "@jupyter-widgets/base",
      "model_module_version": "1.2.0",
      "model_name": "LayoutModel",
      "state": {}
     },
     "3d443fb469b3441bb107555356e0fe50": {
      "model_module": "@jupyter-widgets/base",
      "model_module_version": "1.2.0",
      "model_name": "LayoutModel",
      "state": {}
     },
     "3d495ec75042491cb84745534daf2089": {
      "model_module": "@jupyter-widgets/controls",
      "model_module_version": "1.5.0",
      "model_name": "FloatSliderModel",
      "state": {
       "description": "x",
       "layout": "IPY_MODEL_af407314315b48e59d8ecbbc58b4810c",
       "max": 5,
       "min": -1,
       "step": 0.2,
       "style": "IPY_MODEL_1c3b179b37d74e21b80be22d350f7c29",
       "value": 3
      }
     },
     "3d9c52c9d8734b168b914008d13912ed": {
      "model_module": "jupyter-matplotlib",
      "model_module_version": "^0.7.4",
      "model_name": "ToolbarModel",
      "state": {
       "layout": "IPY_MODEL_17869e9000164dccb9bfab081259aece",
       "toolitems": [
        [
         "Home",
         "Reset original view",
         "home",
         "home"
        ],
        [
         "Back",
         "Back to previous view",
         "arrow-left",
         "back"
        ],
        [
         "Forward",
         "Forward to next view",
         "arrow-right",
         "forward"
        ],
        [
         "Pan",
         "Left button pans, Right button zooms\nx/y fixes axis, CTRL fixes aspect",
         "arrows",
         "pan"
        ],
        [
         "Zoom",
         "Zoom to rectangle\nx/y fixes axis, CTRL fixes aspect",
         "square-o",
         "zoom"
        ],
        [
         "Download",
         "Download plot",
         "floppy-o",
         "save_figure"
        ]
       ]
      }
     },
     "3db9acf4dee04c0cb8f22a17e40dc10c": {
      "model_module": "@jupyter-widgets/base",
      "model_module_version": "1.2.0",
      "model_name": "LayoutModel",
      "state": {}
     },
     "3de77dd466f44ad69e237a4359dd2974": {
      "model_module": "@jupyter-widgets/base",
      "model_module_version": "1.2.0",
      "model_name": "LayoutModel",
      "state": {}
     },
     "3e0f4190e9b44fe8a0d6b9254df5c978": {
      "model_module": "@jupyter-widgets/base",
      "model_module_version": "1.2.0",
      "model_name": "LayoutModel",
      "state": {}
     },
     "3e9a8922a40349ca9d05e6c623bbf125": {
      "model_module": "@jupyter-widgets/base",
      "model_module_version": "1.2.0",
      "model_name": "LayoutModel",
      "state": {}
     },
     "3eae799d891f403d83157e93b3498ff2": {
      "model_module": "@jupyter-widgets/controls",
      "model_module_version": "1.5.0",
      "model_name": "VBoxModel",
      "state": {
       "children": [
        "IPY_MODEL_6ea896a7cdcf47f09af87b04b7049341"
       ],
       "layout": "IPY_MODEL_7a93450055814e438a4ad70b37de0739"
      }
     },
     "3f6e407b1e384232b05d9d2e649b4859": {
      "model_module": "@jupyter-widgets/base",
      "model_module_version": "1.2.0",
      "model_name": "LayoutModel",
      "state": {}
     },
     "3f932c1bb7554ebbad8c24a7572ffd7d": {
      "model_module": "@jupyter-widgets/controls",
      "model_module_version": "1.5.0",
      "model_name": "FloatSliderModel",
      "state": {
       "description": "x",
       "layout": "IPY_MODEL_eeaebec6035c4c2c9788cff671e7a05a",
       "max": 5,
       "min": -1,
       "step": 0.2,
       "style": "IPY_MODEL_40bb475ee27c42f59d70f34d2aee5974",
       "value": 0.4
      }
     },
     "3f95c807b2b74a02b0366e02d34e030c": {
      "model_module": "@jupyter-widgets/base",
      "model_module_version": "1.2.0",
      "model_name": "LayoutModel",
      "state": {}
     },
     "3fdcb360859e4893bdbea002b56d0e71": {
      "model_module": "@jupyter-widgets/controls",
      "model_module_version": "1.5.0",
      "model_name": "VBoxModel",
      "state": {
       "_dom_classes": [
        "widget-interact"
       ],
       "children": [
        "IPY_MODEL_dbf85098553e45c98a9042dc4639ff53",
        "IPY_MODEL_d7fd6b2ff7d14a4ebc09799a5acd88f3"
       ],
       "layout": "IPY_MODEL_04d374bac3bd4c23b3d223bf6a148e05"
      }
     },
     "4021eb79f716416e8c5e6cec370bf311": {
      "model_module": "@jupyter-widgets/output",
      "model_module_version": "1.0.0",
      "model_name": "OutputModel",
      "state": {
       "layout": "IPY_MODEL_2e775ea01c7d4b06868b1f359fa07955"
      }
     },
     "40452d5e19884ac9855094a2b27aa181": {
      "model_module": "@jupyter-widgets/base",
      "model_module_version": "1.2.0",
      "model_name": "LayoutModel",
      "state": {}
     },
     "40520ffebed64d6caaa78e71889367c2": {
      "model_module": "@jupyter-widgets/base",
      "model_module_version": "1.2.0",
      "model_name": "LayoutModel",
      "state": {}
     },
     "40651e81eb994d55adc3741839a4b386": {
      "model_module": "@jupyter-widgets/base",
      "model_module_version": "1.2.0",
      "model_name": "LayoutModel",
      "state": {}
     },
     "407002e9f31743e5980b5ef142795505": {
      "model_module": "@jupyter-widgets/controls",
      "model_module_version": "1.5.0",
      "model_name": "FloatSliderModel",
      "state": {
       "description": "x",
       "layout": "IPY_MODEL_19f93fea7a6e4ff99298ef0e2da806ef",
       "max": 5.5,
       "min": -0.5,
       "step": 0.2,
       "style": "IPY_MODEL_e0f758b850694904a06c48d27ecb6eac"
      }
     },
     "408b1c1ac8444a038f2e4596122a2813": {
      "model_module": "@jupyter-widgets/base",
      "model_module_version": "1.2.0",
      "model_name": "LayoutModel",
      "state": {}
     },
     "40a2c49a10e345d88145cee78c28ec2a": {
      "model_module": "@jupyter-widgets/base",
      "model_module_version": "1.2.0",
      "model_name": "LayoutModel",
      "state": {}
     },
     "40bb475ee27c42f59d70f34d2aee5974": {
      "model_module": "@jupyter-widgets/controls",
      "model_module_version": "1.5.0",
      "model_name": "SliderStyleModel",
      "state": {
       "description_width": ""
      }
     },
     "40d66a329fc64220857b2dfb15025c67": {
      "model_module": "@jupyter-widgets/output",
      "model_module_version": "1.0.0",
      "model_name": "OutputModel",
      "state": {
       "layout": "IPY_MODEL_408b1c1ac8444a038f2e4596122a2813"
      }
     },
     "40dc5005703e415797c5c57dd9856f8e": {
      "model_module": "jupyter-matplotlib",
      "model_module_version": "^0.7.4",
      "model_name": "ToolbarModel",
      "state": {
       "layout": "IPY_MODEL_3803f918e32e42b790cdda6a6f02da5a",
       "toolitems": [
        [
         "Home",
         "Reset original view",
         "home",
         "home"
        ],
        [
         "Back",
         "Back to previous view",
         "arrow-left",
         "back"
        ],
        [
         "Forward",
         "Forward to next view",
         "arrow-right",
         "forward"
        ],
        [
         "Pan",
         "Left button pans, Right button zooms\nx/y fixes axis, CTRL fixes aspect",
         "arrows",
         "pan"
        ],
        [
         "Zoom",
         "Zoom to rectangle\nx/y fixes axis, CTRL fixes aspect",
         "square-o",
         "zoom"
        ],
        [
         "Download",
         "Download plot",
         "floppy-o",
         "save_figure"
        ]
       ]
      }
     },
     "40e6676225da4eba98cfa012005e2501": {
      "model_module": "@jupyter-widgets/output",
      "model_module_version": "1.0.0",
      "model_name": "OutputModel",
      "state": {
       "layout": "IPY_MODEL_941457f0ecdf4d62aa56e636db58621b"
      }
     },
     "40f244d22b9641b0bd99b6c59b43170a": {
      "model_module": "@jupyter-widgets/base",
      "model_module_version": "1.2.0",
      "model_name": "LayoutModel",
      "state": {}
     },
     "41144cb512a04d5db81e9ee799f162c9": {
      "model_module": "@jupyter-widgets/base",
      "model_module_version": "1.2.0",
      "model_name": "LayoutModel",
      "state": {}
     },
     "4204fec32b094a2081f560120216ddf5": {
      "model_module": "@jupyter-widgets/base",
      "model_module_version": "1.2.0",
      "model_name": "LayoutModel",
      "state": {}
     },
     "420709a961264a9d8089dcd0c646a122": {
      "model_module": "@jupyter-widgets/controls",
      "model_module_version": "1.5.0",
      "model_name": "FloatSliderModel",
      "state": {
       "description": "x",
       "layout": "IPY_MODEL_7a9bc602a1e345aab3f17b3b994667e5",
       "max": 5,
       "min": -1,
       "step": 0.2,
       "style": "IPY_MODEL_5498fb8afce34217b347026f76aba87c",
       "value": 1.8
      }
     },
     "4210892978e44851bd9142404121c94e": {
      "model_module": "@jupyter-widgets/base",
      "model_module_version": "1.2.0",
      "model_name": "LayoutModel",
      "state": {}
     },
     "4245a7bfeb1a4ecf85e8e6dd33c1ba7c": {
      "model_module": "@jupyter-widgets/controls",
      "model_module_version": "1.5.0",
      "model_name": "ButtonModel",
      "state": {
       "description": "reset",
       "layout": "IPY_MODEL_2b33c7f1a49b4a0ea33f79e4e596e4ae",
       "style": "IPY_MODEL_d019a1c31c184cc5895d10f6e19027a0"
      }
     },
     "42bd59a6c9c14353b23dbc7fd6986094": {
      "model_module": "@jupyter-widgets/controls",
      "model_module_version": "1.5.0",
      "model_name": "FloatSliderModel",
      "state": {
       "description": "x",
       "layout": "IPY_MODEL_c3272c20d37f45ceb26b69307f110334",
       "max": 5,
       "min": -1,
       "step": 0.2,
       "style": "IPY_MODEL_778a823b39f34c7786e3b1ca8bb7681b",
       "value": 1.4
      }
     },
     "4374b5e0206143c594b1cd70490846b1": {
      "model_module": "@jupyter-widgets/base",
      "model_module_version": "1.2.0",
      "model_name": "LayoutModel",
      "state": {}
     },
     "4385012af93445dfb0f73bdd5afe77a2": {
      "model_module": "@jupyter-widgets/base",
      "model_module_version": "1.2.0",
      "model_name": "LayoutModel",
      "state": {}
     },
     "440d8289a43e44e6bc394c32199104f1": {
      "model_module": "@jupyter-widgets/base",
      "model_module_version": "1.2.0",
      "model_name": "LayoutModel",
      "state": {}
     },
     "4450177e3f0e4939b768ad053df818ba": {
      "model_module": "@jupyter-widgets/base",
      "model_module_version": "1.2.0",
      "model_name": "LayoutModel",
      "state": {}
     },
     "4488c3de4fec4d33aaf1e6046a7c252c": {
      "model_module": "@jupyter-widgets/base",
      "model_module_version": "1.2.0",
      "model_name": "LayoutModel",
      "state": {}
     },
     "449f009b7d4e461c96bc33d46fd03b73": {
      "model_module": "@jupyter-widgets/base",
      "model_module_version": "1.2.0",
      "model_name": "LayoutModel",
      "state": {}
     },
     "44dac9c9cde14d1b806c253d59e15659": {
      "model_module": "@jupyter-widgets/base",
      "model_module_version": "1.2.0",
      "model_name": "LayoutModel",
      "state": {}
     },
     "4522f5ac922a4f33ba9673a09fb503b9": {
      "model_module": "@jupyter-widgets/controls",
      "model_module_version": "1.5.0",
      "model_name": "VBoxModel",
      "state": {
       "_dom_classes": [
        "widget-interact"
       ],
       "children": [
        "IPY_MODEL_b101bd65d46b41708e648ed122eca60f",
        "IPY_MODEL_ce24ba236f8c4d09ae20c42f3c456072"
       ],
       "layout": "IPY_MODEL_20fdef3892974a06add80a352163d4f6"
      }
     },
     "45346b79c7ec45bf933edf4ba17dccbc": {
      "model_module": "@jupyter-widgets/base",
      "model_module_version": "1.2.0",
      "model_name": "LayoutModel",
      "state": {}
     },
     "4564fa935e204d94a15bffa18d1efa06": {
      "model_module": "@jupyter-widgets/base",
      "model_module_version": "1.2.0",
      "model_name": "LayoutModel",
      "state": {}
     },
     "45bac03b3b8f455db470c1c1ed0c406a": {
      "model_module": "@jupyter-widgets/controls",
      "model_module_version": "1.5.0",
      "model_name": "FloatSliderModel",
      "state": {
       "description": "x",
       "layout": "IPY_MODEL_d7a2b095bb3e4cda9a77f7779e2d88de",
       "max": 5,
       "min": -1,
       "step": 0.2,
       "style": "IPY_MODEL_fd7db889968d4eecbfe3b44eec4689b0"
      }
     },
     "461eb7a40a24456c861132d2001d79a6": {
      "model_module": "@jupyter-widgets/base",
      "model_module_version": "1.2.0",
      "model_name": "LayoutModel",
      "state": {}
     },
     "46309f4b87914a8b8ab735d792c6924f": {
      "model_module": "@jupyter-widgets/base",
      "model_module_version": "1.2.0",
      "model_name": "LayoutModel",
      "state": {}
     },
     "46b6a10d77e1420a861f7b5e604e6b73": {
      "model_module": "@jupyter-widgets/base",
      "model_module_version": "1.2.0",
      "model_name": "LayoutModel",
      "state": {}
     },
     "46f4773b9b454b5683813efc8a6ffb26": {
      "model_module": "@jupyter-widgets/controls",
      "model_module_version": "1.5.0",
      "model_name": "FloatSliderModel",
      "state": {
       "description": "X",
       "layout": "IPY_MODEL_fc8ef244c0444db78ec5f94f08cd8caa",
       "max": 5,
       "min": -1,
       "step": 0.1,
       "style": "IPY_MODEL_fa4a15c98b2d4aa8a63ef248cc23edd2"
      }
     },
     "473f9b497ea2478a97d20256a1bd9317": {
      "model_module": "@jupyter-widgets/base",
      "model_module_version": "1.2.0",
      "model_name": "LayoutModel",
      "state": {}
     },
     "477de9bb918f40c0b98087cd04ca757d": {
      "model_module": "@jupyter-widgets/controls",
      "model_module_version": "1.5.0",
      "model_name": "VBoxModel",
      "state": {
       "_dom_classes": [
        "widget-interact"
       ],
       "children": [
        "IPY_MODEL_d411859f20ac437380274fabacd5e5c3",
        "IPY_MODEL_88fe99a94d124cb8be40578b186d4a92"
       ],
       "layout": "IPY_MODEL_2d738570591e4e03b073c57eeec708b4"
      }
     },
     "4842752c81e5422f8266dba84392e14e": {
      "model_module": "@jupyter-widgets/controls",
      "model_module_version": "1.5.0",
      "model_name": "FloatSliderModel",
      "state": {
       "description": "x",
       "layout": "IPY_MODEL_812c21d51f2346ad85131e6976f5971a",
       "max": 5,
       "min": -1,
       "step": 0.2,
       "style": "IPY_MODEL_6832a6c91acb4c0a82bc0de3a2e8ccae",
       "value": -0.6
      }
     },
     "484e697f7b4f45658ea369b2adcccbee": {
      "model_module": "@jupyter-widgets/controls",
      "model_module_version": "1.5.0",
      "model_name": "SliderStyleModel",
      "state": {
       "description_width": ""
      }
     },
     "486f62919c304c37bbcd970c2f7435d8": {
      "model_module": "@jupyter-widgets/controls",
      "model_module_version": "1.5.0",
      "model_name": "SliderStyleModel",
      "state": {
       "description_width": ""
      }
     },
     "48706bdd9977431ca708f194bdfd59fb": {
      "model_module": "@jupyter-widgets/base",
      "model_module_version": "1.2.0",
      "model_name": "LayoutModel",
      "state": {}
     },
     "489912f7ce2c4d4f9bb87e12d7df436a": {
      "model_module": "@jupyter-widgets/controls",
      "model_module_version": "1.5.0",
      "model_name": "VBoxModel",
      "state": {
       "_dom_classes": [
        "widget-interact"
       ],
       "children": [
        "IPY_MODEL_8c749dc3794e47cd899fbfd510a7515b",
        "IPY_MODEL_f3074969a3514e8496d050624a486efb"
       ],
       "layout": "IPY_MODEL_9196d220de8544a9b831e7a9f3d49d42"
      }
     },
     "4916798311d14c20949a8a99cf2b1d5e": {
      "model_module": "@jupyter-widgets/controls",
      "model_module_version": "1.5.0",
      "model_name": "VBoxModel",
      "state": {
       "_dom_classes": [
        "widget-interact"
       ],
       "children": [
        "IPY_MODEL_a4fbb3a7917e48989b6873e32ef762f0",
        "IPY_MODEL_9a401b37f6a049e99ec40462b4563358"
       ],
       "layout": "IPY_MODEL_cb984786541343ce821d0ebc92b51a59"
      }
     },
     "4927df9d842b417698bf20e57a2141af": {
      "model_module": "@jupyter-widgets/base",
      "model_module_version": "1.2.0",
      "model_name": "LayoutModel",
      "state": {}
     },
     "493773663ae2430c9a5bc84166614158": {
      "model_module": "@jupyter-widgets/base",
      "model_module_version": "1.2.0",
      "model_name": "LayoutModel",
      "state": {}
     },
     "494b4987ba7f4fc2a219df684a56fb9d": {
      "model_module": "@jupyter-widgets/base",
      "model_module_version": "1.2.0",
      "model_name": "LayoutModel",
      "state": {}
     },
     "49605e177ec744eaa7e308593d7e9d8c": {
      "model_module": "@jupyter-widgets/base",
      "model_module_version": "1.2.0",
      "model_name": "LayoutModel",
      "state": {}
     },
     "49a4ffbeb54d4aae8adb17f8f50d0d9f": {
      "model_module": "@jupyter-widgets/controls",
      "model_module_version": "1.5.0",
      "model_name": "ButtonModel",
      "state": {
       "description": "reset",
       "layout": "IPY_MODEL_17a1fec42b4848179e2f9564071fefb4",
       "style": "IPY_MODEL_4f6571e9285d4cffa94e5ac39e4c1a15"
      }
     },
     "49a939021f2843f1921603636d793a57": {
      "model_module": "@jupyter-widgets/base",
      "model_module_version": "1.2.0",
      "model_name": "LayoutModel",
      "state": {}
     },
     "49e846faa438413d85b903bca81d63e9": {
      "model_module": "@jupyter-widgets/controls",
      "model_module_version": "1.5.0",
      "model_name": "SliderStyleModel",
      "state": {
       "description_width": ""
      }
     },
     "4a60b355427d4b81a3a809a27992bc8f": {
      "model_module": "jupyter-matplotlib",
      "model_module_version": "^0.7.4",
      "model_name": "ToolbarModel",
      "state": {
       "layout": "IPY_MODEL_74a4736938764d32932e563e85b72bfb",
       "toolitems": [
        [
         "Home",
         "Reset original view",
         "home",
         "home"
        ],
        [
         "Back",
         "Back to previous view",
         "arrow-left",
         "back"
        ],
        [
         "Forward",
         "Forward to next view",
         "arrow-right",
         "forward"
        ],
        [
         "Pan",
         "Left button pans, Right button zooms\nx/y fixes axis, CTRL fixes aspect",
         "arrows",
         "pan"
        ],
        [
         "Zoom",
         "Zoom to rectangle\nx/y fixes axis, CTRL fixes aspect",
         "square-o",
         "zoom"
        ],
        [
         "Download",
         "Download plot",
         "floppy-o",
         "save_figure"
        ]
       ]
      }
     },
     "4a85970f7eb2447e9ff514bf9342938a": {
      "model_module": "@jupyter-widgets/controls",
      "model_module_version": "1.5.0",
      "model_name": "ButtonStyleModel",
      "state": {}
     },
     "4a8bc9dccfb74c90ba3a2a277cba5396": {
      "model_module": "@jupyter-widgets/controls",
      "model_module_version": "1.5.0",
      "model_name": "VBoxModel",
      "state": {
       "_dom_classes": [
        "widget-interact"
       ],
       "children": [
        "IPY_MODEL_b75c1921ff644532a44fc54d9fd01a68",
        "IPY_MODEL_c61752b7879c434989816a3e8add6298"
       ],
       "layout": "IPY_MODEL_ebdff20c987b46cabad47ef9f145adce"
      }
     },
     "4a9d354573b047ca9fb4c0f6fd555f77": {
      "model_module": "@jupyter-widgets/controls",
      "model_module_version": "1.5.0",
      "model_name": "FloatSliderModel",
      "state": {
       "description": "X",
       "layout": "IPY_MODEL_958aa867fe7b48a5881df2a51a4a5af9",
       "max": 4,
       "min": -1,
       "step": 0.2,
       "style": "IPY_MODEL_113b90d4b7c94467a09e04500629f172",
       "value": 4
      }
     },
     "4aa4ead7219e48c1a3346b7e6bb008ca": {
      "model_module": "jupyter-matplotlib",
      "model_module_version": "^0.7.4",
      "model_name": "ToolbarModel",
      "state": {
       "layout": "IPY_MODEL_80943aaeaa474da2a0b48a59da3d95a6",
       "toolitems": [
        [
         "Home",
         "Reset original view",
         "home",
         "home"
        ],
        [
         "Back",
         "Back to previous view",
         "arrow-left",
         "back"
        ],
        [
         "Forward",
         "Forward to next view",
         "arrow-right",
         "forward"
        ],
        [
         "Pan",
         "Left button pans, Right button zooms\nx/y fixes axis, CTRL fixes aspect",
         "arrows",
         "pan"
        ],
        [
         "Zoom",
         "Zoom to rectangle\nx/y fixes axis, CTRL fixes aspect",
         "square-o",
         "zoom"
        ],
        [
         "Download",
         "Download plot",
         "floppy-o",
         "save_figure"
        ]
       ]
      }
     },
     "4aa8e46c1e944bf2ba39e80f7c0bd0d6": {
      "model_module": "@jupyter-widgets/base",
      "model_module_version": "1.2.0",
      "model_name": "LayoutModel",
      "state": {}
     },
     "4aab27e46dcd4b53ba81c80e1ac1463a": {
      "model_module": "jupyter-matplotlib",
      "model_module_version": "^0.7.4",
      "model_name": "ToolbarModel",
      "state": {
       "layout": "IPY_MODEL_8d8ae10503df4a51b6051ab7acaf1c9a",
       "toolitems": [
        [
         "Home",
         "Reset original view",
         "home",
         "home"
        ],
        [
         "Back",
         "Back to previous view",
         "arrow-left",
         "back"
        ],
        [
         "Forward",
         "Forward to next view",
         "arrow-right",
         "forward"
        ],
        [
         "Pan",
         "Left button pans, Right button zooms\nx/y fixes axis, CTRL fixes aspect",
         "arrows",
         "pan"
        ],
        [
         "Zoom",
         "Zoom to rectangle\nx/y fixes axis, CTRL fixes aspect",
         "square-o",
         "zoom"
        ],
        [
         "Download",
         "Download plot",
         "floppy-o",
         "save_figure"
        ]
       ]
      }
     },
     "4afb3bdaf69a43f8b5aa2b1ad79eba61": {
      "model_module": "jupyter-matplotlib",
      "model_module_version": "^0.7.4",
      "model_name": "ToolbarModel",
      "state": {
       "layout": "IPY_MODEL_0252dea23f1447f58962b7a2d3e12b8b",
       "toolitems": [
        [
         "Home",
         "Reset original view",
         "home",
         "home"
        ],
        [
         "Back",
         "Back to previous view",
         "arrow-left",
         "back"
        ],
        [
         "Forward",
         "Forward to next view",
         "arrow-right",
         "forward"
        ],
        [
         "Pan",
         "Left button pans, Right button zooms\nx/y fixes axis, CTRL fixes aspect",
         "arrows",
         "pan"
        ],
        [
         "Zoom",
         "Zoom to rectangle\nx/y fixes axis, CTRL fixes aspect",
         "square-o",
         "zoom"
        ],
        [
         "Download",
         "Download plot",
         "floppy-o",
         "save_figure"
        ]
       ]
      }
     },
     "4b4ba75e98124f92b468211e16398e2f": {
      "model_module": "@jupyter-widgets/controls",
      "model_module_version": "1.5.0",
      "model_name": "ButtonStyleModel",
      "state": {}
     },
     "4b5aed74081c4f1f9f550a26871d3d60": {
      "model_module": "@jupyter-widgets/base",
      "model_module_version": "1.2.0",
      "model_name": "LayoutModel",
      "state": {}
     },
     "4c3310e2a7f84019a4926fcd25c4216e": {
      "model_module": "@jupyter-widgets/controls",
      "model_module_version": "1.5.0",
      "model_name": "FloatSliderModel",
      "state": {
       "description": "x",
       "layout": "IPY_MODEL_73ec3c056cc44f91b97ad0793dbd356b",
       "max": 5,
       "min": -1,
       "step": 0.2,
       "style": "IPY_MODEL_342617a9843446dcbc39207fa6ed47d0"
      }
     },
     "4cc1268091a644e39aa5461bcf9c29a3": {
      "model_module": "@jupyter-widgets/base",
      "model_module_version": "1.2.0",
      "model_name": "LayoutModel",
      "state": {}
     },
     "4d33bdb17e3848169fd7a4a8f664ac71": {
      "model_module": "@jupyter-widgets/controls",
      "model_module_version": "1.5.0",
      "model_name": "FloatSliderModel",
      "state": {
       "description": "x",
       "layout": "IPY_MODEL_ff3af74a00c842588817860e3d1f7221",
       "max": 5,
       "min": -1,
       "step": 0.1,
       "style": "IPY_MODEL_f68b8a196ca94552b2e4a87da96a1806",
       "value": -1
      }
     },
     "4e71cdeece984c35b7a04b5af149f780": {
      "model_module": "@jupyter-widgets/base",
      "model_module_version": "1.2.0",
      "model_name": "LayoutModel",
      "state": {}
     },
     "4e9bec7d7a1e4c368d055abe816a9252": {
      "model_module": "@jupyter-widgets/controls",
      "model_module_version": "1.5.0",
      "model_name": "ButtonStyleModel",
      "state": {}
     },
     "4f197fc257e94136a243ceb7bd573122": {
      "model_module": "jupyter-matplotlib",
      "model_module_version": "^0.7.4",
      "model_name": "ToolbarModel",
      "state": {
       "layout": "IPY_MODEL_329faf2a50354ef3845eaab594f73f04",
       "toolitems": [
        [
         "Home",
         "Reset original view",
         "home",
         "home"
        ],
        [
         "Back",
         "Back to previous view",
         "arrow-left",
         "back"
        ],
        [
         "Forward",
         "Forward to next view",
         "arrow-right",
         "forward"
        ],
        [
         "Pan",
         "Left button pans, Right button zooms\nx/y fixes axis, CTRL fixes aspect",
         "arrows",
         "pan"
        ],
        [
         "Zoom",
         "Zoom to rectangle\nx/y fixes axis, CTRL fixes aspect",
         "square-o",
         "zoom"
        ],
        [
         "Download",
         "Download plot",
         "floppy-o",
         "save_figure"
        ]
       ]
      }
     },
     "4f6571e9285d4cffa94e5ac39e4c1a15": {
      "model_module": "@jupyter-widgets/controls",
      "model_module_version": "1.5.0",
      "model_name": "ButtonStyleModel",
      "state": {}
     },
     "4f707daeebdf41059600f859b308a5df": {
      "model_module": "jupyter-matplotlib",
      "model_module_version": "^0.7.4",
      "model_name": "ToolbarModel",
      "state": {
       "layout": "IPY_MODEL_89801aa53b684ddebe75efa00ce58aed",
       "toolitems": [
        [
         "Home",
         "Reset original view",
         "home",
         "home"
        ],
        [
         "Back",
         "Back to previous view",
         "arrow-left",
         "back"
        ],
        [
         "Forward",
         "Forward to next view",
         "arrow-right",
         "forward"
        ],
        [
         "Pan",
         "Left button pans, Right button zooms\nx/y fixes axis, CTRL fixes aspect",
         "arrows",
         "pan"
        ],
        [
         "Zoom",
         "Zoom to rectangle\nx/y fixes axis, CTRL fixes aspect",
         "square-o",
         "zoom"
        ],
        [
         "Download",
         "Download plot",
         "floppy-o",
         "save_figure"
        ]
       ]
      }
     },
     "4fa9d85d0f334c509e2f7669e6bf76d6": {
      "model_module": "@jupyter-widgets/base",
      "model_module_version": "1.2.0",
      "model_name": "LayoutModel",
      "state": {}
     },
     "50106ae01c10454b99a8bfd08023e4a0": {
      "model_module": "@jupyter-widgets/controls",
      "model_module_version": "1.5.0",
      "model_name": "SliderStyleModel",
      "state": {
       "description_width": ""
      }
     },
     "511d901d7bd24ae991d19182757e92e3": {
      "model_module": "@jupyter-widgets/controls",
      "model_module_version": "1.5.0",
      "model_name": "SliderStyleModel",
      "state": {
       "description_width": ""
      }
     },
     "51943abecb074c76959b3a0ad802d1e3": {
      "model_module": "@jupyter-widgets/controls",
      "model_module_version": "1.5.0",
      "model_name": "ButtonModel",
      "state": {
       "description": "reset",
       "layout": "IPY_MODEL_fa25be0d637041c8bfdc5c330d8fa1dc",
       "style": "IPY_MODEL_df619db900644df28a3f569e3bb80564"
      }
     },
     "51d512f460f6476fbf071b23915a8f3a": {
      "model_module": "@jupyter-widgets/base",
      "model_module_version": "1.2.0",
      "model_name": "LayoutModel",
      "state": {}
     },
     "522bcf96f6d443f7ae62f9359ca7f264": {
      "model_module": "@jupyter-widgets/controls",
      "model_module_version": "1.5.0",
      "model_name": "ButtonStyleModel",
      "state": {}
     },
     "5232c61121194706b78d2061560e0d11": {
      "model_module": "@jupyter-widgets/controls",
      "model_module_version": "1.5.0",
      "model_name": "ButtonStyleModel",
      "state": {}
     },
     "526b5f7317aa4877b259c928ebb87eb5": {
      "model_module": "@jupyter-widgets/base",
      "model_module_version": "1.2.0",
      "model_name": "LayoutModel",
      "state": {}
     },
     "5289faf0403d41369caa44582b137d22": {
      "model_module": "@jupyter-widgets/controls",
      "model_module_version": "1.5.0",
      "model_name": "VBoxModel",
      "state": {
       "_dom_classes": [
        "widget-interact"
       ],
       "children": [
        "IPY_MODEL_5f7b60301a034e87a2911c9632cda132",
        "IPY_MODEL_a40a5b067a0848f186dea82cd7a2ad7a"
       ],
       "layout": "IPY_MODEL_7372b939483b4426bfdd917c7d9d21bd"
      }
     },
     "52af2a505ad84714924b867e68a343ac": {
      "model_module": "@jupyter-widgets/controls",
      "model_module_version": "1.5.0",
      "model_name": "FloatSliderModel",
      "state": {
       "description": "x",
       "layout": "IPY_MODEL_b7d2e434e5ca4e408d825f14a6ea1b80",
       "max": 5,
       "min": -1,
       "step": 0.2,
       "style": "IPY_MODEL_97a0b50e184d4dea86421ac0a19540f0",
       "value": 0.8
      }
     },
     "52b58ef1df8b4ab38cbc0007496c0639": {
      "model_module": "@jupyter-widgets/output",
      "model_module_version": "1.0.0",
      "model_name": "OutputModel",
      "state": {
       "layout": "IPY_MODEL_18784e2b6b0a43a3840806c2182c6129"
      }
     },
     "52c04b5ac6044f47b287418f49971bdf": {
      "model_module": "@jupyter-widgets/base",
      "model_module_version": "1.2.0",
      "model_name": "LayoutModel",
      "state": {}
     },
     "52ef5be50e3240b5aadc1f4d5fd8feee": {
      "model_module": "@jupyter-widgets/controls",
      "model_module_version": "1.5.0",
      "model_name": "FloatSliderModel",
      "state": {
       "description": "x",
       "layout": "IPY_MODEL_bd6a3cc604414404a29c1a7b4b93b96e",
       "max": 5.5,
       "min": -0.5,
       "step": 0.2,
       "style": "IPY_MODEL_6b7a17c8a48a4204a17022d304f9e494"
      }
     },
     "536d824d0b7542a5a24cf119d6b8b4eb": {
      "model_module": "@jupyter-widgets/controls",
      "model_module_version": "1.5.0",
      "model_name": "VBoxModel",
      "state": {
       "_dom_classes": [
        "widget-interact"
       ],
       "children": [
        "IPY_MODEL_28c062b5df964755a0fa68826c8ea43d",
        "IPY_MODEL_65615601456c4f2d9851c7e12babcf5b"
       ],
       "layout": "IPY_MODEL_d52a91a4e05e44b7882c08ebfcfb1ad1"
      }
     },
     "539abf394ef54afd996ecefe0e0f0197": {
      "model_module": "@jupyter-widgets/base",
      "model_module_version": "1.2.0",
      "model_name": "LayoutModel",
      "state": {}
     },
     "53a09696415c46399f69ffe2827f96f4": {
      "model_module": "@jupyter-widgets/controls",
      "model_module_version": "1.5.0",
      "model_name": "SliderStyleModel",
      "state": {
       "description_width": ""
      }
     },
     "53a71b213d36434b87b70f67bda45030": {
      "model_module": "@jupyter-widgets/base",
      "model_module_version": "1.2.0",
      "model_name": "LayoutModel",
      "state": {}
     },
     "53e346718dbb4b89bb5bcff633853f1b": {
      "model_module": "@jupyter-widgets/controls",
      "model_module_version": "1.5.0",
      "model_name": "VBoxModel",
      "state": {
       "children": [
        "IPY_MODEL_f7fd55ebd9b54487b681165a05303301"
       ],
       "layout": "IPY_MODEL_01bd7edd70844303b577f24e8e6c00a4"
      }
     },
     "54247efa230647c598bf2649c99a606e": {
      "model_module": "@jupyter-widgets/controls",
      "model_module_version": "1.5.0",
      "model_name": "VBoxModel",
      "state": {
       "children": [
        "IPY_MODEL_0f954168d138440280e7ed03cade7a21"
       ],
       "layout": "IPY_MODEL_5ef3a85e4765477da221d1bbca37d2f9"
      }
     },
     "545fb41ce4f2497bac1e013b4bfac680": {
      "model_module": "@jupyter-widgets/base",
      "model_module_version": "1.2.0",
      "model_name": "LayoutModel",
      "state": {}
     },
     "5498fb8afce34217b347026f76aba87c": {
      "model_module": "@jupyter-widgets/controls",
      "model_module_version": "1.5.0",
      "model_name": "SliderStyleModel",
      "state": {
       "description_width": ""
      }
     },
     "54d164d071804114bcd7797517c1aebf": {
      "model_module": "@jupyter-widgets/base",
      "model_module_version": "1.2.0",
      "model_name": "LayoutModel",
      "state": {}
     },
     "54fd933419ec486885c9da867b29c4e3": {
      "model_module": "@jupyter-widgets/controls",
      "model_module_version": "1.5.0",
      "model_name": "FloatSliderModel",
      "state": {
       "description": "x",
       "layout": "IPY_MODEL_60334436940e400aa5e7944b2d7a3c3d",
       "max": 5,
       "min": -1,
       "step": 0.2,
       "style": "IPY_MODEL_50106ae01c10454b99a8bfd08023e4a0",
       "value": -0.6
      }
     },
     "55001d4679414d53b73b8886b0332253": {
      "model_module": "@jupyter-widgets/base",
      "model_module_version": "1.2.0",
      "model_name": "LayoutModel",
      "state": {}
     },
     "553001068d87414eabf61a387bf350b9": {
      "model_module": "@jupyter-widgets/controls",
      "model_module_version": "1.5.0",
      "model_name": "VBoxModel",
      "state": {
       "_dom_classes": [
        "widget-interact"
       ],
       "children": [
        "IPY_MODEL_8ae02739b9bc4fa09fe77770371b88aa",
        "IPY_MODEL_e8e42ab1ff164948a939246a54e9e7a5"
       ],
       "layout": "IPY_MODEL_d6790a1cb37145fc85981cdca526ea16"
      }
     },
     "55fe0d0ddab747deafa01267ce740f25": {
      "model_module": "@jupyter-widgets/output",
      "model_module_version": "1.0.0",
      "model_name": "OutputModel",
      "state": {
       "layout": "IPY_MODEL_f97b13517ef3435a99c31c1f41b2502c"
      }
     },
     "57147e60778d4a59acf718cf92182d09": {
      "model_module": "@jupyter-widgets/controls",
      "model_module_version": "1.5.0",
      "model_name": "ButtonModel",
      "state": {
       "description": "reset",
       "layout": "IPY_MODEL_0a70aa16d99f48dca9e9025c8a7f678e",
       "style": "IPY_MODEL_c03241f2f0904203b8d0dcc437c68633"
      }
     },
     "575ed4126c5d474e80bced633719275e": {
      "model_module": "@jupyter-widgets/controls",
      "model_module_version": "1.5.0",
      "model_name": "ButtonModel",
      "state": {
       "description": "reset",
       "layout": "IPY_MODEL_0f40412920cb4a14a36f820151315e45",
       "style": "IPY_MODEL_3c677192a8c54ff9a804d12cd55128b8"
      }
     },
     "57615556b15b4f788c2a76290e9d5708": {
      "model_module": "@jupyter-widgets/base",
      "model_module_version": "1.2.0",
      "model_name": "LayoutModel",
      "state": {}
     },
     "57d704d9b8b84a559d24a72306a3c338": {
      "model_module": "@jupyter-widgets/output",
      "model_module_version": "1.0.0",
      "model_name": "OutputModel",
      "state": {
       "layout": "IPY_MODEL_35246bdf6bd14eb69e643e216e924ad3"
      }
     },
     "57fe134482ea42999f7fe4120e18efba": {
      "model_module": "@jupyter-widgets/base",
      "model_module_version": "1.2.0",
      "model_name": "LayoutModel",
      "state": {}
     },
     "58223e18232641b988d3ff4042b628b9": {
      "model_module": "@jupyter-widgets/controls",
      "model_module_version": "1.5.0",
      "model_name": "ButtonModel",
      "state": {
       "description": "reset",
       "layout": "IPY_MODEL_7eb622b75e54474b9c05fdad495f7bff",
       "style": "IPY_MODEL_c8f2fba4dec04a6b8cdc9d5ab46d6d3b"
      }
     },
     "5833fe33776149b397481e7a99db74c0": {
      "model_module": "@jupyter-widgets/base",
      "model_module_version": "1.2.0",
      "model_name": "LayoutModel",
      "state": {}
     },
     "5865bc9389ad4162874f6e66fca44a44": {
      "model_module": "@jupyter-widgets/base",
      "model_module_version": "1.2.0",
      "model_name": "LayoutModel",
      "state": {}
     },
     "58dd87206f6c4ab3801e2b952c86dae2": {
      "model_module": "@jupyter-widgets/base",
      "model_module_version": "1.2.0",
      "model_name": "LayoutModel",
      "state": {}
     },
     "58e5e0fe563e4312a4ab555c7f13c581": {
      "model_module": "@jupyter-widgets/controls",
      "model_module_version": "1.5.0",
      "model_name": "ButtonStyleModel",
      "state": {}
     },
     "593e80a4dad04bcf972b4182f1f0c132": {
      "model_module": "@jupyter-widgets/base",
      "model_module_version": "1.2.0",
      "model_name": "LayoutModel",
      "state": {}
     },
     "594223ed66164933983af0fdef266ab7": {
      "model_module": "@jupyter-widgets/base",
      "model_module_version": "1.2.0",
      "model_name": "LayoutModel",
      "state": {}
     },
     "594b26d5466448579f9c7677652f479f": {
      "model_module": "@jupyter-widgets/base",
      "model_module_version": "1.2.0",
      "model_name": "LayoutModel",
      "state": {}
     },
     "59b930f507bd4c52a5ce298ddf2f9444": {
      "model_module": "jupyter-matplotlib",
      "model_module_version": "^0.7.4",
      "model_name": "ToolbarModel",
      "state": {
       "layout": "IPY_MODEL_bd77237e7e9a4f9ca7e6d8beb8c46fd7",
       "toolitems": [
        [
         "Home",
         "Reset original view",
         "home",
         "home"
        ],
        [
         "Back",
         "Back to previous view",
         "arrow-left",
         "back"
        ],
        [
         "Forward",
         "Forward to next view",
         "arrow-right",
         "forward"
        ],
        [
         "Pan",
         "Left button pans, Right button zooms\nx/y fixes axis, CTRL fixes aspect",
         "arrows",
         "pan"
        ],
        [
         "Zoom",
         "Zoom to rectangle\nx/y fixes axis, CTRL fixes aspect",
         "square-o",
         "zoom"
        ],
        [
         "Download",
         "Download plot",
         "floppy-o",
         "save_figure"
        ]
       ]
      }
     },
     "5a7399f9ffd64db3a9e342228bee0d0c": {
      "model_module": "@jupyter-widgets/output",
      "model_module_version": "1.0.0",
      "model_name": "OutputModel",
      "state": {
       "layout": "IPY_MODEL_53a71b213d36434b87b70f67bda45030"
      }
     },
     "5a843625bb244dedabc7de09331cd12f": {
      "model_module": "@jupyter-widgets/output",
      "model_module_version": "1.0.0",
      "model_name": "OutputModel",
      "state": {
       "layout": "IPY_MODEL_d24989b22f624497b9c3ba6d235a1e1c"
      }
     },
     "5b458b4dff6a4dd1bda36601dea2d5b5": {
      "model_module": "@jupyter-widgets/output",
      "model_module_version": "1.0.0",
      "model_name": "OutputModel",
      "state": {
       "layout": "IPY_MODEL_06f69a7b95034056956ed9451c6be36c"
      }
     },
     "5b5358a7b4dd430681f183f332c5b649": {
      "model_module": "@jupyter-widgets/controls",
      "model_module_version": "1.5.0",
      "model_name": "ButtonStyleModel",
      "state": {}
     },
     "5b5b9675138e4d098f27f7b076ddd155": {
      "model_module": "@jupyter-widgets/controls",
      "model_module_version": "1.5.0",
      "model_name": "SliderStyleModel",
      "state": {
       "description_width": ""
      }
     },
     "5becabfa34764f43abcd0bb71a3eefc1": {
      "model_module": "@jupyter-widgets/base",
      "model_module_version": "1.2.0",
      "model_name": "LayoutModel",
      "state": {}
     },
     "5c0b1dcc7bca4b39b283b32b456a3b29": {
      "model_module": "@jupyter-widgets/controls",
      "model_module_version": "1.5.0",
      "model_name": "ButtonModel",
      "state": {
       "description": "reset",
       "layout": "IPY_MODEL_9c5140394f4040acbfd65fc7bd017eea",
       "style": "IPY_MODEL_4e9bec7d7a1e4c368d055abe816a9252"
      }
     },
     "5c2e9709b6a64b7a80e91b4543bacce5": {
      "model_module": "@jupyter-widgets/base",
      "model_module_version": "1.2.0",
      "model_name": "LayoutModel",
      "state": {}
     },
     "5c329cbbf82141249a96c8834291fee2": {
      "model_module": "@jupyter-widgets/base",
      "model_module_version": "1.2.0",
      "model_name": "LayoutModel",
      "state": {}
     },
     "5ceb3939eaaf4978865e67ea4ff08856": {
      "model_module": "@jupyter-widgets/base",
      "model_module_version": "1.2.0",
      "model_name": "LayoutModel",
      "state": {}
     },
     "5db9d810f93c424daba139d941fdf329": {
      "model_module": "@jupyter-widgets/controls",
      "model_module_version": "1.5.0",
      "model_name": "ButtonStyleModel",
      "state": {}
     },
     "5dcf038a5bad4373aba4054c59bd2634": {
      "model_module": "@jupyter-widgets/base",
      "model_module_version": "1.2.0",
      "model_name": "LayoutModel",
      "state": {}
     },
     "5df651d826c74756b2a196d88f321cb7": {
      "model_module": "@jupyter-widgets/base",
      "model_module_version": "1.2.0",
      "model_name": "LayoutModel",
      "state": {}
     },
     "5df6d3e2f53f4a1387117ad29ccb532f": {
      "model_module": "@jupyter-widgets/output",
      "model_module_version": "1.0.0",
      "model_name": "OutputModel",
      "state": {
       "layout": "IPY_MODEL_7b2ad12655b847649383920883376c56"
      }
     },
     "5e27ec2bdaa64bf69678b20877fd33e4": {
      "model_module": "@jupyter-widgets/output",
      "model_module_version": "1.0.0",
      "model_name": "OutputModel",
      "state": {
       "layout": "IPY_MODEL_40452d5e19884ac9855094a2b27aa181"
      }
     },
     "5e80acc573f544a3b2047822b9f0d0d3": {
      "model_module": "@jupyter-widgets/base",
      "model_module_version": "1.2.0",
      "model_name": "LayoutModel",
      "state": {}
     },
     "5eddc4ff8b2d43cf9ec84a3dd767a53f": {
      "model_module": "@jupyter-widgets/base",
      "model_module_version": "1.2.0",
      "model_name": "LayoutModel",
      "state": {}
     },
     "5ee86f1261884a598a122869eed069fe": {
      "model_module": "@jupyter-widgets/base",
      "model_module_version": "1.2.0",
      "model_name": "LayoutModel",
      "state": {}
     },
     "5ef3a85e4765477da221d1bbca37d2f9": {
      "model_module": "@jupyter-widgets/base",
      "model_module_version": "1.2.0",
      "model_name": "LayoutModel",
      "state": {}
     },
     "5f4234ee1bb445a297883abed53999e6": {
      "model_module": "@jupyter-widgets/base",
      "model_module_version": "1.2.0",
      "model_name": "LayoutModel",
      "state": {}
     },
     "5f5218e083564fcbad046fbe968b7ba3": {
      "model_module": "@jupyter-widgets/base",
      "model_module_version": "1.2.0",
      "model_name": "LayoutModel",
      "state": {}
     },
     "5f7b60301a034e87a2911c9632cda132": {
      "model_module": "@jupyter-widgets/controls",
      "model_module_version": "1.5.0",
      "model_name": "FloatSliderModel",
      "state": {
       "description": "x",
       "layout": "IPY_MODEL_ba14da24e9f64b678b2bbbb1fdeee596",
       "max": 5,
       "min": -1,
       "step": 0.2,
       "style": "IPY_MODEL_53a09696415c46399f69ffe2827f96f4",
       "value": 0.8
      }
     },
     "5f9f3b83cf08487ebe3144560a2a6414": {
      "model_module": "@jupyter-widgets/controls",
      "model_module_version": "1.5.0",
      "model_name": "VBoxModel",
      "state": {
       "_dom_classes": [
        "widget-interact"
       ],
       "children": [
        "IPY_MODEL_26a6d592b2ea48ca80fd68d6161ef9a7",
        "IPY_MODEL_a6a7d2c3c38044a0b78e1df33307c8f3"
       ],
       "layout": "IPY_MODEL_cef569b44e7e405f868e09e8a9095d6c"
      }
     },
     "5fb0fc2eec304edebf4aeac4cf586d3f": {
      "model_module": "@jupyter-widgets/base",
      "model_module_version": "1.2.0",
      "model_name": "LayoutModel",
      "state": {}
     },
     "5fc88576225f4c6497782f312e840d5a": {
      "model_module": "@jupyter-widgets/output",
      "model_module_version": "1.0.0",
      "model_name": "OutputModel",
      "state": {
       "layout": "IPY_MODEL_9defb88a61a14106879fb57e8911154a"
      }
     },
     "5fe422f4af51425a929ac056a0ae60c9": {
      "model_module": "@jupyter-widgets/base",
      "model_module_version": "1.2.0",
      "model_name": "LayoutModel",
      "state": {}
     },
     "602bf4cada7642f9aa65ef50e7630a5c": {
      "model_module": "@jupyter-widgets/base",
      "model_module_version": "1.2.0",
      "model_name": "LayoutModel",
      "state": {}
     },
     "602c6b371ff5444e8cdb80d2f5542cb6": {
      "model_module": "@jupyter-widgets/base",
      "model_module_version": "1.2.0",
      "model_name": "LayoutModel",
      "state": {}
     },
     "60334436940e400aa5e7944b2d7a3c3d": {
      "model_module": "@jupyter-widgets/base",
      "model_module_version": "1.2.0",
      "model_name": "LayoutModel",
      "state": {}
     },
     "60e3afdf0f5e4fbabf70e435846997bb": {
      "model_module": "@jupyter-widgets/controls",
      "model_module_version": "1.5.0",
      "model_name": "VBoxModel",
      "state": {
       "_dom_classes": [
        "widget-interact"
       ],
       "children": [
        "IPY_MODEL_3d495ec75042491cb84745534daf2089",
        "IPY_MODEL_2bf8a69953794c94bd820802a40df109"
       ],
       "layout": "IPY_MODEL_a7394cd490f5487d9675e65621876fe6"
      }
     },
     "613e397a6adf43c49aeaca693e5ed6f7": {
      "model_module": "jupyter-matplotlib",
      "model_module_version": "^0.7.4",
      "model_name": "ToolbarModel",
      "state": {
       "layout": "IPY_MODEL_31d8ac741d2f42b2b388bfdb0766d4d9",
       "toolitems": [
        [
         "Home",
         "Reset original view",
         "home",
         "home"
        ],
        [
         "Back",
         "Back to previous view",
         "arrow-left",
         "back"
        ],
        [
         "Forward",
         "Forward to next view",
         "arrow-right",
         "forward"
        ],
        [
         "Pan",
         "Left button pans, Right button zooms\nx/y fixes axis, CTRL fixes aspect",
         "arrows",
         "pan"
        ],
        [
         "Zoom",
         "Zoom to rectangle\nx/y fixes axis, CTRL fixes aspect",
         "square-o",
         "zoom"
        ],
        [
         "Download",
         "Download plot",
         "floppy-o",
         "save_figure"
        ]
       ]
      }
     },
     "6151783177dc4a92a36194150c55666a": {
      "model_module": "@jupyter-widgets/controls",
      "model_module_version": "1.5.0",
      "model_name": "SliderStyleModel",
      "state": {
       "description_width": ""
      }
     },
     "61a6e590fc884d9ba62d5fe2a315a74d": {
      "model_module": "@jupyter-widgets/base",
      "model_module_version": "1.2.0",
      "model_name": "LayoutModel",
      "state": {}
     },
     "62528a6ac6464868a5f6a42d034067a9": {
      "model_module": "@jupyter-widgets/base",
      "model_module_version": "1.2.0",
      "model_name": "LayoutModel",
      "state": {}
     },
     "626875539add4f9d8265863e37796419": {
      "model_module": "@jupyter-widgets/controls",
      "model_module_version": "1.5.0",
      "model_name": "ButtonStyleModel",
      "state": {}
     },
     "626dbce4d1ce4b8cbc8f68c5edce90f2": {
      "model_module": "@jupyter-widgets/controls",
      "model_module_version": "1.5.0",
      "model_name": "FloatSliderModel",
      "state": {
       "description": "x",
       "layout": "IPY_MODEL_961bc659e87546369b0ee346984f4db8",
       "max": 5,
       "min": -1,
       "step": 0.2,
       "style": "IPY_MODEL_2d855d36f4a342bdb5a75e856d0d1e46"
      }
     },
     "626e789eed1b4b4a9751e8a5de419fae": {
      "model_module": "@jupyter-widgets/controls",
      "model_module_version": "1.5.0",
      "model_name": "VBoxModel",
      "state": {
       "_dom_classes": [
        "widget-interact"
       ],
       "children": [
        "IPY_MODEL_4c3310e2a7f84019a4926fcd25c4216e",
        "IPY_MODEL_9cff34dbaaea4a5db7c11c898b7754c3"
       ],
       "layout": "IPY_MODEL_020f7c3caea243c6839d4650b1cbc3d3"
      }
     },
     "628c70b2c3434cdf8d1bb5722f477a0f": {
      "model_module": "@jupyter-widgets/base",
      "model_module_version": "1.2.0",
      "model_name": "LayoutModel",
      "state": {}
     },
     "62bd3b1f4ab641258dbe405fa41292ea": {
      "model_module": "@jupyter-widgets/base",
      "model_module_version": "1.2.0",
      "model_name": "LayoutModel",
      "state": {}
     },
     "62cedf4bd0d147718f12b4f61f530bb9": {
      "model_module": "@jupyter-widgets/base",
      "model_module_version": "1.2.0",
      "model_name": "LayoutModel",
      "state": {}
     },
     "63691711a5ff4554a1446e49e1817b85": {
      "model_module": "@jupyter-widgets/base",
      "model_module_version": "1.2.0",
      "model_name": "LayoutModel",
      "state": {}
     },
     "63734089fd5044a19351d90d9e89e64d": {
      "model_module": "@jupyter-widgets/base",
      "model_module_version": "1.2.0",
      "model_name": "LayoutModel",
      "state": {}
     },
     "637822d1773e46bd9991ce7bfa3f26f5": {
      "model_module": "@jupyter-widgets/base",
      "model_module_version": "1.2.0",
      "model_name": "LayoutModel",
      "state": {}
     },
     "63ad554f2ccb40d289ac08e02c051ba1": {
      "model_module": "@jupyter-widgets/base",
      "model_module_version": "1.2.0",
      "model_name": "LayoutModel",
      "state": {}
     },
     "63b6184b8f4d4517a0e0e951fcaa5e1a": {
      "model_module": "@jupyter-widgets/output",
      "model_module_version": "1.0.0",
      "model_name": "OutputModel",
      "state": {
       "layout": "IPY_MODEL_dc88e4b3bada4609840e36a0e92aab7d",
       "outputs": [
        {
         "ename": "AttributeError",
         "evalue": "'Line2D' object has no attribute 'set_position'",
         "output_type": "error",
         "traceback": [
          "\u001b[0;31m---------------------------------------------------------------------------\u001b[0m",
          "\u001b[0;31mAttributeError\u001b[0m                            Traceback (most recent call last)",
          "\u001b[0;32m/usr/local/lib/python3.8/site-packages/ipywidgets/widgets/interaction.py\u001b[0m in \u001b[0;36mupdate\u001b[0;34m(self, *args)\u001b[0m\n\u001b[1;32m    254\u001b[0m                     \u001b[0mvalue\u001b[0m \u001b[0;34m=\u001b[0m \u001b[0mwidget\u001b[0m\u001b[0;34m.\u001b[0m\u001b[0mget_interact_value\u001b[0m\u001b[0;34m(\u001b[0m\u001b[0;34m)\u001b[0m\u001b[0;34m\u001b[0m\u001b[0;34m\u001b[0m\u001b[0m\n\u001b[1;32m    255\u001b[0m                     \u001b[0mself\u001b[0m\u001b[0;34m.\u001b[0m\u001b[0mkwargs\u001b[0m\u001b[0;34m[\u001b[0m\u001b[0mwidget\u001b[0m\u001b[0;34m.\u001b[0m\u001b[0m_kwarg\u001b[0m\u001b[0;34m]\u001b[0m \u001b[0;34m=\u001b[0m \u001b[0mvalue\u001b[0m\u001b[0;34m\u001b[0m\u001b[0;34m\u001b[0m\u001b[0m\n\u001b[0;32m--> 256\u001b[0;31m                 \u001b[0mself\u001b[0m\u001b[0;34m.\u001b[0m\u001b[0mresult\u001b[0m \u001b[0;34m=\u001b[0m \u001b[0mself\u001b[0m\u001b[0;34m.\u001b[0m\u001b[0mf\u001b[0m\u001b[0;34m(\u001b[0m\u001b[0;34m**\u001b[0m\u001b[0mself\u001b[0m\u001b[0;34m.\u001b[0m\u001b[0mkwargs\u001b[0m\u001b[0;34m)\u001b[0m\u001b[0;34m\u001b[0m\u001b[0;34m\u001b[0m\u001b[0m\n\u001b[0m\u001b[1;32m    257\u001b[0m                 \u001b[0mshow_inline_matplotlib_plots\u001b[0m\u001b[0;34m(\u001b[0m\u001b[0;34m)\u001b[0m\u001b[0;34m\u001b[0m\u001b[0;34m\u001b[0m\u001b[0m\n\u001b[1;32m    258\u001b[0m                 \u001b[0;32mif\u001b[0m \u001b[0mself\u001b[0m\u001b[0;34m.\u001b[0m\u001b[0mauto_display\u001b[0m \u001b[0;32mand\u001b[0m \u001b[0mself\u001b[0m\u001b[0;34m.\u001b[0m\u001b[0mresult\u001b[0m \u001b[0;32mis\u001b[0m \u001b[0;32mnot\u001b[0m \u001b[0;32mNone\u001b[0m\u001b[0;34m:\u001b[0m\u001b[0;34m\u001b[0m\u001b[0;34m\u001b[0m\u001b[0m\n",
          "\u001b[0;32m<ipython-input-44-93d5359198af>\u001b[0m in \u001b[0;36mupdate\u001b[0;34m(x)\u001b[0m\n\u001b[1;32m     54\u001b[0m     \u001b[0mt2\u001b[0m\u001b[0;34m.\u001b[0m\u001b[0mset_text\u001b[0m\u001b[0;34m(\u001b[0m\u001b[0;34mr\"$d_s=%.1f$ m\"\u001b[0m \u001b[0;34m%\u001b[0m\u001b[0md2\u001b[0m\u001b[0;34m)\u001b[0m\u001b[0;34m\u001b[0m\u001b[0;34m\u001b[0m\u001b[0m\n\u001b[1;32m     55\u001b[0m     \u001b[0max\u001b[0m\u001b[0;34m[\u001b[0m\u001b[0;36m1\u001b[0m\u001b[0;34m]\u001b[0m\u001b[0;34m.\u001b[0m\u001b[0mplot\u001b[0m\u001b[0;34m(\u001b[0m\u001b[0mx\u001b[0m\u001b[0;34m,\u001b[0m \u001b[0md1\u001b[0m\u001b[0;34m/\u001b[0m\u001b[0mv1\u001b[0m \u001b[0;34m+\u001b[0m \u001b[0md2\u001b[0m\u001b[0;34m/\u001b[0m\u001b[0mv2\u001b[0m\u001b[0;34m,\u001b[0m \u001b[0;34m\".\"\u001b[0m\u001b[0;34m,\u001b[0m \u001b[0mcolor\u001b[0m\u001b[0;34m=\u001b[0m\u001b[0;34m\"C1\"\u001b[0m\u001b[0;34m)\u001b[0m\u001b[0;34m\u001b[0m\u001b[0;34m\u001b[0m\u001b[0m\n\u001b[0;32m---> 56\u001b[0;31m     \u001b[0mlt\u001b[0m\u001b[0;34m.\u001b[0m\u001b[0mset_position\u001b[0m\u001b[0;34m(\u001b[0m\u001b[0mx\u001b[0m\u001b[0;34m,\u001b[0m \u001b[0md1\u001b[0m\u001b[0;34m/\u001b[0m\u001b[0mv1\u001b[0m \u001b[0;34m+\u001b[0m \u001b[0md2\u001b[0m\u001b[0;34m/\u001b[0m\u001b[0mv2\u001b[0m\u001b[0;34m)\u001b[0m\u001b[0;34m\u001b[0m\u001b[0;34m\u001b[0m\u001b[0m\n\u001b[0m\u001b[1;32m     57\u001b[0m     \u001b[0max\u001b[0m\u001b[0;34m[\u001b[0m\u001b[0;36m0\u001b[0m\u001b[0;34m]\u001b[0m\u001b[0;34m.\u001b[0m\u001b[0mfigure\u001b[0m\u001b[0;34m.\u001b[0m\u001b[0mcanvas\u001b[0m\u001b[0;34m.\u001b[0m\u001b[0mdraw\u001b[0m\u001b[0;34m(\u001b[0m\u001b[0;34m)\u001b[0m\u001b[0;34m\u001b[0m\u001b[0;34m\u001b[0m\u001b[0m\n\u001b[1;32m     58\u001b[0m     \u001b[0max\u001b[0m\u001b[0;34m[\u001b[0m\u001b[0;36m1\u001b[0m\u001b[0;34m]\u001b[0m\u001b[0;34m.\u001b[0m\u001b[0mfigure\u001b[0m\u001b[0;34m.\u001b[0m\u001b[0mcanvas\u001b[0m\u001b[0;34m.\u001b[0m\u001b[0mdraw\u001b[0m\u001b[0;34m(\u001b[0m\u001b[0;34m)\u001b[0m\u001b[0;34m\u001b[0m\u001b[0;34m\u001b[0m\u001b[0m\n",
          "\u001b[0;31mAttributeError\u001b[0m: 'Line2D' object has no attribute 'set_position'"
         ]
        }
       ]
      }
     },
     "641ebff81c1f4d29b8af123a314862ef": {
      "model_module": "@jupyter-widgets/base",
      "model_module_version": "1.2.0",
      "model_name": "LayoutModel",
      "state": {}
     },
     "642c3a8cc43a45f3a395af126fd90c83": {
      "model_module": "@jupyter-widgets/base",
      "model_module_version": "1.2.0",
      "model_name": "LayoutModel",
      "state": {}
     },
     "64cdd7f33cbb4d01ab4ce77da05e4489": {
      "model_module": "@jupyter-widgets/output",
      "model_module_version": "1.0.0",
      "model_name": "OutputModel",
      "state": {
       "layout": "IPY_MODEL_bad5da5170ae4e128991891dcab0b120"
      }
     },
     "64d43fdc92b14564b262ebd88f9eec06": {
      "model_module": "@jupyter-widgets/controls",
      "model_module_version": "1.5.0",
      "model_name": "SliderStyleModel",
      "state": {
       "description_width": ""
      }
     },
     "651a256e90974f258f2b7777c77be89a": {
      "model_module": "@jupyter-widgets/base",
      "model_module_version": "1.2.0",
      "model_name": "LayoutModel",
      "state": {}
     },
     "652e9e2ef8cf4742ab04ad4ce3e915e1": {
      "model_module": "@jupyter-widgets/controls",
      "model_module_version": "1.5.0",
      "model_name": "FloatSliderModel",
      "state": {
       "description": "x",
       "layout": "IPY_MODEL_2ec54412e71a45f5ae98fd625779ea57",
       "max": 5,
       "min": -1,
       "step": 0.2,
       "style": "IPY_MODEL_0a8bfbf464ca4ccab685f82aa4dc0c8f",
       "value": 0.2
      }
     },
     "653ee954a76a4bf0bd4996a8201b84e0": {
      "model_module": "@jupyter-widgets/base",
      "model_module_version": "1.2.0",
      "model_name": "LayoutModel",
      "state": {}
     },
     "65615601456c4f2d9851c7e12babcf5b": {
      "model_module": "@jupyter-widgets/output",
      "model_module_version": "1.0.0",
      "model_name": "OutputModel",
      "state": {
       "layout": "IPY_MODEL_760492eada2d4a7785662d0c7f565e06"
      }
     },
     "65a4e67fb87f4b118e4760d55d73b2c2": {
      "model_module": "@jupyter-widgets/controls",
      "model_module_version": "1.5.0",
      "model_name": "ButtonModel",
      "state": {
       "description": "reset",
       "layout": "IPY_MODEL_689f52c0f9fa42679e8c4666808b519a",
       "style": "IPY_MODEL_d7c53531f0d1433c9bf457ec498cb774"
      }
     },
     "6628c43fd3c549d090596a5124f16a95": {
      "model_module": "@jupyter-widgets/base",
      "model_module_version": "1.2.0",
      "model_name": "LayoutModel",
      "state": {}
     },
     "66e076363a164a4d9ecd3c00f67b0ba6": {
      "model_module": "@jupyter-widgets/controls",
      "model_module_version": "1.5.0",
      "model_name": "FloatSliderModel",
      "state": {
       "description": "x",
       "layout": "IPY_MODEL_f7741a26a1cd4867858dd11281d1a495",
       "max": 5,
       "min": -1,
       "step": 0.2,
       "style": "IPY_MODEL_94a0ecee097b439586c50d761e3f6435"
      }
     },
     "66f3f85799e34fc99afc24bb922dc80b": {
      "model_module": "@jupyter-widgets/base",
      "model_module_version": "1.2.0",
      "model_name": "LayoutModel",
      "state": {}
     },
     "67137f3660a548ba83d763809aa1f82f": {
      "model_module": "@jupyter-widgets/base",
      "model_module_version": "1.2.0",
      "model_name": "LayoutModel",
      "state": {}
     },
     "6761574777a04d55b14107250e908013": {
      "model_module": "@jupyter-widgets/base",
      "model_module_version": "1.2.0",
      "model_name": "LayoutModel",
      "state": {}
     },
     "68022f1b7b9443bf83ec4a456d8198eb": {
      "model_module": "@jupyter-widgets/controls",
      "model_module_version": "1.5.0",
      "model_name": "VBoxModel",
      "state": {
       "_dom_classes": [
        "widget-interact"
       ],
       "children": [
        "IPY_MODEL_e097fb14e2874f73a0fa63e3850b8453",
        "IPY_MODEL_704b2d70499e48668372d711cd349445"
       ],
       "layout": "IPY_MODEL_355d5ad9c6fb41e7a99430cc482c9241"
      }
     },
     "6828c02d14d5454ba98c0cfbec02d4fb": {
      "model_module": "@jupyter-widgets/controls",
      "model_module_version": "1.5.0",
      "model_name": "VBoxModel",
      "state": {
       "_dom_classes": [
        "widget-interact"
       ],
       "children": [
        "IPY_MODEL_c80d2d7c88a148c0b82559025a0f97c2",
        "IPY_MODEL_5e27ec2bdaa64bf69678b20877fd33e4"
       ],
       "layout": "IPY_MODEL_7c728cab51cb47718b9ec8b76d7d9853"
      }
     },
     "6832a6c91acb4c0a82bc0de3a2e8ccae": {
      "model_module": "@jupyter-widgets/controls",
      "model_module_version": "1.5.0",
      "model_name": "SliderStyleModel",
      "state": {
       "description_width": ""
      }
     },
     "6886271580824ce39156e7f7e60b03b5": {
      "model_module": "@jupyter-widgets/base",
      "model_module_version": "1.2.0",
      "model_name": "LayoutModel",
      "state": {}
     },
     "689f52c0f9fa42679e8c4666808b519a": {
      "model_module": "@jupyter-widgets/base",
      "model_module_version": "1.2.0",
      "model_name": "LayoutModel",
      "state": {}
     },
     "68d8736d36794329867dd5e7466b83c3": {
      "model_module": "@jupyter-widgets/output",
      "model_module_version": "1.0.0",
      "model_name": "OutputModel",
      "state": {
       "layout": "IPY_MODEL_dda93441351043258bd6c3061da6257a",
       "outputs": [
        {
         "ename": "ValueError",
         "evalue": "\ny \\text{[m]}\n  ^\nUnknown symbol: \\text, found '\\'  (at char 2), (line:1, col:3)",
         "output_type": "error",
         "traceback": [
          "\u001b[0;31m---------------------------------------------------------------------------\u001b[0m",
          "\u001b[0;31mParseFatalException\u001b[0m                       Traceback (most recent call last)",
          "\u001b[0;32m/usr/local/lib/python3.8/site-packages/matplotlib/mathtext.py\u001b[0m in \u001b[0;36mparse\u001b[0;34m(self, s, fonts_object, fontsize, dpi)\u001b[0m\n\u001b[1;32m   2616\u001b[0m         \u001b[0;32mtry\u001b[0m\u001b[0;34m:\u001b[0m\u001b[0;34m\u001b[0m\u001b[0;34m\u001b[0m\u001b[0m\n\u001b[0;32m-> 2617\u001b[0;31m             \u001b[0mresult\u001b[0m \u001b[0;34m=\u001b[0m \u001b[0mself\u001b[0m\u001b[0;34m.\u001b[0m\u001b[0m_expression\u001b[0m\u001b[0;34m.\u001b[0m\u001b[0mparseString\u001b[0m\u001b[0;34m(\u001b[0m\u001b[0ms\u001b[0m\u001b[0;34m)\u001b[0m\u001b[0;34m\u001b[0m\u001b[0;34m\u001b[0m\u001b[0m\n\u001b[0m\u001b[1;32m   2618\u001b[0m         \u001b[0;32mexcept\u001b[0m \u001b[0mParseBaseException\u001b[0m \u001b[0;32mas\u001b[0m \u001b[0merr\u001b[0m\u001b[0;34m:\u001b[0m\u001b[0;34m\u001b[0m\u001b[0;34m\u001b[0m\u001b[0m\n",
          "\u001b[0;32m/usr/local/lib/python3.8/site-packages/pyparsing.py\u001b[0m in \u001b[0;36mparseString\u001b[0;34m(self, instring, parseAll)\u001b[0m\n\u001b[1;32m   1954\u001b[0m                     \u001b[0mexc\u001b[0m\u001b[0;34m.\u001b[0m\u001b[0m__traceback__\u001b[0m \u001b[0;34m=\u001b[0m \u001b[0mself\u001b[0m\u001b[0;34m.\u001b[0m\u001b[0m_trim_traceback\u001b[0m\u001b[0;34m(\u001b[0m\u001b[0mexc\u001b[0m\u001b[0;34m.\u001b[0m\u001b[0m__traceback__\u001b[0m\u001b[0;34m)\u001b[0m\u001b[0;34m\u001b[0m\u001b[0;34m\u001b[0m\u001b[0m\n\u001b[0;32m-> 1955\u001b[0;31m                 \u001b[0;32mraise\u001b[0m \u001b[0mexc\u001b[0m\u001b[0;34m\u001b[0m\u001b[0;34m\u001b[0m\u001b[0m\n\u001b[0m\u001b[1;32m   1956\u001b[0m         \u001b[0;32melse\u001b[0m\u001b[0;34m:\u001b[0m\u001b[0;34m\u001b[0m\u001b[0;34m\u001b[0m\u001b[0m\n",
          "\u001b[0;32m/usr/local/lib/python3.8/site-packages/matplotlib/mathtext.py\u001b[0m in \u001b[0;36munknown_symbol\u001b[0;34m(self, s, loc, toks)\u001b[0m\n\u001b[1;32m   2774\u001b[0m         \u001b[0mc\u001b[0m \u001b[0;34m=\u001b[0m \u001b[0mtoks\u001b[0m\u001b[0;34m[\u001b[0m\u001b[0;36m0\u001b[0m\u001b[0;34m]\u001b[0m\u001b[0;34m\u001b[0m\u001b[0;34m\u001b[0m\u001b[0m\n\u001b[0;32m-> 2775\u001b[0;31m         \u001b[0;32mraise\u001b[0m \u001b[0mParseFatalException\u001b[0m\u001b[0;34m(\u001b[0m\u001b[0ms\u001b[0m\u001b[0;34m,\u001b[0m \u001b[0mloc\u001b[0m\u001b[0;34m,\u001b[0m \u001b[0;34m\"Unknown symbol: %s\"\u001b[0m \u001b[0;34m%\u001b[0m \u001b[0mc\u001b[0m\u001b[0;34m)\u001b[0m\u001b[0;34m\u001b[0m\u001b[0;34m\u001b[0m\u001b[0m\n\u001b[0m\u001b[1;32m   2776\u001b[0m \u001b[0;34m\u001b[0m\u001b[0m\n",
          "\u001b[0;31mParseFatalException\u001b[0m: Unknown symbol: \\text, found '\\'  (at char 2), (line:1, col:3)",
          "\nThe above exception was the direct cause of the following exception:\n",
          "\u001b[0;31mValueError\u001b[0m                                Traceback (most recent call last)",
          "\u001b[0;32m/usr/local/lib/python3.8/site-packages/ipywidgets/widgets/interaction.py\u001b[0m in \u001b[0;36mupdate\u001b[0;34m(self, *args)\u001b[0m\n\u001b[1;32m    254\u001b[0m                     \u001b[0mvalue\u001b[0m \u001b[0;34m=\u001b[0m \u001b[0mwidget\u001b[0m\u001b[0;34m.\u001b[0m\u001b[0mget_interact_value\u001b[0m\u001b[0;34m(\u001b[0m\u001b[0;34m)\u001b[0m\u001b[0;34m\u001b[0m\u001b[0;34m\u001b[0m\u001b[0m\n\u001b[1;32m    255\u001b[0m                     \u001b[0mself\u001b[0m\u001b[0;34m.\u001b[0m\u001b[0mkwargs\u001b[0m\u001b[0;34m[\u001b[0m\u001b[0mwidget\u001b[0m\u001b[0;34m.\u001b[0m\u001b[0m_kwarg\u001b[0m\u001b[0;34m]\u001b[0m \u001b[0;34m=\u001b[0m \u001b[0mvalue\u001b[0m\u001b[0;34m\u001b[0m\u001b[0;34m\u001b[0m\u001b[0m\n\u001b[0;32m--> 256\u001b[0;31m                 \u001b[0mself\u001b[0m\u001b[0;34m.\u001b[0m\u001b[0mresult\u001b[0m \u001b[0;34m=\u001b[0m \u001b[0mself\u001b[0m\u001b[0;34m.\u001b[0m\u001b[0mf\u001b[0m\u001b[0;34m(\u001b[0m\u001b[0;34m**\u001b[0m\u001b[0mself\u001b[0m\u001b[0;34m.\u001b[0m\u001b[0mkwargs\u001b[0m\u001b[0;34m)\u001b[0m\u001b[0;34m\u001b[0m\u001b[0;34m\u001b[0m\u001b[0m\n\u001b[0m\u001b[1;32m    257\u001b[0m                 \u001b[0mshow_inline_matplotlib_plots\u001b[0m\u001b[0;34m(\u001b[0m\u001b[0;34m)\u001b[0m\u001b[0;34m\u001b[0m\u001b[0;34m\u001b[0m\u001b[0m\n\u001b[1;32m    258\u001b[0m                 \u001b[0;32mif\u001b[0m \u001b[0mself\u001b[0m\u001b[0;34m.\u001b[0m\u001b[0mauto_display\u001b[0m \u001b[0;32mand\u001b[0m \u001b[0mself\u001b[0m\u001b[0;34m.\u001b[0m\u001b[0mresult\u001b[0m \u001b[0;32mis\u001b[0m \u001b[0;32mnot\u001b[0m \u001b[0;32mNone\u001b[0m\u001b[0;34m:\u001b[0m\u001b[0;34m\u001b[0m\u001b[0;34m\u001b[0m\u001b[0m\n",
          "\u001b[0;32m<ipython-input-39-600f67b4fc88>\u001b[0m in \u001b[0;36mupdate\u001b[0;34m(x)\u001b[0m\n\u001b[1;32m     50\u001b[0m     \u001b[0mt2\u001b[0m\u001b[0;34m.\u001b[0m\u001b[0mset_text\u001b[0m\u001b[0;34m(\u001b[0m\u001b[0;34mr\"$d_s=%.1f$ m\"\u001b[0m \u001b[0;34m%\u001b[0m\u001b[0md2\u001b[0m\u001b[0;34m)\u001b[0m\u001b[0;34m\u001b[0m\u001b[0;34m\u001b[0m\u001b[0m\n\u001b[1;32m     51\u001b[0m     \u001b[0max\u001b[0m\u001b[0;34m[\u001b[0m\u001b[0;36m1\u001b[0m\u001b[0;34m]\u001b[0m\u001b[0;34m.\u001b[0m\u001b[0mplot\u001b[0m\u001b[0;34m(\u001b[0m\u001b[0mx\u001b[0m\u001b[0;34m,\u001b[0m \u001b[0md1\u001b[0m\u001b[0;34m/\u001b[0m\u001b[0mv1\u001b[0m \u001b[0;34m+\u001b[0m \u001b[0md2\u001b[0m\u001b[0;34m/\u001b[0m\u001b[0mv2\u001b[0m\u001b[0;34m,\u001b[0m \u001b[0;34m\".\"\u001b[0m\u001b[0;34m,\u001b[0m \u001b[0mcolor\u001b[0m\u001b[0;34m=\u001b[0m\u001b[0;34m\"C1\"\u001b[0m\u001b[0;34m)\u001b[0m\u001b[0;34m\u001b[0m\u001b[0;34m\u001b[0m\u001b[0m\n\u001b[0;32m---> 52\u001b[0;31m     \u001b[0max\u001b[0m\u001b[0;34m[\u001b[0m\u001b[0;36m0\u001b[0m\u001b[0;34m]\u001b[0m\u001b[0;34m.\u001b[0m\u001b[0mfigure\u001b[0m\u001b[0;34m.\u001b[0m\u001b[0mcanvas\u001b[0m\u001b[0;34m.\u001b[0m\u001b[0mdraw\u001b[0m\u001b[0;34m(\u001b[0m\u001b[0;34m)\u001b[0m\u001b[0;34m\u001b[0m\u001b[0;34m\u001b[0m\u001b[0m\n\u001b[0m\u001b[1;32m     53\u001b[0m     \u001b[0max\u001b[0m\u001b[0;34m[\u001b[0m\u001b[0;36m1\u001b[0m\u001b[0;34m]\u001b[0m\u001b[0;34m.\u001b[0m\u001b[0mfigure\u001b[0m\u001b[0;34m.\u001b[0m\u001b[0mcanvas\u001b[0m\u001b[0;34m.\u001b[0m\u001b[0mdraw\u001b[0m\u001b[0;34m(\u001b[0m\u001b[0;34m)\u001b[0m\u001b[0;34m\u001b[0m\u001b[0;34m\u001b[0m\u001b[0m\n\u001b[1;32m     54\u001b[0m     \u001b[0;31m# fig.canvas.draw_idle()\u001b[0m\u001b[0;34m\u001b[0m\u001b[0;34m\u001b[0m\u001b[0;34m\u001b[0m\u001b[0m\n",
          "\u001b[0;32m/usr/local/lib/python3.8/site-packages/matplotlib/backends/backend_webagg_core.py\u001b[0m in \u001b[0;36mdraw\u001b[0;34m(self)\u001b[0m\n\u001b[1;32m    150\u001b[0m         \u001b[0mself\u001b[0m\u001b[0;34m.\u001b[0m\u001b[0m_png_is_old\u001b[0m \u001b[0;34m=\u001b[0m \u001b[0;32mTrue\u001b[0m\u001b[0;34m\u001b[0m\u001b[0;34m\u001b[0m\u001b[0m\n\u001b[1;32m    151\u001b[0m         \u001b[0;32mtry\u001b[0m\u001b[0;34m:\u001b[0m\u001b[0;34m\u001b[0m\u001b[0;34m\u001b[0m\u001b[0m\n\u001b[0;32m--> 152\u001b[0;31m             \u001b[0msuper\u001b[0m\u001b[0;34m(\u001b[0m\u001b[0;34m)\u001b[0m\u001b[0;34m.\u001b[0m\u001b[0mdraw\u001b[0m\u001b[0;34m(\u001b[0m\u001b[0;34m)\u001b[0m\u001b[0;34m\u001b[0m\u001b[0;34m\u001b[0m\u001b[0m\n\u001b[0m\u001b[1;32m    153\u001b[0m         \u001b[0;32mfinally\u001b[0m\u001b[0;34m:\u001b[0m\u001b[0;34m\u001b[0m\u001b[0;34m\u001b[0m\u001b[0m\n\u001b[1;32m    154\u001b[0m             \u001b[0mself\u001b[0m\u001b[0;34m.\u001b[0m\u001b[0mmanager\u001b[0m\u001b[0;34m.\u001b[0m\u001b[0mrefresh_all\u001b[0m\u001b[0;34m(\u001b[0m\u001b[0;34m)\u001b[0m  \u001b[0;31m# Swap the frames.\u001b[0m\u001b[0;34m\u001b[0m\u001b[0;34m\u001b[0m\u001b[0m\n",
          "\u001b[0;32m/usr/local/lib/python3.8/site-packages/matplotlib/backends/backend_agg.py\u001b[0m in \u001b[0;36mdraw\u001b[0;34m(self)\u001b[0m\n\u001b[1;32m    405\u001b[0m              (self.toolbar._wait_cursor_for_draw_cm() if self.toolbar\n\u001b[1;32m    406\u001b[0m               else nullcontext()):\n\u001b[0;32m--> 407\u001b[0;31m             \u001b[0mself\u001b[0m\u001b[0;34m.\u001b[0m\u001b[0mfigure\u001b[0m\u001b[0;34m.\u001b[0m\u001b[0mdraw\u001b[0m\u001b[0;34m(\u001b[0m\u001b[0mself\u001b[0m\u001b[0;34m.\u001b[0m\u001b[0mrenderer\u001b[0m\u001b[0;34m)\u001b[0m\u001b[0;34m\u001b[0m\u001b[0;34m\u001b[0m\u001b[0m\n\u001b[0m\u001b[1;32m    408\u001b[0m             \u001b[0;31m# A GUI class may be need to update a window using this draw, so\u001b[0m\u001b[0;34m\u001b[0m\u001b[0;34m\u001b[0m\u001b[0;34m\u001b[0m\u001b[0m\n\u001b[1;32m    409\u001b[0m             \u001b[0;31m# don't forget to call the superclass.\u001b[0m\u001b[0;34m\u001b[0m\u001b[0;34m\u001b[0m\u001b[0;34m\u001b[0m\u001b[0m\n",
          "\u001b[0;32m/usr/local/lib/python3.8/site-packages/matplotlib/artist.py\u001b[0m in \u001b[0;36mdraw_wrapper\u001b[0;34m(artist, renderer, *args, **kwargs)\u001b[0m\n\u001b[1;32m     39\u001b[0m                 \u001b[0mrenderer\u001b[0m\u001b[0;34m.\u001b[0m\u001b[0mstart_filter\u001b[0m\u001b[0;34m(\u001b[0m\u001b[0;34m)\u001b[0m\u001b[0;34m\u001b[0m\u001b[0;34m\u001b[0m\u001b[0m\n\u001b[1;32m     40\u001b[0m \u001b[0;34m\u001b[0m\u001b[0m\n\u001b[0;32m---> 41\u001b[0;31m             \u001b[0;32mreturn\u001b[0m \u001b[0mdraw\u001b[0m\u001b[0;34m(\u001b[0m\u001b[0martist\u001b[0m\u001b[0;34m,\u001b[0m \u001b[0mrenderer\u001b[0m\u001b[0;34m,\u001b[0m \u001b[0;34m*\u001b[0m\u001b[0margs\u001b[0m\u001b[0;34m,\u001b[0m \u001b[0;34m**\u001b[0m\u001b[0mkwargs\u001b[0m\u001b[0;34m)\u001b[0m\u001b[0;34m\u001b[0m\u001b[0;34m\u001b[0m\u001b[0m\n\u001b[0m\u001b[1;32m     42\u001b[0m         \u001b[0;32mfinally\u001b[0m\u001b[0;34m:\u001b[0m\u001b[0;34m\u001b[0m\u001b[0;34m\u001b[0m\u001b[0m\n\u001b[1;32m     43\u001b[0m             \u001b[0;32mif\u001b[0m \u001b[0martist\u001b[0m\u001b[0;34m.\u001b[0m\u001b[0mget_agg_filter\u001b[0m\u001b[0;34m(\u001b[0m\u001b[0;34m)\u001b[0m \u001b[0;32mis\u001b[0m \u001b[0;32mnot\u001b[0m \u001b[0;32mNone\u001b[0m\u001b[0;34m:\u001b[0m\u001b[0;34m\u001b[0m\u001b[0;34m\u001b[0m\u001b[0m\n",
          "\u001b[0;32m/usr/local/lib/python3.8/site-packages/matplotlib/figure.py\u001b[0m in \u001b[0;36mdraw\u001b[0;34m(self, renderer)\u001b[0m\n\u001b[1;32m   1861\u001b[0m \u001b[0;34m\u001b[0m\u001b[0m\n\u001b[1;32m   1862\u001b[0m             \u001b[0mself\u001b[0m\u001b[0;34m.\u001b[0m\u001b[0mpatch\u001b[0m\u001b[0;34m.\u001b[0m\u001b[0mdraw\u001b[0m\u001b[0;34m(\u001b[0m\u001b[0mrenderer\u001b[0m\u001b[0;34m)\u001b[0m\u001b[0;34m\u001b[0m\u001b[0;34m\u001b[0m\u001b[0m\n\u001b[0;32m-> 1863\u001b[0;31m             mimage._draw_list_compositing_images(\n\u001b[0m\u001b[1;32m   1864\u001b[0m                 renderer, self, artists, self.suppressComposite)\n\u001b[1;32m   1865\u001b[0m \u001b[0;34m\u001b[0m\u001b[0m\n",
          "\u001b[0;32m/usr/local/lib/python3.8/site-packages/matplotlib/image.py\u001b[0m in \u001b[0;36m_draw_list_compositing_images\u001b[0;34m(renderer, parent, artists, suppress_composite)\u001b[0m\n\u001b[1;32m    129\u001b[0m     \u001b[0;32mif\u001b[0m \u001b[0mnot_composite\u001b[0m \u001b[0;32mor\u001b[0m \u001b[0;32mnot\u001b[0m \u001b[0mhas_images\u001b[0m\u001b[0;34m:\u001b[0m\u001b[0;34m\u001b[0m\u001b[0;34m\u001b[0m\u001b[0m\n\u001b[1;32m    130\u001b[0m         \u001b[0;32mfor\u001b[0m \u001b[0ma\u001b[0m \u001b[0;32min\u001b[0m \u001b[0martists\u001b[0m\u001b[0;34m:\u001b[0m\u001b[0;34m\u001b[0m\u001b[0;34m\u001b[0m\u001b[0m\n\u001b[0;32m--> 131\u001b[0;31m             \u001b[0ma\u001b[0m\u001b[0;34m.\u001b[0m\u001b[0mdraw\u001b[0m\u001b[0;34m(\u001b[0m\u001b[0mrenderer\u001b[0m\u001b[0;34m)\u001b[0m\u001b[0;34m\u001b[0m\u001b[0;34m\u001b[0m\u001b[0m\n\u001b[0m\u001b[1;32m    132\u001b[0m     \u001b[0;32melse\u001b[0m\u001b[0;34m:\u001b[0m\u001b[0;34m\u001b[0m\u001b[0;34m\u001b[0m\u001b[0m\n\u001b[1;32m    133\u001b[0m         \u001b[0;31m# Composite any adjacent images together\u001b[0m\u001b[0;34m\u001b[0m\u001b[0;34m\u001b[0m\u001b[0;34m\u001b[0m\u001b[0m\n",
          "\u001b[0;32m/usr/local/lib/python3.8/site-packages/matplotlib/artist.py\u001b[0m in \u001b[0;36mdraw_wrapper\u001b[0;34m(artist, renderer, *args, **kwargs)\u001b[0m\n\u001b[1;32m     39\u001b[0m                 \u001b[0mrenderer\u001b[0m\u001b[0;34m.\u001b[0m\u001b[0mstart_filter\u001b[0m\u001b[0;34m(\u001b[0m\u001b[0;34m)\u001b[0m\u001b[0;34m\u001b[0m\u001b[0;34m\u001b[0m\u001b[0m\n\u001b[1;32m     40\u001b[0m \u001b[0;34m\u001b[0m\u001b[0m\n\u001b[0;32m---> 41\u001b[0;31m             \u001b[0;32mreturn\u001b[0m \u001b[0mdraw\u001b[0m\u001b[0;34m(\u001b[0m\u001b[0martist\u001b[0m\u001b[0;34m,\u001b[0m \u001b[0mrenderer\u001b[0m\u001b[0;34m,\u001b[0m \u001b[0;34m*\u001b[0m\u001b[0margs\u001b[0m\u001b[0;34m,\u001b[0m \u001b[0;34m**\u001b[0m\u001b[0mkwargs\u001b[0m\u001b[0;34m)\u001b[0m\u001b[0;34m\u001b[0m\u001b[0;34m\u001b[0m\u001b[0m\n\u001b[0m\u001b[1;32m     42\u001b[0m         \u001b[0;32mfinally\u001b[0m\u001b[0;34m:\u001b[0m\u001b[0;34m\u001b[0m\u001b[0;34m\u001b[0m\u001b[0m\n\u001b[1;32m     43\u001b[0m             \u001b[0;32mif\u001b[0m \u001b[0martist\u001b[0m\u001b[0;34m.\u001b[0m\u001b[0mget_agg_filter\u001b[0m\u001b[0;34m(\u001b[0m\u001b[0;34m)\u001b[0m \u001b[0;32mis\u001b[0m \u001b[0;32mnot\u001b[0m \u001b[0;32mNone\u001b[0m\u001b[0;34m:\u001b[0m\u001b[0;34m\u001b[0m\u001b[0;34m\u001b[0m\u001b[0m\n",
          "\u001b[0;32m/usr/local/lib/python3.8/site-packages/matplotlib/cbook/deprecation.py\u001b[0m in \u001b[0;36mwrapper\u001b[0;34m(*inner_args, **inner_kwargs)\u001b[0m\n\u001b[1;32m    409\u001b[0m                          \u001b[0;32melse\u001b[0m \u001b[0mdeprecation_addendum\u001b[0m\u001b[0;34m,\u001b[0m\u001b[0;34m\u001b[0m\u001b[0;34m\u001b[0m\u001b[0m\n\u001b[1;32m    410\u001b[0m                 **kwargs)\n\u001b[0;32m--> 411\u001b[0;31m         \u001b[0;32mreturn\u001b[0m \u001b[0mfunc\u001b[0m\u001b[0;34m(\u001b[0m\u001b[0;34m*\u001b[0m\u001b[0minner_args\u001b[0m\u001b[0;34m,\u001b[0m \u001b[0;34m**\u001b[0m\u001b[0minner_kwargs\u001b[0m\u001b[0;34m)\u001b[0m\u001b[0;34m\u001b[0m\u001b[0;34m\u001b[0m\u001b[0m\n\u001b[0m\u001b[1;32m    412\u001b[0m \u001b[0;34m\u001b[0m\u001b[0m\n\u001b[1;32m    413\u001b[0m     \u001b[0;32mreturn\u001b[0m \u001b[0mwrapper\u001b[0m\u001b[0;34m\u001b[0m\u001b[0;34m\u001b[0m\u001b[0m\n",
          "\u001b[0;32m/usr/local/lib/python3.8/site-packages/matplotlib/axes/_base.py\u001b[0m in \u001b[0;36mdraw\u001b[0;34m(self, renderer, inframe)\u001b[0m\n\u001b[1;32m   2745\u001b[0m             \u001b[0mrenderer\u001b[0m\u001b[0;34m.\u001b[0m\u001b[0mstop_rasterizing\u001b[0m\u001b[0;34m(\u001b[0m\u001b[0;34m)\u001b[0m\u001b[0;34m\u001b[0m\u001b[0;34m\u001b[0m\u001b[0m\n\u001b[1;32m   2746\u001b[0m \u001b[0;34m\u001b[0m\u001b[0m\n\u001b[0;32m-> 2747\u001b[0;31m         \u001b[0mmimage\u001b[0m\u001b[0;34m.\u001b[0m\u001b[0m_draw_list_compositing_images\u001b[0m\u001b[0;34m(\u001b[0m\u001b[0mrenderer\u001b[0m\u001b[0;34m,\u001b[0m \u001b[0mself\u001b[0m\u001b[0;34m,\u001b[0m \u001b[0martists\u001b[0m\u001b[0;34m)\u001b[0m\u001b[0;34m\u001b[0m\u001b[0;34m\u001b[0m\u001b[0m\n\u001b[0m\u001b[1;32m   2748\u001b[0m \u001b[0;34m\u001b[0m\u001b[0m\n\u001b[1;32m   2749\u001b[0m         \u001b[0mrenderer\u001b[0m\u001b[0;34m.\u001b[0m\u001b[0mclose_group\u001b[0m\u001b[0;34m(\u001b[0m\u001b[0;34m'axes'\u001b[0m\u001b[0;34m)\u001b[0m\u001b[0;34m\u001b[0m\u001b[0;34m\u001b[0m\u001b[0m\n",
          "\u001b[0;32m/usr/local/lib/python3.8/site-packages/matplotlib/image.py\u001b[0m in \u001b[0;36m_draw_list_compositing_images\u001b[0;34m(renderer, parent, artists, suppress_composite)\u001b[0m\n\u001b[1;32m    129\u001b[0m     \u001b[0;32mif\u001b[0m \u001b[0mnot_composite\u001b[0m \u001b[0;32mor\u001b[0m \u001b[0;32mnot\u001b[0m \u001b[0mhas_images\u001b[0m\u001b[0;34m:\u001b[0m\u001b[0;34m\u001b[0m\u001b[0;34m\u001b[0m\u001b[0m\n\u001b[1;32m    130\u001b[0m         \u001b[0;32mfor\u001b[0m \u001b[0ma\u001b[0m \u001b[0;32min\u001b[0m \u001b[0martists\u001b[0m\u001b[0;34m:\u001b[0m\u001b[0;34m\u001b[0m\u001b[0;34m\u001b[0m\u001b[0m\n\u001b[0;32m--> 131\u001b[0;31m             \u001b[0ma\u001b[0m\u001b[0;34m.\u001b[0m\u001b[0mdraw\u001b[0m\u001b[0;34m(\u001b[0m\u001b[0mrenderer\u001b[0m\u001b[0;34m)\u001b[0m\u001b[0;34m\u001b[0m\u001b[0;34m\u001b[0m\u001b[0m\n\u001b[0m\u001b[1;32m    132\u001b[0m     \u001b[0;32melse\u001b[0m\u001b[0;34m:\u001b[0m\u001b[0;34m\u001b[0m\u001b[0;34m\u001b[0m\u001b[0m\n\u001b[1;32m    133\u001b[0m         \u001b[0;31m# Composite any adjacent images together\u001b[0m\u001b[0;34m\u001b[0m\u001b[0;34m\u001b[0m\u001b[0;34m\u001b[0m\u001b[0m\n",
          "\u001b[0;32m/usr/local/lib/python3.8/site-packages/matplotlib/artist.py\u001b[0m in \u001b[0;36mdraw_wrapper\u001b[0;34m(artist, renderer, *args, **kwargs)\u001b[0m\n\u001b[1;32m     39\u001b[0m                 \u001b[0mrenderer\u001b[0m\u001b[0;34m.\u001b[0m\u001b[0mstart_filter\u001b[0m\u001b[0;34m(\u001b[0m\u001b[0;34m)\u001b[0m\u001b[0;34m\u001b[0m\u001b[0;34m\u001b[0m\u001b[0m\n\u001b[1;32m     40\u001b[0m \u001b[0;34m\u001b[0m\u001b[0m\n\u001b[0;32m---> 41\u001b[0;31m             \u001b[0;32mreturn\u001b[0m \u001b[0mdraw\u001b[0m\u001b[0;34m(\u001b[0m\u001b[0martist\u001b[0m\u001b[0;34m,\u001b[0m \u001b[0mrenderer\u001b[0m\u001b[0;34m,\u001b[0m \u001b[0;34m*\u001b[0m\u001b[0margs\u001b[0m\u001b[0;34m,\u001b[0m \u001b[0;34m**\u001b[0m\u001b[0mkwargs\u001b[0m\u001b[0;34m)\u001b[0m\u001b[0;34m\u001b[0m\u001b[0;34m\u001b[0m\u001b[0m\n\u001b[0m\u001b[1;32m     42\u001b[0m         \u001b[0;32mfinally\u001b[0m\u001b[0;34m:\u001b[0m\u001b[0;34m\u001b[0m\u001b[0;34m\u001b[0m\u001b[0m\n\u001b[1;32m     43\u001b[0m             \u001b[0;32mif\u001b[0m \u001b[0martist\u001b[0m\u001b[0;34m.\u001b[0m\u001b[0mget_agg_filter\u001b[0m\u001b[0;34m(\u001b[0m\u001b[0;34m)\u001b[0m \u001b[0;32mis\u001b[0m \u001b[0;32mnot\u001b[0m \u001b[0;32mNone\u001b[0m\u001b[0;34m:\u001b[0m\u001b[0;34m\u001b[0m\u001b[0;34m\u001b[0m\u001b[0m\n",
          "\u001b[0;32m/usr/local/lib/python3.8/site-packages/matplotlib/axis.py\u001b[0m in \u001b[0;36mdraw\u001b[0;34m(self, renderer, *args, **kwargs)\u001b[0m\n\u001b[1;32m   1176\u001b[0m         \u001b[0mself\u001b[0m\u001b[0;34m.\u001b[0m\u001b[0m_update_label_position\u001b[0m\u001b[0;34m(\u001b[0m\u001b[0mrenderer\u001b[0m\u001b[0;34m)\u001b[0m\u001b[0;34m\u001b[0m\u001b[0;34m\u001b[0m\u001b[0m\n\u001b[1;32m   1177\u001b[0m \u001b[0;34m\u001b[0m\u001b[0m\n\u001b[0;32m-> 1178\u001b[0;31m         \u001b[0mself\u001b[0m\u001b[0;34m.\u001b[0m\u001b[0mlabel\u001b[0m\u001b[0;34m.\u001b[0m\u001b[0mdraw\u001b[0m\u001b[0;34m(\u001b[0m\u001b[0mrenderer\u001b[0m\u001b[0;34m)\u001b[0m\u001b[0;34m\u001b[0m\u001b[0;34m\u001b[0m\u001b[0m\n\u001b[0m\u001b[1;32m   1179\u001b[0m \u001b[0;34m\u001b[0m\u001b[0m\n\u001b[1;32m   1180\u001b[0m         \u001b[0mself\u001b[0m\u001b[0;34m.\u001b[0m\u001b[0m_update_offset_text_position\u001b[0m\u001b[0;34m(\u001b[0m\u001b[0mticklabelBoxes\u001b[0m\u001b[0;34m,\u001b[0m \u001b[0mticklabelBoxes2\u001b[0m\u001b[0;34m)\u001b[0m\u001b[0;34m\u001b[0m\u001b[0;34m\u001b[0m\u001b[0m\n",
          "\u001b[0;32m/usr/local/lib/python3.8/site-packages/matplotlib/artist.py\u001b[0m in \u001b[0;36mdraw_wrapper\u001b[0;34m(artist, renderer, *args, **kwargs)\u001b[0m\n\u001b[1;32m     39\u001b[0m                 \u001b[0mrenderer\u001b[0m\u001b[0;34m.\u001b[0m\u001b[0mstart_filter\u001b[0m\u001b[0;34m(\u001b[0m\u001b[0;34m)\u001b[0m\u001b[0;34m\u001b[0m\u001b[0;34m\u001b[0m\u001b[0m\n\u001b[1;32m     40\u001b[0m \u001b[0;34m\u001b[0m\u001b[0m\n\u001b[0;32m---> 41\u001b[0;31m             \u001b[0;32mreturn\u001b[0m \u001b[0mdraw\u001b[0m\u001b[0;34m(\u001b[0m\u001b[0martist\u001b[0m\u001b[0;34m,\u001b[0m \u001b[0mrenderer\u001b[0m\u001b[0;34m,\u001b[0m \u001b[0;34m*\u001b[0m\u001b[0margs\u001b[0m\u001b[0;34m,\u001b[0m \u001b[0;34m**\u001b[0m\u001b[0mkwargs\u001b[0m\u001b[0;34m)\u001b[0m\u001b[0;34m\u001b[0m\u001b[0;34m\u001b[0m\u001b[0m\n\u001b[0m\u001b[1;32m     42\u001b[0m         \u001b[0;32mfinally\u001b[0m\u001b[0;34m:\u001b[0m\u001b[0;34m\u001b[0m\u001b[0;34m\u001b[0m\u001b[0m\n\u001b[1;32m     43\u001b[0m             \u001b[0;32mif\u001b[0m \u001b[0martist\u001b[0m\u001b[0;34m.\u001b[0m\u001b[0mget_agg_filter\u001b[0m\u001b[0;34m(\u001b[0m\u001b[0;34m)\u001b[0m \u001b[0;32mis\u001b[0m \u001b[0;32mnot\u001b[0m \u001b[0;32mNone\u001b[0m\u001b[0;34m:\u001b[0m\u001b[0;34m\u001b[0m\u001b[0;34m\u001b[0m\u001b[0m\n",
          "\u001b[0;32m/usr/local/lib/python3.8/site-packages/matplotlib/text.py\u001b[0m in \u001b[0;36mdraw\u001b[0;34m(self, renderer)\u001b[0m\n\u001b[1;32m    677\u001b[0m \u001b[0;34m\u001b[0m\u001b[0m\n\u001b[1;32m    678\u001b[0m         \u001b[0;32mwith\u001b[0m \u001b[0m_wrap_text\u001b[0m\u001b[0;34m(\u001b[0m\u001b[0mself\u001b[0m\u001b[0;34m)\u001b[0m \u001b[0;32mas\u001b[0m \u001b[0mtextobj\u001b[0m\u001b[0;34m:\u001b[0m\u001b[0;34m\u001b[0m\u001b[0;34m\u001b[0m\u001b[0m\n\u001b[0;32m--> 679\u001b[0;31m             \u001b[0mbbox\u001b[0m\u001b[0;34m,\u001b[0m \u001b[0minfo\u001b[0m\u001b[0;34m,\u001b[0m \u001b[0mdescent\u001b[0m \u001b[0;34m=\u001b[0m \u001b[0mtextobj\u001b[0m\u001b[0;34m.\u001b[0m\u001b[0m_get_layout\u001b[0m\u001b[0;34m(\u001b[0m\u001b[0mrenderer\u001b[0m\u001b[0;34m)\u001b[0m\u001b[0;34m\u001b[0m\u001b[0;34m\u001b[0m\u001b[0m\n\u001b[0m\u001b[1;32m    680\u001b[0m             \u001b[0mtrans\u001b[0m \u001b[0;34m=\u001b[0m \u001b[0mtextobj\u001b[0m\u001b[0;34m.\u001b[0m\u001b[0mget_transform\u001b[0m\u001b[0;34m(\u001b[0m\u001b[0;34m)\u001b[0m\u001b[0;34m\u001b[0m\u001b[0;34m\u001b[0m\u001b[0m\n\u001b[1;32m    681\u001b[0m \u001b[0;34m\u001b[0m\u001b[0m\n",
          "\u001b[0;32m/usr/local/lib/python3.8/site-packages/matplotlib/text.py\u001b[0m in \u001b[0;36m_get_layout\u001b[0;34m(self, renderer)\u001b[0m\n\u001b[1;32m    291\u001b[0m             \u001b[0mclean_line\u001b[0m\u001b[0;34m,\u001b[0m \u001b[0mismath\u001b[0m \u001b[0;34m=\u001b[0m \u001b[0mself\u001b[0m\u001b[0;34m.\u001b[0m\u001b[0m_preprocess_math\u001b[0m\u001b[0;34m(\u001b[0m\u001b[0mline\u001b[0m\u001b[0;34m)\u001b[0m\u001b[0;34m\u001b[0m\u001b[0;34m\u001b[0m\u001b[0m\n\u001b[1;32m    292\u001b[0m             \u001b[0;32mif\u001b[0m \u001b[0mclean_line\u001b[0m\u001b[0;34m:\u001b[0m\u001b[0;34m\u001b[0m\u001b[0;34m\u001b[0m\u001b[0m\n\u001b[0;32m--> 293\u001b[0;31m                 w, h, d = renderer.get_text_width_height_descent(\n\u001b[0m\u001b[1;32m    294\u001b[0m                     clean_line, self._fontproperties, ismath=ismath)\n\u001b[1;32m    295\u001b[0m             \u001b[0;32melse\u001b[0m\u001b[0;34m:\u001b[0m\u001b[0;34m\u001b[0m\u001b[0;34m\u001b[0m\u001b[0m\n",
          "\u001b[0;32m/usr/local/lib/python3.8/site-packages/matplotlib/backends/backend_agg.py\u001b[0m in \u001b[0;36mget_text_width_height_descent\u001b[0;34m(self, s, prop, ismath)\u001b[0m\n\u001b[1;32m    231\u001b[0m         \u001b[0;32mif\u001b[0m \u001b[0mismath\u001b[0m\u001b[0;34m:\u001b[0m\u001b[0;34m\u001b[0m\u001b[0;34m\u001b[0m\u001b[0m\n\u001b[1;32m    232\u001b[0m             \u001b[0mox\u001b[0m\u001b[0;34m,\u001b[0m \u001b[0moy\u001b[0m\u001b[0;34m,\u001b[0m \u001b[0mwidth\u001b[0m\u001b[0;34m,\u001b[0m \u001b[0mheight\u001b[0m\u001b[0;34m,\u001b[0m \u001b[0mdescent\u001b[0m\u001b[0;34m,\u001b[0m \u001b[0mfonts\u001b[0m\u001b[0;34m,\u001b[0m \u001b[0mused_characters\u001b[0m \u001b[0;34m=\u001b[0m\u001b[0;31m \u001b[0m\u001b[0;31m\\\u001b[0m\u001b[0;34m\u001b[0m\u001b[0;34m\u001b[0m\u001b[0m\n\u001b[0;32m--> 233\u001b[0;31m                 \u001b[0mself\u001b[0m\u001b[0;34m.\u001b[0m\u001b[0mmathtext_parser\u001b[0m\u001b[0;34m.\u001b[0m\u001b[0mparse\u001b[0m\u001b[0;34m(\u001b[0m\u001b[0ms\u001b[0m\u001b[0;34m,\u001b[0m \u001b[0mself\u001b[0m\u001b[0;34m.\u001b[0m\u001b[0mdpi\u001b[0m\u001b[0;34m,\u001b[0m \u001b[0mprop\u001b[0m\u001b[0;34m)\u001b[0m\u001b[0;34m\u001b[0m\u001b[0;34m\u001b[0m\u001b[0m\n\u001b[0m\u001b[1;32m    234\u001b[0m             \u001b[0;32mreturn\u001b[0m \u001b[0mwidth\u001b[0m\u001b[0;34m,\u001b[0m \u001b[0mheight\u001b[0m\u001b[0;34m,\u001b[0m \u001b[0mdescent\u001b[0m\u001b[0;34m\u001b[0m\u001b[0;34m\u001b[0m\u001b[0m\n\u001b[1;32m    235\u001b[0m \u001b[0;34m\u001b[0m\u001b[0m\n",
          "\u001b[0;32m/usr/local/lib/python3.8/site-packages/matplotlib/mathtext.py\u001b[0m in \u001b[0;36mparse\u001b[0;34m(self, s, dpi, prop)\u001b[0m\n\u001b[1;32m   3338\u001b[0m         \u001b[0;31m# mathtext.fontset rcParams also affect the parse (e.g. by affecting\u001b[0m\u001b[0;34m\u001b[0m\u001b[0;34m\u001b[0m\u001b[0;34m\u001b[0m\u001b[0m\n\u001b[1;32m   3339\u001b[0m         \u001b[0;31m# the glyph metrics).\u001b[0m\u001b[0;34m\u001b[0m\u001b[0;34m\u001b[0m\u001b[0;34m\u001b[0m\u001b[0m\n\u001b[0;32m-> 3340\u001b[0;31m         return self._parse_cached(\n\u001b[0m\u001b[1;32m   3341\u001b[0m             s, dpi, prop, rcParams['ps.useafm'], rcParams['mathtext.fontset'])\n\u001b[1;32m   3342\u001b[0m \u001b[0;34m\u001b[0m\u001b[0m\n",
          "\u001b[0;32m/usr/local/lib/python3.8/site-packages/matplotlib/mathtext.py\u001b[0m in \u001b[0;36m_parse_cached\u001b[0;34m(self, s, dpi, prop, ps_useafm, fontset)\u001b[0m\n\u001b[1;32m   3362\u001b[0m             \u001b[0mself\u001b[0m\u001b[0;34m.\u001b[0m\u001b[0m__class__\u001b[0m\u001b[0;34m.\u001b[0m\u001b[0m_parser\u001b[0m \u001b[0;34m=\u001b[0m \u001b[0mParser\u001b[0m\u001b[0;34m(\u001b[0m\u001b[0;34m)\u001b[0m\u001b[0;34m\u001b[0m\u001b[0;34m\u001b[0m\u001b[0m\n\u001b[1;32m   3363\u001b[0m \u001b[0;34m\u001b[0m\u001b[0m\n\u001b[0;32m-> 3364\u001b[0;31m         \u001b[0mbox\u001b[0m \u001b[0;34m=\u001b[0m \u001b[0mself\u001b[0m\u001b[0;34m.\u001b[0m\u001b[0m_parser\u001b[0m\u001b[0;34m.\u001b[0m\u001b[0mparse\u001b[0m\u001b[0;34m(\u001b[0m\u001b[0ms\u001b[0m\u001b[0;34m,\u001b[0m \u001b[0mfont_output\u001b[0m\u001b[0;34m,\u001b[0m \u001b[0mfontsize\u001b[0m\u001b[0;34m,\u001b[0m \u001b[0mdpi\u001b[0m\u001b[0;34m)\u001b[0m\u001b[0;34m\u001b[0m\u001b[0;34m\u001b[0m\u001b[0m\n\u001b[0m\u001b[1;32m   3365\u001b[0m         \u001b[0mfont_output\u001b[0m\u001b[0;34m.\u001b[0m\u001b[0mset_canvas_size\u001b[0m\u001b[0;34m(\u001b[0m\u001b[0mbox\u001b[0m\u001b[0;34m.\u001b[0m\u001b[0mwidth\u001b[0m\u001b[0;34m,\u001b[0m \u001b[0mbox\u001b[0m\u001b[0;34m.\u001b[0m\u001b[0mheight\u001b[0m\u001b[0;34m,\u001b[0m \u001b[0mbox\u001b[0m\u001b[0;34m.\u001b[0m\u001b[0mdepth\u001b[0m\u001b[0;34m)\u001b[0m\u001b[0;34m\u001b[0m\u001b[0;34m\u001b[0m\u001b[0m\n\u001b[1;32m   3366\u001b[0m         \u001b[0;32mreturn\u001b[0m \u001b[0mfont_output\u001b[0m\u001b[0;34m.\u001b[0m\u001b[0mget_results\u001b[0m\u001b[0;34m(\u001b[0m\u001b[0mbox\u001b[0m\u001b[0;34m)\u001b[0m\u001b[0;34m\u001b[0m\u001b[0;34m\u001b[0m\u001b[0m\n",
          "\u001b[0;32m/usr/local/lib/python3.8/site-packages/matplotlib/mathtext.py\u001b[0m in \u001b[0;36mparse\u001b[0;34m(self, s, fonts_object, fontsize, dpi)\u001b[0m\n\u001b[1;32m   2617\u001b[0m             \u001b[0mresult\u001b[0m \u001b[0;34m=\u001b[0m \u001b[0mself\u001b[0m\u001b[0;34m.\u001b[0m\u001b[0m_expression\u001b[0m\u001b[0;34m.\u001b[0m\u001b[0mparseString\u001b[0m\u001b[0;34m(\u001b[0m\u001b[0ms\u001b[0m\u001b[0;34m)\u001b[0m\u001b[0;34m\u001b[0m\u001b[0;34m\u001b[0m\u001b[0m\n\u001b[1;32m   2618\u001b[0m         \u001b[0;32mexcept\u001b[0m \u001b[0mParseBaseException\u001b[0m \u001b[0;32mas\u001b[0m \u001b[0merr\u001b[0m\u001b[0;34m:\u001b[0m\u001b[0;34m\u001b[0m\u001b[0;34m\u001b[0m\u001b[0m\n\u001b[0;32m-> 2619\u001b[0;31m             raise ValueError(\"\\n\".join([\"\",\n\u001b[0m\u001b[1;32m   2620\u001b[0m                                         \u001b[0merr\u001b[0m\u001b[0;34m.\u001b[0m\u001b[0mline\u001b[0m\u001b[0;34m,\u001b[0m\u001b[0;34m\u001b[0m\u001b[0;34m\u001b[0m\u001b[0m\n\u001b[1;32m   2621\u001b[0m                                         \u001b[0;34m\" \"\u001b[0m \u001b[0;34m*\u001b[0m \u001b[0;34m(\u001b[0m\u001b[0merr\u001b[0m\u001b[0;34m.\u001b[0m\u001b[0mcolumn\u001b[0m \u001b[0;34m-\u001b[0m \u001b[0;36m1\u001b[0m\u001b[0;34m)\u001b[0m \u001b[0;34m+\u001b[0m \u001b[0;34m\"^\"\u001b[0m\u001b[0;34m,\u001b[0m\u001b[0;34m\u001b[0m\u001b[0;34m\u001b[0m\u001b[0m\n",
          "\u001b[0;31mValueError\u001b[0m: \ny \\text{[m]}\n  ^\nUnknown symbol: \\text, found '\\'  (at char 2), (line:1, col:3)"
         ]
        }
       ]
      }
     },
     "68e14d2e2b854488a2c1b1037be32377": {
      "model_module": "jupyter-matplotlib",
      "model_module_version": "^0.7.4",
      "model_name": "ToolbarModel",
      "state": {
       "layout": "IPY_MODEL_ea38ca938a4b40ab88beee03aabdea7f",
       "toolitems": [
        [
         "Home",
         "Reset original view",
         "home",
         "home"
        ],
        [
         "Back",
         "Back to previous view",
         "arrow-left",
         "back"
        ],
        [
         "Forward",
         "Forward to next view",
         "arrow-right",
         "forward"
        ],
        [
         "Pan",
         "Left button pans, Right button zooms\nx/y fixes axis, CTRL fixes aspect",
         "arrows",
         "pan"
        ],
        [
         "Zoom",
         "Zoom to rectangle\nx/y fixes axis, CTRL fixes aspect",
         "square-o",
         "zoom"
        ],
        [
         "Download",
         "Download plot",
         "floppy-o",
         "save_figure"
        ]
       ]
      }
     },
     "68f16bbe671b4c1887d597a969b88db5": {
      "model_module": "@jupyter-widgets/controls",
      "model_module_version": "1.5.0",
      "model_name": "FloatSliderModel",
      "state": {
       "description": "X",
       "layout": "IPY_MODEL_a3e8185b1a85490a80d930f6cfa1ea04",
       "max": 4,
       "min": -1,
       "step": 0.2,
       "style": "IPY_MODEL_cad684781e054e2daf348425db02637e",
       "value": 2
      }
     },
     "691befa939c94ee1805d02e11026e846": {
      "model_module": "@jupyter-widgets/controls",
      "model_module_version": "1.5.0",
      "model_name": "SliderStyleModel",
      "state": {
       "description_width": ""
      }
     },
     "69394616d85d4a308653259b1db5f588": {
      "model_module": "@jupyter-widgets/base",
      "model_module_version": "1.2.0",
      "model_name": "LayoutModel",
      "state": {}
     },
     "69465e66d07e48eb9330e3b672609b95": {
      "model_module": "@jupyter-widgets/base",
      "model_module_version": "1.2.0",
      "model_name": "LayoutModel",
      "state": {}
     },
     "69bba7de67a145bebb33c3abc058066d": {
      "model_module": "@jupyter-widgets/output",
      "model_module_version": "1.0.0",
      "model_name": "OutputModel",
      "state": {
       "layout": "IPY_MODEL_077bdcc9907a43cc9c0117552612bd78"
      }
     },
     "69bdba6e5571485ea24af08ce603880d": {
      "model_module": "@jupyter-widgets/controls",
      "model_module_version": "1.5.0",
      "model_name": "ButtonModel",
      "state": {
       "description": "reset",
       "layout": "IPY_MODEL_6886271580824ce39156e7f7e60b03b5",
       "style": "IPY_MODEL_522bcf96f6d443f7ae62f9359ca7f264"
      }
     },
     "69c98b4c52f04612b4c7442c9993fda3": {
      "model_module": "@jupyter-widgets/base",
      "model_module_version": "1.2.0",
      "model_name": "LayoutModel",
      "state": {}
     },
     "69fd818bf880417da58298b7011dc8bb": {
      "model_module": "@jupyter-widgets/base",
      "model_module_version": "1.2.0",
      "model_name": "LayoutModel",
      "state": {}
     },
     "69fef6425d44458f912eaeeefd47bd08": {
      "model_module": "@jupyter-widgets/output",
      "model_module_version": "1.0.0",
      "model_name": "OutputModel",
      "state": {
       "layout": "IPY_MODEL_31ef8859151d4162ac9264a7d08827a4"
      }
     },
     "6a57d5789eb24855a27b89eca6426c24": {
      "model_module": "@jupyter-widgets/output",
      "model_module_version": "1.0.0",
      "model_name": "OutputModel",
      "state": {
       "layout": "IPY_MODEL_db350dab2d504782bc6b2c833fcd8bc1"
      }
     },
     "6a63056d7ba04ed5822415ec26d583d1": {
      "model_module": "@jupyter-widgets/controls",
      "model_module_version": "1.5.0",
      "model_name": "SliderStyleModel",
      "state": {
       "description_width": ""
      }
     },
     "6a7ba7c478c640f38cda1498197dddab": {
      "model_module": "@jupyter-widgets/output",
      "model_module_version": "1.0.0",
      "model_name": "OutputModel",
      "state": {
       "layout": "IPY_MODEL_ab4fe32512a94e6da192a4ba4755b6f2"
      }
     },
     "6a97d917ef704afd84f1cec78bcf7bb2": {
      "model_module": "@jupyter-widgets/controls",
      "model_module_version": "1.5.0",
      "model_name": "ButtonStyleModel",
      "state": {}
     },
     "6a9bb1504c464122914e41d0e1b374a9": {
      "model_module": "@jupyter-widgets/base",
      "model_module_version": "1.2.0",
      "model_name": "LayoutModel",
      "state": {}
     },
     "6aae33073ac64e4b97bf49287c58f9e4": {
      "model_module": "@jupyter-widgets/controls",
      "model_module_version": "1.5.0",
      "model_name": "ButtonModel",
      "state": {
       "description": "reset",
       "layout": "IPY_MODEL_8e6ec091ba7a462b88c9e8f5cb9e9062",
       "style": "IPY_MODEL_cd9f93d9797643a2a41b4954f47a5bc9"
      }
     },
     "6ae03f8691044b66ad6df3ca9cc77128": {
      "model_module": "@jupyter-widgets/base",
      "model_module_version": "1.2.0",
      "model_name": "LayoutModel",
      "state": {}
     },
     "6ae080dd8a654ad1a2afbd4dfbe6c562": {
      "model_module": "@jupyter-widgets/controls",
      "model_module_version": "1.5.0",
      "model_name": "VBoxModel",
      "state": {
       "children": [
        "IPY_MODEL_51943abecb074c76959b3a0ad802d1e3"
       ],
       "layout": "IPY_MODEL_8328ee5fa3e54dfcb935f183e6cbebbe"
      }
     },
     "6b0e76b2e3b341ceb7e7a6e0b27c3ce7": {
      "model_module": "@jupyter-widgets/base",
      "model_module_version": "1.2.0",
      "model_name": "LayoutModel",
      "state": {}
     },
     "6b2e4fd37f1448a4b1fcac75e2c89d2d": {
      "model_module": "jupyter-matplotlib",
      "model_module_version": "^0.7.4",
      "model_name": "ToolbarModel",
      "state": {
       "layout": "IPY_MODEL_dae5b03cff2846d095f84a8499e47d69",
       "toolitems": [
        [
         "Home",
         "Reset original view",
         "home",
         "home"
        ],
        [
         "Back",
         "Back to previous view",
         "arrow-left",
         "back"
        ],
        [
         "Forward",
         "Forward to next view",
         "arrow-right",
         "forward"
        ],
        [
         "Pan",
         "Left button pans, Right button zooms\nx/y fixes axis, CTRL fixes aspect",
         "arrows",
         "pan"
        ],
        [
         "Zoom",
         "Zoom to rectangle\nx/y fixes axis, CTRL fixes aspect",
         "square-o",
         "zoom"
        ],
        [
         "Download",
         "Download plot",
         "floppy-o",
         "save_figure"
        ]
       ]
      }
     },
     "6b7a17c8a48a4204a17022d304f9e494": {
      "model_module": "@jupyter-widgets/controls",
      "model_module_version": "1.5.0",
      "model_name": "SliderStyleModel",
      "state": {
       "description_width": ""
      }
     },
     "6b9422319c4041ed947e0a83343faf62": {
      "model_module": "@jupyter-widgets/controls",
      "model_module_version": "1.5.0",
      "model_name": "VBoxModel",
      "state": {
       "children": [
        "IPY_MODEL_3cba5f29f80b4565aad42a6fe07b1423"
       ],
       "layout": "IPY_MODEL_494b4987ba7f4fc2a219df684a56fb9d"
      }
     },
     "6c9cf9575b994f03826b6c8f95925a89": {
      "model_module": "@jupyter-widgets/controls",
      "model_module_version": "1.5.0",
      "model_name": "ButtonStyleModel",
      "state": {}
     },
     "6cb763c3225f42ea8c7f4446c9b5d64f": {
      "model_module": "jupyter-matplotlib",
      "model_module_version": "^0.7.4",
      "model_name": "ToolbarModel",
      "state": {
       "layout": "IPY_MODEL_93d8e63d361a4a989c108b1d1fc085a3",
       "toolitems": [
        [
         "Home",
         "Reset original view",
         "home",
         "home"
        ],
        [
         "Back",
         "Back to previous view",
         "arrow-left",
         "back"
        ],
        [
         "Forward",
         "Forward to next view",
         "arrow-right",
         "forward"
        ],
        [
         "Pan",
         "Left button pans, Right button zooms\nx/y fixes axis, CTRL fixes aspect",
         "arrows",
         "pan"
        ],
        [
         "Zoom",
         "Zoom to rectangle\nx/y fixes axis, CTRL fixes aspect",
         "square-o",
         "zoom"
        ],
        [
         "Download",
         "Download plot",
         "floppy-o",
         "save_figure"
        ]
       ]
      }
     },
     "6ce041f2291c4bab99550c248dd491cf": {
      "model_module": "@jupyter-widgets/base",
      "model_module_version": "1.2.0",
      "model_name": "LayoutModel",
      "state": {}
     },
     "6d4bf7e7d0524fedb3e2d0a2d907a2d0": {
      "model_module": "@jupyter-widgets/base",
      "model_module_version": "1.2.0",
      "model_name": "LayoutModel",
      "state": {}
     },
     "6d607fad884a4acf8d8d50ae577797a0": {
      "model_module": "@jupyter-widgets/controls",
      "model_module_version": "1.5.0",
      "model_name": "SliderStyleModel",
      "state": {
       "description_width": ""
      }
     },
     "6d7a5b842fd246d2850881da95e6ee37": {
      "model_module": "jupyter-matplotlib",
      "model_module_version": "^0.7.4",
      "model_name": "ToolbarModel",
      "state": {
       "layout": "IPY_MODEL_cca11545852a4cff9dcaba694800e651",
       "toolitems": [
        [
         "Home",
         "Reset original view",
         "home",
         "home"
        ],
        [
         "Back",
         "Back to previous view",
         "arrow-left",
         "back"
        ],
        [
         "Forward",
         "Forward to next view",
         "arrow-right",
         "forward"
        ],
        [
         "Pan",
         "Left button pans, Right button zooms\nx/y fixes axis, CTRL fixes aspect",
         "arrows",
         "pan"
        ],
        [
         "Zoom",
         "Zoom to rectangle\nx/y fixes axis, CTRL fixes aspect",
         "square-o",
         "zoom"
        ],
        [
         "Download",
         "Download plot",
         "floppy-o",
         "save_figure"
        ]
       ]
      }
     },
     "6dada2f3b98d45da88aa3423f36ee0d3": {
      "model_module": "@jupyter-widgets/output",
      "model_module_version": "1.0.0",
      "model_name": "OutputModel",
      "state": {
       "layout": "IPY_MODEL_b3cd5979425d4181aeeaae1d2b227237"
      }
     },
     "6db6c72bd95a476392f43a2ead20530c": {
      "model_module": "@jupyter-widgets/base",
      "model_module_version": "1.2.0",
      "model_name": "LayoutModel",
      "state": {}
     },
     "6dc3bd4404e9429691eb75d2c6317fcd": {
      "model_module": "@jupyter-widgets/controls",
      "model_module_version": "1.5.0",
      "model_name": "VBoxModel",
      "state": {
       "children": [
        "IPY_MODEL_c9f301175c794aa5b302693737ca3981"
       ],
       "layout": "IPY_MODEL_d46674ba031c4a2f869630a0892d891f"
      }
     },
     "6e67845fb32447c2bd695890c3d5c2e8": {
      "model_module": "@jupyter-widgets/controls",
      "model_module_version": "1.5.0",
      "model_name": "VBoxModel",
      "state": {
       "children": [
        "IPY_MODEL_0c5dd25b1c1344bb9fec2b028429fb9c"
       ],
       "layout": "IPY_MODEL_ac199abf3ad141b9a1e7aed51345b29d"
      }
     },
     "6e9633914e6e4279a25bf9c02bb610a9": {
      "model_module": "@jupyter-widgets/base",
      "model_module_version": "1.2.0",
      "model_name": "LayoutModel",
      "state": {}
     },
     "6ea3b18bb160499faef700380ec08e86": {
      "model_module": "@jupyter-widgets/base",
      "model_module_version": "1.2.0",
      "model_name": "LayoutModel",
      "state": {}
     },
     "6ea896a7cdcf47f09af87b04b7049341": {
      "model_module": "@jupyter-widgets/controls",
      "model_module_version": "1.5.0",
      "model_name": "ButtonModel",
      "state": {
       "description": "reset",
       "layout": "IPY_MODEL_bf7629cf106a46478592513848439520",
       "style": "IPY_MODEL_064537b011584c8d8ebec1b3b6ac4b93"
      }
     },
     "6eb04070120a4b8fb6eb1617170be300": {
      "model_module": "@jupyter-widgets/base",
      "model_module_version": "1.2.0",
      "model_name": "LayoutModel",
      "state": {}
     },
     "6eeb7040fcf8418bb955a90c48db3654": {
      "model_module": "@jupyter-widgets/base",
      "model_module_version": "1.2.0",
      "model_name": "LayoutModel",
      "state": {}
     },
     "6f03823210a9477c975d1b44aa7cba2d": {
      "model_module": "@jupyter-widgets/base",
      "model_module_version": "1.2.0",
      "model_name": "LayoutModel",
      "state": {}
     },
     "6fbeeaeab8b04adc9ce1531ab7c59f7c": {
      "model_module": "jupyter-matplotlib",
      "model_module_version": "^0.7.4",
      "model_name": "ToolbarModel",
      "state": {
       "layout": "IPY_MODEL_186a2a4503104cd7b95d2ba6f7921c5b",
       "toolitems": [
        [
         "Home",
         "Reset original view",
         "home",
         "home"
        ],
        [
         "Back",
         "Back to previous view",
         "arrow-left",
         "back"
        ],
        [
         "Forward",
         "Forward to next view",
         "arrow-right",
         "forward"
        ],
        [
         "Pan",
         "Left button pans, Right button zooms\nx/y fixes axis, CTRL fixes aspect",
         "arrows",
         "pan"
        ],
        [
         "Zoom",
         "Zoom to rectangle\nx/y fixes axis, CTRL fixes aspect",
         "square-o",
         "zoom"
        ],
        [
         "Download",
         "Download plot",
         "floppy-o",
         "save_figure"
        ]
       ]
      }
     },
     "6fe81ec5b06e4f02b7092851dce744de": {
      "model_module": "@jupyter-widgets/base",
      "model_module_version": "1.2.0",
      "model_name": "LayoutModel",
      "state": {}
     },
     "701cb5a14ed44eca9be26ea583ea147e": {
      "model_module": "jupyter-matplotlib",
      "model_module_version": "^0.7.4",
      "model_name": "ToolbarModel",
      "state": {
       "layout": "IPY_MODEL_63734089fd5044a19351d90d9e89e64d",
       "toolitems": [
        [
         "Home",
         "Reset original view",
         "home",
         "home"
        ],
        [
         "Back",
         "Back to previous view",
         "arrow-left",
         "back"
        ],
        [
         "Forward",
         "Forward to next view",
         "arrow-right",
         "forward"
        ],
        [
         "Pan",
         "Left button pans, Right button zooms\nx/y fixes axis, CTRL fixes aspect",
         "arrows",
         "pan"
        ],
        [
         "Zoom",
         "Zoom to rectangle\nx/y fixes axis, CTRL fixes aspect",
         "square-o",
         "zoom"
        ],
        [
         "Download",
         "Download plot",
         "floppy-o",
         "save_figure"
        ]
       ]
      }
     },
     "70276f9d27494af8a0748f5eb62b9e41": {
      "model_module": "@jupyter-widgets/base",
      "model_module_version": "1.2.0",
      "model_name": "LayoutModel",
      "state": {}
     },
     "704b2d70499e48668372d711cd349445": {
      "model_module": "@jupyter-widgets/output",
      "model_module_version": "1.0.0",
      "model_name": "OutputModel",
      "state": {
       "layout": "IPY_MODEL_c7967374a3434ca58a33adc7d90d2065"
      }
     },
     "70cd99db443a4519be9d871373240ab3": {
      "model_module": "@jupyter-widgets/controls",
      "model_module_version": "1.5.0",
      "model_name": "SliderStyleModel",
      "state": {
       "description_width": ""
      }
     },
     "70f038c66a6c4b4482d61519769029e9": {
      "model_module": "@jupyter-widgets/base",
      "model_module_version": "1.2.0",
      "model_name": "LayoutModel",
      "state": {}
     },
     "71448b6391814fb390656f41a37cad67": {
      "model_module": "@jupyter-widgets/base",
      "model_module_version": "1.2.0",
      "model_name": "LayoutModel",
      "state": {}
     },
     "7155b1d8aeaf4f13ae3ca608622ce9ac": {
      "model_module": "@jupyter-widgets/base",
      "model_module_version": "1.2.0",
      "model_name": "LayoutModel",
      "state": {}
     },
     "71a7438fa2754d13b4e7cc5554b2e8d1": {
      "model_module": "@jupyter-widgets/controls",
      "model_module_version": "1.5.0",
      "model_name": "SliderStyleModel",
      "state": {
       "description_width": ""
      }
     },
     "71a793d74aa347a2a21b4ad60cb7555d": {
      "model_module": "jupyter-matplotlib",
      "model_module_version": "^0.7.4",
      "model_name": "ToolbarModel",
      "state": {
       "layout": "IPY_MODEL_79fdc7dc9fee4f8ba7ebed01045059f6",
       "toolitems": [
        [
         "Home",
         "Reset original view",
         "home",
         "home"
        ],
        [
         "Back",
         "Back to previous view",
         "arrow-left",
         "back"
        ],
        [
         "Forward",
         "Forward to next view",
         "arrow-right",
         "forward"
        ],
        [
         "Pan",
         "Left button pans, Right button zooms\nx/y fixes axis, CTRL fixes aspect",
         "arrows",
         "pan"
        ],
        [
         "Zoom",
         "Zoom to rectangle\nx/y fixes axis, CTRL fixes aspect",
         "square-o",
         "zoom"
        ],
        [
         "Download",
         "Download plot",
         "floppy-o",
         "save_figure"
        ]
       ]
      }
     },
     "71af19b1b73b4d3dbf2e8faf5493def0": {
      "model_module": "@jupyter-widgets/base",
      "model_module_version": "1.2.0",
      "model_name": "LayoutModel",
      "state": {}
     },
     "71ccf30205714c9faaa956caa930b2d8": {
      "model_module": "@jupyter-widgets/controls",
      "model_module_version": "1.5.0",
      "model_name": "FloatSliderModel",
      "state": {
       "description": "x",
       "layout": "IPY_MODEL_1be0e7bcf6bb44cbbdd564ab3c8044b0",
       "max": 5,
       "min": -1,
       "step": 0.2,
       "style": "IPY_MODEL_09de5849e5114c4da6804de6712b88d2",
       "value": -0.2
      }
     },
     "724574d4a3fd4288ba1b0e7819431445": {
      "model_module": "@jupyter-widgets/base",
      "model_module_version": "1.2.0",
      "model_name": "LayoutModel",
      "state": {}
     },
     "727a6e2425dd43a686d5b390ea3108ec": {
      "model_module": "@jupyter-widgets/controls",
      "model_module_version": "1.5.0",
      "model_name": "VBoxModel",
      "state": {
       "_dom_classes": [
        "widget-interact"
       ],
       "children": [
        "IPY_MODEL_68f16bbe671b4c1887d597a969b88db5",
        "IPY_MODEL_c8a04a83f70a45ceb52fc14d3b17d10d"
       ],
       "layout": "IPY_MODEL_9804c9762e1442068228d8b83f3b2996"
      }
     },
     "72ec2ad9f65840de805b41eec94326b7": {
      "model_module": "@jupyter-widgets/controls",
      "model_module_version": "1.5.0",
      "model_name": "VBoxModel",
      "state": {
       "children": [
        "IPY_MODEL_04789c923bae4d2c968140908ae546f0"
       ],
       "layout": "IPY_MODEL_2cdc680fa6b043288d96585ba619a69b"
      }
     },
     "72f5eb4b9c1f411f851b2049a2de48c9": {
      "model_module": "jupyter-matplotlib",
      "model_module_version": "^0.7.4",
      "model_name": "ToolbarModel",
      "state": {
       "layout": "IPY_MODEL_1ac8c01f9988400ea9c0c671b682990b",
       "toolitems": [
        [
         "Home",
         "Reset original view",
         "home",
         "home"
        ],
        [
         "Back",
         "Back to previous view",
         "arrow-left",
         "back"
        ],
        [
         "Forward",
         "Forward to next view",
         "arrow-right",
         "forward"
        ],
        [
         "Pan",
         "Left button pans, Right button zooms\nx/y fixes axis, CTRL fixes aspect",
         "arrows",
         "pan"
        ],
        [
         "Zoom",
         "Zoom to rectangle\nx/y fixes axis, CTRL fixes aspect",
         "square-o",
         "zoom"
        ],
        [
         "Download",
         "Download plot",
         "floppy-o",
         "save_figure"
        ]
       ]
      }
     },
     "733eadeab3b748dd80cd6326cdf0a3e6": {
      "model_module": "@jupyter-widgets/controls",
      "model_module_version": "1.5.0",
      "model_name": "SliderStyleModel",
      "state": {
       "description_width": ""
      }
     },
     "734545d51a3f4311baabdfed7533f221": {
      "model_module": "jupyter-matplotlib",
      "model_module_version": "^0.7.4",
      "model_name": "ToolbarModel",
      "state": {
       "layout": "IPY_MODEL_f66c225011c3428a957450099f984a5d",
       "toolitems": [
        [
         "Home",
         "Reset original view",
         "home",
         "home"
        ],
        [
         "Back",
         "Back to previous view",
         "arrow-left",
         "back"
        ],
        [
         "Forward",
         "Forward to next view",
         "arrow-right",
         "forward"
        ],
        [
         "Pan",
         "Left button pans, Right button zooms\nx/y fixes axis, CTRL fixes aspect",
         "arrows",
         "pan"
        ],
        [
         "Zoom",
         "Zoom to rectangle\nx/y fixes axis, CTRL fixes aspect",
         "square-o",
         "zoom"
        ],
        [
         "Download",
         "Download plot",
         "floppy-o",
         "save_figure"
        ]
       ]
      }
     },
     "734727bc57a8414db6033b4f62d3d43c": {
      "model_module": "@jupyter-widgets/controls",
      "model_module_version": "1.5.0",
      "model_name": "SliderStyleModel",
      "state": {
       "description_width": ""
      }
     },
     "7372b939483b4426bfdd917c7d9d21bd": {
      "model_module": "@jupyter-widgets/base",
      "model_module_version": "1.2.0",
      "model_name": "LayoutModel",
      "state": {}
     },
     "73ec3c056cc44f91b97ad0793dbd356b": {
      "model_module": "@jupyter-widgets/base",
      "model_module_version": "1.2.0",
      "model_name": "LayoutModel",
      "state": {}
     },
     "742e92e957d042e89a7afaf97c3b34a3": {
      "model_module": "@jupyter-widgets/base",
      "model_module_version": "1.2.0",
      "model_name": "LayoutModel",
      "state": {}
     },
     "74a4736938764d32932e563e85b72bfb": {
      "model_module": "@jupyter-widgets/base",
      "model_module_version": "1.2.0",
      "model_name": "LayoutModel",
      "state": {}
     },
     "74c5e8e8c8af4e3da5e28686c81cb4b0": {
      "model_module": "@jupyter-widgets/base",
      "model_module_version": "1.2.0",
      "model_name": "LayoutModel",
      "state": {}
     },
     "74cd6cf00b85489cbb15f6261dc1aaca": {
      "model_module": "@jupyter-widgets/controls",
      "model_module_version": "1.5.0",
      "model_name": "FloatSliderModel",
      "state": {
       "description": "x",
       "layout": "IPY_MODEL_f18c3d9f447e4bcdb610a34a03ff80a9",
       "max": 5,
       "min": -1,
       "step": 0.2,
       "style": "IPY_MODEL_d9fd88c6a13a4c869bd03ff870ae5154"
      }
     },
     "7515c1d82be64484bd462bcff14bd4ad": {
      "model_module": "@jupyter-widgets/controls",
      "model_module_version": "1.5.0",
      "model_name": "SliderStyleModel",
      "state": {
       "description_width": ""
      }
     },
     "75394e90ddae45a8a8fde325d5a52b6d": {
      "model_module": "@jupyter-widgets/base",
      "model_module_version": "1.2.0",
      "model_name": "LayoutModel",
      "state": {}
     },
     "75b8675a15d64253bec8dfc6ab4a7a84": {
      "model_module": "@jupyter-widgets/controls",
      "model_module_version": "1.5.0",
      "model_name": "ButtonStyleModel",
      "state": {}
     },
     "75c3f01f1f1242bbb3fb116dbc0fddae": {
      "model_module": "@jupyter-widgets/controls",
      "model_module_version": "1.5.0",
      "model_name": "VBoxModel",
      "state": {
       "_dom_classes": [
        "widget-interact"
       ],
       "children": [
        "IPY_MODEL_1583e0992520401f9dcd4d984ee448e9",
        "IPY_MODEL_40e6676225da4eba98cfa012005e2501"
       ],
       "layout": "IPY_MODEL_889f67e871f645af995c7679aaff9029"
      }
     },
     "760218f97b884ad28dad44380cebee93": {
      "model_module": "@jupyter-widgets/output",
      "model_module_version": "1.0.0",
      "model_name": "OutputModel",
      "state": {
       "layout": "IPY_MODEL_bd3f109a6e914e8da37f85cb7f5a4778"
      }
     },
     "760492eada2d4a7785662d0c7f565e06": {
      "model_module": "@jupyter-widgets/base",
      "model_module_version": "1.2.0",
      "model_name": "LayoutModel",
      "state": {}
     },
     "7633d960cf584ab3873263d56d152579": {
      "model_module": "@jupyter-widgets/base",
      "model_module_version": "1.2.0",
      "model_name": "LayoutModel",
      "state": {}
     },
     "76bdd003bca04c67a6fef210e54e7f9e": {
      "model_module": "jupyter-matplotlib",
      "model_module_version": "^0.7.4",
      "model_name": "ToolbarModel",
      "state": {
       "layout": "IPY_MODEL_70f038c66a6c4b4482d61519769029e9",
       "toolitems": [
        [
         "Home",
         "Reset original view",
         "home",
         "home"
        ],
        [
         "Back",
         "Back to previous view",
         "arrow-left",
         "back"
        ],
        [
         "Forward",
         "Forward to next view",
         "arrow-right",
         "forward"
        ],
        [
         "Pan",
         "Left button pans, Right button zooms\nx/y fixes axis, CTRL fixes aspect",
         "arrows",
         "pan"
        ],
        [
         "Zoom",
         "Zoom to rectangle\nx/y fixes axis, CTRL fixes aspect",
         "square-o",
         "zoom"
        ],
        [
         "Download",
         "Download plot",
         "floppy-o",
         "save_figure"
        ]
       ]
      }
     },
     "76f2fa747bc148be8e1fed4c1e41776f": {
      "model_module": "@jupyter-widgets/base",
      "model_module_version": "1.2.0",
      "model_name": "LayoutModel",
      "state": {}
     },
     "778a823b39f34c7786e3b1ca8bb7681b": {
      "model_module": "@jupyter-widgets/controls",
      "model_module_version": "1.5.0",
      "model_name": "SliderStyleModel",
      "state": {
       "description_width": ""
      }
     },
     "77fcc9cf5ed24a9e96722b1ae56e8121": {
      "model_module": "@jupyter-widgets/base",
      "model_module_version": "1.2.0",
      "model_name": "LayoutModel",
      "state": {}
     },
     "7871047337c5414290e16162679b923a": {
      "model_module": "@jupyter-widgets/base",
      "model_module_version": "1.2.0",
      "model_name": "LayoutModel",
      "state": {}
     },
     "78807ec998584e298f0fd79d076fa2d9": {
      "model_module": "@jupyter-widgets/controls",
      "model_module_version": "1.5.0",
      "model_name": "ButtonStyleModel",
      "state": {}
     },
     "789b87c1008144978a3d11e754264e87": {
      "model_module": "@jupyter-widgets/output",
      "model_module_version": "1.0.0",
      "model_name": "OutputModel",
      "state": {
       "layout": "IPY_MODEL_ec3c934cdcb54f55aea0e1ae8628c125"
      }
     },
     "78b0656d30d24aae89c6282b6d006857": {
      "model_module": "@jupyter-widgets/base",
      "model_module_version": "1.2.0",
      "model_name": "LayoutModel",
      "state": {}
     },
     "790b7f7e733f4470b05fe25bb49f511a": {
      "model_module": "@jupyter-widgets/controls",
      "model_module_version": "1.5.0",
      "model_name": "VBoxModel",
      "state": {
       "_dom_classes": [
        "widget-interact"
       ],
       "children": [
        "IPY_MODEL_a794782665674230af07bf63ca79111c",
        "IPY_MODEL_f1bd2e629af84b3199c9f15dc29a6639"
       ],
       "layout": "IPY_MODEL_c259f6449ea1405d816d1f300ee1b08d"
      }
     },
     "79fb7242de914d6db972991009f40afc": {
      "model_module": "jupyter-matplotlib",
      "model_module_version": "^0.7.4",
      "model_name": "ToolbarModel",
      "state": {
       "layout": "IPY_MODEL_e52b0910348b4974b311db50efa2b57d",
       "toolitems": [
        [
         "Home",
         "Reset original view",
         "home",
         "home"
        ],
        [
         "Back",
         "Back to previous view",
         "arrow-left",
         "back"
        ],
        [
         "Forward",
         "Forward to next view",
         "arrow-right",
         "forward"
        ],
        [
         "Pan",
         "Left button pans, Right button zooms\nx/y fixes axis, CTRL fixes aspect",
         "arrows",
         "pan"
        ],
        [
         "Zoom",
         "Zoom to rectangle\nx/y fixes axis, CTRL fixes aspect",
         "square-o",
         "zoom"
        ],
        [
         "Download",
         "Download plot",
         "floppy-o",
         "save_figure"
        ]
       ]
      }
     },
     "79fdc7dc9fee4f8ba7ebed01045059f6": {
      "model_module": "@jupyter-widgets/base",
      "model_module_version": "1.2.0",
      "model_name": "LayoutModel",
      "state": {}
     },
     "7a264bac98b140a88e098515a63a7cdc": {
      "model_module": "@jupyter-widgets/output",
      "model_module_version": "1.0.0",
      "model_name": "OutputModel",
      "state": {
       "layout": "IPY_MODEL_6eb04070120a4b8fb6eb1617170be300"
      }
     },
     "7a422eb0438d46edafb39e1968538462": {
      "model_module": "@jupyter-widgets/base",
      "model_module_version": "1.2.0",
      "model_name": "LayoutModel",
      "state": {}
     },
     "7a9250bab3654b0aba0474a41095d00e": {
      "model_module": "@jupyter-widgets/base",
      "model_module_version": "1.2.0",
      "model_name": "LayoutModel",
      "state": {}
     },
     "7a93450055814e438a4ad70b37de0739": {
      "model_module": "@jupyter-widgets/base",
      "model_module_version": "1.2.0",
      "model_name": "LayoutModel",
      "state": {}
     },
     "7a9bc602a1e345aab3f17b3b994667e5": {
      "model_module": "@jupyter-widgets/base",
      "model_module_version": "1.2.0",
      "model_name": "LayoutModel",
      "state": {}
     },
     "7af769dd831e487580a8fbbbc4a93fa1": {
      "model_module": "@jupyter-widgets/base",
      "model_module_version": "1.2.0",
      "model_name": "LayoutModel",
      "state": {}
     },
     "7b0318b2458549229e36900808f35d5c": {
      "model_module": "@jupyter-widgets/controls",
      "model_module_version": "1.5.0",
      "model_name": "VBoxModel",
      "state": {
       "_dom_classes": [
        "widget-interact"
       ],
       "children": [
        "IPY_MODEL_8388f303bdcd47ebbf391d3fb487ae56",
        "IPY_MODEL_9de47889452c45598aa69fa8edf0e009"
       ],
       "layout": "IPY_MODEL_5eddc4ff8b2d43cf9ec84a3dd767a53f"
      }
     },
     "7b0459fbffcc4cfca75dd44ce9d3c4fe": {
      "model_module": "@jupyter-widgets/base",
      "model_module_version": "1.2.0",
      "model_name": "LayoutModel",
      "state": {}
     },
     "7b18b82cef734d998d3d57da5d7e801c": {
      "model_module": "jupyter-matplotlib",
      "model_module_version": "^0.7.4",
      "model_name": "ToolbarModel",
      "state": {
       "layout": "IPY_MODEL_de40d18bd8b04257946045752a910220",
       "toolitems": [
        [
         "Home",
         "Reset original view",
         "home",
         "home"
        ],
        [
         "Back",
         "Back to previous view",
         "arrow-left",
         "back"
        ],
        [
         "Forward",
         "Forward to next view",
         "arrow-right",
         "forward"
        ],
        [
         "Pan",
         "Left button pans, Right button zooms\nx/y fixes axis, CTRL fixes aspect",
         "arrows",
         "pan"
        ],
        [
         "Zoom",
         "Zoom to rectangle\nx/y fixes axis, CTRL fixes aspect",
         "square-o",
         "zoom"
        ],
        [
         "Download",
         "Download plot",
         "floppy-o",
         "save_figure"
        ]
       ]
      }
     },
     "7b2ad12655b847649383920883376c56": {
      "model_module": "@jupyter-widgets/base",
      "model_module_version": "1.2.0",
      "model_name": "LayoutModel",
      "state": {}
     },
     "7b5b884148f240c38d250a6c4b988af1": {
      "model_module": "@jupyter-widgets/controls",
      "model_module_version": "1.5.0",
      "model_name": "FloatSliderModel",
      "state": {
       "description": "x",
       "layout": "IPY_MODEL_32eef00b3b1845919f677332dcff7d76",
       "max": 5,
       "min": -1,
       "step": 0.2,
       "style": "IPY_MODEL_1438d9dfb6be40be8c93f567368343aa",
       "value": -0.8
      }
     },
     "7ba1145b72a14262b76be2ecd4c9ef8c": {
      "model_module": "jupyter-matplotlib",
      "model_module_version": "^0.7.4",
      "model_name": "ToolbarModel",
      "state": {
       "layout": "IPY_MODEL_5fe422f4af51425a929ac056a0ae60c9",
       "toolitems": [
        [
         "Home",
         "Reset original view",
         "home",
         "home"
        ],
        [
         "Back",
         "Back to previous view",
         "arrow-left",
         "back"
        ],
        [
         "Forward",
         "Forward to next view",
         "arrow-right",
         "forward"
        ],
        [
         "Pan",
         "Left button pans, Right button zooms\nx/y fixes axis, CTRL fixes aspect",
         "arrows",
         "pan"
        ],
        [
         "Zoom",
         "Zoom to rectangle\nx/y fixes axis, CTRL fixes aspect",
         "square-o",
         "zoom"
        ],
        [
         "Download",
         "Download plot",
         "floppy-o",
         "save_figure"
        ]
       ]
      }
     },
     "7ba1607140c74c2c9b054568e06c6895": {
      "model_module": "@jupyter-widgets/base",
      "model_module_version": "1.2.0",
      "model_name": "LayoutModel",
      "state": {}
     },
     "7ba18bce49fd45858d4af3237d089965": {
      "model_module": "@jupyter-widgets/base",
      "model_module_version": "1.2.0",
      "model_name": "LayoutModel",
      "state": {}
     },
     "7bfeba96b92943f697254d1e08da8be2": {
      "model_module": "@jupyter-widgets/controls",
      "model_module_version": "1.5.0",
      "model_name": "VBoxModel",
      "state": {
       "children": [
        "IPY_MODEL_adcd115a3dbe49e480c53619e0f092a9"
       ],
       "layout": "IPY_MODEL_57615556b15b4f788c2a76290e9d5708"
      }
     },
     "7c1f60fcd9e240c9944241108b8ddebc": {
      "model_module": "@jupyter-widgets/base",
      "model_module_version": "1.2.0",
      "model_name": "LayoutModel",
      "state": {}
     },
     "7c3ae38d5ae840d7a4fb3cb3df87e821": {
      "model_module": "@jupyter-widgets/controls",
      "model_module_version": "1.5.0",
      "model_name": "VBoxModel",
      "state": {
       "children": [
        "IPY_MODEL_12ecb16ba6564288b7f1daa836a89e89"
       ],
       "layout": "IPY_MODEL_1e42321a4a754b7e8bbfe675a8a8a78c"
      }
     },
     "7c65ac2200de444985e5a365c42af3ed": {
      "model_module": "@jupyter-widgets/controls",
      "model_module_version": "1.5.0",
      "model_name": "VBoxModel",
      "state": {
       "_dom_classes": [
        "widget-interact"
       ],
       "children": [
        "IPY_MODEL_05648f7384674c9084113f7c20c02162",
        "IPY_MODEL_aff278af9531467e8e48823cbd0014ad"
       ],
       "layout": "IPY_MODEL_19adae52a637423f8f79d6ef483f17ee"
      }
     },
     "7c728cab51cb47718b9ec8b76d7d9853": {
      "model_module": "@jupyter-widgets/base",
      "model_module_version": "1.2.0",
      "model_name": "LayoutModel",
      "state": {}
     },
     "7cad03137cdb4d0097ecdebea90afbcd": {
      "model_module": "@jupyter-widgets/controls",
      "model_module_version": "1.5.0",
      "model_name": "SliderStyleModel",
      "state": {
       "description_width": ""
      }
     },
     "7cc4fb015bd047479a97a4d502b37785": {
      "model_module": "@jupyter-widgets/base",
      "model_module_version": "1.2.0",
      "model_name": "LayoutModel",
      "state": {}
     },
     "7d35ed8f42184c49b9692adce2d23350": {
      "model_module": "@jupyter-widgets/controls",
      "model_module_version": "1.5.0",
      "model_name": "VBoxModel",
      "state": {
       "children": [
        "IPY_MODEL_d1a5667d7ada436aa6e8954c2f5e180a"
       ],
       "layout": "IPY_MODEL_3695a265d7994e17b4912913df939dfe"
      }
     },
     "7d5c44fd061b4de390f4dfbebad7a12e": {
      "model_module": "@jupyter-widgets/base",
      "model_module_version": "1.2.0",
      "model_name": "LayoutModel",
      "state": {}
     },
     "7db35ceaf67943d082e34f101701cf25": {
      "model_module": "jupyter-matplotlib",
      "model_module_version": "^0.7.4",
      "model_name": "ToolbarModel",
      "state": {
       "layout": "IPY_MODEL_d6169288a3d641a99f9c2a093d74e1ae",
       "toolitems": [
        [
         "Home",
         "Reset original view",
         "home",
         "home"
        ],
        [
         "Back",
         "Back to previous view",
         "arrow-left",
         "back"
        ],
        [
         "Forward",
         "Forward to next view",
         "arrow-right",
         "forward"
        ],
        [
         "Pan",
         "Left button pans, Right button zooms\nx/y fixes axis, CTRL fixes aspect",
         "arrows",
         "pan"
        ],
        [
         "Zoom",
         "Zoom to rectangle\nx/y fixes axis, CTRL fixes aspect",
         "square-o",
         "zoom"
        ],
        [
         "Download",
         "Download plot",
         "floppy-o",
         "save_figure"
        ]
       ]
      }
     },
     "7dcc301c50db4ef490470ee24b354f0f": {
      "model_module": "@jupyter-widgets/base",
      "model_module_version": "1.2.0",
      "model_name": "LayoutModel",
      "state": {}
     },
     "7e067d9b85a445628bbd8a1fd923df76": {
      "model_module": "@jupyter-widgets/output",
      "model_module_version": "1.0.0",
      "model_name": "OutputModel",
      "state": {
       "layout": "IPY_MODEL_9af39356795346febcd9d2fde88f8387"
      }
     },
     "7e1c6b2d3ecc420ab652a7a250d97e99": {
      "model_module": "@jupyter-widgets/controls",
      "model_module_version": "1.5.0",
      "model_name": "ButtonStyleModel",
      "state": {}
     },
     "7e3fffc734e7464b820ca8ceb3a97296": {
      "model_module": "@jupyter-widgets/base",
      "model_module_version": "1.2.0",
      "model_name": "LayoutModel",
      "state": {}
     },
     "7eac0c08cbd8472c8eb25cd4af88de17": {
      "model_module": "@jupyter-widgets/base",
      "model_module_version": "1.2.0",
      "model_name": "LayoutModel",
      "state": {}
     },
     "7eb622b75e54474b9c05fdad495f7bff": {
      "model_module": "@jupyter-widgets/base",
      "model_module_version": "1.2.0",
      "model_name": "LayoutModel",
      "state": {}
     },
     "7f15ecef818141208ae3d094c5df46f1": {
      "model_module": "@jupyter-widgets/base",
      "model_module_version": "1.2.0",
      "model_name": "LayoutModel",
      "state": {}
     },
     "7f1ce1dc9a834b36a1928e478deec04f": {
      "model_module": "@jupyter-widgets/base",
      "model_module_version": "1.2.0",
      "model_name": "LayoutModel",
      "state": {}
     },
     "7f43d3298ab243f0b6c0c66ff835dd89": {
      "model_module": "@jupyter-widgets/base",
      "model_module_version": "1.2.0",
      "model_name": "LayoutModel",
      "state": {}
     },
     "7f4c8de0f6ce4e82abfdb193d36fc45e": {
      "model_module": "@jupyter-widgets/controls",
      "model_module_version": "1.5.0",
      "model_name": "SliderStyleModel",
      "state": {
       "description_width": ""
      }
     },
     "7f4dfbb3ebb144c8a123925dd6f06b66": {
      "model_module": "@jupyter-widgets/base",
      "model_module_version": "1.2.0",
      "model_name": "LayoutModel",
      "state": {}
     },
     "7fcc7c85830f47d4832538a8ce23cc52": {
      "model_module": "jupyter-matplotlib",
      "model_module_version": "^0.7.4",
      "model_name": "ToolbarModel",
      "state": {
       "layout": "IPY_MODEL_9557692965654c438b928c1dbde2790f",
       "toolitems": [
        [
         "Home",
         "Reset original view",
         "home",
         "home"
        ],
        [
         "Back",
         "Back to previous view",
         "arrow-left",
         "back"
        ],
        [
         "Forward",
         "Forward to next view",
         "arrow-right",
         "forward"
        ],
        [
         "Pan",
         "Left button pans, Right button zooms\nx/y fixes axis, CTRL fixes aspect",
         "arrows",
         "pan"
        ],
        [
         "Zoom",
         "Zoom to rectangle\nx/y fixes axis, CTRL fixes aspect",
         "square-o",
         "zoom"
        ],
        [
         "Download",
         "Download plot",
         "floppy-o",
         "save_figure"
        ]
       ]
      }
     },
     "806d9937615e4fc79f6eb988d979435c": {
      "model_module": "@jupyter-widgets/controls",
      "model_module_version": "1.5.0",
      "model_name": "SliderStyleModel",
      "state": {
       "description_width": ""
      }
     },
     "80943aaeaa474da2a0b48a59da3d95a6": {
      "model_module": "@jupyter-widgets/base",
      "model_module_version": "1.2.0",
      "model_name": "LayoutModel",
      "state": {}
     },
     "812c21d51f2346ad85131e6976f5971a": {
      "model_module": "@jupyter-widgets/base",
      "model_module_version": "1.2.0",
      "model_name": "LayoutModel",
      "state": {}
     },
     "814b77eff766438daac8f87a0a4a2955": {
      "model_module": "jupyter-matplotlib",
      "model_module_version": "^0.7.4",
      "model_name": "ToolbarModel",
      "state": {
       "layout": "IPY_MODEL_263773dfd61b46e6829b577897f12bbb",
       "toolitems": [
        [
         "Home",
         "Reset original view",
         "home",
         "home"
        ],
        [
         "Back",
         "Back to previous view",
         "arrow-left",
         "back"
        ],
        [
         "Forward",
         "Forward to next view",
         "arrow-right",
         "forward"
        ],
        [
         "Pan",
         "Left button pans, Right button zooms\nx/y fixes axis, CTRL fixes aspect",
         "arrows",
         "pan"
        ],
        [
         "Zoom",
         "Zoom to rectangle\nx/y fixes axis, CTRL fixes aspect",
         "square-o",
         "zoom"
        ],
        [
         "Download",
         "Download plot",
         "floppy-o",
         "save_figure"
        ]
       ]
      }
     },
     "817716f1bc814f84be27b964335bd7d8": {
      "model_module": "@jupyter-widgets/base",
      "model_module_version": "1.2.0",
      "model_name": "LayoutModel",
      "state": {}
     },
     "818325cf4f3b402bb0be98cb4d3f64e9": {
      "model_module": "@jupyter-widgets/base",
      "model_module_version": "1.2.0",
      "model_name": "LayoutModel",
      "state": {}
     },
     "81a444ef24dd4a948b69797f6b691b60": {
      "model_module": "@jupyter-widgets/base",
      "model_module_version": "1.2.0",
      "model_name": "LayoutModel",
      "state": {}
     },
     "822834f698224d978edaa3636129be86": {
      "model_module": "@jupyter-widgets/base",
      "model_module_version": "1.2.0",
      "model_name": "LayoutModel",
      "state": {}
     },
     "824612dfe3a84bf3a764fe6bfb5cef5f": {
      "model_module": "@jupyter-widgets/controls",
      "model_module_version": "1.5.0",
      "model_name": "FloatSliderModel",
      "state": {
       "description": "x",
       "layout": "IPY_MODEL_e8a3c25a64d94f128f6ca1668ecad10f",
       "max": 5,
       "min": -1,
       "step": 0.2,
       "style": "IPY_MODEL_484e697f7b4f45658ea369b2adcccbee",
       "value": 1.8
      }
     },
     "8293bb552ced48019cc64aa1b10596fd": {
      "model_module": "@jupyter-widgets/base",
      "model_module_version": "1.2.0",
      "model_name": "LayoutModel",
      "state": {}
     },
     "829bc7c7b37f40e18698a422b451bf3a": {
      "model_module": "@jupyter-widgets/controls",
      "model_module_version": "1.5.0",
      "model_name": "ButtonStyleModel",
      "state": {}
     },
     "82c2acbd7e484a2b98ab6b89ae300567": {
      "model_module": "@jupyter-widgets/controls",
      "model_module_version": "1.5.0",
      "model_name": "VBoxModel",
      "state": {
       "_dom_classes": [
        "widget-interact"
       ],
       "children": [
        "IPY_MODEL_2297bbe085154142882ca22ea785e23a",
        "IPY_MODEL_9443fda6ce5942efafdc045225e2bd9f"
       ],
       "layout": "IPY_MODEL_52c04b5ac6044f47b287418f49971bdf"
      }
     },
     "8328ee5fa3e54dfcb935f183e6cbebbe": {
      "model_module": "@jupyter-widgets/base",
      "model_module_version": "1.2.0",
      "model_name": "LayoutModel",
      "state": {}
     },
     "8388f303bdcd47ebbf391d3fb487ae56": {
      "model_module": "@jupyter-widgets/controls",
      "model_module_version": "1.5.0",
      "model_name": "FloatSliderModel",
      "state": {
       "description": "x",
       "layout": "IPY_MODEL_b583f333cf8d4a27b6cd4020c112b77b",
       "max": 5.5,
       "min": -0.5,
       "step": 0.2,
       "style": "IPY_MODEL_958f135790b24039a0ba17b5691c1558"
      }
     },
     "84c164e0073c401b90e1143ce8d0a8fb": {
      "model_module": "@jupyter-widgets/controls",
      "model_module_version": "1.5.0",
      "model_name": "SliderStyleModel",
      "state": {
       "description_width": ""
      }
     },
     "84ec7c2579a54057bab987e974d61006": {
      "model_module": "@jupyter-widgets/output",
      "model_module_version": "1.0.0",
      "model_name": "OutputModel",
      "state": {
       "layout": "IPY_MODEL_dab8bb7276844fa68ffb626fa087aee4"
      }
     },
     "851c387aa6c34a8faba24ea054d4a761": {
      "model_module": "@jupyter-widgets/controls",
      "model_module_version": "1.5.0",
      "model_name": "SliderStyleModel",
      "state": {
       "description_width": ""
      }
     },
     "8537b86ae50f4b0883fe5b9faac7e042": {
      "model_module": "@jupyter-widgets/base",
      "model_module_version": "1.2.0",
      "model_name": "LayoutModel",
      "state": {}
     },
     "856cc3ab9edf49d6aebd4a19c5615a00": {
      "model_module": "@jupyter-widgets/base",
      "model_module_version": "1.2.0",
      "model_name": "LayoutModel",
      "state": {}
     },
     "866053777e1246daa9bc97dcf3b9a952": {
      "model_module": "@jupyter-widgets/base",
      "model_module_version": "1.2.0",
      "model_name": "LayoutModel",
      "state": {}
     },
     "86b78179f4914ba293e53697745d543f": {
      "model_module": "@jupyter-widgets/controls",
      "model_module_version": "1.5.0",
      "model_name": "ButtonStyleModel",
      "state": {}
     },
     "86c057b2412345d693f1d778eac4b1f2": {
      "model_module": "@jupyter-widgets/controls",
      "model_module_version": "1.5.0",
      "model_name": "SliderStyleModel",
      "state": {
       "description_width": ""
      }
     },
     "87833db8066647e78eec19da30f09fc3": {
      "model_module": "@jupyter-widgets/controls",
      "model_module_version": "1.5.0",
      "model_name": "VBoxModel",
      "state": {
       "_dom_classes": [
        "widget-interact"
       ],
       "children": [
        "IPY_MODEL_2051e64b63f5403c98c519c9a2811d96",
        "IPY_MODEL_25a8020d0eb148d3931934af51f25b44"
       ],
       "layout": "IPY_MODEL_9a33001747ed4fd7938724bbc9f9d4f2"
      }
     },
     "88160cea4ba849f69b01389241fcaafa": {
      "model_module": "@jupyter-widgets/controls",
      "model_module_version": "1.5.0",
      "model_name": "VBoxModel",
      "state": {
       "_dom_classes": [
        "widget-interact"
       ],
       "children": [
        "IPY_MODEL_d29cd97917894b008ce87beadcc17c89",
        "IPY_MODEL_40d66a329fc64220857b2dfb15025c67"
       ],
       "layout": "IPY_MODEL_8a38e044b6fc450f843543bc49a18ac8"
      }
     },
     "885a672c55494f02bbd87bdf59137fc3": {
      "model_module": "@jupyter-widgets/base",
      "model_module_version": "1.2.0",
      "model_name": "LayoutModel",
      "state": {}
     },
     "886b352c73ba4861b33c2459f517b706": {
      "model_module": "@jupyter-widgets/controls",
      "model_module_version": "1.5.0",
      "model_name": "SliderStyleModel",
      "state": {
       "description_width": ""
      }
     },
     "889f67e871f645af995c7679aaff9029": {
      "model_module": "@jupyter-widgets/base",
      "model_module_version": "1.2.0",
      "model_name": "LayoutModel",
      "state": {}
     },
     "88a263875c53469fa45a381acf6887f8": {
      "model_module": "@jupyter-widgets/controls",
      "model_module_version": "1.5.0",
      "model_name": "VBoxModel",
      "state": {
       "_dom_classes": [
        "widget-interact"
       ],
       "children": [
        "IPY_MODEL_1d68099d98644c19879ba168263a4512",
        "IPY_MODEL_55fe0d0ddab747deafa01267ce740f25"
       ],
       "layout": "IPY_MODEL_6ae03f8691044b66ad6df3ca9cc77128"
      }
     },
     "88fe99a94d124cb8be40578b186d4a92": {
      "model_module": "@jupyter-widgets/output",
      "model_module_version": "1.0.0",
      "model_name": "OutputModel",
      "state": {
       "layout": "IPY_MODEL_e8c1295416004fff864815d5c5328177"
      }
     },
     "89801aa53b684ddebe75efa00ce58aed": {
      "model_module": "@jupyter-widgets/base",
      "model_module_version": "1.2.0",
      "model_name": "LayoutModel",
      "state": {}
     },
     "8994c2cfe3154798a2977e9b3520fd8c": {
      "model_module": "jupyter-matplotlib",
      "model_module_version": "^0.7.4",
      "model_name": "ToolbarModel",
      "state": {
       "layout": "IPY_MODEL_1640e083570f4da380388b8c6926fc75",
       "toolitems": [
        [
         "Home",
         "Reset original view",
         "home",
         "home"
        ],
        [
         "Back",
         "Back to previous view",
         "arrow-left",
         "back"
        ],
        [
         "Forward",
         "Forward to next view",
         "arrow-right",
         "forward"
        ],
        [
         "Pan",
         "Left button pans, Right button zooms\nx/y fixes axis, CTRL fixes aspect",
         "arrows",
         "pan"
        ],
        [
         "Zoom",
         "Zoom to rectangle\nx/y fixes axis, CTRL fixes aspect",
         "square-o",
         "zoom"
        ],
        [
         "Download",
         "Download plot",
         "floppy-o",
         "save_figure"
        ]
       ]
      }
     },
     "89b0899fc34c4382a8c133a02843deac": {
      "model_module": "@jupyter-widgets/controls",
      "model_module_version": "1.5.0",
      "model_name": "VBoxModel",
      "state": {
       "children": [
        "IPY_MODEL_e84c81304b8b4cefb51ea8aaf604f595"
       ],
       "layout": "IPY_MODEL_9a7d3845f6de4895b09c10624b2efc16"
      }
     },
     "89cab28a6d4648dc927ee920cb9257d3": {
      "model_module": "@jupyter-widgets/controls",
      "model_module_version": "1.5.0",
      "model_name": "VBoxModel",
      "state": {
       "_dom_classes": [
        "widget-interact"
       ],
       "children": [
        "IPY_MODEL_52af2a505ad84714924b867e68a343ac",
        "IPY_MODEL_23aef0a036a34c09a3de1d4eaa5d81f5"
       ],
       "layout": "IPY_MODEL_c16d4ff66f7e494fb729065b4a48b370"
      }
     },
     "8a00f7a1db8a495f8bc0316282990f80": {
      "model_module": "@jupyter-widgets/base",
      "model_module_version": "1.2.0",
      "model_name": "LayoutModel",
      "state": {}
     },
     "8a0c5d58e3ba49dd90769fe8910621e0": {
      "model_module": "@jupyter-widgets/controls",
      "model_module_version": "1.5.0",
      "model_name": "SliderStyleModel",
      "state": {
       "description_width": ""
      }
     },
     "8a11dee72c484d8881b8fcd043d61efb": {
      "model_module": "@jupyter-widgets/controls",
      "model_module_version": "1.5.0",
      "model_name": "VBoxModel",
      "state": {
       "children": [
        "IPY_MODEL_575ed4126c5d474e80bced633719275e"
       ],
       "layout": "IPY_MODEL_9d53d9b8b4e1425f9bd856bbf6f036ec"
      }
     },
     "8a38e044b6fc450f843543bc49a18ac8": {
      "model_module": "@jupyter-widgets/base",
      "model_module_version": "1.2.0",
      "model_name": "LayoutModel",
      "state": {}
     },
     "8ab9efb863d649e3badb81f849409da5": {
      "model_module": "@jupyter-widgets/base",
      "model_module_version": "1.2.0",
      "model_name": "LayoutModel",
      "state": {}
     },
     "8ae02739b9bc4fa09fe77770371b88aa": {
      "model_module": "@jupyter-widgets/controls",
      "model_module_version": "1.5.0",
      "model_name": "FloatSliderModel",
      "state": {
       "description": "X",
       "layout": "IPY_MODEL_8de3f5f25a5d423092fdb108eb377486",
       "max": 4,
       "min": -1,
       "step": 0.1,
       "style": "IPY_MODEL_305557c0341d4f008ebf48c53379bc1b",
       "value": -1
      }
     },
     "8bc5a3a95dda4f21a2100550b13a215f": {
      "model_module": "jupyter-matplotlib",
      "model_module_version": "^0.7.4",
      "model_name": "ToolbarModel",
      "state": {
       "layout": "IPY_MODEL_e625faf5024448b79372cabefc8799d8",
       "toolitems": [
        [
         "Home",
         "Reset original view",
         "home",
         "home"
        ],
        [
         "Back",
         "Back to previous view",
         "arrow-left",
         "back"
        ],
        [
         "Forward",
         "Forward to next view",
         "arrow-right",
         "forward"
        ],
        [
         "Pan",
         "Left button pans, Right button zooms\nx/y fixes axis, CTRL fixes aspect",
         "arrows",
         "pan"
        ],
        [
         "Zoom",
         "Zoom to rectangle\nx/y fixes axis, CTRL fixes aspect",
         "square-o",
         "zoom"
        ],
        [
         "Download",
         "Download plot",
         "floppy-o",
         "save_figure"
        ]
       ]
      }
     },
     "8c6f5d838252401da8e7af6e9d20b105": {
      "model_module": "@jupyter-widgets/base",
      "model_module_version": "1.2.0",
      "model_name": "LayoutModel",
      "state": {}
     },
     "8c749dc3794e47cd899fbfd510a7515b": {
      "model_module": "@jupyter-widgets/controls",
      "model_module_version": "1.5.0",
      "model_name": "FloatSliderModel",
      "state": {
       "description": "x",
       "layout": "IPY_MODEL_c848342dce544559b239c1b0f621842b",
       "max": 5,
       "min": -1,
       "step": 0.2,
       "style": "IPY_MODEL_6d607fad884a4acf8d8d50ae577797a0",
       "value": 0.2
      }
     },
     "8cdb85f4edaa4310a7bc3c401637d650": {
      "model_module": "@jupyter-widgets/controls",
      "model_module_version": "1.5.0",
      "model_name": "VBoxModel",
      "state": {
       "_dom_classes": [
        "widget-interact"
       ],
       "children": [
        "IPY_MODEL_b6a33a7047184c4e9e798943fdafefb5",
        "IPY_MODEL_235a2135c058467f8215e55a317e2720"
       ],
       "layout": "IPY_MODEL_6eeb7040fcf8418bb955a90c48db3654"
      }
     },
     "8cf13c0773164324acdb7c3201147dc6": {
      "model_module": "@jupyter-widgets/base",
      "model_module_version": "1.2.0",
      "model_name": "LayoutModel",
      "state": {}
     },
     "8d31afcad13440159be2ae7fd66b1b34": {
      "model_module": "@jupyter-widgets/base",
      "model_module_version": "1.2.0",
      "model_name": "LayoutModel",
      "state": {}
     },
     "8d8ae10503df4a51b6051ab7acaf1c9a": {
      "model_module": "@jupyter-widgets/base",
      "model_module_version": "1.2.0",
      "model_name": "LayoutModel",
      "state": {}
     },
     "8d98e8406e0a4fc0be6eae12e3706acf": {
      "model_module": "@jupyter-widgets/controls",
      "model_module_version": "1.5.0",
      "model_name": "ButtonModel",
      "state": {
       "description": "reset",
       "layout": "IPY_MODEL_32f13a6fb21b4f6abc7f3c9bceb42f7a",
       "style": "IPY_MODEL_0a8ecbb4465b46a58b0bc0332d07778f"
      }
     },
     "8d99151b1f25492484a74092eb478221": {
      "model_module": "@jupyter-widgets/controls",
      "model_module_version": "1.5.0",
      "model_name": "VBoxModel",
      "state": {
       "_dom_classes": [
        "widget-interact"
       ],
       "children": [
        "IPY_MODEL_e0c9987480ac42c98a6ac7dfa8e5c3b7",
        "IPY_MODEL_69bba7de67a145bebb33c3abc058066d"
       ],
       "layout": "IPY_MODEL_9a2bdd4f984e4f728b535d41347d3857"
      }
     },
     "8de3f5f25a5d423092fdb108eb377486": {
      "model_module": "@jupyter-widgets/base",
      "model_module_version": "1.2.0",
      "model_name": "LayoutModel",
      "state": {}
     },
     "8e26ac9d192a45528ad7f8c558937b0b": {
      "model_module": "@jupyter-widgets/controls",
      "model_module_version": "1.5.0",
      "model_name": "ButtonStyleModel",
      "state": {}
     },
     "8e34a09df3b043f5badeb25369067894": {
      "model_module": "@jupyter-widgets/output",
      "model_module_version": "1.0.0",
      "model_name": "OutputModel",
      "state": {
       "layout": "IPY_MODEL_a43a73aa1c9d4c6689826ad23f5acbae",
       "outputs": [
        {
         "ename": "AttributeError",
         "evalue": "'AxesSubplot' object has no attribute 'pot'",
         "output_type": "error",
         "traceback": [
          "\u001b[0;31m---------------------------------------------------------------------------\u001b[0m",
          "\u001b[0;31mAttributeError\u001b[0m                            Traceback (most recent call last)",
          "\u001b[0;32m/usr/local/lib/python3.8/site-packages/ipywidgets/widgets/interaction.py\u001b[0m in \u001b[0;36mupdate\u001b[0;34m(self, *args)\u001b[0m\n\u001b[1;32m    254\u001b[0m                     \u001b[0mvalue\u001b[0m \u001b[0;34m=\u001b[0m \u001b[0mwidget\u001b[0m\u001b[0;34m.\u001b[0m\u001b[0mget_interact_value\u001b[0m\u001b[0;34m(\u001b[0m\u001b[0;34m)\u001b[0m\u001b[0;34m\u001b[0m\u001b[0;34m\u001b[0m\u001b[0m\n\u001b[1;32m    255\u001b[0m                     \u001b[0mself\u001b[0m\u001b[0;34m.\u001b[0m\u001b[0mkwargs\u001b[0m\u001b[0;34m[\u001b[0m\u001b[0mwidget\u001b[0m\u001b[0;34m.\u001b[0m\u001b[0m_kwarg\u001b[0m\u001b[0;34m]\u001b[0m \u001b[0;34m=\u001b[0m \u001b[0mvalue\u001b[0m\u001b[0;34m\u001b[0m\u001b[0;34m\u001b[0m\u001b[0m\n\u001b[0;32m--> 256\u001b[0;31m                 \u001b[0mself\u001b[0m\u001b[0;34m.\u001b[0m\u001b[0mresult\u001b[0m \u001b[0;34m=\u001b[0m \u001b[0mself\u001b[0m\u001b[0;34m.\u001b[0m\u001b[0mf\u001b[0m\u001b[0;34m(\u001b[0m\u001b[0;34m**\u001b[0m\u001b[0mself\u001b[0m\u001b[0;34m.\u001b[0m\u001b[0mkwargs\u001b[0m\u001b[0;34m)\u001b[0m\u001b[0;34m\u001b[0m\u001b[0;34m\u001b[0m\u001b[0m\n\u001b[0m\u001b[1;32m    257\u001b[0m                 \u001b[0mshow_inline_matplotlib_plots\u001b[0m\u001b[0;34m(\u001b[0m\u001b[0;34m)\u001b[0m\u001b[0;34m\u001b[0m\u001b[0;34m\u001b[0m\u001b[0m\n\u001b[1;32m    258\u001b[0m                 \u001b[0;32mif\u001b[0m \u001b[0mself\u001b[0m\u001b[0;34m.\u001b[0m\u001b[0mauto_display\u001b[0m \u001b[0;32mand\u001b[0m \u001b[0mself\u001b[0m\u001b[0;34m.\u001b[0m\u001b[0mresult\u001b[0m \u001b[0;32mis\u001b[0m \u001b[0;32mnot\u001b[0m \u001b[0;32mNone\u001b[0m\u001b[0;34m:\u001b[0m\u001b[0;34m\u001b[0m\u001b[0;34m\u001b[0m\u001b[0m\n",
          "\u001b[0;32m<ipython-input-16-1508581a9d23>\u001b[0m in \u001b[0;36mupdate\u001b[0;34m(x)\u001b[0m\n\u001b[1;32m     44\u001b[0m     \u001b[0mt1\u001b[0m\u001b[0;34m.\u001b[0m\u001b[0mset_text\u001b[0m\u001b[0;34m(\u001b[0m\u001b[0;34mr\"$d_m=%.1f$ m\"\u001b[0m \u001b[0;34m%\u001b[0m\u001b[0md1\u001b[0m\u001b[0;34m)\u001b[0m\u001b[0;34m\u001b[0m\u001b[0;34m\u001b[0m\u001b[0m\n\u001b[1;32m     45\u001b[0m     \u001b[0mt2\u001b[0m\u001b[0;34m.\u001b[0m\u001b[0mset_text\u001b[0m\u001b[0;34m(\u001b[0m\u001b[0;34mr\"$d_s=%.1f$ m\"\u001b[0m \u001b[0;34m%\u001b[0m\u001b[0md2\u001b[0m\u001b[0;34m)\u001b[0m\u001b[0;34m\u001b[0m\u001b[0;34m\u001b[0m\u001b[0m\n\u001b[0;32m---> 46\u001b[0;31m     \u001b[0max\u001b[0m\u001b[0;34m[\u001b[0m\u001b[0;36m1\u001b[0m\u001b[0;34m]\u001b[0m\u001b[0;34m.\u001b[0m\u001b[0mpot\u001b[0m\u001b[0;34m(\u001b[0m\u001b[0;34m)\u001b[0m\u001b[0;34m\u001b[0m\u001b[0;34m\u001b[0m\u001b[0m\n\u001b[0m\u001b[1;32m     47\u001b[0m     \u001b[0;31m# fig.canvas.draw_idle()\u001b[0m\u001b[0;34m\u001b[0m\u001b[0;34m\u001b[0m\u001b[0;34m\u001b[0m\u001b[0m\n\u001b[1;32m     48\u001b[0m     \u001b[0max\u001b[0m\u001b[0;34m[\u001b[0m\u001b[0;36m1\u001b[0m\u001b[0;34m]\u001b[0m\u001b[0;34m.\u001b[0m\u001b[0mfigure\u001b[0m\u001b[0;34m.\u001b[0m\u001b[0mcanvas\u001b[0m\u001b[0;34m.\u001b[0m\u001b[0mdraw\u001b[0m\u001b[0;34m(\u001b[0m\u001b[0mx\u001b[0m\u001b[0;34m,\u001b[0m \u001b[0md1\u001b[0m\u001b[0;34m/\u001b[0m\u001b[0mv1\u001b[0m \u001b[0;34m+\u001b[0m \u001b[0md2\u001b[0m\u001b[0;34m/\u001b[0m\u001b[0mv2\u001b[0m\u001b[0;34m,\u001b[0m \u001b[0;34m\".\"\u001b[0m\u001b[0;34m,\u001b[0m \u001b[0mcolor\u001b[0m\u001b[0;34m=\u001b[0m\u001b[0;34m\"C1\"\u001b[0m\u001b[0;34m)\u001b[0m\u001b[0;34m\u001b[0m\u001b[0;34m\u001b[0m\u001b[0m\n",
          "\u001b[0;31mAttributeError\u001b[0m: 'AxesSubplot' object has no attribute 'pot'"
         ]
        }
       ]
      }
     },
     "8e6a57a8e95e4511bcaced6329dfa30e": {
      "model_module": "@jupyter-widgets/output",
      "model_module_version": "1.0.0",
      "model_name": "OutputModel",
      "state": {
       "layout": "IPY_MODEL_f65d98d063e744e3a7010ad26ce19ba5"
      }
     },
     "8e6ec091ba7a462b88c9e8f5cb9e9062": {
      "model_module": "@jupyter-widgets/base",
      "model_module_version": "1.2.0",
      "model_name": "LayoutModel",
      "state": {}
     },
     "8ed4d87919e24e6e89d772b21b85ae72": {
      "model_module": "@jupyter-widgets/base",
      "model_module_version": "1.2.0",
      "model_name": "LayoutModel",
      "state": {}
     },
     "8ef7fb1bc6fe4ac6ad2b432649bcb76d": {
      "model_module": "@jupyter-widgets/controls",
      "model_module_version": "1.5.0",
      "model_name": "ButtonModel",
      "state": {
       "description": "reset",
       "layout": "IPY_MODEL_991822c18af24ea89d5d8e9242172658",
       "style": "IPY_MODEL_8e26ac9d192a45528ad7f8c558937b0b"
      }
     },
     "8f0e23776b094fd1b345f40aed8440c9": {
      "model_module": "@jupyter-widgets/controls",
      "model_module_version": "1.5.0",
      "model_name": "FloatSliderModel",
      "state": {
       "description": "X",
       "layout": "IPY_MODEL_312e4d4ef75d44f1a9f73d1701dc1c45",
       "max": 5,
       "min": -1,
       "step": 0.2,
       "style": "IPY_MODEL_486f62919c304c37bbcd970c2f7435d8",
       "value": 5
      }
     },
     "8f370c37d6bb4338a6fd4cf23c165d82": {
      "model_module": "@jupyter-widgets/base",
      "model_module_version": "1.2.0",
      "model_name": "LayoutModel",
      "state": {}
     },
     "8f730c6bb8ad46fab4880402a78d4864": {
      "model_module": "@jupyter-widgets/output",
      "model_module_version": "1.0.0",
      "model_name": "OutputModel",
      "state": {
       "layout": "IPY_MODEL_e45cf1e3dafb45f295a714c6464c42dc"
      }
     },
     "8fdca7a5f40345049ee2fa715ad4ae78": {
      "model_module": "@jupyter-widgets/base",
      "model_module_version": "1.2.0",
      "model_name": "LayoutModel",
      "state": {}
     },
     "9050a289b37a40899777de28e470bfe0": {
      "model_module": "@jupyter-widgets/controls",
      "model_module_version": "1.5.0",
      "model_name": "VBoxModel",
      "state": {
       "_dom_classes": [
        "widget-interact"
       ],
       "children": [
        "IPY_MODEL_a1d5b00c02c2486daa85109855abac71",
        "IPY_MODEL_2a372966399d44a480ee43bc4011f554"
       ],
       "layout": "IPY_MODEL_134978a954b34ff092c46240da3facf0"
      }
     },
     "90bc9ee4b10744dbb5c4df9392bb5907": {
      "model_module": "@jupyter-widgets/base",
      "model_module_version": "1.2.0",
      "model_name": "LayoutModel",
      "state": {}
     },
     "911c73d3544b4dfda16689df8a278c2d": {
      "model_module": "@jupyter-widgets/controls",
      "model_module_version": "1.5.0",
      "model_name": "ButtonModel",
      "state": {
       "description": "reset",
       "layout": "IPY_MODEL_1f220b36536d490eadb5a754b90f9e06",
       "style": "IPY_MODEL_986614051858466f8ccb544a87d76111"
      }
     },
     "916a45db2ffa4fdab6380083e01132b6": {
      "model_module": "@jupyter-widgets/controls",
      "model_module_version": "1.5.0",
      "model_name": "VBoxModel",
      "state": {
       "_dom_classes": [
        "widget-interact"
       ],
       "children": [
        "IPY_MODEL_45bac03b3b8f455db470c1c1ed0c406a",
        "IPY_MODEL_52b58ef1df8b4ab38cbc0007496c0639"
       ],
       "layout": "IPY_MODEL_7f1ce1dc9a834b36a1928e478deec04f"
      }
     },
     "9196d220de8544a9b831e7a9f3d49d42": {
      "model_module": "@jupyter-widgets/base",
      "model_module_version": "1.2.0",
      "model_name": "LayoutModel",
      "state": {}
     },
     "91d995b871084f90adfa8cc9a266ea2a": {
      "model_module": "jupyter-matplotlib",
      "model_module_version": "^0.7.4",
      "model_name": "ToolbarModel",
      "state": {
       "layout": "IPY_MODEL_2e599581971a4cdeb213c7d6ee5d9ce1",
       "toolitems": [
        [
         "Home",
         "Reset original view",
         "home",
         "home"
        ],
        [
         "Back",
         "Back to previous view",
         "arrow-left",
         "back"
        ],
        [
         "Forward",
         "Forward to next view",
         "arrow-right",
         "forward"
        ],
        [
         "Pan",
         "Left button pans, Right button zooms\nx/y fixes axis, CTRL fixes aspect",
         "arrows",
         "pan"
        ],
        [
         "Zoom",
         "Zoom to rectangle\nx/y fixes axis, CTRL fixes aspect",
         "square-o",
         "zoom"
        ],
        [
         "Download",
         "Download plot",
         "floppy-o",
         "save_figure"
        ]
       ]
      }
     },
     "9265dde6c7084d55a52dc0598ae762cd": {
      "model_module": "@jupyter-widgets/base",
      "model_module_version": "1.2.0",
      "model_name": "LayoutModel",
      "state": {}
     },
     "9272ad87379749c187cec1458384a6af": {
      "model_module": "@jupyter-widgets/controls",
      "model_module_version": "1.5.0",
      "model_name": "VBoxModel",
      "state": {
       "_dom_classes": [
        "widget-interact"
       ],
       "children": [
        "IPY_MODEL_8f0e23776b094fd1b345f40aed8440c9",
        "IPY_MODEL_bc472cb7334a4b128dc0d0fc7c70a0e4"
       ],
       "layout": "IPY_MODEL_c185693874c545a4a05dda164a71d74c"
      }
     },
     "927f5857a99d4b399066933ba894cb84": {
      "model_module": "@jupyter-widgets/controls",
      "model_module_version": "1.5.0",
      "model_name": "VBoxModel",
      "state": {
       "_dom_classes": [
        "widget-interact"
       ],
       "children": [
        "IPY_MODEL_beda1f88bb954054842e892795323286",
        "IPY_MODEL_fca48020e7f64b58a7c65569bb3897f5"
       ],
       "layout": "IPY_MODEL_1fa4513bfe33453e82ddaa04b915fb6b"
      }
     },
     "93d09b6a4c99443892acfc22d6f970f0": {
      "model_module": "@jupyter-widgets/base",
      "model_module_version": "1.2.0",
      "model_name": "LayoutModel",
      "state": {}
     },
     "93d8e63d361a4a989c108b1d1fc085a3": {
      "model_module": "@jupyter-widgets/base",
      "model_module_version": "1.2.0",
      "model_name": "LayoutModel",
      "state": {}
     },
     "94051af3060f4d649a3a3c51f5c32a49": {
      "model_module": "@jupyter-widgets/base",
      "model_module_version": "1.2.0",
      "model_name": "LayoutModel",
      "state": {}
     },
     "941457f0ecdf4d62aa56e636db58621b": {
      "model_module": "@jupyter-widgets/base",
      "model_module_version": "1.2.0",
      "model_name": "LayoutModel",
      "state": {}
     },
     "941c20c46b6547e9b2fc25135144157d": {
      "model_module": "@jupyter-widgets/controls",
      "model_module_version": "1.5.0",
      "model_name": "VBoxModel",
      "state": {
       "children": [
        "IPY_MODEL_e5fdf591c28d43ca84e09b36c8160a33"
       ],
       "layout": "IPY_MODEL_6f03823210a9477c975d1b44aa7cba2d"
      }
     },
     "9443fda6ce5942efafdc045225e2bd9f": {
      "model_module": "@jupyter-widgets/output",
      "model_module_version": "1.0.0",
      "model_name": "OutputModel",
      "state": {
       "layout": "IPY_MODEL_2b0dea4951ce4a37b68a23a66e1abddb"
      }
     },
     "94a0ecee097b439586c50d761e3f6435": {
      "model_module": "@jupyter-widgets/controls",
      "model_module_version": "1.5.0",
      "model_name": "SliderStyleModel",
      "state": {
       "description_width": ""
      }
     },
     "94d606960f9a4b489a1cfc16b2f6efa2": {
      "model_module": "@jupyter-widgets/controls",
      "model_module_version": "1.5.0",
      "model_name": "VBoxModel",
      "state": {
       "children": [
        "IPY_MODEL_d07a5681fac443f0b95252a6db020c35"
       ],
       "layout": "IPY_MODEL_461eb7a40a24456c861132d2001d79a6"
      }
     },
     "94fc5a65aa684ceca89b1d5ebff40489": {
      "model_module": "@jupyter-widgets/controls",
      "model_module_version": "1.5.0",
      "model_name": "VBoxModel",
      "state": {
       "children": [
        "IPY_MODEL_8d98e8406e0a4fc0be6eae12e3706acf"
       ],
       "layout": "IPY_MODEL_b710406a25804dd1905c918fe9a29e95"
      }
     },
     "951854eedeb14d7abe53e120cde4d1c1": {
      "model_module": "@jupyter-widgets/controls",
      "model_module_version": "1.5.0",
      "model_name": "VBoxModel",
      "state": {
       "children": [
        "IPY_MODEL_0560268796be45e7a9bde93e65c9e0eb"
       ],
       "layout": "IPY_MODEL_2da5dc9262b94d618d1828311e576a92"
      }
     },
     "952564b08e9a4295b31461a024d6eb4c": {
      "model_module": "@jupyter-widgets/controls",
      "model_module_version": "1.5.0",
      "model_name": "VBoxModel",
      "state": {
       "children": [
        "IPY_MODEL_bccc720dbbda45f3984f855e4324cfca"
       ],
       "layout": "IPY_MODEL_b46b307c17574322a6d730b0814b9867"
      }
     },
     "952a66a3497d4e5f85fc3b50cb57a421": {
      "model_module": "@jupyter-widgets/controls",
      "model_module_version": "1.5.0",
      "model_name": "VBoxModel",
      "state": {
       "_dom_classes": [
        "widget-interact"
       ],
       "children": [
        "IPY_MODEL_d3cdaa7447a749dd97e4c02198d7fa08",
        "IPY_MODEL_03f46bfd56ea4ee6aec8bdfd50579775"
       ],
       "layout": "IPY_MODEL_1d339f697023460e9407bfc8cdc47a8a"
      }
     },
     "9557692965654c438b928c1dbde2790f": {
      "model_module": "@jupyter-widgets/base",
      "model_module_version": "1.2.0",
      "model_name": "LayoutModel",
      "state": {}
     },
     "956ed2c0d5394f818038d093cc237cb0": {
      "model_module": "@jupyter-widgets/base",
      "model_module_version": "1.2.0",
      "model_name": "LayoutModel",
      "state": {}
     },
     "958aa867fe7b48a5881df2a51a4a5af9": {
      "model_module": "@jupyter-widgets/base",
      "model_module_version": "1.2.0",
      "model_name": "LayoutModel",
      "state": {}
     },
     "958f135790b24039a0ba17b5691c1558": {
      "model_module": "@jupyter-widgets/controls",
      "model_module_version": "1.5.0",
      "model_name": "SliderStyleModel",
      "state": {
       "description_width": ""
      }
     },
     "961bc659e87546369b0ee346984f4db8": {
      "model_module": "@jupyter-widgets/base",
      "model_module_version": "1.2.0",
      "model_name": "LayoutModel",
      "state": {}
     },
     "96207a5567de4c30b7f1ac0d5d8d1066": {
      "model_module": "jupyter-matplotlib",
      "model_module_version": "^0.7.4",
      "model_name": "ToolbarModel",
      "state": {
       "layout": "IPY_MODEL_ece9f7e9238c4ab4892a22ba13bad4f0",
       "toolitems": [
        [
         "Home",
         "Reset original view",
         "home",
         "home"
        ],
        [
         "Back",
         "Back to previous view",
         "arrow-left",
         "back"
        ],
        [
         "Forward",
         "Forward to next view",
         "arrow-right",
         "forward"
        ],
        [
         "Pan",
         "Left button pans, Right button zooms\nx/y fixes axis, CTRL fixes aspect",
         "arrows",
         "pan"
        ],
        [
         "Zoom",
         "Zoom to rectangle\nx/y fixes axis, CTRL fixes aspect",
         "square-o",
         "zoom"
        ],
        [
         "Download",
         "Download plot",
         "floppy-o",
         "save_figure"
        ]
       ]
      }
     },
     "96a0b0fffb484395a7943d5636a90e64": {
      "model_module": "@jupyter-widgets/base",
      "model_module_version": "1.2.0",
      "model_name": "LayoutModel",
      "state": {}
     },
     "96e58e6cc06f4e548f59cb3d0815ab33": {
      "model_module": "@jupyter-widgets/base",
      "model_module_version": "1.2.0",
      "model_name": "LayoutModel",
      "state": {}
     },
     "96fac30e16e14dc0828bd4be52986d43": {
      "model_module": "@jupyter-widgets/output",
      "model_module_version": "1.0.0",
      "model_name": "OutputModel",
      "state": {
       "layout": "IPY_MODEL_36280736267e46fc88adb34c294aa263"
      }
     },
     "9717c7a6ffd3433186941b9c77bcb58b": {
      "model_module": "@jupyter-widgets/output",
      "model_module_version": "1.0.0",
      "model_name": "OutputModel",
      "state": {
       "layout": "IPY_MODEL_c06e0ecd28dd45f7aa376ba2fb37bf02"
      }
     },
     "973ee96511664b429e392e266773f47e": {
      "model_module": "@jupyter-widgets/base",
      "model_module_version": "1.2.0",
      "model_name": "LayoutModel",
      "state": {}
     },
     "97a0b50e184d4dea86421ac0a19540f0": {
      "model_module": "@jupyter-widgets/controls",
      "model_module_version": "1.5.0",
      "model_name": "SliderStyleModel",
      "state": {
       "description_width": ""
      }
     },
     "97b3d40d4b2142f7bf4bd35b38dd18f2": {
      "model_module": "@jupyter-widgets/controls",
      "model_module_version": "1.5.0",
      "model_name": "VBoxModel",
      "state": {
       "_dom_classes": [
        "widget-interact"
       ],
       "children": [
        "IPY_MODEL_b129529788e6414f8b150b3aa799b789",
        "IPY_MODEL_3276355dd84044db936b71a09a03ea17"
       ],
       "layout": "IPY_MODEL_5c2e9709b6a64b7a80e91b4543bacce5"
      }
     },
     "97df5e697c714bd9aead6ff7c9dcdaff": {
      "model_module": "@jupyter-widgets/base",
      "model_module_version": "1.2.0",
      "model_name": "LayoutModel",
      "state": {}
     },
     "9804c9762e1442068228d8b83f3b2996": {
      "model_module": "@jupyter-widgets/base",
      "model_module_version": "1.2.0",
      "model_name": "LayoutModel",
      "state": {}
     },
     "986614051858466f8ccb544a87d76111": {
      "model_module": "@jupyter-widgets/controls",
      "model_module_version": "1.5.0",
      "model_name": "ButtonStyleModel",
      "state": {}
     },
     "9883b3804d8e4de49132da5c1ad079de": {
      "model_module": "@jupyter-widgets/base",
      "model_module_version": "1.2.0",
      "model_name": "LayoutModel",
      "state": {}
     },
     "988f7afba86942da87e719339927e696": {
      "model_module": "jupyter-matplotlib",
      "model_module_version": "^0.7.4",
      "model_name": "MPLCanvasModel",
      "state": {
       "_cursor": "default",
       "_figure_label": "Figure 1",
       "_height": 700,
       "_image_mode": "diff",
       "_width": 700,
       "layout": "IPY_MODEL_40651e81eb994d55adc3741839a4b386",
       "toolbar": "IPY_MODEL_ab7e96bde8da4537b558c4d9d4ad56bc",
       "toolbar_position": "left"
      }
     },
     "98a77bef94124870ae2b4f3c2cee3289": {
      "model_module": "@jupyter-widgets/controls",
      "model_module_version": "1.5.0",
      "model_name": "VBoxModel",
      "state": {
       "_dom_classes": [
        "widget-interact"
       ],
       "children": [
        "IPY_MODEL_420709a961264a9d8089dcd0c646a122",
        "IPY_MODEL_04022d3c5a514c5ebea2d869066d434c"
       ],
       "layout": "IPY_MODEL_f08d77039be7412586d67305bdc38cdb"
      }
     },
     "9900ab39c4d7499c9d58fb1f741c2a7b": {
      "model_module": "jupyter-matplotlib",
      "model_module_version": "^0.7.4",
      "model_name": "ToolbarModel",
      "state": {
       "layout": "IPY_MODEL_6b0e76b2e3b341ceb7e7a6e0b27c3ce7",
       "toolitems": [
        [
         "Home",
         "Reset original view",
         "home",
         "home"
        ],
        [
         "Back",
         "Back to previous view",
         "arrow-left",
         "back"
        ],
        [
         "Forward",
         "Forward to next view",
         "arrow-right",
         "forward"
        ],
        [
         "Pan",
         "Left button pans, Right button zooms\nx/y fixes axis, CTRL fixes aspect",
         "arrows",
         "pan"
        ],
        [
         "Zoom",
         "Zoom to rectangle\nx/y fixes axis, CTRL fixes aspect",
         "square-o",
         "zoom"
        ],
        [
         "Download",
         "Download plot",
         "floppy-o",
         "save_figure"
        ]
       ]
      }
     },
     "991822c18af24ea89d5d8e9242172658": {
      "model_module": "@jupyter-widgets/base",
      "model_module_version": "1.2.0",
      "model_name": "LayoutModel",
      "state": {}
     },
     "994193fe5a114d38873c0f1e609e3b14": {
      "model_module": "@jupyter-widgets/base",
      "model_module_version": "1.2.0",
      "model_name": "LayoutModel",
      "state": {}
     },
     "995521b501f54b188f3b4c8575c1c081": {
      "model_module": "@jupyter-widgets/controls",
      "model_module_version": "1.5.0",
      "model_name": "SliderStyleModel",
      "state": {
       "description_width": ""
      }
     },
     "9a2bdd4f984e4f728b535d41347d3857": {
      "model_module": "@jupyter-widgets/base",
      "model_module_version": "1.2.0",
      "model_name": "LayoutModel",
      "state": {}
     },
     "9a2d45c9f7a44391baebd68c627c262f": {
      "model_module": "@jupyter-widgets/controls",
      "model_module_version": "1.5.0",
      "model_name": "ButtonModel",
      "state": {
       "description": "reset",
       "layout": "IPY_MODEL_2b78ddb85da747c1af94cee7d4f49ddf",
       "style": "IPY_MODEL_58e5e0fe563e4312a4ab555c7f13c581"
      }
     },
     "9a33001747ed4fd7938724bbc9f9d4f2": {
      "model_module": "@jupyter-widgets/base",
      "model_module_version": "1.2.0",
      "model_name": "LayoutModel",
      "state": {}
     },
     "9a401b37f6a049e99ec40462b4563358": {
      "model_module": "@jupyter-widgets/output",
      "model_module_version": "1.0.0",
      "model_name": "OutputModel",
      "state": {
       "layout": "IPY_MODEL_cb80a56ffc0e4a96b7cca710e743e097"
      }
     },
     "9a6c5141a72e44beb08dc75f5bba8636": {
      "model_module": "@jupyter-widgets/base",
      "model_module_version": "1.2.0",
      "model_name": "LayoutModel",
      "state": {}
     },
     "9a7d3845f6de4895b09c10624b2efc16": {
      "model_module": "@jupyter-widgets/base",
      "model_module_version": "1.2.0",
      "model_name": "LayoutModel",
      "state": {}
     },
     "9a87b0d2b9d54190b4938b3ff7206f97": {
      "model_module": "@jupyter-widgets/base",
      "model_module_version": "1.2.0",
      "model_name": "LayoutModel",
      "state": {}
     },
     "9abe8859463f4438b0b9a5b71b075685": {
      "model_module": "@jupyter-widgets/controls",
      "model_module_version": "1.5.0",
      "model_name": "VBoxModel",
      "state": {
       "children": [
        "IPY_MODEL_124d7955af64490186864cf967a0ca74"
       ],
       "layout": "IPY_MODEL_baf0daaec1dc4516881b83d845f17512"
      }
     },
     "9af39356795346febcd9d2fde88f8387": {
      "model_module": "@jupyter-widgets/base",
      "model_module_version": "1.2.0",
      "model_name": "LayoutModel",
      "state": {}
     },
     "9b02af22f98745c48d9aec391a30cee8": {
      "model_module": "@jupyter-widgets/base",
      "model_module_version": "1.2.0",
      "model_name": "LayoutModel",
      "state": {}
     },
     "9b12662a98c74bf5b0a31d9210f912fe": {
      "model_module": "@jupyter-widgets/controls",
      "model_module_version": "1.5.0",
      "model_name": "ButtonModel",
      "state": {
       "description": "reset",
       "layout": "IPY_MODEL_8537b86ae50f4b0883fe5b9faac7e042",
       "style": "IPY_MODEL_c1c822b9e78e421da271393cde030fdc"
      }
     },
     "9b381c7c17e645c28cb8e5e40d259a7b": {
      "model_module": "@jupyter-widgets/controls",
      "model_module_version": "1.5.0",
      "model_name": "VBoxModel",
      "state": {
       "_dom_classes": [
        "widget-interact"
       ],
       "children": [
        "IPY_MODEL_54fd933419ec486885c9da867b29c4e3",
        "IPY_MODEL_f2c5f2bbec6949a7aed012b5449f4727"
       ],
       "layout": "IPY_MODEL_7af769dd831e487580a8fbbbc4a93fa1"
      }
     },
     "9b82adb2d0834addbf75bd6fe7ac7dae": {
      "model_module": "@jupyter-widgets/base",
      "model_module_version": "1.2.0",
      "model_name": "LayoutModel",
      "state": {}
     },
     "9b84f4bbe21e46548ac6f7e45a0bb7b5": {
      "model_module": "@jupyter-widgets/base",
      "model_module_version": "1.2.0",
      "model_name": "LayoutModel",
      "state": {}
     },
     "9ba0edaab36744558661ecca6b3aa90a": {
      "model_module": "jupyter-matplotlib",
      "model_module_version": "^0.7.4",
      "model_name": "ToolbarModel",
      "state": {
       "layout": "IPY_MODEL_240a35590a4d46168ab7f43f1d2bbc39",
       "toolitems": [
        [
         "Home",
         "Reset original view",
         "home",
         "home"
        ],
        [
         "Back",
         "Back to previous view",
         "arrow-left",
         "back"
        ],
        [
         "Forward",
         "Forward to next view",
         "arrow-right",
         "forward"
        ],
        [
         "Pan",
         "Left button pans, Right button zooms\nx/y fixes axis, CTRL fixes aspect",
         "arrows",
         "pan"
        ],
        [
         "Zoom",
         "Zoom to rectangle\nx/y fixes axis, CTRL fixes aspect",
         "square-o",
         "zoom"
        ],
        [
         "Download",
         "Download plot",
         "floppy-o",
         "save_figure"
        ]
       ]
      }
     },
     "9bbedce6076b4b5fa63bfe9bc873231c": {
      "model_module": "@jupyter-widgets/base",
      "model_module_version": "1.2.0",
      "model_name": "LayoutModel",
      "state": {}
     },
     "9bdb0667be2a4f7c8d431af74c4bcefd": {
      "model_module": "@jupyter-widgets/base",
      "model_module_version": "1.2.0",
      "model_name": "LayoutModel",
      "state": {}
     },
     "9bfffed8a0184cdba2867114d8776b86": {
      "model_module": "@jupyter-widgets/base",
      "model_module_version": "1.2.0",
      "model_name": "LayoutModel",
      "state": {}
     },
     "9c5140394f4040acbfd65fc7bd017eea": {
      "model_module": "@jupyter-widgets/base",
      "model_module_version": "1.2.0",
      "model_name": "LayoutModel",
      "state": {}
     },
     "9c76c81128de43ef9b512bdd4c65b428": {
      "model_module": "@jupyter-widgets/output",
      "model_module_version": "1.0.0",
      "model_name": "OutputModel",
      "state": {
       "layout": "IPY_MODEL_338e3697306c4e138f93a76a8664946a"
      }
     },
     "9cb28ac4c64e421ba5e758002bb39ad9": {
      "model_module": "@jupyter-widgets/output",
      "model_module_version": "1.0.0",
      "model_name": "OutputModel",
      "state": {
       "layout": "IPY_MODEL_c117528e8aef4632bc90db7dc8cb658e"
      }
     },
     "9cd39de6bce2434b98b712b844037a04": {
      "model_module": "@jupyter-widgets/controls",
      "model_module_version": "1.5.0",
      "model_name": "ButtonModel",
      "state": {
       "description": "reset",
       "layout": "IPY_MODEL_40f244d22b9641b0bd99b6c59b43170a",
       "style": "IPY_MODEL_5232c61121194706b78d2061560e0d11"
      }
     },
     "9cee315d7f7445fa8e7b70a11e748704": {
      "model_module": "@jupyter-widgets/base",
      "model_module_version": "1.2.0",
      "model_name": "LayoutModel",
      "state": {}
     },
     "9cff34dbaaea4a5db7c11c898b7754c3": {
      "model_module": "@jupyter-widgets/output",
      "model_module_version": "1.0.0",
      "model_name": "OutputModel",
      "state": {
       "layout": "IPY_MODEL_7b0459fbffcc4cfca75dd44ce9d3c4fe"
      }
     },
     "9d2c27c7eb8c4dd2ab8436582bd55479": {
      "model_module": "jupyter-matplotlib",
      "model_module_version": "^0.7.4",
      "model_name": "ToolbarModel",
      "state": {
       "layout": "IPY_MODEL_62cedf4bd0d147718f12b4f61f530bb9",
       "toolitems": [
        [
         "Home",
         "Reset original view",
         "home",
         "home"
        ],
        [
         "Back",
         "Back to previous view",
         "arrow-left",
         "back"
        ],
        [
         "Forward",
         "Forward to next view",
         "arrow-right",
         "forward"
        ],
        [
         "Pan",
         "Left button pans, Right button zooms\nx/y fixes axis, CTRL fixes aspect",
         "arrows",
         "pan"
        ],
        [
         "Zoom",
         "Zoom to rectangle\nx/y fixes axis, CTRL fixes aspect",
         "square-o",
         "zoom"
        ],
        [
         "Download",
         "Download plot",
         "floppy-o",
         "save_figure"
        ]
       ]
      }
     },
     "9d4eea843bcb47a693798d58d305360c": {
      "model_module": "@jupyter-widgets/controls",
      "model_module_version": "1.5.0",
      "model_name": "FloatSliderModel",
      "state": {
       "description": "x",
       "layout": "IPY_MODEL_ded2b4c059994a3193e4e2b642fde6ef",
       "max": 5.5,
       "min": -0.5,
       "step": 0.2,
       "style": "IPY_MODEL_5b5b9675138e4d098f27f7b076ddd155",
       "value": 2.1
      }
     },
     "9d53d9b8b4e1425f9bd856bbf6f036ec": {
      "model_module": "@jupyter-widgets/base",
      "model_module_version": "1.2.0",
      "model_name": "LayoutModel",
      "state": {}
     },
     "9d6cda7aa59e413d84f80524ff3a489a": {
      "model_module": "@jupyter-widgets/base",
      "model_module_version": "1.2.0",
      "model_name": "LayoutModel",
      "state": {}
     },
     "9da5206f40b741059c0776d2f17f7180": {
      "model_module": "@jupyter-widgets/base",
      "model_module_version": "1.2.0",
      "model_name": "LayoutModel",
      "state": {}
     },
     "9de47889452c45598aa69fa8edf0e009": {
      "model_module": "@jupyter-widgets/output",
      "model_module_version": "1.0.0",
      "model_name": "OutputModel",
      "state": {
       "layout": "IPY_MODEL_67137f3660a548ba83d763809aa1f82f"
      }
     },
     "9defb88a61a14106879fb57e8911154a": {
      "model_module": "@jupyter-widgets/base",
      "model_module_version": "1.2.0",
      "model_name": "LayoutModel",
      "state": {}
     },
     "9f4695456dba4240832c1037d419f5fa": {
      "model_module": "@jupyter-widgets/controls",
      "model_module_version": "1.5.0",
      "model_name": "SliderStyleModel",
      "state": {
       "description_width": ""
      }
     },
     "9f9eb089ff084475a2e702479a840cd8": {
      "model_module": "@jupyter-widgets/controls",
      "model_module_version": "1.5.0",
      "model_name": "SliderStyleModel",
      "state": {
       "description_width": ""
      }
     },
     "a077445a55cb46f7a76002abd00dbaa2": {
      "model_module": "@jupyter-widgets/base",
      "model_module_version": "1.2.0",
      "model_name": "LayoutModel",
      "state": {}
     },
     "a07e2c99ecc449e9a5feabeae0b3be3c": {
      "model_module": "@jupyter-widgets/base",
      "model_module_version": "1.2.0",
      "model_name": "LayoutModel",
      "state": {}
     },
     "a0984165d2f34e38aa4b74db0a4da1ab": {
      "model_module": "@jupyter-widgets/controls",
      "model_module_version": "1.5.0",
      "model_name": "ButtonStyleModel",
      "state": {}
     },
     "a0a92e55fd6541c399afdacd24ec8bba": {
      "model_module": "@jupyter-widgets/base",
      "model_module_version": "1.2.0",
      "model_name": "LayoutModel",
      "state": {}
     },
     "a0b1add2dfb64f3a9aa4003198e630fd": {
      "model_module": "@jupyter-widgets/controls",
      "model_module_version": "1.5.0",
      "model_name": "VBoxModel",
      "state": {
       "_dom_classes": [
        "widget-interact"
       ],
       "children": [
        "IPY_MODEL_42bd59a6c9c14353b23dbc7fd6986094",
        "IPY_MODEL_5fc88576225f4c6497782f312e840d5a"
       ],
       "layout": "IPY_MODEL_a710b2715e9d49d29ed67f02920fd901"
      }
     },
     "a0e764921a4e437caea93df54d8b48e9": {
      "model_module": "@jupyter-widgets/output",
      "model_module_version": "1.0.0",
      "model_name": "OutputModel",
      "state": {
       "layout": "IPY_MODEL_28ffbc0c04f04ff7a8829afc809291b4"
      }
     },
     "a0fa10d3cad043a1a2639dcfd69203b9": {
      "model_module": "@jupyter-widgets/controls",
      "model_module_version": "1.5.0",
      "model_name": "VBoxModel",
      "state": {
       "children": [
        "IPY_MODEL_d1657a85eee64a3d91cfd7dcc65e0ad0"
       ],
       "layout": "IPY_MODEL_3a02d2851a314f1fa84ff16ff35b0f45"
      }
     },
     "a10d93e765484102834839a3f8375c36": {
      "model_module": "@jupyter-widgets/base",
      "model_module_version": "1.2.0",
      "model_name": "LayoutModel",
      "state": {}
     },
     "a13061468e1d431db20dd17c60e7e856": {
      "model_module": "@jupyter-widgets/base",
      "model_module_version": "1.2.0",
      "model_name": "LayoutModel",
      "state": {}
     },
     "a13db2e72dc74773b1701a81dd1501ed": {
      "model_module": "@jupyter-widgets/controls",
      "model_module_version": "1.5.0",
      "model_name": "SliderStyleModel",
      "state": {
       "description_width": ""
      }
     },
     "a1d5b00c02c2486daa85109855abac71": {
      "model_module": "@jupyter-widgets/controls",
      "model_module_version": "1.5.0",
      "model_name": "FloatSliderModel",
      "state": {
       "description": "x",
       "layout": "IPY_MODEL_f910862768d84f4da48415a3632e5479",
       "max": 5,
       "min": -1,
       "step": 0.2,
       "style": "IPY_MODEL_27c2123423c2427aa5c17a31da8b7e5d"
      }
     },
     "a1d739a78e5848908e9f652524de7529": {
      "model_module": "@jupyter-widgets/base",
      "model_module_version": "1.2.0",
      "model_name": "LayoutModel",
      "state": {}
     },
     "a1e9086c9bff42bc9460dbf9eee36111": {
      "model_module": "jupyter-matplotlib",
      "model_module_version": "^0.7.4",
      "model_name": "ToolbarModel",
      "state": {
       "layout": "IPY_MODEL_c379a085445149e080516b0784a82dbc",
       "toolitems": [
        [
         "Home",
         "Reset original view",
         "home",
         "home"
        ],
        [
         "Back",
         "Back to previous view",
         "arrow-left",
         "back"
        ],
        [
         "Forward",
         "Forward to next view",
         "arrow-right",
         "forward"
        ],
        [
         "Pan",
         "Left button pans, Right button zooms\nx/y fixes axis, CTRL fixes aspect",
         "arrows",
         "pan"
        ],
        [
         "Zoom",
         "Zoom to rectangle\nx/y fixes axis, CTRL fixes aspect",
         "square-o",
         "zoom"
        ],
        [
         "Download",
         "Download plot",
         "floppy-o",
         "save_figure"
        ]
       ]
      }
     },
     "a232e246e5c040debdbd3c03d3ff149a": {
      "model_module": "@jupyter-widgets/controls",
      "model_module_version": "1.5.0",
      "model_name": "ButtonStyleModel",
      "state": {}
     },
     "a26ac1d906aa4c61943c1bec7d365f4e": {
      "model_module": "@jupyter-widgets/base",
      "model_module_version": "1.2.0",
      "model_name": "LayoutModel",
      "state": {}
     },
     "a2977a6134d64716ba0753fa591399f5": {
      "model_module": "@jupyter-widgets/base",
      "model_module_version": "1.2.0",
      "model_name": "LayoutModel",
      "state": {}
     },
     "a2ad2090abe24aaabc4641e25df8ccfe": {
      "model_module": "@jupyter-widgets/output",
      "model_module_version": "1.0.0",
      "model_name": "OutputModel",
      "state": {
       "layout": "IPY_MODEL_d3d957d6567f43c59d9ec49fb028f66b"
      }
     },
     "a2fe55ad722e48df936d69d1d749711e": {
      "model_module": "@jupyter-widgets/base",
      "model_module_version": "1.2.0",
      "model_name": "LayoutModel",
      "state": {}
     },
     "a3100b70e8844669af851caad2cd0f55": {
      "model_module": "@jupyter-widgets/base",
      "model_module_version": "1.2.0",
      "model_name": "LayoutModel",
      "state": {}
     },
     "a3415cdd4f09403f89e6a42e0d375425": {
      "model_module": "jupyter-matplotlib",
      "model_module_version": "^0.7.4",
      "model_name": "ToolbarModel",
      "state": {
       "layout": "IPY_MODEL_49605e177ec744eaa7e308593d7e9d8c",
       "toolitems": [
        [
         "Home",
         "Reset original view",
         "home",
         "home"
        ],
        [
         "Back",
         "Back to previous view",
         "arrow-left",
         "back"
        ],
        [
         "Forward",
         "Forward to next view",
         "arrow-right",
         "forward"
        ],
        [
         "Pan",
         "Left button pans, Right button zooms\nx/y fixes axis, CTRL fixes aspect",
         "arrows",
         "pan"
        ],
        [
         "Zoom",
         "Zoom to rectangle\nx/y fixes axis, CTRL fixes aspect",
         "square-o",
         "zoom"
        ],
        [
         "Download",
         "Download plot",
         "floppy-o",
         "save_figure"
        ]
       ]
      }
     },
     "a35bd9ba83824881b4bbd0ed5379137e": {
      "model_module": "@jupyter-widgets/base",
      "model_module_version": "1.2.0",
      "model_name": "LayoutModel",
      "state": {}
     },
     "a382108cee4147209ccf790fa90f4362": {
      "model_module": "@jupyter-widgets/output",
      "model_module_version": "1.0.0",
      "model_name": "OutputModel",
      "state": {
       "layout": "IPY_MODEL_ed8c37be254c4298882607a1816bc4ea"
      }
     },
     "a3e8185b1a85490a80d930f6cfa1ea04": {
      "model_module": "@jupyter-widgets/base",
      "model_module_version": "1.2.0",
      "model_name": "LayoutModel",
      "state": {}
     },
     "a40a5b067a0848f186dea82cd7a2ad7a": {
      "model_module": "@jupyter-widgets/output",
      "model_module_version": "1.0.0",
      "model_name": "OutputModel",
      "state": {
       "layout": "IPY_MODEL_332f9637fd6b46c79a62c2e1af784935"
      }
     },
     "a43a73aa1c9d4c6689826ad23f5acbae": {
      "model_module": "@jupyter-widgets/base",
      "model_module_version": "1.2.0",
      "model_name": "LayoutModel",
      "state": {}
     },
     "a43da2b880ae45d99dc17485c4d30086": {
      "model_module": "@jupyter-widgets/output",
      "model_module_version": "1.0.0",
      "model_name": "OutputModel",
      "state": {
       "layout": "IPY_MODEL_6ce041f2291c4bab99550c248dd491cf",
       "outputs": [
        {
         "ename": "TypeError",
         "evalue": "'builtin_function_or_method' object is not subscriptable",
         "output_type": "error",
         "traceback": [
          "\u001b[0;31m---------------------------------------------------------------------------\u001b[0m",
          "\u001b[0;31mTypeError\u001b[0m                                 Traceback (most recent call last)",
          "\u001b[0;32m/usr/local/lib/python3.8/site-packages/ipywidgets/widgets/interaction.py\u001b[0m in \u001b[0;36mupdate\u001b[0;34m(self, *args)\u001b[0m\n\u001b[1;32m    254\u001b[0m                     \u001b[0mvalue\u001b[0m \u001b[0;34m=\u001b[0m \u001b[0mwidget\u001b[0m\u001b[0;34m.\u001b[0m\u001b[0mget_interact_value\u001b[0m\u001b[0;34m(\u001b[0m\u001b[0;34m)\u001b[0m\u001b[0;34m\u001b[0m\u001b[0;34m\u001b[0m\u001b[0m\n\u001b[1;32m    255\u001b[0m                     \u001b[0mself\u001b[0m\u001b[0;34m.\u001b[0m\u001b[0mkwargs\u001b[0m\u001b[0;34m[\u001b[0m\u001b[0mwidget\u001b[0m\u001b[0;34m.\u001b[0m\u001b[0m_kwarg\u001b[0m\u001b[0;34m]\u001b[0m \u001b[0;34m=\u001b[0m \u001b[0mvalue\u001b[0m\u001b[0;34m\u001b[0m\u001b[0;34m\u001b[0m\u001b[0m\n\u001b[0;32m--> 256\u001b[0;31m                 \u001b[0mself\u001b[0m\u001b[0;34m.\u001b[0m\u001b[0mresult\u001b[0m \u001b[0;34m=\u001b[0m \u001b[0mself\u001b[0m\u001b[0;34m.\u001b[0m\u001b[0mf\u001b[0m\u001b[0;34m(\u001b[0m\u001b[0;34m**\u001b[0m\u001b[0mself\u001b[0m\u001b[0;34m.\u001b[0m\u001b[0mkwargs\u001b[0m\u001b[0;34m)\u001b[0m\u001b[0;34m\u001b[0m\u001b[0;34m\u001b[0m\u001b[0m\n\u001b[0m\u001b[1;32m    257\u001b[0m                 \u001b[0mshow_inline_matplotlib_plots\u001b[0m\u001b[0;34m(\u001b[0m\u001b[0;34m)\u001b[0m\u001b[0;34m\u001b[0m\u001b[0;34m\u001b[0m\u001b[0m\n\u001b[1;32m    258\u001b[0m                 \u001b[0;32mif\u001b[0m \u001b[0mself\u001b[0m\u001b[0;34m.\u001b[0m\u001b[0mauto_display\u001b[0m \u001b[0;32mand\u001b[0m \u001b[0mself\u001b[0m\u001b[0;34m.\u001b[0m\u001b[0mresult\u001b[0m \u001b[0;32mis\u001b[0m \u001b[0;32mnot\u001b[0m \u001b[0;32mNone\u001b[0m\u001b[0;34m:\u001b[0m\u001b[0;34m\u001b[0m\u001b[0;34m\u001b[0m\u001b[0m\n",
          "\u001b[0;32m<ipython-input-68-a709eb5995e2>\u001b[0m in \u001b[0;36mupdate\u001b[0;34m(x)\u001b[0m\n\u001b[1;32m     54\u001b[0m     \u001b[0mt1\u001b[0m\u001b[0;34m.\u001b[0m\u001b[0mset_text\u001b[0m\u001b[0;34m(\u001b[0m\u001b[0;34mr\"$d_m=%.1f$ m\"\u001b[0m \u001b[0;34m%\u001b[0m\u001b[0md1\u001b[0m\u001b[0;34m)\u001b[0m\u001b[0;34m\u001b[0m\u001b[0;34m\u001b[0m\u001b[0m\n\u001b[1;32m     55\u001b[0m     \u001b[0mt2\u001b[0m\u001b[0;34m.\u001b[0m\u001b[0mset_text\u001b[0m\u001b[0;34m(\u001b[0m\u001b[0;34mr\"$d_s=%.1f$ m\"\u001b[0m \u001b[0;34m%\u001b[0m\u001b[0md2\u001b[0m\u001b[0;34m)\u001b[0m\u001b[0;34m\u001b[0m\u001b[0;34m\u001b[0m\u001b[0m\n\u001b[0;32m---> 56\u001b[0;31m     \u001b[0mlistp\u001b[0m\u001b[0;34m.\u001b[0m\u001b[0mappend\u001b[0m\u001b[0;34m[\u001b[0m\u001b[0max\u001b[0m\u001b[0;34m[\u001b[0m\u001b[0;36m1\u001b[0m\u001b[0;34m]\u001b[0m\u001b[0;34m.\u001b[0m\u001b[0mplot\u001b[0m\u001b[0;34m(\u001b[0m\u001b[0mx\u001b[0m\u001b[0;34m,\u001b[0m \u001b[0md1\u001b[0m\u001b[0;34m/\u001b[0m\u001b[0mv1\u001b[0m \u001b[0;34m+\u001b[0m \u001b[0md2\u001b[0m\u001b[0;34m/\u001b[0m\u001b[0mv2\u001b[0m\u001b[0;34m,\u001b[0m \u001b[0;34m\".\"\u001b[0m\u001b[0;34m,\u001b[0m \u001b[0mcolor\u001b[0m\u001b[0;34m=\u001b[0m\u001b[0;34m\"C1\"\u001b[0m\u001b[0;34m)\u001b[0m\u001b[0;34m]\u001b[0m\u001b[0;34m\u001b[0m\u001b[0;34m\u001b[0m\u001b[0m\n\u001b[0m\u001b[1;32m     57\u001b[0m     \u001b[0mlt\u001b[0m\u001b[0;34m.\u001b[0m\u001b[0mset_xdata\u001b[0m\u001b[0;34m(\u001b[0m\u001b[0mx\u001b[0m\u001b[0;34m)\u001b[0m\u001b[0;34m\u001b[0m\u001b[0;34m\u001b[0m\u001b[0m\n\u001b[1;32m     58\u001b[0m     \u001b[0mlt\u001b[0m\u001b[0;34m.\u001b[0m\u001b[0mset_ydata\u001b[0m\u001b[0;34m(\u001b[0m\u001b[0md1\u001b[0m\u001b[0;34m/\u001b[0m\u001b[0mv1\u001b[0m \u001b[0;34m+\u001b[0m \u001b[0md2\u001b[0m\u001b[0;34m/\u001b[0m\u001b[0mv2\u001b[0m\u001b[0;34m)\u001b[0m\u001b[0;34m\u001b[0m\u001b[0;34m\u001b[0m\u001b[0m\n",
          "\u001b[0;31mTypeError\u001b[0m: 'builtin_function_or_method' object is not subscriptable"
         ]
        }
       ]
      }
     },
     "a440bb75cf62451abcd61cef5f2ebe00": {
      "model_module": "jupyter-matplotlib",
      "model_module_version": "^0.7.4",
      "model_name": "ToolbarModel",
      "state": {
       "layout": "IPY_MODEL_10e15625eff5463d9f7d7f5c27c1ecb7",
       "toolitems": [
        [
         "Home",
         "Reset original view",
         "home",
         "home"
        ],
        [
         "Back",
         "Back to previous view",
         "arrow-left",
         "back"
        ],
        [
         "Forward",
         "Forward to next view",
         "arrow-right",
         "forward"
        ],
        [
         "Pan",
         "Left button pans, Right button zooms\nx/y fixes axis, CTRL fixes aspect",
         "arrows",
         "pan"
        ],
        [
         "Zoom",
         "Zoom to rectangle\nx/y fixes axis, CTRL fixes aspect",
         "square-o",
         "zoom"
        ],
        [
         "Download",
         "Download plot",
         "floppy-o",
         "save_figure"
        ]
       ]
      }
     },
     "a46fe03bd5bf480c87011f7cfdf9a3d0": {
      "model_module": "@jupyter-widgets/controls",
      "model_module_version": "1.5.0",
      "model_name": "FloatSliderModel",
      "state": {
       "description": "x",
       "layout": "IPY_MODEL_204e3c0b2e1f47efa891879cdcbe441e",
       "max": 5.5,
       "min": -0.5,
       "step": 0.2,
       "style": "IPY_MODEL_14c50486dae946cb978054726de9e04f"
      }
     },
     "a472c057107641baa21a1d00bf52a61e": {
      "model_module": "@jupyter-widgets/controls",
      "model_module_version": "1.5.0",
      "model_name": "ButtonModel",
      "state": {
       "description": "reset",
       "layout": "IPY_MODEL_281b788f509e46efb8c1198b706435d6",
       "style": "IPY_MODEL_dea14ded076244bcb64dfb14d1521970"
      }
     },
     "a498d2a2ac464573995bc17787725712": {
      "model_module": "@jupyter-widgets/controls",
      "model_module_version": "1.5.0",
      "model_name": "ButtonModel",
      "state": {
       "description": "reset",
       "layout": "IPY_MODEL_0b839fe7c14c450189606919e160e9cb",
       "style": "IPY_MODEL_a232e246e5c040debdbd3c03d3ff149a"
      }
     },
     "a4fbb3a7917e48989b6873e32ef762f0": {
      "model_module": "@jupyter-widgets/controls",
      "model_module_version": "1.5.0",
      "model_name": "FloatSliderModel",
      "state": {
       "description": "X",
       "layout": "IPY_MODEL_decaf54cff1c4b3f936bb02a0ede8aa0",
       "max": 4,
       "min": -1,
       "step": 0.2,
       "style": "IPY_MODEL_afb373f6bca34093afc2a933f8185d35"
      }
     },
     "a59082109beb4a15b74e95121f91ac0b": {
      "model_module": "@jupyter-widgets/base",
      "model_module_version": "1.2.0",
      "model_name": "LayoutModel",
      "state": {}
     },
     "a61a9261d0d04a1ba647e995c9a24089": {
      "model_module": "@jupyter-widgets/base",
      "model_module_version": "1.2.0",
      "model_name": "LayoutModel",
      "state": {}
     },
     "a6a7d2c3c38044a0b78e1df33307c8f3": {
      "model_module": "@jupyter-widgets/output",
      "model_module_version": "1.0.0",
      "model_name": "OutputModel",
      "state": {
       "layout": "IPY_MODEL_bd5a1e53dbd6416ca71eaaa810826841",
       "outputs": [
        {
         "ename": "TypeError",
         "evalue": "set_xdata() takes 2 positional arguments but 3 were given",
         "output_type": "error",
         "traceback": [
          "\u001b[0;31m---------------------------------------------------------------------------\u001b[0m",
          "\u001b[0;31mTypeError\u001b[0m                                 Traceback (most recent call last)",
          "\u001b[0;32m/usr/local/lib/python3.8/site-packages/ipywidgets/widgets/interaction.py\u001b[0m in \u001b[0;36mupdate\u001b[0;34m(self, *args)\u001b[0m\n\u001b[1;32m    254\u001b[0m                     \u001b[0mvalue\u001b[0m \u001b[0;34m=\u001b[0m \u001b[0mwidget\u001b[0m\u001b[0;34m.\u001b[0m\u001b[0mget_interact_value\u001b[0m\u001b[0;34m(\u001b[0m\u001b[0;34m)\u001b[0m\u001b[0;34m\u001b[0m\u001b[0;34m\u001b[0m\u001b[0m\n\u001b[1;32m    255\u001b[0m                     \u001b[0mself\u001b[0m\u001b[0;34m.\u001b[0m\u001b[0mkwargs\u001b[0m\u001b[0;34m[\u001b[0m\u001b[0mwidget\u001b[0m\u001b[0;34m.\u001b[0m\u001b[0m_kwarg\u001b[0m\u001b[0;34m]\u001b[0m \u001b[0;34m=\u001b[0m \u001b[0mvalue\u001b[0m\u001b[0;34m\u001b[0m\u001b[0;34m\u001b[0m\u001b[0m\n\u001b[0;32m--> 256\u001b[0;31m                 \u001b[0mself\u001b[0m\u001b[0;34m.\u001b[0m\u001b[0mresult\u001b[0m \u001b[0;34m=\u001b[0m \u001b[0mself\u001b[0m\u001b[0;34m.\u001b[0m\u001b[0mf\u001b[0m\u001b[0;34m(\u001b[0m\u001b[0;34m**\u001b[0m\u001b[0mself\u001b[0m\u001b[0;34m.\u001b[0m\u001b[0mkwargs\u001b[0m\u001b[0;34m)\u001b[0m\u001b[0;34m\u001b[0m\u001b[0;34m\u001b[0m\u001b[0m\n\u001b[0m\u001b[1;32m    257\u001b[0m                 \u001b[0mshow_inline_matplotlib_plots\u001b[0m\u001b[0;34m(\u001b[0m\u001b[0;34m)\u001b[0m\u001b[0;34m\u001b[0m\u001b[0;34m\u001b[0m\u001b[0m\n\u001b[1;32m    258\u001b[0m                 \u001b[0;32mif\u001b[0m \u001b[0mself\u001b[0m\u001b[0;34m.\u001b[0m\u001b[0mauto_display\u001b[0m \u001b[0;32mand\u001b[0m \u001b[0mself\u001b[0m\u001b[0;34m.\u001b[0m\u001b[0mresult\u001b[0m \u001b[0;32mis\u001b[0m \u001b[0;32mnot\u001b[0m \u001b[0;32mNone\u001b[0m\u001b[0;34m:\u001b[0m\u001b[0;34m\u001b[0m\u001b[0;34m\u001b[0m\u001b[0m\n",
          "\u001b[0;32m<ipython-input-45-81d5e24853ab>\u001b[0m in \u001b[0;36mupdate\u001b[0;34m(x)\u001b[0m\n\u001b[1;32m     54\u001b[0m     \u001b[0mt2\u001b[0m\u001b[0;34m.\u001b[0m\u001b[0mset_text\u001b[0m\u001b[0;34m(\u001b[0m\u001b[0;34mr\"$d_s=%.1f$ m\"\u001b[0m \u001b[0;34m%\u001b[0m\u001b[0md2\u001b[0m\u001b[0;34m)\u001b[0m\u001b[0;34m\u001b[0m\u001b[0;34m\u001b[0m\u001b[0m\n\u001b[1;32m     55\u001b[0m     \u001b[0max\u001b[0m\u001b[0;34m[\u001b[0m\u001b[0;36m1\u001b[0m\u001b[0;34m]\u001b[0m\u001b[0;34m.\u001b[0m\u001b[0mplot\u001b[0m\u001b[0;34m(\u001b[0m\u001b[0mx\u001b[0m\u001b[0;34m,\u001b[0m \u001b[0md1\u001b[0m\u001b[0;34m/\u001b[0m\u001b[0mv1\u001b[0m \u001b[0;34m+\u001b[0m \u001b[0md2\u001b[0m\u001b[0;34m/\u001b[0m\u001b[0mv2\u001b[0m\u001b[0;34m,\u001b[0m \u001b[0;34m\".\"\u001b[0m\u001b[0;34m,\u001b[0m \u001b[0mcolor\u001b[0m\u001b[0;34m=\u001b[0m\u001b[0;34m\"C1\"\u001b[0m\u001b[0;34m)\u001b[0m\u001b[0;34m\u001b[0m\u001b[0;34m\u001b[0m\u001b[0m\n\u001b[0;32m---> 56\u001b[0;31m     \u001b[0mlt\u001b[0m\u001b[0;34m.\u001b[0m\u001b[0mset_xdata\u001b[0m\u001b[0;34m(\u001b[0m\u001b[0mx\u001b[0m\u001b[0;34m,\u001b[0m \u001b[0md1\u001b[0m\u001b[0;34m/\u001b[0m\u001b[0mv1\u001b[0m \u001b[0;34m+\u001b[0m \u001b[0md2\u001b[0m\u001b[0;34m/\u001b[0m\u001b[0mv2\u001b[0m\u001b[0;34m)\u001b[0m\u001b[0;34m\u001b[0m\u001b[0;34m\u001b[0m\u001b[0m\n\u001b[0m\u001b[1;32m     57\u001b[0m     \u001b[0max\u001b[0m\u001b[0;34m[\u001b[0m\u001b[0;36m0\u001b[0m\u001b[0;34m]\u001b[0m\u001b[0;34m.\u001b[0m\u001b[0mfigure\u001b[0m\u001b[0;34m.\u001b[0m\u001b[0mcanvas\u001b[0m\u001b[0;34m.\u001b[0m\u001b[0mdraw\u001b[0m\u001b[0;34m(\u001b[0m\u001b[0;34m)\u001b[0m\u001b[0;34m\u001b[0m\u001b[0;34m\u001b[0m\u001b[0m\n\u001b[1;32m     58\u001b[0m     \u001b[0max\u001b[0m\u001b[0;34m[\u001b[0m\u001b[0;36m1\u001b[0m\u001b[0;34m]\u001b[0m\u001b[0;34m.\u001b[0m\u001b[0mfigure\u001b[0m\u001b[0;34m.\u001b[0m\u001b[0mcanvas\u001b[0m\u001b[0;34m.\u001b[0m\u001b[0mdraw\u001b[0m\u001b[0;34m(\u001b[0m\u001b[0;34m)\u001b[0m\u001b[0;34m\u001b[0m\u001b[0;34m\u001b[0m\u001b[0m\n",
          "\u001b[0;31mTypeError\u001b[0m: set_xdata() takes 2 positional arguments but 3 were given"
         ]
        }
       ]
      }
     },
     "a6f0abcbb1494e469617414d7f86376c": {
      "model_module": "@jupyter-widgets/controls",
      "model_module_version": "1.5.0",
      "model_name": "VBoxModel",
      "state": {
       "children": [
        "IPY_MODEL_d1e1f07527c442449c7776ae3b29d4c8"
       ],
       "layout": "IPY_MODEL_f522a7c42043494aa718b207d0943f05"
      }
     },
     "a710b2715e9d49d29ed67f02920fd901": {
      "model_module": "@jupyter-widgets/base",
      "model_module_version": "1.2.0",
      "model_name": "LayoutModel",
      "state": {}
     },
     "a7394cd490f5487d9675e65621876fe6": {
      "model_module": "@jupyter-widgets/base",
      "model_module_version": "1.2.0",
      "model_name": "LayoutModel",
      "state": {}
     },
     "a794782665674230af07bf63ca79111c": {
      "model_module": "@jupyter-widgets/controls",
      "model_module_version": "1.5.0",
      "model_name": "FloatSliderModel",
      "state": {
       "description": "x",
       "layout": "IPY_MODEL_25e0fccb482d4f7ca8a6b7b483f6a168",
       "max": 5.5,
       "min": -0.5,
       "step": 0.2,
       "style": "IPY_MODEL_f3a443b525f84e3c8e2e9d611591e69c"
      }
     },
     "a85d77c7211b44ffadc2038702849402": {
      "model_module": "@jupyter-widgets/output",
      "model_module_version": "1.0.0",
      "model_name": "OutputModel",
      "state": {
       "layout": "IPY_MODEL_04c63db8d1704e6d955ccdc731215f20"
      }
     },
     "a92cdbda0c474b69a76d08f1f7718a48": {
      "model_module": "jupyter-matplotlib",
      "model_module_version": "^0.7.4",
      "model_name": "ToolbarModel",
      "state": {
       "layout": "IPY_MODEL_449f009b7d4e461c96bc33d46fd03b73",
       "toolitems": [
        [
         "Home",
         "Reset original view",
         "home",
         "home"
        ],
        [
         "Back",
         "Back to previous view",
         "arrow-left",
         "back"
        ],
        [
         "Forward",
         "Forward to next view",
         "arrow-right",
         "forward"
        ],
        [
         "Pan",
         "Left button pans, Right button zooms\nx/y fixes axis, CTRL fixes aspect",
         "arrows",
         "pan"
        ],
        [
         "Zoom",
         "Zoom to rectangle\nx/y fixes axis, CTRL fixes aspect",
         "square-o",
         "zoom"
        ],
        [
         "Download",
         "Download plot",
         "floppy-o",
         "save_figure"
        ]
       ]
      }
     },
     "a9418955b06b462a9ecf6b8c48f5d26c": {
      "model_module": "@jupyter-widgets/controls",
      "model_module_version": "1.5.0",
      "model_name": "VBoxModel",
      "state": {
       "_dom_classes": [
        "widget-interact"
       ],
       "children": [
        "IPY_MODEL_c6aae5c9a5c14f08a2e70a475ea6884c",
        "IPY_MODEL_8e34a09df3b043f5badeb25369067894"
       ],
       "layout": "IPY_MODEL_a98214a8107f47a79079d5978ab16c7b"
      }
     },
     "a94b1e27ab694577b3a1bd6975d03c4a": {
      "model_module": "@jupyter-widgets/base",
      "model_module_version": "1.2.0",
      "model_name": "LayoutModel",
      "state": {}
     },
     "a98214a8107f47a79079d5978ab16c7b": {
      "model_module": "@jupyter-widgets/base",
      "model_module_version": "1.2.0",
      "model_name": "LayoutModel",
      "state": {}
     },
     "a99fdc0fb96c4832afdb9d8893da12d3": {
      "model_module": "@jupyter-widgets/base",
      "model_module_version": "1.2.0",
      "model_name": "LayoutModel",
      "state": {}
     },
     "a9b1ffb9c2de402ca7a4931230eb387e": {
      "model_module": "@jupyter-widgets/controls",
      "model_module_version": "1.5.0",
      "model_name": "ButtonStyleModel",
      "state": {}
     },
     "a9b55419bdf347f7830828ce60f8f8db": {
      "model_module": "@jupyter-widgets/controls",
      "model_module_version": "1.5.0",
      "model_name": "VBoxModel",
      "state": {
       "children": [
        "IPY_MODEL_58223e18232641b988d3ff4042b628b9"
       ],
       "layout": "IPY_MODEL_5ee86f1261884a598a122869eed069fe"
      }
     },
     "aab38c2812754f388b631136bbc9a0ef": {
      "model_module": "@jupyter-widgets/base",
      "model_module_version": "1.2.0",
      "model_name": "LayoutModel",
      "state": {}
     },
     "ab4fe32512a94e6da192a4ba4755b6f2": {
      "model_module": "@jupyter-widgets/base",
      "model_module_version": "1.2.0",
      "model_name": "LayoutModel",
      "state": {}
     },
     "ab7e96bde8da4537b558c4d9d4ad56bc": {
      "model_module": "jupyter-matplotlib",
      "model_module_version": "^0.7.4",
      "model_name": "ToolbarModel",
      "state": {
       "layout": "IPY_MODEL_6ea3b18bb160499faef700380ec08e86",
       "toolitems": [
        [
         "Home",
         "Reset original view",
         "home",
         "home"
        ],
        [
         "Back",
         "Back to previous view",
         "arrow-left",
         "back"
        ],
        [
         "Forward",
         "Forward to next view",
         "arrow-right",
         "forward"
        ],
        [
         "Pan",
         "Left button pans, Right button zooms\nx/y fixes axis, CTRL fixes aspect",
         "arrows",
         "pan"
        ],
        [
         "Zoom",
         "Zoom to rectangle\nx/y fixes axis, CTRL fixes aspect",
         "square-o",
         "zoom"
        ],
        [
         "Download",
         "Download plot",
         "floppy-o",
         "save_figure"
        ]
       ]
      }
     },
     "ab7fb3fb08df4da2840b7e711d2d7fa7": {
      "model_module": "jupyter-matplotlib",
      "model_module_version": "^0.7.4",
      "model_name": "ToolbarModel",
      "state": {
       "layout": "IPY_MODEL_fddcd08445554f4c9f0a7d38cdbc8e8f",
       "toolitems": [
        [
         "Home",
         "Reset original view",
         "home",
         "home"
        ],
        [
         "Back",
         "Back to previous view",
         "arrow-left",
         "back"
        ],
        [
         "Forward",
         "Forward to next view",
         "arrow-right",
         "forward"
        ],
        [
         "Pan",
         "Left button pans, Right button zooms\nx/y fixes axis, CTRL fixes aspect",
         "arrows",
         "pan"
        ],
        [
         "Zoom",
         "Zoom to rectangle\nx/y fixes axis, CTRL fixes aspect",
         "square-o",
         "zoom"
        ],
        [
         "Download",
         "Download plot",
         "floppy-o",
         "save_figure"
        ]
       ]
      }
     },
     "ab8bf64bcfc44017acbfb1ffabde3014": {
      "model_module": "@jupyter-widgets/base",
      "model_module_version": "1.2.0",
      "model_name": "LayoutModel",
      "state": {}
     },
     "ab98a4fc7c4b44bb853e91db8dd88511": {
      "model_module": "@jupyter-widgets/controls",
      "model_module_version": "1.5.0",
      "model_name": "FloatSliderModel",
      "state": {
       "description": "x",
       "layout": "IPY_MODEL_6fe81ec5b06e4f02b7092851dce744de",
       "max": 5,
       "min": -1,
       "step": 0.2,
       "style": "IPY_MODEL_27b566bdde67486dae0b678b83e34238",
       "value": 0.4
      }
     },
     "ac199abf3ad141b9a1e7aed51345b29d": {
      "model_module": "@jupyter-widgets/base",
      "model_module_version": "1.2.0",
      "model_name": "LayoutModel",
      "state": {}
     },
     "ac914a00001f48ff87b7b3ff926ca1b1": {
      "model_module": "@jupyter-widgets/base",
      "model_module_version": "1.2.0",
      "model_name": "LayoutModel",
      "state": {}
     },
     "acada131cd644f37a639d6317def305f": {
      "model_module": "@jupyter-widgets/controls",
      "model_module_version": "1.5.0",
      "model_name": "VBoxModel",
      "state": {
       "children": [
        "IPY_MODEL_da4b232c1d634a679e5586faaf9f89e8"
       ],
       "layout": "IPY_MODEL_866053777e1246daa9bc97dcf3b9a952"
      }
     },
     "ace4c7d4272d488e911897633e76906f": {
      "model_module": "@jupyter-widgets/base",
      "model_module_version": "1.2.0",
      "model_name": "LayoutModel",
      "state": {}
     },
     "aceb69c8627544198bc310576a1af57c": {
      "model_module": "@jupyter-widgets/base",
      "model_module_version": "1.2.0",
      "model_name": "LayoutModel",
      "state": {}
     },
     "ad545ce4a9614203bccfed100c1943bd": {
      "model_module": "@jupyter-widgets/controls",
      "model_module_version": "1.5.0",
      "model_name": "SliderStyleModel",
      "state": {
       "description_width": ""
      }
     },
     "ad5eb6df45d64b3eab9cf67146c03c79": {
      "model_module": "@jupyter-widgets/controls",
      "model_module_version": "1.5.0",
      "model_name": "VBoxModel",
      "state": {
       "children": [
        "IPY_MODEL_a498d2a2ac464573995bc17787725712"
       ],
       "layout": "IPY_MODEL_9b02af22f98745c48d9aec391a30cee8"
      }
     },
     "adcd115a3dbe49e480c53619e0f092a9": {
      "model_module": "@jupyter-widgets/controls",
      "model_module_version": "1.5.0",
      "model_name": "ButtonModel",
      "state": {
       "description": "reset",
       "layout": "IPY_MODEL_3747dddf86414d1cbc7702e51b1e958e",
       "style": "IPY_MODEL_23bfbd43c4424f1eb47ac1ed521908c7"
      }
     },
     "ae9bc13c31ea410dbb9f48107ab732e1": {
      "model_module": "@jupyter-widgets/output",
      "model_module_version": "1.0.0",
      "model_name": "OutputModel",
      "state": {
       "layout": "IPY_MODEL_f7eab57aeaf64286a6e47d35b2a3cbfc"
      }
     },
     "aed2f7b6802d47cd807bbb043c8807c9": {
      "model_module": "@jupyter-widgets/base",
      "model_module_version": "1.2.0",
      "model_name": "LayoutModel",
      "state": {}
     },
     "af080b7d42a34d10a38f9be881ec4d17": {
      "model_module": "@jupyter-widgets/base",
      "model_module_version": "1.2.0",
      "model_name": "LayoutModel",
      "state": {}
     },
     "af0aba10b3944a0b9b797d91b67584ac": {
      "model_module": "@jupyter-widgets/base",
      "model_module_version": "1.2.0",
      "model_name": "LayoutModel",
      "state": {}
     },
     "af407314315b48e59d8ecbbc58b4810c": {
      "model_module": "@jupyter-widgets/base",
      "model_module_version": "1.2.0",
      "model_name": "LayoutModel",
      "state": {}
     },
     "af4115c8fbd84385ab62f53f9b6c63fd": {
      "model_module": "@jupyter-widgets/controls",
      "model_module_version": "1.5.0",
      "model_name": "SliderStyleModel",
      "state": {
       "description_width": ""
      }
     },
     "af4ddbc34941473280b252335c72948e": {
      "model_module": "@jupyter-widgets/controls",
      "model_module_version": "1.5.0",
      "model_name": "FloatSliderModel",
      "state": {
       "description": "x",
       "layout": "IPY_MODEL_642c3a8cc43a45f3a395af126fd90c83",
       "max": 5.5,
       "min": -0.5,
       "step": 0.2,
       "style": "IPY_MODEL_9f9eb089ff084475a2e702479a840cd8"
      }
     },
     "afb373f6bca34093afc2a933f8185d35": {
      "model_module": "@jupyter-widgets/controls",
      "model_module_version": "1.5.0",
      "model_name": "SliderStyleModel",
      "state": {
       "description_width": ""
      }
     },
     "afd72cd4a59e42d4a9415086df227b8c": {
      "model_module": "@jupyter-widgets/base",
      "model_module_version": "1.2.0",
      "model_name": "LayoutModel",
      "state": {}
     },
     "afde2a75b8a249619ab47078ccd63af6": {
      "model_module": "@jupyter-widgets/output",
      "model_module_version": "1.0.0",
      "model_name": "OutputModel",
      "state": {
       "layout": "IPY_MODEL_9bfffed8a0184cdba2867114d8776b86"
      }
     },
     "aff278af9531467e8e48823cbd0014ad": {
      "model_module": "@jupyter-widgets/output",
      "model_module_version": "1.0.0",
      "model_name": "OutputModel",
      "state": {
       "layout": "IPY_MODEL_eaee883364c248959d05417a295779a8"
      }
     },
     "b005b087308342d596058f74d273aef8": {
      "model_module": "@jupyter-widgets/base",
      "model_module_version": "1.2.0",
      "model_name": "LayoutModel",
      "state": {}
     },
     "b06d8e52debd4d219f58556d73959f31": {
      "model_module": "jupyter-matplotlib",
      "model_module_version": "^0.7.4",
      "model_name": "ToolbarModel",
      "state": {
       "layout": "IPY_MODEL_12977d6fc38d40788733b85e68e031f7",
       "toolitems": [
        [
         "Home",
         "Reset original view",
         "home",
         "home"
        ],
        [
         "Back",
         "Back to previous view",
         "arrow-left",
         "back"
        ],
        [
         "Forward",
         "Forward to next view",
         "arrow-right",
         "forward"
        ],
        [
         "Pan",
         "Left button pans, Right button zooms\nx/y fixes axis, CTRL fixes aspect",
         "arrows",
         "pan"
        ],
        [
         "Zoom",
         "Zoom to rectangle\nx/y fixes axis, CTRL fixes aspect",
         "square-o",
         "zoom"
        ],
        [
         "Download",
         "Download plot",
         "floppy-o",
         "save_figure"
        ]
       ]
      }
     },
     "b082cf16a39849d38917935aa816c5d4": {
      "model_module": "@jupyter-widgets/base",
      "model_module_version": "1.2.0",
      "model_name": "LayoutModel",
      "state": {}
     },
     "b0b61b3403464996991c606485a9e33a": {
      "model_module": "@jupyter-widgets/controls",
      "model_module_version": "1.5.0",
      "model_name": "ButtonStyleModel",
      "state": {}
     },
     "b0f3af353e1c4c1c8b57e46703dd4e3b": {
      "model_module": "@jupyter-widgets/base",
      "model_module_version": "1.2.0",
      "model_name": "LayoutModel",
      "state": {}
     },
     "b101bd65d46b41708e648ed122eca60f": {
      "model_module": "@jupyter-widgets/controls",
      "model_module_version": "1.5.0",
      "model_name": "FloatSliderModel",
      "state": {
       "description": "x",
       "layout": "IPY_MODEL_02a447fbbd834554a39de48c3d3af60e",
       "max": 5,
       "min": -1,
       "step": 0.2,
       "style": "IPY_MODEL_d7c81634424b43acac31efcad0198ce9",
       "value": 0.6
      }
     },
     "b129529788e6414f8b150b3aa799b789": {
      "model_module": "@jupyter-widgets/controls",
      "model_module_version": "1.5.0",
      "model_name": "FloatSliderModel",
      "state": {
       "description": "x",
       "layout": "IPY_MODEL_6d4bf7e7d0524fedb3e2d0a2d907a2d0",
       "max": 5,
       "min": -1,
       "step": 0.2,
       "style": "IPY_MODEL_6151783177dc4a92a36194150c55666a"
      }
     },
     "b1366d0d952544749aa8aed31e51d8e2": {
      "model_module": "@jupyter-widgets/base",
      "model_module_version": "1.2.0",
      "model_name": "LayoutModel",
      "state": {}
     },
     "b166f0f0d5104ad284930250b9213574": {
      "model_module": "@jupyter-widgets/base",
      "model_module_version": "1.2.0",
      "model_name": "LayoutModel",
      "state": {}
     },
     "b1f2acfc031e4fc3acc1690a056b9a51": {
      "model_module": "@jupyter-widgets/base",
      "model_module_version": "1.2.0",
      "model_name": "LayoutModel",
      "state": {}
     },
     "b257fe48b1b84037bc849026081e86fd": {
      "model_module": "@jupyter-widgets/controls",
      "model_module_version": "1.5.0",
      "model_name": "ButtonStyleModel",
      "state": {}
     },
     "b28e19406da74501bb1506e0e5ea5bf3": {
      "model_module": "@jupyter-widgets/output",
      "model_module_version": "1.0.0",
      "model_name": "OutputModel",
      "state": {
       "layout": "IPY_MODEL_db97c3b5bbb84f2794cab0b4448ce9e5"
      }
     },
     "b2aaba8c38a04f53b539df59df5cac79": {
      "model_module": "@jupyter-widgets/controls",
      "model_module_version": "1.5.0",
      "model_name": "VBoxModel",
      "state": {
       "_dom_classes": [
        "widget-interact"
       ],
       "children": [
        "IPY_MODEL_9d4eea843bcb47a693798d58d305360c",
        "IPY_MODEL_4021eb79f716416e8c5e6cec370bf311"
       ],
       "layout": "IPY_MODEL_0c2dcc38b9844520a99d90701c85cace"
      }
     },
     "b2b72bda2f45485aac97cb4b9fb44559": {
      "model_module": "@jupyter-widgets/controls",
      "model_module_version": "1.5.0",
      "model_name": "VBoxModel",
      "state": {
       "_dom_classes": [
        "widget-interact"
       ],
       "children": [
        "IPY_MODEL_e3800b90bcce43539475d6537466f994",
        "IPY_MODEL_f9f10b66f6524199a0a6e579d6e73ee6"
       ],
       "layout": "IPY_MODEL_b1f2acfc031e4fc3acc1690a056b9a51"
      }
     },
     "b31707b6eac7495195496d8b2b3b7632": {
      "model_module": "@jupyter-widgets/controls",
      "model_module_version": "1.5.0",
      "model_name": "FloatSliderModel",
      "state": {
       "description": "X",
       "layout": "IPY_MODEL_00f6201aa69348b1b9f146a33fa54464",
       "max": 4,
       "min": -1,
       "step": 0.01,
       "style": "IPY_MODEL_28a9dc738c2c4d9ea7f5f0e32c026606",
       "value": -0.09
      }
     },
     "b32a0afa00b04405934a1e65c5a919e1": {
      "model_module": "@jupyter-widgets/base",
      "model_module_version": "1.2.0",
      "model_name": "LayoutModel",
      "state": {}
     },
     "b36482133da546b0bc0d54170380945c": {
      "model_module": "@jupyter-widgets/base",
      "model_module_version": "1.2.0",
      "model_name": "LayoutModel",
      "state": {}
     },
     "b3cd5979425d4181aeeaae1d2b227237": {
      "model_module": "@jupyter-widgets/base",
      "model_module_version": "1.2.0",
      "model_name": "LayoutModel",
      "state": {}
     },
     "b4239e962a3342a3b69386288c4bf783": {
      "model_module": "@jupyter-widgets/controls",
      "model_module_version": "1.5.0",
      "model_name": "VBoxModel",
      "state": {
       "children": [
        "IPY_MODEL_3af80f781c424365af9a391bdf143917"
       ],
       "layout": "IPY_MODEL_0d207f0a479d484fa49dbe23104c1ef0"
      }
     },
     "b46b307c17574322a6d730b0814b9867": {
      "model_module": "@jupyter-widgets/base",
      "model_module_version": "1.2.0",
      "model_name": "LayoutModel",
      "state": {}
     },
     "b472164f84334c02bc1e87a1f3ea7556": {
      "model_module": "@jupyter-widgets/controls",
      "model_module_version": "1.5.0",
      "model_name": "FloatSliderModel",
      "state": {
       "description": "x",
       "layout": "IPY_MODEL_ddf5ff3402ba4bf2842b7587b19bf2c7",
       "max": 5,
       "min": -1,
       "step": 0.2,
       "style": "IPY_MODEL_01570938200f4abba0c08a8b7619949f",
       "value": 0.6
      }
     },
     "b4ff06edcd524afcb10a6bf66104185d": {
      "model_module": "@jupyter-widgets/base",
      "model_module_version": "1.2.0",
      "model_name": "LayoutModel",
      "state": {}
     },
     "b510184bea8c48a1ae555d0319a7d3e4": {
      "model_module": "@jupyter-widgets/controls",
      "model_module_version": "1.5.0",
      "model_name": "VBoxModel",
      "state": {
       "_dom_classes": [
        "widget-interact"
       ],
       "children": [
        "IPY_MODEL_bfc123ece0174e0cad717dd94e861d6a",
        "IPY_MODEL_760218f97b884ad28dad44380cebee93"
       ],
       "layout": "IPY_MODEL_61a6e590fc884d9ba62d5fe2a315a74d"
      }
     },
     "b516d905151d40fdb852326c1d42ac9f": {
      "model_module": "@jupyter-widgets/base",
      "model_module_version": "1.2.0",
      "model_name": "LayoutModel",
      "state": {}
     },
     "b529532a6a1443ae9de2c1fec4977e01": {
      "model_module": "@jupyter-widgets/base",
      "model_module_version": "1.2.0",
      "model_name": "LayoutModel",
      "state": {}
     },
     "b583f333cf8d4a27b6cd4020c112b77b": {
      "model_module": "@jupyter-widgets/base",
      "model_module_version": "1.2.0",
      "model_name": "LayoutModel",
      "state": {}
     },
     "b5de4ed6fd544bd68ad67cd23056e69d": {
      "model_module": "jupyter-matplotlib",
      "model_module_version": "^0.7.4",
      "model_name": "ToolbarModel",
      "state": {
       "layout": "IPY_MODEL_4e71cdeece984c35b7a04b5af149f780",
       "toolitems": [
        [
         "Home",
         "Reset original view",
         "home",
         "home"
        ],
        [
         "Back",
         "Back to previous view",
         "arrow-left",
         "back"
        ],
        [
         "Forward",
         "Forward to next view",
         "arrow-right",
         "forward"
        ],
        [
         "Pan",
         "Left button pans, Right button zooms\nx/y fixes axis, CTRL fixes aspect",
         "arrows",
         "pan"
        ],
        [
         "Zoom",
         "Zoom to rectangle\nx/y fixes axis, CTRL fixes aspect",
         "square-o",
         "zoom"
        ],
        [
         "Download",
         "Download plot",
         "floppy-o",
         "save_figure"
        ]
       ]
      }
     },
     "b5e26bae76704622a275bf4ce3375d3d": {
      "model_module": "@jupyter-widgets/controls",
      "model_module_version": "1.5.0",
      "model_name": "FloatSliderModel",
      "state": {
       "description": "x",
       "layout": "IPY_MODEL_b84af883265d4787bf1428da148531d2",
       "max": 5.5,
       "min": -0.5,
       "step": 0.2,
       "style": "IPY_MODEL_8a0c5d58e3ba49dd90769fe8910621e0"
      }
     },
     "b668f95e2ed84f6dbb9bb0c855007258": {
      "model_module": "@jupyter-widgets/base",
      "model_module_version": "1.2.0",
      "model_name": "LayoutModel",
      "state": {}
     },
     "b683a3bef5354c6389a1429d2f929b2c": {
      "model_module": "@jupyter-widgets/base",
      "model_module_version": "1.2.0",
      "model_name": "LayoutModel",
      "state": {}
     },
     "b6a33a7047184c4e9e798943fdafefb5": {
      "model_module": "@jupyter-widgets/controls",
      "model_module_version": "1.5.0",
      "model_name": "FloatSliderModel",
      "state": {
       "description": "x",
       "layout": "IPY_MODEL_b683a3bef5354c6389a1429d2f929b2c",
       "max": 5,
       "min": -1,
       "step": 0.2,
       "style": "IPY_MODEL_84c164e0073c401b90e1143ce8d0a8fb"
      }
     },
     "b6ef0f8304c2444dbd6ba5376d9029f9": {
      "model_module": "@jupyter-widgets/base",
      "model_module_version": "1.2.0",
      "model_name": "LayoutModel",
      "state": {}
     },
     "b710406a25804dd1905c918fe9a29e95": {
      "model_module": "@jupyter-widgets/base",
      "model_module_version": "1.2.0",
      "model_name": "LayoutModel",
      "state": {}
     },
     "b75c1921ff644532a44fc54d9fd01a68": {
      "model_module": "@jupyter-widgets/controls",
      "model_module_version": "1.5.0",
      "model_name": "FloatSliderModel",
      "state": {
       "description": "x",
       "layout": "IPY_MODEL_23f1d86454954d91902bc31a431a4d8f",
       "max": 5,
       "min": -1,
       "step": 0.2,
       "style": "IPY_MODEL_7515c1d82be64484bd462bcff14bd4ad",
       "value": 1.6
      }
     },
     "b7ab94bfd5264e8a94a6a3a9fc15c4c0": {
      "model_module": "@jupyter-widgets/controls",
      "model_module_version": "1.5.0",
      "model_name": "VBoxModel",
      "state": {
       "children": [
        "IPY_MODEL_ffb0796ddbb04ee0bc92d94867da37b2"
       ],
       "layout": "IPY_MODEL_f8d7e39911714395a04aa53c4f96c4cd"
      }
     },
     "b7d2e434e5ca4e408d825f14a6ea1b80": {
      "model_module": "@jupyter-widgets/base",
      "model_module_version": "1.2.0",
      "model_name": "LayoutModel",
      "state": {}
     },
     "b7d406d4fc4d48bca0894400699fc6f1": {
      "model_module": "@jupyter-widgets/base",
      "model_module_version": "1.2.0",
      "model_name": "LayoutModel",
      "state": {}
     },
     "b7ddb7df2ba545ae8043c16d687e52ce": {
      "model_module": "@jupyter-widgets/controls",
      "model_module_version": "1.5.0",
      "model_name": "SliderStyleModel",
      "state": {
       "description_width": ""
      }
     },
     "b7eecc9b753c41b688702d4851576c7c": {
      "model_module": "@jupyter-widgets/base",
      "model_module_version": "1.2.0",
      "model_name": "LayoutModel",
      "state": {}
     },
     "b802480a02be443aa7f50b4ece5d6a88": {
      "model_module": "@jupyter-widgets/controls",
      "model_module_version": "1.5.0",
      "model_name": "SliderStyleModel",
      "state": {
       "description_width": ""
      }
     },
     "b84af883265d4787bf1428da148531d2": {
      "model_module": "@jupyter-widgets/base",
      "model_module_version": "1.2.0",
      "model_name": "LayoutModel",
      "state": {}
     },
     "b8def092b6d146598c9b7b69a92c779b": {
      "model_module": "@jupyter-widgets/base",
      "model_module_version": "1.2.0",
      "model_name": "LayoutModel",
      "state": {}
     },
     "b8fffeb1d93f41de882551e223059d06": {
      "model_module": "@jupyter-widgets/base",
      "model_module_version": "1.2.0",
      "model_name": "LayoutModel",
      "state": {}
     },
     "b92e6a817fb84677a34044a17f19d699": {
      "model_module": "@jupyter-widgets/base",
      "model_module_version": "1.2.0",
      "model_name": "LayoutModel",
      "state": {}
     },
     "b93a24d1338c4d43aa67bef1aafcc6d0": {
      "model_module": "@jupyter-widgets/base",
      "model_module_version": "1.2.0",
      "model_name": "LayoutModel",
      "state": {}
     },
     "b955b0e492a54e1eb5fc732376327218": {
      "model_module": "@jupyter-widgets/base",
      "model_module_version": "1.2.0",
      "model_name": "LayoutModel",
      "state": {}
     },
     "b96675cbf9be4cde85549f4dfde7ea36": {
      "model_module": "@jupyter-widgets/controls",
      "model_module_version": "1.5.0",
      "model_name": "VBoxModel",
      "state": {
       "_dom_classes": [
        "widget-interact"
       ],
       "children": [
        "IPY_MODEL_38b362f543354c60aa5114d1c17443a0",
        "IPY_MODEL_2f3bf188efef4299acc82fedfb072bca"
       ],
       "layout": "IPY_MODEL_a0a92e55fd6541c399afdacd24ec8bba"
      }
     },
     "b9856eb17880480baf49e7217d62824e": {
      "model_module": "jupyter-matplotlib",
      "model_module_version": "^0.7.4",
      "model_name": "ToolbarModel",
      "state": {
       "layout": "IPY_MODEL_76f2fa747bc148be8e1fed4c1e41776f",
       "toolitems": [
        [
         "Home",
         "Reset original view",
         "home",
         "home"
        ],
        [
         "Back",
         "Back to previous view",
         "arrow-left",
         "back"
        ],
        [
         "Forward",
         "Forward to next view",
         "arrow-right",
         "forward"
        ],
        [
         "Pan",
         "Left button pans, Right button zooms\nx/y fixes axis, CTRL fixes aspect",
         "arrows",
         "pan"
        ],
        [
         "Zoom",
         "Zoom to rectangle\nx/y fixes axis, CTRL fixes aspect",
         "square-o",
         "zoom"
        ],
        [
         "Download",
         "Download plot",
         "floppy-o",
         "save_figure"
        ]
       ]
      }
     },
     "ba0ae8387500444e82abe4957a8fbc58": {
      "model_module": "@jupyter-widgets/base",
      "model_module_version": "1.2.0",
      "model_name": "LayoutModel",
      "state": {}
     },
     "ba14da24e9f64b678b2bbbb1fdeee596": {
      "model_module": "@jupyter-widgets/base",
      "model_module_version": "1.2.0",
      "model_name": "LayoutModel",
      "state": {}
     },
     "ba158bbd68a14b5d8675c0ba5888ac26": {
      "model_module": "jupyter-matplotlib",
      "model_module_version": "^0.7.4",
      "model_name": "ToolbarModel",
      "state": {
       "layout": "IPY_MODEL_3b87a639069e4cad804c5913c44c4392",
       "toolitems": [
        [
         "Home",
         "Reset original view",
         "home",
         "home"
        ],
        [
         "Back",
         "Back to previous view",
         "arrow-left",
         "back"
        ],
        [
         "Forward",
         "Forward to next view",
         "arrow-right",
         "forward"
        ],
        [
         "Pan",
         "Left button pans, Right button zooms\nx/y fixes axis, CTRL fixes aspect",
         "arrows",
         "pan"
        ],
        [
         "Zoom",
         "Zoom to rectangle\nx/y fixes axis, CTRL fixes aspect",
         "square-o",
         "zoom"
        ],
        [
         "Download",
         "Download plot",
         "floppy-o",
         "save_figure"
        ]
       ]
      }
     },
     "ba50de01b3b74f9389c786df84bb9665": {
      "model_module": "@jupyter-widgets/controls",
      "model_module_version": "1.5.0",
      "model_name": "ButtonModel",
      "state": {
       "description": "reset",
       "layout": "IPY_MODEL_5df651d826c74756b2a196d88f321cb7",
       "style": "IPY_MODEL_e14f8add12b043a1ad8d47f2ea8eee30"
      }
     },
     "baa8aa9d1edf49f8a018d054fdf9e813": {
      "model_module": "@jupyter-widgets/controls",
      "model_module_version": "1.5.0",
      "model_name": "VBoxModel",
      "state": {
       "_dom_classes": [
        "widget-interact"
       ],
       "children": [
        "IPY_MODEL_b5e26bae76704622a275bf4ce3375d3d",
        "IPY_MODEL_f12701c4a9ed4638b732d1fbe9126988"
       ],
       "layout": "IPY_MODEL_54d164d071804114bcd7797517c1aebf"
      }
     },
     "bad5da5170ae4e128991891dcab0b120": {
      "model_module": "@jupyter-widgets/base",
      "model_module_version": "1.2.0",
      "model_name": "LayoutModel",
      "state": {}
     },
     "baf0daaec1dc4516881b83d845f17512": {
      "model_module": "@jupyter-widgets/base",
      "model_module_version": "1.2.0",
      "model_name": "LayoutModel",
      "state": {}
     },
     "bc3ad5eb32e9435aa0f280442ca41e3a": {
      "model_module": "@jupyter-widgets/base",
      "model_module_version": "1.2.0",
      "model_name": "LayoutModel",
      "state": {}
     },
     "bc472cb7334a4b128dc0d0fc7c70a0e4": {
      "model_module": "@jupyter-widgets/output",
      "model_module_version": "1.0.0",
      "model_name": "OutputModel",
      "state": {
       "layout": "IPY_MODEL_8ed4d87919e24e6e89d772b21b85ae72"
      }
     },
     "bc55b0a126d24f969c7354d55daec7bf": {
      "model_module": "@jupyter-widgets/base",
      "model_module_version": "1.2.0",
      "model_name": "LayoutModel",
      "state": {}
     },
     "bc5718011e794f84bd79381ea9faba52": {
      "model_module": "@jupyter-widgets/base",
      "model_module_version": "1.2.0",
      "model_name": "LayoutModel",
      "state": {}
     },
     "bc6d6fb2e015474f8e729d825047cd65": {
      "model_module": "@jupyter-widgets/controls",
      "model_module_version": "1.5.0",
      "model_name": "FloatSliderModel",
      "state": {
       "description": "x",
       "layout": "IPY_MODEL_d3419c1e8a9c4d0889497e5a44e302cb",
       "max": 5,
       "min": -1,
       "step": 0.2,
       "style": "IPY_MODEL_e5a7b212fd5c41379ec9d254441ce701",
       "value": 0.4
      }
     },
     "bc9620db72a14888bd525f92b1680809": {
      "model_module": "@jupyter-widgets/controls",
      "model_module_version": "1.5.0",
      "model_name": "FloatSliderModel",
      "state": {
       "description": "x",
       "layout": "IPY_MODEL_d1366fb8aa1f4ba0892b10f391e2c94d",
       "max": 5,
       "min": -1,
       "step": 0.2,
       "style": "IPY_MODEL_7f4c8de0f6ce4e82abfdb193d36fc45e",
       "value": 1.8
      }
     },
     "bc981baf51a246a69e832e2a393eed07": {
      "model_module": "@jupyter-widgets/output",
      "model_module_version": "1.0.0",
      "model_name": "OutputModel",
      "state": {
       "layout": "IPY_MODEL_0fb2e3882de8442794a6b6771112e4b8"
      }
     },
     "bcadfa36ae864f7f82b079430c574504": {
      "model_module": "@jupyter-widgets/controls",
      "model_module_version": "1.5.0",
      "model_name": "SliderStyleModel",
      "state": {
       "description_width": ""
      }
     },
     "bccc720dbbda45f3984f855e4324cfca": {
      "model_module": "@jupyter-widgets/controls",
      "model_module_version": "1.5.0",
      "model_name": "ButtonModel",
      "state": {
       "description": "reset",
       "layout": "IPY_MODEL_440d8289a43e44e6bc394c32199104f1",
       "style": "IPY_MODEL_78807ec998584e298f0fd79d076fa2d9"
      }
     },
     "bd3f109a6e914e8da37f85cb7f5a4778": {
      "model_module": "@jupyter-widgets/base",
      "model_module_version": "1.2.0",
      "model_name": "LayoutModel",
      "state": {}
     },
     "bd5a1e53dbd6416ca71eaaa810826841": {
      "model_module": "@jupyter-widgets/base",
      "model_module_version": "1.2.0",
      "model_name": "LayoutModel",
      "state": {}
     },
     "bd6a3cc604414404a29c1a7b4b93b96e": {
      "model_module": "@jupyter-widgets/base",
      "model_module_version": "1.2.0",
      "model_name": "LayoutModel",
      "state": {}
     },
     "bd77237e7e9a4f9ca7e6d8beb8c46fd7": {
      "model_module": "@jupyter-widgets/base",
      "model_module_version": "1.2.0",
      "model_name": "LayoutModel",
      "state": {}
     },
     "bd820a62b35a47aaba0de492a7f488c3": {
      "model_module": "@jupyter-widgets/controls",
      "model_module_version": "1.5.0",
      "model_name": "FloatSliderModel",
      "state": {
       "description": "X",
       "layout": "IPY_MODEL_5becabfa34764f43abcd0bb71a3eefc1",
       "max": 5,
       "min": -1,
       "step": 0.2,
       "style": "IPY_MODEL_294670015bca44fa80644e4c8ffe75e2",
       "value": 5
      }
     },
     "bdb6bfe5dd2e44a39c731fda96a0b282": {
      "model_module": "@jupyter-widgets/base",
      "model_module_version": "1.2.0",
      "model_name": "LayoutModel",
      "state": {}
     },
     "beda1f88bb954054842e892795323286": {
      "model_module": "@jupyter-widgets/controls",
      "model_module_version": "1.5.0",
      "model_name": "FloatSliderModel",
      "state": {
       "description": "x",
       "layout": "IPY_MODEL_3e0f4190e9b44fe8a0d6b9254df5c978",
       "max": 5,
       "min": -1,
       "step": 0.2,
       "style": "IPY_MODEL_15665532c13d44638fc7a9f3f7fbd0a0"
      }
     },
     "bf00f6b7410146b79d7bc15777ac8a2b": {
      "model_module": "jupyter-matplotlib",
      "model_module_version": "^0.7.4",
      "model_name": "ToolbarModel",
      "state": {
       "layout": "IPY_MODEL_184b6eb2f3564d68a30b06d88a51e04f",
       "toolitems": [
        [
         "Home",
         "Reset original view",
         "home",
         "home"
        ],
        [
         "Back",
         "Back to previous view",
         "arrow-left",
         "back"
        ],
        [
         "Forward",
         "Forward to next view",
         "arrow-right",
         "forward"
        ],
        [
         "Pan",
         "Left button pans, Right button zooms\nx/y fixes axis, CTRL fixes aspect",
         "arrows",
         "pan"
        ],
        [
         "Zoom",
         "Zoom to rectangle\nx/y fixes axis, CTRL fixes aspect",
         "square-o",
         "zoom"
        ],
        [
         "Download",
         "Download plot",
         "floppy-o",
         "save_figure"
        ]
       ]
      }
     },
     "bf15e3a08eff42e8a3c7ba8442271ca1": {
      "model_module": "jupyter-matplotlib",
      "model_module_version": "^0.7.4",
      "model_name": "MPLCanvasModel",
      "state": {
       "_cursor": "default",
       "_figure_label": "Figure 1",
       "_height": 500,
       "_width": 500,
       "layout": "IPY_MODEL_213738a63a804997b6e79f39f87e9ea9",
       "toolbar": "IPY_MODEL_2ec4b9f3d7bc48ba94ca400a06ea0e23",
       "toolbar_position": "left"
      }
     },
     "bf3e7890534d45629d569d18563d140b": {
      "model_module": "@jupyter-widgets/base",
      "model_module_version": "1.2.0",
      "model_name": "LayoutModel",
      "state": {}
     },
     "bf7629cf106a46478592513848439520": {
      "model_module": "@jupyter-widgets/base",
      "model_module_version": "1.2.0",
      "model_name": "LayoutModel",
      "state": {}
     },
     "bf7ba8c489a64e77a21b0713abfbf9da": {
      "model_module": "@jupyter-widgets/base",
      "model_module_version": "1.2.0",
      "model_name": "LayoutModel",
      "state": {}
     },
     "bfc123ece0174e0cad717dd94e861d6a": {
      "model_module": "@jupyter-widgets/controls",
      "model_module_version": "1.5.0",
      "model_name": "FloatSliderModel",
      "state": {
       "description": "x",
       "layout": "IPY_MODEL_7cc4fb015bd047479a97a4d502b37785",
       "max": 5,
       "min": -1,
       "step": 0.2,
       "style": "IPY_MODEL_06b31b06e2844803a253ea83dacb5720"
      }
     },
     "c020063b0280439b992685188bf09a60": {
      "model_module": "@jupyter-widgets/base",
      "model_module_version": "1.2.0",
      "model_name": "LayoutModel",
      "state": {}
     },
     "c02d675c37b744e982f5f5f21a4d1e8a": {
      "model_module": "@jupyter-widgets/base",
      "model_module_version": "1.2.0",
      "model_name": "LayoutModel",
      "state": {}
     },
     "c03241f2f0904203b8d0dcc437c68633": {
      "model_module": "@jupyter-widgets/controls",
      "model_module_version": "1.5.0",
      "model_name": "ButtonStyleModel",
      "state": {}
     },
     "c0526eba0c3b4cd3beec4fc58924a1d0": {
      "model_module": "@jupyter-widgets/controls",
      "model_module_version": "1.5.0",
      "model_name": "ButtonModel",
      "state": {
       "description": "reset",
       "layout": "IPY_MODEL_d77f78e69c324346938d20ea4a78d369",
       "style": "IPY_MODEL_c10df17e26044d13aa7b85ab8f97b6dc"
      }
     },
     "c06e0ecd28dd45f7aa376ba2fb37bf02": {
      "model_module": "@jupyter-widgets/base",
      "model_module_version": "1.2.0",
      "model_name": "LayoutModel",
      "state": {}
     },
     "c0f8c1fcc0264c3b868cdd92415d4862": {
      "model_module": "@jupyter-widgets/controls",
      "model_module_version": "1.5.0",
      "model_name": "ButtonModel",
      "state": {
       "description": "reset",
       "layout": "IPY_MODEL_637822d1773e46bd9991ce7bfa3f26f5",
       "style": "IPY_MODEL_dc197adbbe854f4897773e7be8523906"
      }
     },
     "c10df17e26044d13aa7b85ab8f97b6dc": {
      "model_module": "@jupyter-widgets/controls",
      "model_module_version": "1.5.0",
      "model_name": "ButtonStyleModel",
      "state": {}
     },
     "c117528e8aef4632bc90db7dc8cb658e": {
      "model_module": "@jupyter-widgets/base",
      "model_module_version": "1.2.0",
      "model_name": "LayoutModel",
      "state": {}
     },
     "c128f5c0815344f4972fcb2385711e30": {
      "model_module": "@jupyter-widgets/base",
      "model_module_version": "1.2.0",
      "model_name": "LayoutModel",
      "state": {}
     },
     "c16aaad7a8fd4d3ca04c38a57741aad3": {
      "model_module": "@jupyter-widgets/base",
      "model_module_version": "1.2.0",
      "model_name": "LayoutModel",
      "state": {}
     },
     "c16b052d4b79447f97e8e4fe1d7abb90": {
      "model_module": "@jupyter-widgets/controls",
      "model_module_version": "1.5.0",
      "model_name": "FloatSliderModel",
      "state": {
       "description": "x",
       "layout": "IPY_MODEL_5e80acc573f544a3b2047822b9f0d0d3",
       "max": 5,
       "min": -1,
       "step": 0.2,
       "style": "IPY_MODEL_2c92b888bb8a4c65a8c912e253b6b2df"
      }
     },
     "c16d4ff66f7e494fb729065b4a48b370": {
      "model_module": "@jupyter-widgets/base",
      "model_module_version": "1.2.0",
      "model_name": "LayoutModel",
      "state": {}
     },
     "c185693874c545a4a05dda164a71d74c": {
      "model_module": "@jupyter-widgets/base",
      "model_module_version": "1.2.0",
      "model_name": "LayoutModel",
      "state": {}
     },
     "c1a720e4b6664eb4aea7336bafbb1ba0": {
      "model_module": "@jupyter-widgets/controls",
      "model_module_version": "1.5.0",
      "model_name": "ButtonStyleModel",
      "state": {}
     },
     "c1c822b9e78e421da271393cde030fdc": {
      "model_module": "@jupyter-widgets/controls",
      "model_module_version": "1.5.0",
      "model_name": "ButtonStyleModel",
      "state": {}
     },
     "c20ac17f90504857bdbed51a49d38076": {
      "model_module": "@jupyter-widgets/controls",
      "model_module_version": "1.5.0",
      "model_name": "VBoxModel",
      "state": {
       "children": [
        "IPY_MODEL_9b12662a98c74bf5b0a31d9210f912fe"
       ],
       "layout": "IPY_MODEL_12a452d13d6c404e9c6ca11ca5101efe"
      }
     },
     "c22b953fe2a747a7abcdd643e686c78a": {
      "model_module": "@jupyter-widgets/base",
      "model_module_version": "1.2.0",
      "model_name": "LayoutModel",
      "state": {}
     },
     "c259f6449ea1405d816d1f300ee1b08d": {
      "model_module": "@jupyter-widgets/base",
      "model_module_version": "1.2.0",
      "model_name": "LayoutModel",
      "state": {}
     },
     "c29d6454ccf447158c49685b7f662edf": {
      "model_module": "@jupyter-widgets/output",
      "model_module_version": "1.0.0",
      "model_name": "OutputModel",
      "state": {
       "layout": "IPY_MODEL_cb0909b638d34f73917be3cf1fe52b81"
      }
     },
     "c2e4d9ccd1ab4c62bacd5c10995c5637": {
      "model_module": "@jupyter-widgets/output",
      "model_module_version": "1.0.0",
      "model_name": "OutputModel",
      "state": {
       "layout": "IPY_MODEL_a07e2c99ecc449e9a5feabeae0b3be3c"
      }
     },
     "c2f8705d70da407eb42f24dc9fd97cb4": {
      "model_module": "@jupyter-widgets/base",
      "model_module_version": "1.2.0",
      "model_name": "LayoutModel",
      "state": {}
     },
     "c3272c20d37f45ceb26b69307f110334": {
      "model_module": "@jupyter-widgets/base",
      "model_module_version": "1.2.0",
      "model_name": "LayoutModel",
      "state": {}
     },
     "c340fc532ed644faa12b514938beb492": {
      "model_module": "@jupyter-widgets/controls",
      "model_module_version": "1.5.0",
      "model_name": "VBoxModel",
      "state": {
       "_dom_classes": [
        "widget-interact"
       ],
       "children": [
        "IPY_MODEL_74cd6cf00b85489cbb15f6261dc1aaca",
        "IPY_MODEL_6a7ba7c478c640f38cda1498197dddab"
       ],
       "layout": "IPY_MODEL_7d5c44fd061b4de390f4dfbebad7a12e"
      }
     },
     "c374d3c3c80f4c4f96e9cb7f9ef6286f": {
      "model_module": "@jupyter-widgets/output",
      "model_module_version": "1.0.0",
      "model_name": "OutputModel",
      "state": {
       "layout": "IPY_MODEL_48706bdd9977431ca708f194bdfd59fb"
      }
     },
     "c379a085445149e080516b0784a82dbc": {
      "model_module": "@jupyter-widgets/base",
      "model_module_version": "1.2.0",
      "model_name": "LayoutModel",
      "state": {}
     },
     "c3a81115d2604611b72296c6508bfad0": {
      "model_module": "jupyter-matplotlib",
      "model_module_version": "^0.7.4",
      "model_name": "ToolbarModel",
      "state": {
       "layout": "IPY_MODEL_2c9f028bb3e444c7b47e8ecabbe28b5d",
       "toolitems": [
        [
         "Home",
         "Reset original view",
         "home",
         "home"
        ],
        [
         "Back",
         "Back to previous view",
         "arrow-left",
         "back"
        ],
        [
         "Forward",
         "Forward to next view",
         "arrow-right",
         "forward"
        ],
        [
         "Pan",
         "Left button pans, Right button zooms\nx/y fixes axis, CTRL fixes aspect",
         "arrows",
         "pan"
        ],
        [
         "Zoom",
         "Zoom to rectangle\nx/y fixes axis, CTRL fixes aspect",
         "square-o",
         "zoom"
        ],
        [
         "Download",
         "Download plot",
         "floppy-o",
         "save_figure"
        ]
       ]
      }
     },
     "c3ea1cdb312f4a379a238ba6da7d7bec": {
      "model_module": "@jupyter-widgets/base",
      "model_module_version": "1.2.0",
      "model_name": "LayoutModel",
      "state": {}
     },
     "c41462f3f9f34f45bad5ff27a7a00d33": {
      "model_module": "@jupyter-widgets/controls",
      "model_module_version": "1.5.0",
      "model_name": "VBoxModel",
      "state": {
       "children": [
        "IPY_MODEL_2dceb2fd90ca4215b5aa89915cbe2861"
       ],
       "layout": "IPY_MODEL_0b9cc36cecc744ebbde2e8a115b06faa"
      }
     },
     "c430cf3321134c6ba98bc002c8e69d66": {
      "model_module": "@jupyter-widgets/controls",
      "model_module_version": "1.5.0",
      "model_name": "VBoxModel",
      "state": {
       "_dom_classes": [
        "widget-interact"
       ],
       "children": [
        "IPY_MODEL_407002e9f31743e5980b5ef142795505",
        "IPY_MODEL_5a843625bb244dedabc7de09331cd12f"
       ],
       "layout": "IPY_MODEL_27587c69bc1e4a55b8f4829840ca40fd"
      }
     },
     "c44f07d893764341a5316b93f6afd248": {
      "model_module": "jupyter-matplotlib",
      "model_module_version": "^0.7.4",
      "model_name": "ToolbarModel",
      "state": {
       "layout": "IPY_MODEL_7dcc301c50db4ef490470ee24b354f0f",
       "toolitems": [
        [
         "Home",
         "Reset original view",
         "home",
         "home"
        ],
        [
         "Back",
         "Back to previous view",
         "arrow-left",
         "back"
        ],
        [
         "Forward",
         "Forward to next view",
         "arrow-right",
         "forward"
        ],
        [
         "Pan",
         "Left button pans, Right button zooms\nx/y fixes axis, CTRL fixes aspect",
         "arrows",
         "pan"
        ],
        [
         "Zoom",
         "Zoom to rectangle\nx/y fixes axis, CTRL fixes aspect",
         "square-o",
         "zoom"
        ],
        [
         "Download",
         "Download plot",
         "floppy-o",
         "save_figure"
        ]
       ]
      }
     },
     "c4f41e07aa4b4d99ab7809a73d4d5f7c": {
      "model_module": "@jupyter-widgets/controls",
      "model_module_version": "1.5.0",
      "model_name": "SliderStyleModel",
      "state": {
       "description_width": ""
      }
     },
     "c533995d0e7541db8d6ac4d80f77738e": {
      "model_module": "jupyter-matplotlib",
      "model_module_version": "^0.7.4",
      "model_name": "ToolbarModel",
      "state": {
       "layout": "IPY_MODEL_ffabf927da3f41dbab3868d74a02b8e5",
       "toolitems": [
        [
         "Home",
         "Reset original view",
         "home",
         "home"
        ],
        [
         "Back",
         "Back to previous view",
         "arrow-left",
         "back"
        ],
        [
         "Forward",
         "Forward to next view",
         "arrow-right",
         "forward"
        ],
        [
         "Pan",
         "Left button pans, Right button zooms\nx/y fixes axis, CTRL fixes aspect",
         "arrows",
         "pan"
        ],
        [
         "Zoom",
         "Zoom to rectangle\nx/y fixes axis, CTRL fixes aspect",
         "square-o",
         "zoom"
        ],
        [
         "Download",
         "Download plot",
         "floppy-o",
         "save_figure"
        ]
       ]
      }
     },
     "c576a84224db4a2896a03d82a5cfcf96": {
      "model_module": "@jupyter-widgets/base",
      "model_module_version": "1.2.0",
      "model_name": "LayoutModel",
      "state": {}
     },
     "c5c9da4f57e7427d8c6537166479c6a6": {
      "model_module": "@jupyter-widgets/base",
      "model_module_version": "1.2.0",
      "model_name": "LayoutModel",
      "state": {}
     },
     "c61752b7879c434989816a3e8add6298": {
      "model_module": "@jupyter-widgets/output",
      "model_module_version": "1.0.0",
      "model_name": "OutputModel",
      "state": {
       "layout": "IPY_MODEL_593e80a4dad04bcf972b4182f1f0c132"
      }
     },
     "c6aae5c9a5c14f08a2e70a475ea6884c": {
      "model_module": "@jupyter-widgets/controls",
      "model_module_version": "1.5.0",
      "model_name": "FloatSliderModel",
      "state": {
       "description": "x",
       "layout": "IPY_MODEL_7633d960cf584ab3873263d56d152579",
       "max": 5.5,
       "min": -0.5,
       "step": 0.2,
       "style": "IPY_MODEL_a13db2e72dc74773b1701a81dd1501ed"
      }
     },
     "c6ae016c61d04359beb21a64999a3bb1": {
      "model_module": "@jupyter-widgets/base",
      "model_module_version": "1.2.0",
      "model_name": "LayoutModel",
      "state": {}
     },
     "c6f80935b7734132b799f836a1d6ffdd": {
      "model_module": "@jupyter-widgets/base",
      "model_module_version": "1.2.0",
      "model_name": "LayoutModel",
      "state": {}
     },
     "c71b8b9b17b94f82a5a8f7f2c8e3ada3": {
      "model_module": "@jupyter-widgets/base",
      "model_module_version": "1.2.0",
      "model_name": "LayoutModel",
      "state": {}
     },
     "c7967374a3434ca58a33adc7d90d2065": {
      "model_module": "@jupyter-widgets/base",
      "model_module_version": "1.2.0",
      "model_name": "LayoutModel",
      "state": {}
     },
     "c7c8b969978345d5bbfd30b39cdb67cb": {
      "model_module": "@jupyter-widgets/controls",
      "model_module_version": "1.5.0",
      "model_name": "VBoxModel",
      "state": {
       "_dom_classes": [
        "widget-interact"
       ],
       "children": [
        "IPY_MODEL_c9f2f89c3e2c4625bb63a503bf70c983",
        "IPY_MODEL_02b38a796576427d9a87e22fc5cadd09"
       ],
       "layout": "IPY_MODEL_7e3fffc734e7464b820ca8ceb3a97296"
      }
     },
     "c7cfb1f07fc74a0baaf0afa5957659fa": {
      "model_module": "@jupyter-widgets/base",
      "model_module_version": "1.2.0",
      "model_name": "LayoutModel",
      "state": {}
     },
     "c80d2d7c88a148c0b82559025a0f97c2": {
      "model_module": "@jupyter-widgets/controls",
      "model_module_version": "1.5.0",
      "model_name": "FloatSliderModel",
      "state": {
       "description": "x",
       "layout": "IPY_MODEL_96e58e6cc06f4e548f59cb3d0815ab33",
       "max": 5.5,
       "min": -0.5,
       "step": 0.2,
       "style": "IPY_MODEL_511d901d7bd24ae991d19182757e92e3"
      }
     },
     "c840095386cd44418c0f86bb22ebcb02": {
      "model_module": "@jupyter-widgets/controls",
      "model_module_version": "1.5.0",
      "model_name": "ButtonModel",
      "state": {
       "description": "reset",
       "layout": "IPY_MODEL_064a6609168543aeabda92f7b3559672",
       "style": "IPY_MODEL_6a97d917ef704afd84f1cec78bcf7bb2"
      }
     },
     "c848342dce544559b239c1b0f621842b": {
      "model_module": "@jupyter-widgets/base",
      "model_module_version": "1.2.0",
      "model_name": "LayoutModel",
      "state": {}
     },
     "c897abc1ae9d46a8ace3eb9211047c3e": {
      "model_module": "@jupyter-widgets/controls",
      "model_module_version": "1.5.0",
      "model_name": "FloatSliderModel",
      "state": {
       "description": "x",
       "layout": "IPY_MODEL_f59005be12294c8b94716dad1cf1b916",
       "max": 5,
       "min": -1,
       "step": 0.2,
       "style": "IPY_MODEL_e0703ae2922c49f6895205ba83a9fb25",
       "value": 0.4
      }
     },
     "c8a04a83f70a45ceb52fc14d3b17d10d": {
      "model_module": "@jupyter-widgets/output",
      "model_module_version": "1.0.0",
      "model_name": "OutputModel",
      "state": {
       "layout": "IPY_MODEL_9265dde6c7084d55a52dc0598ae762cd"
      }
     },
     "c8a84ccb53ca4170b9300364e5d43b00": {
      "model_module": "@jupyter-widgets/base",
      "model_module_version": "1.2.0",
      "model_name": "LayoutModel",
      "state": {}
     },
     "c8dbe3a532e04d2384e8b986d73caa58": {
      "model_module": "@jupyter-widgets/base",
      "model_module_version": "1.2.0",
      "model_name": "LayoutModel",
      "state": {}
     },
     "c8e9aec11f154c1fa6314be061a1bf4b": {
      "model_module": "@jupyter-widgets/base",
      "model_module_version": "1.2.0",
      "model_name": "LayoutModel",
      "state": {}
     },
     "c8f2fba4dec04a6b8cdc9d5ab46d6d3b": {
      "model_module": "@jupyter-widgets/controls",
      "model_module_version": "1.5.0",
      "model_name": "ButtonStyleModel",
      "state": {}
     },
     "c929477a5e994719b07660730e633013": {
      "model_module": "jupyter-matplotlib",
      "model_module_version": "^0.7.4",
      "model_name": "ToolbarModel",
      "state": {
       "layout": "IPY_MODEL_ea99951e57604a7487bae2bb3c8788a7",
       "toolitems": [
        [
         "Home",
         "Reset original view",
         "home",
         "home"
        ],
        [
         "Back",
         "Back to previous view",
         "arrow-left",
         "back"
        ],
        [
         "Forward",
         "Forward to next view",
         "arrow-right",
         "forward"
        ],
        [
         "Pan",
         "Left button pans, Right button zooms\nx/y fixes axis, CTRL fixes aspect",
         "arrows",
         "pan"
        ],
        [
         "Zoom",
         "Zoom to rectangle\nx/y fixes axis, CTRL fixes aspect",
         "square-o",
         "zoom"
        ],
        [
         "Download",
         "Download plot",
         "floppy-o",
         "save_figure"
        ]
       ]
      }
     },
     "c92e5c948ab846fc8013aee7b8a9107b": {
      "model_module": "@jupyter-widgets/base",
      "model_module_version": "1.2.0",
      "model_name": "LayoutModel",
      "state": {}
     },
     "c930113ceac449f4ababfe848f32d6f0": {
      "model_module": "@jupyter-widgets/controls",
      "model_module_version": "1.5.0",
      "model_name": "VBoxModel",
      "state": {
       "children": [
        "IPY_MODEL_2b3381f386f74f7f9b2c932f5a2ba455"
       ],
       "layout": "IPY_MODEL_90bc9ee4b10744dbb5c4df9392bb5907"
      }
     },
     "c975fd58ce9643cb9a4cb9fbcc5ca150": {
      "model_module": "jupyter-matplotlib",
      "model_module_version": "^0.7.4",
      "model_name": "ToolbarModel",
      "state": {
       "layout": "IPY_MODEL_8293bb552ced48019cc64aa1b10596fd",
       "toolitems": [
        [
         "Home",
         "Reset original view",
         "home",
         "home"
        ],
        [
         "Back",
         "Back to previous view",
         "arrow-left",
         "back"
        ],
        [
         "Forward",
         "Forward to next view",
         "arrow-right",
         "forward"
        ],
        [
         "Pan",
         "Left button pans, Right button zooms\nx/y fixes axis, CTRL fixes aspect",
         "arrows",
         "pan"
        ],
        [
         "Zoom",
         "Zoom to rectangle\nx/y fixes axis, CTRL fixes aspect",
         "square-o",
         "zoom"
        ],
        [
         "Download",
         "Download plot",
         "floppy-o",
         "save_figure"
        ]
       ]
      }
     },
     "c9e4edde2d234f0da5248f06467f1a46": {
      "model_module": "@jupyter-widgets/base",
      "model_module_version": "1.2.0",
      "model_name": "LayoutModel",
      "state": {}
     },
     "c9eeb203f6a044fca44f7a0b886b6dcd": {
      "model_module": "@jupyter-widgets/base",
      "model_module_version": "1.2.0",
      "model_name": "LayoutModel",
      "state": {}
     },
     "c9f2f89c3e2c4625bb63a503bf70c983": {
      "model_module": "@jupyter-widgets/controls",
      "model_module_version": "1.5.0",
      "model_name": "FloatSliderModel",
      "state": {
       "description": "x",
       "layout": "IPY_MODEL_0648356408de4767bd7c70d6d93599fc",
       "max": 5,
       "min": -1,
       "step": 0.2,
       "style": "IPY_MODEL_71a7438fa2754d13b4e7cc5554b2e8d1",
       "value": 0.4
      }
     },
     "c9f301175c794aa5b302693737ca3981": {
      "model_module": "@jupyter-widgets/controls",
      "model_module_version": "1.5.0",
      "model_name": "ButtonModel",
      "state": {
       "description": "reset",
       "layout": "IPY_MODEL_0a190567933e419ba7ceeff64868d03f",
       "style": "IPY_MODEL_a9b1ffb9c2de402ca7a4931230eb387e"
      }
     },
     "ca06089798024f858dc0ec291a03f753": {
      "model_module": "@jupyter-widgets/controls",
      "model_module_version": "1.5.0",
      "model_name": "VBoxModel",
      "state": {
       "_dom_classes": [
        "widget-interact"
       ],
       "children": [
        "IPY_MODEL_3f932c1bb7554ebbad8c24a7572ffd7d",
        "IPY_MODEL_a382108cee4147209ccf790fa90f4362"
       ],
       "layout": "IPY_MODEL_36ee4ad5e201422187f81efecef60c2e"
      }
     },
     "ca5c53e8d62d48f7b06daf11ffe2b216": {
      "model_module": "@jupyter-widgets/base",
      "model_module_version": "1.2.0",
      "model_name": "LayoutModel",
      "state": {}
     },
     "ca9381bb7b9a4298907d50310e06019d": {
      "model_module": "@jupyter-widgets/output",
      "model_module_version": "1.0.0",
      "model_name": "OutputModel",
      "state": {
       "layout": "IPY_MODEL_40a2c49a10e345d88145cee78c28ec2a"
      }
     },
     "cad684781e054e2daf348425db02637e": {
      "model_module": "@jupyter-widgets/controls",
      "model_module_version": "1.5.0",
      "model_name": "SliderStyleModel",
      "state": {
       "description_width": ""
      }
     },
     "cb0909b638d34f73917be3cf1fe52b81": {
      "model_module": "@jupyter-widgets/base",
      "model_module_version": "1.2.0",
      "model_name": "LayoutModel",
      "state": {}
     },
     "cb42167942ab46048c52a671bcaf784e": {
      "model_module": "jupyter-matplotlib",
      "model_module_version": "^0.7.4",
      "model_name": "ToolbarModel",
      "state": {
       "layout": "IPY_MODEL_163b9e32897244f6aa2578d68a4c37b3",
       "toolitems": [
        [
         "Home",
         "Reset original view",
         "home",
         "home"
        ],
        [
         "Back",
         "Back to previous view",
         "arrow-left",
         "back"
        ],
        [
         "Forward",
         "Forward to next view",
         "arrow-right",
         "forward"
        ],
        [
         "Pan",
         "Left button pans, Right button zooms\nx/y fixes axis, CTRL fixes aspect",
         "arrows",
         "pan"
        ],
        [
         "Zoom",
         "Zoom to rectangle\nx/y fixes axis, CTRL fixes aspect",
         "square-o",
         "zoom"
        ],
        [
         "Download",
         "Download plot",
         "floppy-o",
         "save_figure"
        ]
       ]
      }
     },
     "cb7fd7750aa44e78a7191baa319376d5": {
      "model_module": "@jupyter-widgets/controls",
      "model_module_version": "1.5.0",
      "model_name": "VBoxModel",
      "state": {
       "_dom_classes": [
        "widget-interact"
       ],
       "children": [
        "IPY_MODEL_a46fe03bd5bf480c87011f7cfdf9a3d0",
        "IPY_MODEL_c2e4d9ccd1ab4c62bacd5c10995c5637"
       ],
       "layout": "IPY_MODEL_41144cb512a04d5db81e9ee799f162c9"
      }
     },
     "cb80a56ffc0e4a96b7cca710e743e097": {
      "model_module": "@jupyter-widgets/base",
      "model_module_version": "1.2.0",
      "model_name": "LayoutModel",
      "state": {}
     },
     "cb984786541343ce821d0ebc92b51a59": {
      "model_module": "@jupyter-widgets/base",
      "model_module_version": "1.2.0",
      "model_name": "LayoutModel",
      "state": {}
     },
     "cb9c48532a9746bc8ac9bb0c6b83258e": {
      "model_module": "@jupyter-widgets/controls",
      "model_module_version": "1.5.0",
      "model_name": "ButtonStyleModel",
      "state": {}
     },
     "cbf435d83a3841d8b2dec6b77994c3c5": {
      "model_module": "@jupyter-widgets/base",
      "model_module_version": "1.2.0",
      "model_name": "LayoutModel",
      "state": {}
     },
     "cc432289389e455f99dccee4867e0bd4": {
      "model_module": "jupyter-matplotlib",
      "model_module_version": "^0.7.4",
      "model_name": "ToolbarModel",
      "state": {
       "layout": "IPY_MODEL_5ceb3939eaaf4978865e67ea4ff08856",
       "toolitems": [
        [
         "Home",
         "Reset original view",
         "home",
         "home"
        ],
        [
         "Back",
         "Back to previous view",
         "arrow-left",
         "back"
        ],
        [
         "Forward",
         "Forward to next view",
         "arrow-right",
         "forward"
        ],
        [
         "Pan",
         "Left button pans, Right button zooms\nx/y fixes axis, CTRL fixes aspect",
         "arrows",
         "pan"
        ],
        [
         "Zoom",
         "Zoom to rectangle\nx/y fixes axis, CTRL fixes aspect",
         "square-o",
         "zoom"
        ],
        [
         "Download",
         "Download plot",
         "floppy-o",
         "save_figure"
        ]
       ]
      }
     },
     "cca11545852a4cff9dcaba694800e651": {
      "model_module": "@jupyter-widgets/base",
      "model_module_version": "1.2.0",
      "model_name": "LayoutModel",
      "state": {}
     },
     "ccec67bb7e13457b92cce0d8f8162a43": {
      "model_module": "@jupyter-widgets/base",
      "model_module_version": "1.2.0",
      "model_name": "LayoutModel",
      "state": {}
     },
     "ccfb634b06c2413cb75d7578b7461a2b": {
      "model_module": "jupyter-matplotlib",
      "model_module_version": "^0.7.4",
      "model_name": "ToolbarModel",
      "state": {
       "layout": "IPY_MODEL_1022fab275d64a2dbf6570e8e845b9b6",
       "toolitems": [
        [
         "Home",
         "Reset original view",
         "home",
         "home"
        ],
        [
         "Back",
         "Back to previous view",
         "arrow-left",
         "back"
        ],
        [
         "Forward",
         "Forward to next view",
         "arrow-right",
         "forward"
        ],
        [
         "Pan",
         "Left button pans, Right button zooms\nx/y fixes axis, CTRL fixes aspect",
         "arrows",
         "pan"
        ],
        [
         "Zoom",
         "Zoom to rectangle\nx/y fixes axis, CTRL fixes aspect",
         "square-o",
         "zoom"
        ],
        [
         "Download",
         "Download plot",
         "floppy-o",
         "save_figure"
        ]
       ]
      }
     },
     "cd08a5c9e7ab4ff98452175c29f5ca1a": {
      "model_module": "@jupyter-widgets/controls",
      "model_module_version": "1.5.0",
      "model_name": "SliderStyleModel",
      "state": {
       "description_width": ""
      }
     },
     "cd9f93d9797643a2a41b4954f47a5bc9": {
      "model_module": "@jupyter-widgets/controls",
      "model_module_version": "1.5.0",
      "model_name": "ButtonStyleModel",
      "state": {}
     },
     "cdb8c3c2f0694269bbf86ff560211560": {
      "model_module": "@jupyter-widgets/base",
      "model_module_version": "1.2.0",
      "model_name": "LayoutModel",
      "state": {}
     },
     "cdd2c3da21734a32b3ab64d415e5a0bf": {
      "model_module": "@jupyter-widgets/output",
      "model_module_version": "1.0.0",
      "model_name": "OutputModel",
      "state": {
       "layout": "IPY_MODEL_317b34536de9428c93028be9c6414feb"
      }
     },
     "cdf8ba2815234441ac2d3d1675a0966b": {
      "model_module": "@jupyter-widgets/base",
      "model_module_version": "1.2.0",
      "model_name": "LayoutModel",
      "state": {}
     },
     "ce24ba236f8c4d09ae20c42f3c456072": {
      "model_module": "@jupyter-widgets/output",
      "model_module_version": "1.0.0",
      "model_name": "OutputModel",
      "state": {
       "layout": "IPY_MODEL_c9e4edde2d234f0da5248f06467f1a46"
      }
     },
     "ce4c1c12ae864010a711e3074827fde9": {
      "model_module": "@jupyter-widgets/base",
      "model_module_version": "1.2.0",
      "model_name": "LayoutModel",
      "state": {}
     },
     "ceef258902c344a8bb7d62bc445a7b92": {
      "model_module": "@jupyter-widgets/controls",
      "model_module_version": "1.5.0",
      "model_name": "VBoxModel",
      "state": {
       "children": [
        "IPY_MODEL_0358498ac9114743b8bc908e44c3009b"
       ],
       "layout": "IPY_MODEL_172767f90113455fa5d4f21efc649209"
      }
     },
     "cef569b44e7e405f868e09e8a9095d6c": {
      "model_module": "@jupyter-widgets/base",
      "model_module_version": "1.2.0",
      "model_name": "LayoutModel",
      "state": {}
     },
     "cf55a3257d2f400eb6f27e66bd51f9f5": {
      "model_module": "@jupyter-widgets/base",
      "model_module_version": "1.2.0",
      "model_name": "LayoutModel",
      "state": {}
     },
     "cf9394c2ba99468eae967a302386c203": {
      "model_module": "@jupyter-widgets/base",
      "model_module_version": "1.2.0",
      "model_name": "LayoutModel",
      "state": {}
     },
     "cfa5aba8b3854bada1dbd9bdc9cc6b47": {
      "model_module": "@jupyter-widgets/controls",
      "model_module_version": "1.5.0",
      "model_name": "FloatSliderModel",
      "state": {
       "description": "X",
       "layout": "IPY_MODEL_0b30c885000b468e93bcd646d7994610",
       "max": 5,
       "min": -1,
       "step": 0.2,
       "style": "IPY_MODEL_cd08a5c9e7ab4ff98452175c29f5ca1a",
       "value": 5
      }
     },
     "cfd6c710d7c140c391540c9ce8755891": {
      "model_module": "jupyter-matplotlib",
      "model_module_version": "^0.7.4",
      "model_name": "ToolbarModel",
      "state": {
       "layout": "IPY_MODEL_4488c3de4fec4d33aaf1e6046a7c252c",
       "toolitems": [
        [
         "Home",
         "Reset original view",
         "home",
         "home"
        ],
        [
         "Back",
         "Back to previous view",
         "arrow-left",
         "back"
        ],
        [
         "Forward",
         "Forward to next view",
         "arrow-right",
         "forward"
        ],
        [
         "Pan",
         "Left button pans, Right button zooms\nx/y fixes axis, CTRL fixes aspect",
         "arrows",
         "pan"
        ],
        [
         "Zoom",
         "Zoom to rectangle\nx/y fixes axis, CTRL fixes aspect",
         "square-o",
         "zoom"
        ],
        [
         "Download",
         "Download plot",
         "floppy-o",
         "save_figure"
        ]
       ]
      }
     },
     "d019a1c31c184cc5895d10f6e19027a0": {
      "model_module": "@jupyter-widgets/controls",
      "model_module_version": "1.5.0",
      "model_name": "ButtonStyleModel",
      "state": {}
     },
     "d07a5681fac443f0b95252a6db020c35": {
      "model_module": "@jupyter-widgets/controls",
      "model_module_version": "1.5.0",
      "model_name": "ButtonModel",
      "state": {
       "description": "reset",
       "layout": "IPY_MODEL_c7cfb1f07fc74a0baaf0afa5957659fa",
       "style": "IPY_MODEL_068c73c3f53b41fba86606b90f4127e3"
      }
     },
     "d0d334c325ee4e5ab5dec75580b550b9": {
      "model_module": "@jupyter-widgets/controls",
      "model_module_version": "1.5.0",
      "model_name": "ButtonStyleModel",
      "state": {}
     },
     "d11c0b7e62b44c74a3429a272f0c77c1": {
      "model_module": "jupyter-matplotlib",
      "model_module_version": "^0.7.4",
      "model_name": "ToolbarModel",
      "state": {
       "layout": "IPY_MODEL_0c261071fa7942efa1e41f45c5dc9c32",
       "toolitems": [
        [
         "Home",
         "Reset original view",
         "home",
         "home"
        ],
        [
         "Back",
         "Back to previous view",
         "arrow-left",
         "back"
        ],
        [
         "Forward",
         "Forward to next view",
         "arrow-right",
         "forward"
        ],
        [
         "Pan",
         "Left button pans, Right button zooms\nx/y fixes axis, CTRL fixes aspect",
         "arrows",
         "pan"
        ],
        [
         "Zoom",
         "Zoom to rectangle\nx/y fixes axis, CTRL fixes aspect",
         "square-o",
         "zoom"
        ],
        [
         "Download",
         "Download plot",
         "floppy-o",
         "save_figure"
        ]
       ]
      }
     },
     "d1366fb8aa1f4ba0892b10f391e2c94d": {
      "model_module": "@jupyter-widgets/base",
      "model_module_version": "1.2.0",
      "model_name": "LayoutModel",
      "state": {}
     },
     "d1657a85eee64a3d91cfd7dcc65e0ad0": {
      "model_module": "@jupyter-widgets/controls",
      "model_module_version": "1.5.0",
      "model_name": "ButtonModel",
      "state": {
       "description": "reset",
       "layout": "IPY_MODEL_1a6f4f9a717c4d35861c2dfad6330173",
       "style": "IPY_MODEL_179f85feffbe4f04aac24302ebed18d3"
      }
     },
     "d18abaf375694ab9a5ec359a9057c508": {
      "model_module": "jupyter-matplotlib",
      "model_module_version": "^0.7.4",
      "model_name": "ToolbarModel",
      "state": {
       "layout": "IPY_MODEL_628c70b2c3434cdf8d1bb5722f477a0f",
       "toolitems": [
        [
         "Home",
         "Reset original view",
         "home",
         "home"
        ],
        [
         "Back",
         "Back to previous view",
         "arrow-left",
         "back"
        ],
        [
         "Forward",
         "Forward to next view",
         "arrow-right",
         "forward"
        ],
        [
         "Pan",
         "Left button pans, Right button zooms\nx/y fixes axis, CTRL fixes aspect",
         "arrows",
         "pan"
        ],
        [
         "Zoom",
         "Zoom to rectangle\nx/y fixes axis, CTRL fixes aspect",
         "square-o",
         "zoom"
        ],
        [
         "Download",
         "Download plot",
         "floppy-o",
         "save_figure"
        ]
       ]
      }
     },
     "d193a6377f3d4dbaa3212ce78ce2428c": {
      "model_module": "jupyter-matplotlib",
      "model_module_version": "^0.7.4",
      "model_name": "ToolbarModel",
      "state": {
       "layout": "IPY_MODEL_817716f1bc814f84be27b964335bd7d8",
       "toolitems": [
        [
         "Home",
         "Reset original view",
         "home",
         "home"
        ],
        [
         "Back",
         "Back to previous view",
         "arrow-left",
         "back"
        ],
        [
         "Forward",
         "Forward to next view",
         "arrow-right",
         "forward"
        ],
        [
         "Pan",
         "Left button pans, Right button zooms\nx/y fixes axis, CTRL fixes aspect",
         "arrows",
         "pan"
        ],
        [
         "Zoom",
         "Zoom to rectangle\nx/y fixes axis, CTRL fixes aspect",
         "square-o",
         "zoom"
        ],
        [
         "Download",
         "Download plot",
         "floppy-o",
         "save_figure"
        ]
       ]
      }
     },
     "d1a5667d7ada436aa6e8954c2f5e180a": {
      "model_module": "@jupyter-widgets/controls",
      "model_module_version": "1.5.0",
      "model_name": "ButtonModel",
      "state": {
       "description": "reset",
       "layout": "IPY_MODEL_9d6cda7aa59e413d84f80524ff3a489a",
       "style": "IPY_MODEL_c1a720e4b6664eb4aea7336bafbb1ba0"
      }
     },
     "d1a8e8b741bf44c78ef09a5aaa9f9bb6": {
      "model_module": "jupyter-matplotlib",
      "model_module_version": "^0.7.4",
      "model_name": "ToolbarModel",
      "state": {
       "layout": "IPY_MODEL_f29a6fa430ca4a4dae2adb7e02d9a962",
       "toolitems": [
        [
         "Home",
         "Reset original view",
         "home",
         "home"
        ],
        [
         "Back",
         "Back to previous view",
         "arrow-left",
         "back"
        ],
        [
         "Forward",
         "Forward to next view",
         "arrow-right",
         "forward"
        ],
        [
         "Pan",
         "Left button pans, Right button zooms\nx/y fixes axis, CTRL fixes aspect",
         "arrows",
         "pan"
        ],
        [
         "Zoom",
         "Zoom to rectangle\nx/y fixes axis, CTRL fixes aspect",
         "square-o",
         "zoom"
        ],
        [
         "Download",
         "Download plot",
         "floppy-o",
         "save_figure"
        ]
       ]
      }
     },
     "d1e1f07527c442449c7776ae3b29d4c8": {
      "model_module": "@jupyter-widgets/controls",
      "model_module_version": "1.5.0",
      "model_name": "ButtonModel",
      "state": {
       "description": "reset",
       "layout": "IPY_MODEL_16c8d958bd294abdb56978aab4e038f6",
       "style": "IPY_MODEL_e7b1acf479fc4c4bbd70ff01bfcfaf5b"
      }
     },
     "d20b7784612b436b81d7d54a807fc8a5": {
      "model_module": "jupyter-matplotlib",
      "model_module_version": "^0.7.4",
      "model_name": "MPLCanvasModel",
      "state": {
       "_cursor": "default",
       "_figure_label": "Figure 1",
       "_height": 699,
       "_image_mode": "diff",
       "_width": 699,
       "layout": "IPY_MODEL_8c6f5d838252401da8e7af6e9d20b105",
       "toolbar": "IPY_MODEL_8994c2cfe3154798a2977e9b3520fd8c",
       "toolbar_position": "left"
      }
     },
     "d24989b22f624497b9c3ba6d235a1e1c": {
      "model_module": "@jupyter-widgets/base",
      "model_module_version": "1.2.0",
      "model_name": "LayoutModel",
      "state": {}
     },
     "d29cd97917894b008ce87beadcc17c89": {
      "model_module": "@jupyter-widgets/controls",
      "model_module_version": "1.5.0",
      "model_name": "FloatSliderModel",
      "state": {
       "description": "x",
       "layout": "IPY_MODEL_49a939021f2843f1921603636d793a57",
       "max": 5,
       "min": -1,
       "step": 0.2,
       "style": "IPY_MODEL_0cd1cbc7d7694cef983f4021b68d1e01",
       "value": 0.4
      }
     },
     "d32b80c741a742f6adcf8d3ef3434c69": {
      "model_module": "@jupyter-widgets/controls",
      "model_module_version": "1.5.0",
      "model_name": "SliderStyleModel",
      "state": {
       "description_width": ""
      }
     },
     "d3419c1e8a9c4d0889497e5a44e302cb": {
      "model_module": "@jupyter-widgets/base",
      "model_module_version": "1.2.0",
      "model_name": "LayoutModel",
      "state": {}
     },
     "d35ecd559f964fd19a50a630a3638908": {
      "model_module": "@jupyter-widgets/controls",
      "model_module_version": "1.5.0",
      "model_name": "VBoxModel",
      "state": {
       "_dom_classes": [
        "widget-interact"
       ],
       "children": [
        "IPY_MODEL_af4ddbc34941473280b252335c72948e",
        "IPY_MODEL_ae9bc13c31ea410dbb9f48107ab732e1"
       ],
       "layout": "IPY_MODEL_36752c9f5f764a978089847e99bcdf81"
      }
     },
     "d37f9414252243f1b4317a10d3fac209": {
      "model_module": "@jupyter-widgets/base",
      "model_module_version": "1.2.0",
      "model_name": "LayoutModel",
      "state": {}
     },
     "d39f184398624107b46ab6367e199af5": {
      "model_module": "@jupyter-widgets/controls",
      "model_module_version": "1.5.0",
      "model_name": "VBoxModel",
      "state": {
       "children": [
        "IPY_MODEL_69bdba6e5571485ea24af08ce603880d"
       ],
       "layout": "IPY_MODEL_7ba18bce49fd45858d4af3237d089965"
      }
     },
     "d3aedbe634dd40cc9997055e6ac2f2db": {
      "model_module": "@jupyter-widgets/controls",
      "model_module_version": "1.5.0",
      "model_name": "ButtonModel",
      "state": {
       "description": "reset",
       "layout": "IPY_MODEL_57fe134482ea42999f7fe4120e18efba",
       "style": "IPY_MODEL_a0984165d2f34e38aa4b74db0a4da1ab"
      }
     },
     "d3cdaa7447a749dd97e4c02198d7fa08": {
      "model_module": "@jupyter-widgets/controls",
      "model_module_version": "1.5.0",
      "model_name": "FloatSliderModel",
      "state": {
       "description": "x",
       "layout": "IPY_MODEL_33b27e898f9c4ab78677c555ebec4136",
       "max": 5.5,
       "min": -0.5,
       "step": 0.2,
       "style": "IPY_MODEL_86c057b2412345d693f1d778eac4b1f2",
       "value": -0.5
      }
     },
     "d3d957d6567f43c59d9ec49fb028f66b": {
      "model_module": "@jupyter-widgets/base",
      "model_module_version": "1.2.0",
      "model_name": "LayoutModel",
      "state": {}
     },
     "d3dbbdfe360e424b869005fa85ea1a25": {
      "model_module": "@jupyter-widgets/controls",
      "model_module_version": "1.5.0",
      "model_name": "VBoxModel",
      "state": {
       "children": [
        "IPY_MODEL_9a2d45c9f7a44391baebd68c627c262f"
       ],
       "layout": "IPY_MODEL_539abf394ef54afd996ecefe0e0f0197"
      }
     },
     "d411859f20ac437380274fabacd5e5c3": {
      "model_module": "@jupyter-widgets/controls",
      "model_module_version": "1.5.0",
      "model_name": "FloatSliderModel",
      "state": {
       "description": "x",
       "layout": "IPY_MODEL_191d512c182a472591332c2dfb4607b1",
       "max": 5,
       "min": -1,
       "step": 0.2,
       "style": "IPY_MODEL_ad545ce4a9614203bccfed100c1943bd"
      }
     },
     "d46674ba031c4a2f869630a0892d891f": {
      "model_module": "@jupyter-widgets/base",
      "model_module_version": "1.2.0",
      "model_name": "LayoutModel",
      "state": {}
     },
     "d469c377883b49878048d315d4ff0f47": {
      "model_module": "@jupyter-widgets/controls",
      "model_module_version": "1.5.0",
      "model_name": "VBoxModel",
      "state": {
       "_dom_classes": [
        "widget-interact"
       ],
       "children": [
        "IPY_MODEL_c16b052d4b79447f97e8e4fe1d7abb90",
        "IPY_MODEL_68d8736d36794329867dd5e7466b83c3"
       ],
       "layout": "IPY_MODEL_9b84f4bbe21e46548ac6f7e45a0bb7b5"
      }
     },
     "d49094e850b64c28a9d9a301f900e4e7": {
      "model_module": "@jupyter-widgets/base",
      "model_module_version": "1.2.0",
      "model_name": "LayoutModel",
      "state": {}
     },
     "d4c573b4465a46639579fa777f306528": {
      "model_module": "@jupyter-widgets/base",
      "model_module_version": "1.2.0",
      "model_name": "LayoutModel",
      "state": {}
     },
     "d52a91a4e05e44b7882c08ebfcfb1ad1": {
      "model_module": "@jupyter-widgets/base",
      "model_module_version": "1.2.0",
      "model_name": "LayoutModel",
      "state": {}
     },
     "d546259c55e44aa599ba9aa471552b25": {
      "model_module": "@jupyter-widgets/base",
      "model_module_version": "1.2.0",
      "model_name": "LayoutModel",
      "state": {}
     },
     "d5e5d8e2a9494cd8a8a0e292a0b6bd79": {
      "model_module": "@jupyter-widgets/base",
      "model_module_version": "1.2.0",
      "model_name": "LayoutModel",
      "state": {}
     },
     "d6169288a3d641a99f9c2a093d74e1ae": {
      "model_module": "@jupyter-widgets/base",
      "model_module_version": "1.2.0",
      "model_name": "LayoutModel",
      "state": {}
     },
     "d62c3875f2984033bfe02472924c95da": {
      "model_module": "@jupyter-widgets/controls",
      "model_module_version": "1.5.0",
      "model_name": "VBoxModel",
      "state": {
       "_dom_classes": [
        "widget-interact"
       ],
       "children": [
        "IPY_MODEL_005a1c9a204148fe9ed7e57d90e5e1be",
        "IPY_MODEL_f810dd16aa4745fd94965f1765a95473"
       ],
       "layout": "IPY_MODEL_bf3e7890534d45629d569d18563d140b"
      }
     },
     "d6790a1cb37145fc85981cdca526ea16": {
      "model_module": "@jupyter-widgets/base",
      "model_module_version": "1.2.0",
      "model_name": "LayoutModel",
      "state": {}
     },
     "d6eb3c58cd034bdf80bd09d38e33590f": {
      "model_module": "@jupyter-widgets/controls",
      "model_module_version": "1.5.0",
      "model_name": "VBoxModel",
      "state": {
       "_dom_classes": [
        "widget-interact"
       ],
       "children": [
        "IPY_MODEL_4842752c81e5422f8266dba84392e14e",
        "IPY_MODEL_7e067d9b85a445628bbd8a1fd923df76"
       ],
       "layout": "IPY_MODEL_66f3f85799e34fc99afc24bb922dc80b"
      }
     },
     "d70c1500fa4c42279559e9401b73101b": {
      "model_module": "@jupyter-widgets/controls",
      "model_module_version": "1.5.0",
      "model_name": "VBoxModel",
      "state": {
       "_dom_classes": [
        "widget-interact"
       ],
       "children": [
        "IPY_MODEL_2a6a4b2ade4b426e9ab6e4a3d0db1c70",
        "IPY_MODEL_789b87c1008144978a3d11e754264e87"
       ],
       "layout": "IPY_MODEL_9da5206f40b741059c0776d2f17f7180"
      }
     },
     "d73f6b34d80848e8bc62da8aad901bc0": {
      "model_module": "@jupyter-widgets/controls",
      "model_module_version": "1.5.0",
      "model_name": "VBoxModel",
      "state": {
       "children": [
        "IPY_MODEL_4245a7bfeb1a4ecf85e8e6dd33c1ba7c"
       ],
       "layout": "IPY_MODEL_f66662e9cc564f218ff57f388733bcc1"
      }
     },
     "d77f78e69c324346938d20ea4a78d369": {
      "model_module": "@jupyter-widgets/base",
      "model_module_version": "1.2.0",
      "model_name": "LayoutModel",
      "state": {}
     },
     "d7a2b095bb3e4cda9a77f7779e2d88de": {
      "model_module": "@jupyter-widgets/base",
      "model_module_version": "1.2.0",
      "model_name": "LayoutModel",
      "state": {}
     },
     "d7c53531f0d1433c9bf457ec498cb774": {
      "model_module": "@jupyter-widgets/controls",
      "model_module_version": "1.5.0",
      "model_name": "ButtonStyleModel",
      "state": {}
     },
     "d7c81634424b43acac31efcad0198ce9": {
      "model_module": "@jupyter-widgets/controls",
      "model_module_version": "1.5.0",
      "model_name": "SliderStyleModel",
      "state": {
       "description_width": ""
      }
     },
     "d7fd6b2ff7d14a4ebc09799a5acd88f3": {
      "model_module": "@jupyter-widgets/output",
      "model_module_version": "1.0.0",
      "model_name": "OutputModel",
      "state": {
       "layout": "IPY_MODEL_4204fec32b094a2081f560120216ddf5"
      }
     },
     "d87ddaafc8ca4f5e9b9b59b877653797": {
      "model_module": "@jupyter-widgets/controls",
      "model_module_version": "1.5.0",
      "model_name": "SliderStyleModel",
      "state": {
       "description_width": ""
      }
     },
     "d88d4319d38442128cbc1aaa3c802ee7": {
      "model_module": "@jupyter-widgets/controls",
      "model_module_version": "1.5.0",
      "model_name": "SliderStyleModel",
      "state": {
       "description_width": ""
      }
     },
     "d8bf2a62dc774a0eaaf1bd4234776657": {
      "model_module": "@jupyter-widgets/base",
      "model_module_version": "1.2.0",
      "model_name": "LayoutModel",
      "state": {}
     },
     "d95bde8593bb4d55bd8c6b4278adbe25": {
      "model_module": "@jupyter-widgets/base",
      "model_module_version": "1.2.0",
      "model_name": "LayoutModel",
      "state": {}
     },
     "d9656c1a3e79428e9969823fa3e480c1": {
      "model_module": "@jupyter-widgets/controls",
      "model_module_version": "1.5.0",
      "model_name": "FloatSliderModel",
      "state": {
       "description": "x",
       "layout": "IPY_MODEL_13813ba55963455cae1042c9783ff8e2",
       "max": 5,
       "min": -1,
       "step": 0.2,
       "style": "IPY_MODEL_c4f41e07aa4b4d99ab7809a73d4d5f7c"
      }
     },
     "d9803222fc6b479e9987e5cf703deda2": {
      "model_module": "@jupyter-widgets/base",
      "model_module_version": "1.2.0",
      "model_name": "LayoutModel",
      "state": {}
     },
     "d9adf284d6a04226a928d9a27fa8dd25": {
      "model_module": "@jupyter-widgets/base",
      "model_module_version": "1.2.0",
      "model_name": "LayoutModel",
      "state": {}
     },
     "d9cef947baa04c3798c047d1a8c1e968": {
      "model_module": "@jupyter-widgets/controls",
      "model_module_version": "1.5.0",
      "model_name": "VBoxModel",
      "state": {
       "_dom_classes": [
        "widget-interact"
       ],
       "children": [
        "IPY_MODEL_f49b755afbec463692b9df12bd0b34e1",
        "IPY_MODEL_ff7f02088c4241349ba489335ad27b92"
       ],
       "layout": "IPY_MODEL_277184cf7b5f4992acb3750cad7beda4"
      }
     },
     "d9e9742478e4440682c4b9e1b22d6149": {
      "model_module": "@jupyter-widgets/controls",
      "model_module_version": "1.5.0",
      "model_name": "VBoxModel",
      "state": {
       "_dom_classes": [
        "widget-interact"
       ],
       "children": [
        "IPY_MODEL_ffac1349b3aa42b5b5f9e5d29368aff7",
        "IPY_MODEL_ca9381bb7b9a4298907d50310e06019d"
       ],
       "layout": "IPY_MODEL_f3b883cae8c148b69dc7e131621e50c4"
      }
     },
     "d9fd88c6a13a4c869bd03ff870ae5154": {
      "model_module": "@jupyter-widgets/controls",
      "model_module_version": "1.5.0",
      "model_name": "SliderStyleModel",
      "state": {
       "description_width": ""
      }
     },
     "da37ff4a859a4d008ff8e289bad0a400": {
      "model_module": "@jupyter-widgets/base",
      "model_module_version": "1.2.0",
      "model_name": "LayoutModel",
      "state": {}
     },
     "da4b232c1d634a679e5586faaf9f89e8": {
      "model_module": "@jupyter-widgets/controls",
      "model_module_version": "1.5.0",
      "model_name": "ButtonModel",
      "state": {
       "description": "reset",
       "layout": "IPY_MODEL_c020063b0280439b992685188bf09a60",
       "style": "IPY_MODEL_deb379c438ca4441a8a53e432bc7a83d"
      }
     },
     "dab8bb7276844fa68ffb626fa087aee4": {
      "model_module": "@jupyter-widgets/base",
      "model_module_version": "1.2.0",
      "model_name": "LayoutModel",
      "state": {}
     },
     "dae5b03cff2846d095f84a8499e47d69": {
      "model_module": "@jupyter-widgets/base",
      "model_module_version": "1.2.0",
      "model_name": "LayoutModel",
      "state": {}
     },
     "dae5fb4e2e654af99d99538ae2956fb5": {
      "model_module": "@jupyter-widgets/controls",
      "model_module_version": "1.5.0",
      "model_name": "VBoxModel",
      "state": {
       "_dom_classes": [
        "widget-interact"
       ],
       "children": [
        "IPY_MODEL_2ad74e7b6cde4e1cb8f9f535a961d2dd",
        "IPY_MODEL_e2571e2f707c4f31b8c2095ef23cc0d0"
       ],
       "layout": "IPY_MODEL_21611c3b57b741c291b89e1388035d83"
      }
     },
     "daeca44fd311464ca43a8f55331959e5": {
      "model_module": "@jupyter-widgets/controls",
      "model_module_version": "1.5.0",
      "model_name": "FloatSliderModel",
      "state": {
       "description": "X",
       "layout": "IPY_MODEL_526b5f7317aa4877b259c928ebb87eb5",
       "max": 5,
       "min": -1,
       "step": 0.2,
       "style": "IPY_MODEL_2d56c9f1bf9043599d7db05b27d3e5ab"
      }
     },
     "db03e648fd34410a98e8a9c571819333": {
      "model_module": "@jupyter-widgets/controls",
      "model_module_version": "1.5.0",
      "model_name": "FloatSliderModel",
      "state": {
       "description": "x",
       "layout": "IPY_MODEL_df0979fab7f4435d9b1e7c22d88971ee",
       "max": 5.5,
       "min": -0.5,
       "step": 0.2,
       "style": "IPY_MODEL_20e6975c39954676847ae72d2ed8d42e"
      }
     },
     "db0b1d34de8441aaa1451230c785b762": {
      "model_module": "@jupyter-widgets/base",
      "model_module_version": "1.2.0",
      "model_name": "LayoutModel",
      "state": {}
     },
     "db350dab2d504782bc6b2c833fcd8bc1": {
      "model_module": "@jupyter-widgets/base",
      "model_module_version": "1.2.0",
      "model_name": "LayoutModel",
      "state": {}
     },
     "db97c3b5bbb84f2794cab0b4448ce9e5": {
      "model_module": "@jupyter-widgets/base",
      "model_module_version": "1.2.0",
      "model_name": "LayoutModel",
      "state": {}
     },
     "dbbe407f01194d24b64b9bd0c3117e39": {
      "model_module": "@jupyter-widgets/base",
      "model_module_version": "1.2.0",
      "model_name": "LayoutModel",
      "state": {}
     },
     "dbcd2ed176a749e8b0b7b97d9b1e0ab1": {
      "model_module": "@jupyter-widgets/base",
      "model_module_version": "1.2.0",
      "model_name": "LayoutModel",
      "state": {}
     },
     "dbe86431f3e6447ba0304bc23e3e30fb": {
      "model_module": "@jupyter-widgets/base",
      "model_module_version": "1.2.0",
      "model_name": "LayoutModel",
      "state": {}
     },
     "dbf85098553e45c98a9042dc4639ff53": {
      "model_module": "@jupyter-widgets/controls",
      "model_module_version": "1.5.0",
      "model_name": "FloatSliderModel",
      "state": {
       "description": "x",
       "layout": "IPY_MODEL_77fcc9cf5ed24a9e96722b1ae56e8121",
       "max": 5,
       "min": -1,
       "step": 0.2,
       "style": "IPY_MODEL_806d9937615e4fc79f6eb988d979435c",
       "value": 2.4
      }
     },
     "dc197adbbe854f4897773e7be8523906": {
      "model_module": "@jupyter-widgets/controls",
      "model_module_version": "1.5.0",
      "model_name": "ButtonStyleModel",
      "state": {}
     },
     "dc88e4b3bada4609840e36a0e92aab7d": {
      "model_module": "@jupyter-widgets/base",
      "model_module_version": "1.2.0",
      "model_name": "LayoutModel",
      "state": {}
     },
     "dd0ae1a098554094998023b3067dabb6": {
      "model_module": "@jupyter-widgets/base",
      "model_module_version": "1.2.0",
      "model_name": "LayoutModel",
      "state": {}
     },
     "dd2707af5c47407e98854fec7aa78b54": {
      "model_module": "@jupyter-widgets/base",
      "model_module_version": "1.2.0",
      "model_name": "LayoutModel",
      "state": {}
     },
     "dda93441351043258bd6c3061da6257a": {
      "model_module": "@jupyter-widgets/base",
      "model_module_version": "1.2.0",
      "model_name": "LayoutModel",
      "state": {}
     },
     "ddc44945b8f447479904ba69e3754e1a": {
      "model_module": "jupyter-matplotlib",
      "model_module_version": "^0.7.4",
      "model_name": "MPLCanvasModel",
      "state": {
       "_cursor": "default",
       "_figure_label": "Figure 1",
       "_height": 699,
       "_image_mode": "diff",
       "_width": 699,
       "layout": "IPY_MODEL_62bd3b1f4ab641258dbe405fa41292ea",
       "toolbar": "IPY_MODEL_089f066fd258482484790a3610c5ff41",
       "toolbar_position": "left"
      }
     },
     "dde251fb625947cb921c7b8a575cbef7": {
      "model_module": "@jupyter-widgets/controls",
      "model_module_version": "1.5.0",
      "model_name": "VBoxModel",
      "state": {
       "children": [
        "IPY_MODEL_49a4ffbeb54d4aae8adb17f8f50d0d9f"
       ],
       "layout": "IPY_MODEL_b0f3af353e1c4c1c8b57e46703dd4e3b"
      }
     },
     "dde4ad298fd2417eb805d161843fce7b": {
      "model_module": "@jupyter-widgets/controls",
      "model_module_version": "1.5.0",
      "model_name": "ButtonStyleModel",
      "state": {}
     },
     "ddf5ff3402ba4bf2842b7587b19bf2c7": {
      "model_module": "@jupyter-widgets/base",
      "model_module_version": "1.2.0",
      "model_name": "LayoutModel",
      "state": {}
     },
     "ddf7ae5ca4f64d05b84cd3de574272aa": {
      "model_module": "@jupyter-widgets/base",
      "model_module_version": "1.2.0",
      "model_name": "LayoutModel",
      "state": {}
     },
     "de32710503f64be7b16a6c0db206e54e": {
      "model_module": "@jupyter-widgets/base",
      "model_module_version": "1.2.0",
      "model_name": "LayoutModel",
      "state": {}
     },
     "de40d18bd8b04257946045752a910220": {
      "model_module": "@jupyter-widgets/base",
      "model_module_version": "1.2.0",
      "model_name": "LayoutModel",
      "state": {}
     },
     "de6a212c5a354df293b6ef3e56d02ff9": {
      "model_module": "@jupyter-widgets/controls",
      "model_module_version": "1.5.0",
      "model_name": "FloatSliderModel",
      "state": {
       "description": "x",
       "layout": "IPY_MODEL_1702e1683e9d4fa39a330e71c029d4c2",
       "max": 5,
       "min": -1,
       "step": 0.2,
       "style": "IPY_MODEL_9f4695456dba4240832c1037d419f5fa",
       "value": -1
      }
     },
     "de929337c6fa41ca95c13be816a64dba": {
      "model_module": "@jupyter-widgets/base",
      "model_module_version": "1.2.0",
      "model_name": "LayoutModel",
      "state": {}
     },
     "dea14ded076244bcb64dfb14d1521970": {
      "model_module": "@jupyter-widgets/controls",
      "model_module_version": "1.5.0",
      "model_name": "ButtonStyleModel",
      "state": {}
     },
     "deb379c438ca4441a8a53e432bc7a83d": {
      "model_module": "@jupyter-widgets/controls",
      "model_module_version": "1.5.0",
      "model_name": "ButtonStyleModel",
      "state": {}
     },
     "dec8d8ba797b45bf91ec184c965f7f5b": {
      "model_module": "jupyter-matplotlib",
      "model_module_version": "^0.7.4",
      "model_name": "ToolbarModel",
      "state": {
       "layout": "IPY_MODEL_28df26fec1f046e097037f91b2acb0d9",
       "toolitems": [
        [
         "Home",
         "Reset original view",
         "home",
         "home"
        ],
        [
         "Back",
         "Back to previous view",
         "arrow-left",
         "back"
        ],
        [
         "Forward",
         "Forward to next view",
         "arrow-right",
         "forward"
        ],
        [
         "Pan",
         "Left button pans, Right button zooms\nx/y fixes axis, CTRL fixes aspect",
         "arrows",
         "pan"
        ],
        [
         "Zoom",
         "Zoom to rectangle\nx/y fixes axis, CTRL fixes aspect",
         "square-o",
         "zoom"
        ],
        [
         "Download",
         "Download plot",
         "floppy-o",
         "save_figure"
        ]
       ]
      }
     },
     "decaf54cff1c4b3f936bb02a0ede8aa0": {
      "model_module": "@jupyter-widgets/base",
      "model_module_version": "1.2.0",
      "model_name": "LayoutModel",
      "state": {}
     },
     "decfcf942b7249cb91d878a4160d307f": {
      "model_module": "jupyter-matplotlib",
      "model_module_version": "^0.7.4",
      "model_name": "MPLCanvasModel",
      "state": {
       "_cursor": "default",
       "_figure_label": "Figure 1",
       "_height": 500,
       "_width": 500,
       "layout": "IPY_MODEL_62528a6ac6464868a5f6a42d034067a9",
       "toolbar": "IPY_MODEL_395efe3cd1764eec958c7cd5a4f636cc",
       "toolbar_position": "left"
      }
     },
     "ded2b4c059994a3193e4e2b642fde6ef": {
      "model_module": "@jupyter-widgets/base",
      "model_module_version": "1.2.0",
      "model_name": "LayoutModel",
      "state": {}
     },
     "df0979fab7f4435d9b1e7c22d88971ee": {
      "model_module": "@jupyter-widgets/base",
      "model_module_version": "1.2.0",
      "model_name": "LayoutModel",
      "state": {}
     },
     "df22abe2c3b24b8c9aa712ba0771dff2": {
      "model_module": "jupyter-matplotlib",
      "model_module_version": "^0.7.4",
      "model_name": "ToolbarModel",
      "state": {
       "layout": "IPY_MODEL_b668f95e2ed84f6dbb9bb0c855007258",
       "toolitems": [
        [
         "Home",
         "Reset original view",
         "home",
         "home"
        ],
        [
         "Back",
         "Back to previous view",
         "arrow-left",
         "back"
        ],
        [
         "Forward",
         "Forward to next view",
         "arrow-right",
         "forward"
        ],
        [
         "Pan",
         "Left button pans, Right button zooms\nx/y fixes axis, CTRL fixes aspect",
         "arrows",
         "pan"
        ],
        [
         "Zoom",
         "Zoom to rectangle\nx/y fixes axis, CTRL fixes aspect",
         "square-o",
         "zoom"
        ],
        [
         "Download",
         "Download plot",
         "floppy-o",
         "save_figure"
        ]
       ]
      }
     },
     "df619db900644df28a3f569e3bb80564": {
      "model_module": "@jupyter-widgets/controls",
      "model_module_version": "1.5.0",
      "model_name": "ButtonStyleModel",
      "state": {}
     },
     "dfc8c5aab4d54a27ab36add8f6fa4595": {
      "model_module": "@jupyter-widgets/controls",
      "model_module_version": "1.5.0",
      "model_name": "FloatSliderModel",
      "state": {
       "description": "x",
       "layout": "IPY_MODEL_653ee954a76a4bf0bd4996a8201b84e0",
       "max": 5,
       "min": -1,
       "step": 0.2,
       "style": "IPY_MODEL_49e846faa438413d85b903bca81d63e9"
      }
     },
     "e050c18a7c944c68b1608f0414a2d777": {
      "model_module": "jupyter-matplotlib",
      "model_module_version": "^0.7.4",
      "model_name": "ToolbarModel",
      "state": {
       "layout": "IPY_MODEL_5f5218e083564fcbad046fbe968b7ba3",
       "toolitems": [
        [
         "Home",
         "Reset original view",
         "home",
         "home"
        ],
        [
         "Back",
         "Back to previous view",
         "arrow-left",
         "back"
        ],
        [
         "Forward",
         "Forward to next view",
         "arrow-right",
         "forward"
        ],
        [
         "Pan",
         "Left button pans, Right button zooms\nx/y fixes axis, CTRL fixes aspect",
         "arrows",
         "pan"
        ],
        [
         "Zoom",
         "Zoom to rectangle\nx/y fixes axis, CTRL fixes aspect",
         "square-o",
         "zoom"
        ],
        [
         "Download",
         "Download plot",
         "floppy-o",
         "save_figure"
        ]
       ]
      }
     },
     "e0703ae2922c49f6895205ba83a9fb25": {
      "model_module": "@jupyter-widgets/controls",
      "model_module_version": "1.5.0",
      "model_name": "SliderStyleModel",
      "state": {
       "description_width": ""
      }
     },
     "e097fb14e2874f73a0fa63e3850b8453": {
      "model_module": "@jupyter-widgets/controls",
      "model_module_version": "1.5.0",
      "model_name": "FloatSliderModel",
      "state": {
       "description": "x",
       "layout": "IPY_MODEL_22422d1b23d44e349513f03a155da514",
       "max": 5.5,
       "min": -0.5,
       "step": 0.2,
       "style": "IPY_MODEL_af4115c8fbd84385ab62f53f9b6c63fd"
      }
     },
     "e0c96655bdc7456a86d673d2ab75f364": {
      "model_module": "@jupyter-widgets/controls",
      "model_module_version": "1.5.0",
      "model_name": "VBoxModel",
      "state": {
       "children": [
        "IPY_MODEL_0240a67c9cb14b0bb67d6c9fd378a2d8"
       ],
       "layout": "IPY_MODEL_043835ba7f9e47d6895ff14b09691a2f"
      }
     },
     "e0c9987480ac42c98a6ac7dfa8e5c3b7": {
      "model_module": "@jupyter-widgets/controls",
      "model_module_version": "1.5.0",
      "model_name": "FloatSliderModel",
      "state": {
       "description": "x",
       "layout": "IPY_MODEL_241f7f89eacd40839687304bf66d0d9d",
       "max": 5.5,
       "min": -0.5,
       "step": 0.2,
       "style": "IPY_MODEL_64d43fdc92b14564b262ebd88f9eec06",
       "value": 0.9
      }
     },
     "e0f758b850694904a06c48d27ecb6eac": {
      "model_module": "@jupyter-widgets/controls",
      "model_module_version": "1.5.0",
      "model_name": "SliderStyleModel",
      "state": {
       "description_width": ""
      }
     },
     "e0f836179a19496da5b8929fcd0140c3": {
      "model_module": "@jupyter-widgets/output",
      "model_module_version": "1.0.0",
      "model_name": "OutputModel",
      "state": {
       "layout": "IPY_MODEL_c16aaad7a8fd4d3ca04c38a57741aad3"
      }
     },
     "e14221b723f543fa9606d1f494900f1d": {
      "model_module": "@jupyter-widgets/base",
      "model_module_version": "1.2.0",
      "model_name": "LayoutModel",
      "state": {}
     },
     "e14f8add12b043a1ad8d47f2ea8eee30": {
      "model_module": "@jupyter-widgets/controls",
      "model_module_version": "1.5.0",
      "model_name": "ButtonStyleModel",
      "state": {}
     },
     "e17c940fb3be423eb8e145fa9c12938c": {
      "model_module": "@jupyter-widgets/controls",
      "model_module_version": "1.5.0",
      "model_name": "FloatSliderModel",
      "state": {
       "description": "x",
       "layout": "IPY_MODEL_e8bae0b958684353859867e2e9e06550",
       "max": 5,
       "min": -1,
       "step": 0.2,
       "style": "IPY_MODEL_2548bced1a6a455a9eeb50b6d44f04b6",
       "value": -1
      }
     },
     "e198f92d3d144c2a990e778a294fd468": {
      "model_module": "@jupyter-widgets/controls",
      "model_module_version": "1.5.0",
      "model_name": "ButtonStyleModel",
      "state": {}
     },
     "e19a2e21822e4b159a1bcd7e215617d2": {
      "model_module": "@jupyter-widgets/controls",
      "model_module_version": "1.5.0",
      "model_name": "FloatSliderModel",
      "state": {
       "description": "x",
       "layout": "IPY_MODEL_ace4c7d4272d488e911897633e76906f",
       "max": 5,
       "min": -1,
       "step": 0.2,
       "style": "IPY_MODEL_7cad03137cdb4d0097ecdebea90afbcd"
      }
     },
     "e1b8fc1fe1c6448bbf6e1be883016993": {
      "model_module": "jupyter-matplotlib",
      "model_module_version": "^0.7.4",
      "model_name": "ToolbarModel",
      "state": {
       "layout": "IPY_MODEL_8ab9efb863d649e3badb81f849409da5",
       "toolitems": [
        [
         "Home",
         "Reset original view",
         "home",
         "home"
        ],
        [
         "Back",
         "Back to previous view",
         "arrow-left",
         "back"
        ],
        [
         "Forward",
         "Forward to next view",
         "arrow-right",
         "forward"
        ],
        [
         "Pan",
         "Left button pans, Right button zooms\nx/y fixes axis, CTRL fixes aspect",
         "arrows",
         "pan"
        ],
        [
         "Zoom",
         "Zoom to rectangle\nx/y fixes axis, CTRL fixes aspect",
         "square-o",
         "zoom"
        ],
        [
         "Download",
         "Download plot",
         "floppy-o",
         "save_figure"
        ]
       ]
      }
     },
     "e22b196a6b0948b9bccc2fb4666ef9d2": {
      "model_module": "jupyter-matplotlib",
      "model_module_version": "^0.7.4",
      "model_name": "ToolbarModel",
      "state": {
       "layout": "IPY_MODEL_4b5aed74081c4f1f9f550a26871d3d60",
       "toolitems": [
        [
         "Home",
         "Reset original view",
         "home",
         "home"
        ],
        [
         "Back",
         "Back to previous view",
         "arrow-left",
         "back"
        ],
        [
         "Forward",
         "Forward to next view",
         "arrow-right",
         "forward"
        ],
        [
         "Pan",
         "Left button pans, Right button zooms\nx/y fixes axis, CTRL fixes aspect",
         "arrows",
         "pan"
        ],
        [
         "Zoom",
         "Zoom to rectangle\nx/y fixes axis, CTRL fixes aspect",
         "square-o",
         "zoom"
        ],
        [
         "Download",
         "Download plot",
         "floppy-o",
         "save_figure"
        ]
       ]
      }
     },
     "e2571e2f707c4f31b8c2095ef23cc0d0": {
      "model_module": "@jupyter-widgets/output",
      "model_module_version": "1.0.0",
      "model_name": "OutputModel",
      "state": {
       "layout": "IPY_MODEL_b166f0f0d5104ad284930250b9213574"
      }
     },
     "e27acf1cb85a4ae591283dc7a8288be5": {
      "model_module": "jupyter-matplotlib",
      "model_module_version": "^0.7.4",
      "model_name": "ToolbarModel",
      "state": {
       "layout": "IPY_MODEL_7871047337c5414290e16162679b923a",
       "toolitems": [
        [
         "Home",
         "Reset original view",
         "home",
         "home"
        ],
        [
         "Back",
         "Back to previous view",
         "arrow-left",
         "back"
        ],
        [
         "Forward",
         "Forward to next view",
         "arrow-right",
         "forward"
        ],
        [
         "Pan",
         "Left button pans, Right button zooms\nx/y fixes axis, CTRL fixes aspect",
         "arrows",
         "pan"
        ],
        [
         "Zoom",
         "Zoom to rectangle\nx/y fixes axis, CTRL fixes aspect",
         "square-o",
         "zoom"
        ],
        [
         "Download",
         "Download plot",
         "floppy-o",
         "save_figure"
        ]
       ]
      }
     },
     "e3800b90bcce43539475d6537466f994": {
      "model_module": "@jupyter-widgets/controls",
      "model_module_version": "1.5.0",
      "model_name": "FloatSliderModel",
      "state": {
       "description": "x",
       "layout": "IPY_MODEL_b7d406d4fc4d48bca0894400699fc6f1",
       "max": 5.5,
       "min": -0.5,
       "step": 0.2,
       "style": "IPY_MODEL_bcadfa36ae864f7f82b079430c574504",
       "value": 1.1
      }
     },
     "e3c68e7822e64898acd08bcf13a97801": {
      "model_module": "@jupyter-widgets/base",
      "model_module_version": "1.2.0",
      "model_name": "LayoutModel",
      "state": {}
     },
     "e409aee34aa742618cafc14389eea6c0": {
      "model_module": "@jupyter-widgets/controls",
      "model_module_version": "1.5.0",
      "model_name": "VBoxModel",
      "state": {
       "_dom_classes": [
        "widget-interact"
       ],
       "children": [
        "IPY_MODEL_824612dfe3a84bf3a764fe6bfb5cef5f",
        "IPY_MODEL_96fac30e16e14dc0828bd4be52986d43"
       ],
       "layout": "IPY_MODEL_19e98e24b9e04f9bbe4359f35ac9d920"
      }
     },
     "e4224afcab03473da22f09d80d65d94a": {
      "model_module": "@jupyter-widgets/base",
      "model_module_version": "1.2.0",
      "model_name": "LayoutModel",
      "state": {}
     },
     "e45cf1e3dafb45f295a714c6464c42dc": {
      "model_module": "@jupyter-widgets/base",
      "model_module_version": "1.2.0",
      "model_name": "LayoutModel",
      "state": {}
     },
     "e4c4a65368574f9ab37901362dd82c35": {
      "model_module": "@jupyter-widgets/base",
      "model_module_version": "1.2.0",
      "model_name": "LayoutModel",
      "state": {}
     },
     "e4ec6556d42f482fa7aa4e7066e41c56": {
      "model_module": "jupyter-matplotlib",
      "model_module_version": "^0.7.4",
      "model_name": "ToolbarModel",
      "state": {
       "layout": "IPY_MODEL_594b26d5466448579f9c7677652f479f",
       "toolitems": [
        [
         "Home",
         "Reset original view",
         "home",
         "home"
        ],
        [
         "Back",
         "Back to previous view",
         "arrow-left",
         "back"
        ],
        [
         "Forward",
         "Forward to next view",
         "arrow-right",
         "forward"
        ],
        [
         "Pan",
         "Left button pans, Right button zooms\nx/y fixes axis, CTRL fixes aspect",
         "arrows",
         "pan"
        ],
        [
         "Zoom",
         "Zoom to rectangle\nx/y fixes axis, CTRL fixes aspect",
         "square-o",
         "zoom"
        ],
        [
         "Download",
         "Download plot",
         "floppy-o",
         "save_figure"
        ]
       ]
      }
     },
     "e51f7439bfe8426e8947d9146a66ea1f": {
      "model_module": "jupyter-matplotlib",
      "model_module_version": "^0.7.4",
      "model_name": "ToolbarModel",
      "state": {
       "layout": "IPY_MODEL_ddf7ae5ca4f64d05b84cd3de574272aa",
       "toolitems": [
        [
         "Home",
         "Reset original view",
         "home",
         "home"
        ],
        [
         "Back",
         "Back to previous view",
         "arrow-left",
         "back"
        ],
        [
         "Forward",
         "Forward to next view",
         "arrow-right",
         "forward"
        ],
        [
         "Pan",
         "Left button pans, Right button zooms\nx/y fixes axis, CTRL fixes aspect",
         "arrows",
         "pan"
        ],
        [
         "Zoom",
         "Zoom to rectangle\nx/y fixes axis, CTRL fixes aspect",
         "square-o",
         "zoom"
        ],
        [
         "Download",
         "Download plot",
         "floppy-o",
         "save_figure"
        ]
       ]
      }
     },
     "e5270a84113142229f51ba912f0333b9": {
      "model_module": "@jupyter-widgets/controls",
      "model_module_version": "1.5.0",
      "model_name": "VBoxModel",
      "state": {
       "_dom_classes": [
        "widget-interact"
       ],
       "children": [
        "IPY_MODEL_eaa176bcbca84a0bb1cd9fdcdd88fa37",
        "IPY_MODEL_2a9b8a205d9a4899a52240398af61c2b"
       ],
       "layout": "IPY_MODEL_a077445a55cb46f7a76002abd00dbaa2"
      }
     },
     "e52b0910348b4974b311db50efa2b57d": {
      "model_module": "@jupyter-widgets/base",
      "model_module_version": "1.2.0",
      "model_name": "LayoutModel",
      "state": {}
     },
     "e5a7b212fd5c41379ec9d254441ce701": {
      "model_module": "@jupyter-widgets/controls",
      "model_module_version": "1.5.0",
      "model_name": "SliderStyleModel",
      "state": {
       "description_width": ""
      }
     },
     "e5fdf591c28d43ca84e09b36c8160a33": {
      "model_module": "@jupyter-widgets/controls",
      "model_module_version": "1.5.0",
      "model_name": "ButtonModel",
      "state": {
       "description": "reset",
       "layout": "IPY_MODEL_46b6a10d77e1420a861f7b5e604e6b73",
       "style": "IPY_MODEL_b257fe48b1b84037bc849026081e86fd"
      }
     },
     "e604258835b246a48fe6815bf42f4a9b": {
      "model_module": "@jupyter-widgets/controls",
      "model_module_version": "1.5.0",
      "model_name": "SliderStyleModel",
      "state": {
       "description_width": ""
      }
     },
     "e61ca43ef53c47fc9393546486eaacf6": {
      "model_module": "@jupyter-widgets/base",
      "model_module_version": "1.2.0",
      "model_name": "LayoutModel",
      "state": {}
     },
     "e625faf5024448b79372cabefc8799d8": {
      "model_module": "@jupyter-widgets/base",
      "model_module_version": "1.2.0",
      "model_name": "LayoutModel",
      "state": {}
     },
     "e666868775774b6abe26f3a113f6ab50": {
      "model_module": "@jupyter-widgets/controls",
      "model_module_version": "1.5.0",
      "model_name": "FloatSliderModel",
      "state": {
       "description": "x",
       "layout": "IPY_MODEL_cf55a3257d2f400eb6f27e66bd51f9f5",
       "max": 5,
       "min": -1,
       "step": 0.2,
       "style": "IPY_MODEL_e858f80f3b404466884709e35178ec90",
       "value": 0.2
      }
     },
     "e71b9199f401469c8f3c5637634c99bf": {
      "model_module": "@jupyter-widgets/base",
      "model_module_version": "1.2.0",
      "model_name": "LayoutModel",
      "state": {}
     },
     "e7b1acf479fc4c4bbd70ff01bfcfaf5b": {
      "model_module": "@jupyter-widgets/controls",
      "model_module_version": "1.5.0",
      "model_name": "ButtonStyleModel",
      "state": {}
     },
     "e809cdca397146a59bc47e801760e100": {
      "model_module": "@jupyter-widgets/base",
      "model_module_version": "1.2.0",
      "model_name": "LayoutModel",
      "state": {}
     },
     "e84c81304b8b4cefb51ea8aaf604f595": {
      "model_module": "@jupyter-widgets/controls",
      "model_module_version": "1.5.0",
      "model_name": "ButtonModel",
      "state": {
       "description": "reset",
       "layout": "IPY_MODEL_fdd042fdc8d24ef783208a601b5668fa",
       "style": "IPY_MODEL_4a85970f7eb2447e9ff514bf9342938a"
      }
     },
     "e858f80f3b404466884709e35178ec90": {
      "model_module": "@jupyter-widgets/controls",
      "model_module_version": "1.5.0",
      "model_name": "SliderStyleModel",
      "state": {
       "description_width": ""
      }
     },
     "e890dbd1a9e94c5c95d27f96e8a77f08": {
      "model_module": "@jupyter-widgets/controls",
      "model_module_version": "1.5.0",
      "model_name": "VBoxModel",
      "state": {
       "_dom_classes": [
        "widget-interact"
       ],
       "children": [
        "IPY_MODEL_c897abc1ae9d46a8ace3eb9211047c3e",
        "IPY_MODEL_f2179d57545a4093b2ca50958e2e0140"
       ],
       "layout": "IPY_MODEL_2433ac2c12ea4e578e95ddac41270d22"
      }
     },
     "e8a3c25a64d94f128f6ca1668ecad10f": {
      "model_module": "@jupyter-widgets/base",
      "model_module_version": "1.2.0",
      "model_name": "LayoutModel",
      "state": {}
     },
     "e8bae0b958684353859867e2e9e06550": {
      "model_module": "@jupyter-widgets/base",
      "model_module_version": "1.2.0",
      "model_name": "LayoutModel",
      "state": {}
     },
     "e8c1295416004fff864815d5c5328177": {
      "model_module": "@jupyter-widgets/base",
      "model_module_version": "1.2.0",
      "model_name": "LayoutModel",
      "state": {}
     },
     "e8e42ab1ff164948a939246a54e9e7a5": {
      "model_module": "@jupyter-widgets/output",
      "model_module_version": "1.0.0",
      "model_name": "OutputModel",
      "state": {
       "layout": "IPY_MODEL_d49094e850b64c28a9d9a301f900e4e7"
      }
     },
     "e910985b7f4f419ca047a2f093ccbbcf": {
      "model_module": "@jupyter-widgets/base",
      "model_module_version": "1.2.0",
      "model_name": "LayoutModel",
      "state": {}
     },
     "e94ff23748d444be9c184c635d843913": {
      "model_module": "@jupyter-widgets/base",
      "model_module_version": "1.2.0",
      "model_name": "LayoutModel",
      "state": {}
     },
     "e981fef32cde451499689510ec34c071": {
      "model_module": "@jupyter-widgets/controls",
      "model_module_version": "1.5.0",
      "model_name": "VBoxModel",
      "state": {
       "_dom_classes": [
        "widget-interact"
       ],
       "children": [
        "IPY_MODEL_bc6d6fb2e015474f8e729d825047cd65",
        "IPY_MODEL_e0f836179a19496da5b8929fcd0140c3"
       ],
       "layout": "IPY_MODEL_0ddc6fc7fee34611bc36d1806d47de86"
      }
     },
     "e9a09fbc93c14b9096cb4649c1c74875": {
      "model_module": "@jupyter-widgets/base",
      "model_module_version": "1.2.0",
      "model_name": "LayoutModel",
      "state": {}
     },
     "e9a6b686a1434006b073bfcb50f4d3e2": {
      "model_module": "jupyter-matplotlib",
      "model_module_version": "^0.7.4",
      "model_name": "ToolbarModel",
      "state": {
       "layout": "IPY_MODEL_7ba1607140c74c2c9b054568e06c6895",
       "toolitems": [
        [
         "Home",
         "Reset original view",
         "home",
         "home"
        ],
        [
         "Back",
         "Back to previous view",
         "arrow-left",
         "back"
        ],
        [
         "Forward",
         "Forward to next view",
         "arrow-right",
         "forward"
        ],
        [
         "Pan",
         "Left button pans, Right button zooms\nx/y fixes axis, CTRL fixes aspect",
         "arrows",
         "pan"
        ],
        [
         "Zoom",
         "Zoom to rectangle\nx/y fixes axis, CTRL fixes aspect",
         "square-o",
         "zoom"
        ],
        [
         "Download",
         "Download plot",
         "floppy-o",
         "save_figure"
        ]
       ]
      }
     },
     "ea38ca938a4b40ab88beee03aabdea7f": {
      "model_module": "@jupyter-widgets/base",
      "model_module_version": "1.2.0",
      "model_name": "LayoutModel",
      "state": {}
     },
     "ea99951e57604a7487bae2bb3c8788a7": {
      "model_module": "@jupyter-widgets/base",
      "model_module_version": "1.2.0",
      "model_name": "LayoutModel",
      "state": {}
     },
     "ea9f3d239b8440f0baf36dcc1eccc660": {
      "model_module": "@jupyter-widgets/controls",
      "model_module_version": "1.5.0",
      "model_name": "FloatSliderModel",
      "state": {
       "description": "x",
       "layout": "IPY_MODEL_eed90f8adf1a46e2a45e9d25f668c0e8",
       "max": 5,
       "min": -1,
       "step": 0.2,
       "style": "IPY_MODEL_0055a0b7489149a9b8161bc1e706e271",
       "value": -0.2
      }
     },
     "eaa176bcbca84a0bb1cd9fdcdd88fa37": {
      "model_module": "@jupyter-widgets/controls",
      "model_module_version": "1.5.0",
      "model_name": "FloatSliderModel",
      "state": {
       "description": "x",
       "layout": "IPY_MODEL_3e9a8922a40349ca9d05e6c623bbf125",
       "max": 5,
       "min": -1,
       "step": 0.2,
       "style": "IPY_MODEL_691befa939c94ee1805d02e11026e846"
      }
     },
     "eaecc3f0a18048198ec87c42828b729d": {
      "model_module": "@jupyter-widgets/controls",
      "model_module_version": "1.5.0",
      "model_name": "VBoxModel",
      "state": {
       "_dom_classes": [
        "widget-interact"
       ],
       "children": [
        "IPY_MODEL_fde9c9f56e104361af47418d9e765820",
        "IPY_MODEL_a2ad2090abe24aaabc4641e25df8ccfe"
       ],
       "layout": "IPY_MODEL_feb80f2f49b04aed94ad41ff9b14f860"
      }
     },
     "eaee883364c248959d05417a295779a8": {
      "model_module": "@jupyter-widgets/base",
      "model_module_version": "1.2.0",
      "model_name": "LayoutModel",
      "state": {}
     },
     "eb5ab8c05ff84ffcb6937e3efda50b4b": {
      "model_module": "jupyter-matplotlib",
      "model_module_version": "^0.7.4",
      "model_name": "ToolbarModel",
      "state": {
       "layout": "IPY_MODEL_4450177e3f0e4939b768ad053df818ba",
       "toolitems": [
        [
         "Home",
         "Reset original view",
         "home",
         "home"
        ],
        [
         "Back",
         "Back to previous view",
         "arrow-left",
         "back"
        ],
        [
         "Forward",
         "Forward to next view",
         "arrow-right",
         "forward"
        ],
        [
         "Pan",
         "Left button pans, Right button zooms\nx/y fixes axis, CTRL fixes aspect",
         "arrows",
         "pan"
        ],
        [
         "Zoom",
         "Zoom to rectangle\nx/y fixes axis, CTRL fixes aspect",
         "square-o",
         "zoom"
        ],
        [
         "Download",
         "Download plot",
         "floppy-o",
         "save_figure"
        ]
       ]
      }
     },
     "eb98f1869f9d41a69f890d6bc2e9d26e": {
      "model_module": "@jupyter-widgets/controls",
      "model_module_version": "1.5.0",
      "model_name": "VBoxModel",
      "state": {
       "children": [
        "IPY_MODEL_ba50de01b3b74f9389c786df84bb9665"
       ],
       "layout": "IPY_MODEL_1eb43975e0394b95b91917217b5e58e5"
      }
     },
     "eba51cfb99254105b7a21ced1a58f716": {
      "model_module": "@jupyter-widgets/controls",
      "model_module_version": "1.5.0",
      "model_name": "VBoxModel",
      "state": {
       "_dom_classes": [
        "widget-interact"
       ],
       "children": [
        "IPY_MODEL_dfc8c5aab4d54a27ab36add8f6fa4595",
        "IPY_MODEL_afde2a75b8a249619ab47078ccd63af6"
       ],
       "layout": "IPY_MODEL_4210892978e44851bd9142404121c94e"
      }
     },
     "ebdff20c987b46cabad47ef9f145adce": {
      "model_module": "@jupyter-widgets/base",
      "model_module_version": "1.2.0",
      "model_name": "LayoutModel",
      "state": {}
     },
     "ec3c934cdcb54f55aea0e1ae8628c125": {
      "model_module": "@jupyter-widgets/base",
      "model_module_version": "1.2.0",
      "model_name": "LayoutModel",
      "state": {}
     },
     "ec9ce90979e241e0b171279d13b8d91d": {
      "model_module": "@jupyter-widgets/controls",
      "model_module_version": "1.5.0",
      "model_name": "VBoxModel",
      "state": {
       "_dom_classes": [
        "widget-interact"
       ],
       "children": [
        "IPY_MODEL_46f4773b9b454b5683813efc8a6ffb26",
        "IPY_MODEL_57d704d9b8b84a559d24a72306a3c338"
       ],
       "layout": "IPY_MODEL_8f370c37d6bb4338a6fd4cf23c165d82"
      }
     },
     "ece9f7e9238c4ab4892a22ba13bad4f0": {
      "model_module": "@jupyter-widgets/base",
      "model_module_version": "1.2.0",
      "model_name": "LayoutModel",
      "state": {}
     },
     "ed5e74eda19045f58142e317fab94fcd": {
      "model_module": "@jupyter-widgets/base",
      "model_module_version": "1.2.0",
      "model_name": "LayoutModel",
      "state": {}
     },
     "ed8c37be254c4298882607a1816bc4ea": {
      "model_module": "@jupyter-widgets/base",
      "model_module_version": "1.2.0",
      "model_name": "LayoutModel",
      "state": {}
     },
     "ee3d60b035b74a85b87d00e9b276940a": {
      "model_module": "@jupyter-widgets/controls",
      "model_module_version": "1.5.0",
      "model_name": "SliderStyleModel",
      "state": {
       "description_width": ""
      }
     },
     "ee7102fe3efa47589d104f5533e01f24": {
      "model_module": "@jupyter-widgets/base",
      "model_module_version": "1.2.0",
      "model_name": "LayoutModel",
      "state": {}
     },
     "eeaebec6035c4c2c9788cff671e7a05a": {
      "model_module": "@jupyter-widgets/base",
      "model_module_version": "1.2.0",
      "model_name": "LayoutModel",
      "state": {}
     },
     "eec823b3f5bd43ce83593c6787d199e9": {
      "model_module": "@jupyter-widgets/base",
      "model_module_version": "1.2.0",
      "model_name": "LayoutModel",
      "state": {}
     },
     "eed90f8adf1a46e2a45e9d25f668c0e8": {
      "model_module": "@jupyter-widgets/base",
      "model_module_version": "1.2.0",
      "model_name": "LayoutModel",
      "state": {}
     },
     "ef5039a0de3d41168182343de84757ce": {
      "model_module": "@jupyter-widgets/controls",
      "model_module_version": "1.5.0",
      "model_name": "ButtonStyleModel",
      "state": {}
     },
     "ef50b4818b9f4829ac728ee9a3e83e83": {
      "model_module": "@jupyter-widgets/base",
      "model_module_version": "1.2.0",
      "model_name": "LayoutModel",
      "state": {}
     },
     "efe82899664b4eb79d6a6ec5c4b596e1": {
      "model_module": "@jupyter-widgets/base",
      "model_module_version": "1.2.0",
      "model_name": "LayoutModel",
      "state": {}
     },
     "f08d77039be7412586d67305bdc38cdb": {
      "model_module": "@jupyter-widgets/base",
      "model_module_version": "1.2.0",
      "model_name": "LayoutModel",
      "state": {}
     },
     "f0de3b626ee54883b7b083676033224f": {
      "model_module": "@jupyter-widgets/base",
      "model_module_version": "1.2.0",
      "model_name": "LayoutModel",
      "state": {}
     },
     "f12701c4a9ed4638b732d1fbe9126988": {
      "model_module": "@jupyter-widgets/output",
      "model_module_version": "1.0.0",
      "model_name": "OutputModel",
      "state": {
       "layout": "IPY_MODEL_186a9a56478549ca91d7b8731d8695eb"
      }
     },
     "f1431f6c76804eafa4a8043f91a4d6a0": {
      "model_module": "jupyter-matplotlib",
      "model_module_version": "^0.7.4",
      "model_name": "MPLCanvasModel",
      "state": {
       "_cursor": "default",
       "_figure_label": "Figure 1",
       "_height": 500,
       "_image_mode": "diff",
       "_width": 500,
       "layout": "IPY_MODEL_ff991c1f2cd34bc1a678e505ee98aca4",
       "toolbar": "IPY_MODEL_12786d1e88484109a369ae4267befc5f",
       "toolbar_position": "left"
      }
     },
     "f1506f8c2f4040d480260cdeeffea18a": {
      "model_module": "@jupyter-widgets/base",
      "model_module_version": "1.2.0",
      "model_name": "LayoutModel",
      "state": {}
     },
     "f17af65ea1de4e8ba8f0df6378290fd3": {
      "model_module": "@jupyter-widgets/controls",
      "model_module_version": "1.5.0",
      "model_name": "SliderStyleModel",
      "state": {
       "description_width": ""
      }
     },
     "f18c3d9f447e4bcdb610a34a03ff80a9": {
      "model_module": "@jupyter-widgets/base",
      "model_module_version": "1.2.0",
      "model_name": "LayoutModel",
      "state": {}
     },
     "f1bd2e629af84b3199c9f15dc29a6639": {
      "model_module": "@jupyter-widgets/output",
      "model_module_version": "1.0.0",
      "model_name": "OutputModel",
      "state": {
       "layout": "IPY_MODEL_e910985b7f4f419ca047a2f093ccbbcf"
      }
     },
     "f2179d57545a4093b2ca50958e2e0140": {
      "model_module": "@jupyter-widgets/output",
      "model_module_version": "1.0.0",
      "model_name": "OutputModel",
      "state": {
       "layout": "IPY_MODEL_cf9394c2ba99468eae967a302386c203"
      }
     },
     "f232445d1784475cba50bb4d46040e27": {
      "model_module": "@jupyter-widgets/base",
      "model_module_version": "1.2.0",
      "model_name": "LayoutModel",
      "state": {}
     },
     "f28412966bc04fa29c9993d190c1001b": {
      "model_module": "@jupyter-widgets/base",
      "model_module_version": "1.2.0",
      "model_name": "LayoutModel",
      "state": {}
     },
     "f29a6fa430ca4a4dae2adb7e02d9a962": {
      "model_module": "@jupyter-widgets/base",
      "model_module_version": "1.2.0",
      "model_name": "LayoutModel",
      "state": {}
     },
     "f2c5f2bbec6949a7aed012b5449f4727": {
      "model_module": "@jupyter-widgets/output",
      "model_module_version": "1.0.0",
      "model_name": "OutputModel",
      "state": {
       "layout": "IPY_MODEL_fdd8f0529664446885668c0805c15744"
      }
     },
     "f2dca67391ed4a09b386819bb8c01e2d": {
      "model_module": "@jupyter-widgets/base",
      "model_module_version": "1.2.0",
      "model_name": "LayoutModel",
      "state": {}
     },
     "f2f7bb39c4c942b69aacb2315b137816": {
      "model_module": "@jupyter-widgets/base",
      "model_module_version": "1.2.0",
      "model_name": "LayoutModel",
      "state": {}
     },
     "f3074969a3514e8496d050624a486efb": {
      "model_module": "@jupyter-widgets/output",
      "model_module_version": "1.0.0",
      "model_name": "OutputModel",
      "state": {
       "layout": "IPY_MODEL_4385012af93445dfb0f73bdd5afe77a2"
      }
     },
     "f3731747544d4331b2b18b5b06a71a4b": {
      "model_module": "jupyter-matplotlib",
      "model_module_version": "^0.7.4",
      "model_name": "ToolbarModel",
      "state": {
       "layout": "IPY_MODEL_ee7102fe3efa47589d104f5533e01f24",
       "toolitems": [
        [
         "Home",
         "Reset original view",
         "home",
         "home"
        ],
        [
         "Back",
         "Back to previous view",
         "arrow-left",
         "back"
        ],
        [
         "Forward",
         "Forward to next view",
         "arrow-right",
         "forward"
        ],
        [
         "Pan",
         "Left button pans, Right button zooms\nx/y fixes axis, CTRL fixes aspect",
         "arrows",
         "pan"
        ],
        [
         "Zoom",
         "Zoom to rectangle\nx/y fixes axis, CTRL fixes aspect",
         "square-o",
         "zoom"
        ],
        [
         "Download",
         "Download plot",
         "floppy-o",
         "save_figure"
        ]
       ]
      }
     },
     "f3a443b525f84e3c8e2e9d611591e69c": {
      "model_module": "@jupyter-widgets/controls",
      "model_module_version": "1.5.0",
      "model_name": "SliderStyleModel",
      "state": {
       "description_width": ""
      }
     },
     "f3b883cae8c148b69dc7e131621e50c4": {
      "model_module": "@jupyter-widgets/base",
      "model_module_version": "1.2.0",
      "model_name": "LayoutModel",
      "state": {}
     },
     "f3f1687b093443b69bd727b0bed55913": {
      "model_module": "@jupyter-widgets/base",
      "model_module_version": "1.2.0",
      "model_name": "LayoutModel",
      "state": {}
     },
     "f49b755afbec463692b9df12bd0b34e1": {
      "model_module": "@jupyter-widgets/controls",
      "model_module_version": "1.5.0",
      "model_name": "FloatSliderModel",
      "state": {
       "description": "x",
       "layout": "IPY_MODEL_da37ff4a859a4d008ff8e289bad0a400",
       "max": 5.5,
       "min": -0.5,
       "step": 0.2,
       "style": "IPY_MODEL_b7ddb7df2ba545ae8043c16d687e52ce",
       "value": -0.3
      }
     },
     "f4e6875ae63e45b9a509a74aa22aaf74": {
      "model_module": "@jupyter-widgets/base",
      "model_module_version": "1.2.0",
      "model_name": "LayoutModel",
      "state": {}
     },
     "f522a7c42043494aa718b207d0943f05": {
      "model_module": "@jupyter-widgets/base",
      "model_module_version": "1.2.0",
      "model_name": "LayoutModel",
      "state": {}
     },
     "f59005be12294c8b94716dad1cf1b916": {
      "model_module": "@jupyter-widgets/base",
      "model_module_version": "1.2.0",
      "model_name": "LayoutModel",
      "state": {}
     },
     "f5a781225bbd4e67b809118f50efe89e": {
      "model_module": "@jupyter-widgets/controls",
      "model_module_version": "1.5.0",
      "model_name": "VBoxModel",
      "state": {
       "children": [
        "IPY_MODEL_26bc33bf95bb4f8886fd8aac073ec0be"
       ],
       "layout": "IPY_MODEL_fec55b392a3e4c4b88cb0625b10b863b"
      }
     },
     "f64af4b7e0b2494c8fa7b78f08a4d23d": {
      "model_module": "@jupyter-widgets/controls",
      "model_module_version": "1.5.0",
      "model_name": "VBoxModel",
      "state": {
       "children": [
        "IPY_MODEL_911c73d3544b4dfda16689df8a278c2d"
       ],
       "layout": "IPY_MODEL_4aa8e46c1e944bf2ba39e80f7c0bd0d6"
      }
     },
     "f65bbf47cb924e13bff8477f1203aa3b": {
      "model_module": "@jupyter-widgets/controls",
      "model_module_version": "1.5.0",
      "model_name": "VBoxModel",
      "state": {
       "_dom_classes": [
        "widget-interact"
       ],
       "children": [
        "IPY_MODEL_db03e648fd34410a98e8a9c571819333",
        "IPY_MODEL_6dada2f3b98d45da88aa3423f36ee0d3"
       ],
       "layout": "IPY_MODEL_4927df9d842b417698bf20e57a2141af"
      }
     },
     "f65d98d063e744e3a7010ad26ce19ba5": {
      "model_module": "@jupyter-widgets/base",
      "model_module_version": "1.2.0",
      "model_name": "LayoutModel",
      "state": {}
     },
     "f66662e9cc564f218ff57f388733bcc1": {
      "model_module": "@jupyter-widgets/base",
      "model_module_version": "1.2.0",
      "model_name": "LayoutModel",
      "state": {}
     },
     "f66c225011c3428a957450099f984a5d": {
      "model_module": "@jupyter-widgets/base",
      "model_module_version": "1.2.0",
      "model_name": "LayoutModel",
      "state": {}
     },
     "f68b8a196ca94552b2e4a87da96a1806": {
      "model_module": "@jupyter-widgets/controls",
      "model_module_version": "1.5.0",
      "model_name": "SliderStyleModel",
      "state": {
       "description_width": ""
      }
     },
     "f69cc9e383f5475c8568dfb1e0deb07a": {
      "model_module": "@jupyter-widgets/controls",
      "model_module_version": "1.5.0",
      "model_name": "FloatSliderModel",
      "state": {
       "description": "x",
       "layout": "IPY_MODEL_4cc1268091a644e39aa5461bcf9c29a3",
       "max": 5,
       "min": -1,
       "step": 0.2,
       "style": "IPY_MODEL_995521b501f54b188f3b4c8575c1c081"
      }
     },
     "f6afc7ad91d0426bb290b40ce8d7900f": {
      "model_module": "@jupyter-widgets/controls",
      "model_module_version": "1.5.0",
      "model_name": "ButtonModel",
      "state": {
       "description": "reset",
       "layout": "IPY_MODEL_b529532a6a1443ae9de2c1fec4977e01",
       "style": "IPY_MODEL_ef5039a0de3d41168182343de84757ce"
      }
     },
     "f6f1073775594e92b4eba7fb4f2e38ee": {
      "model_module": "@jupyter-widgets/controls",
      "model_module_version": "1.5.0",
      "model_name": "ButtonStyleModel",
      "state": {}
     },
     "f7741a26a1cd4867858dd11281d1a495": {
      "model_module": "@jupyter-widgets/base",
      "model_module_version": "1.2.0",
      "model_name": "LayoutModel",
      "state": {}
     },
     "f776c4d96d084d8da7cb6eeebe9a88dc": {
      "model_module": "@jupyter-widgets/base",
      "model_module_version": "1.2.0",
      "model_name": "LayoutModel",
      "state": {}
     },
     "f7eab57aeaf64286a6e47d35b2a3cbfc": {
      "model_module": "@jupyter-widgets/base",
      "model_module_version": "1.2.0",
      "model_name": "LayoutModel",
      "state": {}
     },
     "f7fd55ebd9b54487b681165a05303301": {
      "model_module": "@jupyter-widgets/controls",
      "model_module_version": "1.5.0",
      "model_name": "ButtonModel",
      "state": {
       "description": "reset",
       "layout": "IPY_MODEL_40520ffebed64d6caaa78e71889367c2",
       "style": "IPY_MODEL_b0b61b3403464996991c606485a9e33a"
      }
     },
     "f810dd16aa4745fd94965f1765a95473": {
      "model_module": "@jupyter-widgets/output",
      "model_module_version": "1.0.0",
      "model_name": "OutputModel",
      "state": {
       "layout": "IPY_MODEL_254baf7009f2496599ccbf9c2f4732d8"
      }
     },
     "f88590606a0c4b729488f787694eb7d2": {
      "model_module": "@jupyter-widgets/controls",
      "model_module_version": "1.5.0",
      "model_name": "FloatSliderModel",
      "state": {
       "description": "X",
       "layout": "IPY_MODEL_45346b79c7ec45bf933edf4ba17dccbc",
       "max": 4,
       "min": -1,
       "step": 0.2,
       "style": "IPY_MODEL_d88d4319d38442128cbc1aaa3c802ee7"
      }
     },
     "f89d1f80982b4800b1186822eeff7f99": {
      "model_module": "@jupyter-widgets/base",
      "model_module_version": "1.2.0",
      "model_name": "LayoutModel",
      "state": {}
     },
     "f8d7e39911714395a04aa53c4f96c4cd": {
      "model_module": "@jupyter-widgets/base",
      "model_module_version": "1.2.0",
      "model_name": "LayoutModel",
      "state": {}
     },
     "f910862768d84f4da48415a3632e5479": {
      "model_module": "@jupyter-widgets/base",
      "model_module_version": "1.2.0",
      "model_name": "LayoutModel",
      "state": {}
     },
     "f927c142419844b8b62df25f06cbc203": {
      "model_module": "@jupyter-widgets/base",
      "model_module_version": "1.2.0",
      "model_name": "LayoutModel",
      "state": {}
     },
     "f97b13517ef3435a99c31c1f41b2502c": {
      "model_module": "@jupyter-widgets/base",
      "model_module_version": "1.2.0",
      "model_name": "LayoutModel",
      "state": {}
     },
     "f98aa2076eac4c0aa0e1c9f323c48d13": {
      "model_module": "@jupyter-widgets/output",
      "model_module_version": "1.0.0",
      "model_name": "OutputModel",
      "state": {
       "layout": "IPY_MODEL_f776c4d96d084d8da7cb6eeebe9a88dc"
      }
     },
     "f9f10b66f6524199a0a6e579d6e73ee6": {
      "model_module": "@jupyter-widgets/output",
      "model_module_version": "1.0.0",
      "model_name": "OutputModel",
      "state": {
       "layout": "IPY_MODEL_70276f9d27494af8a0748f5eb62b9e41"
      }
     },
     "fa02bc59e3fb4ad281ccb194bc47284f": {
      "model_module": "@jupyter-widgets/base",
      "model_module_version": "1.2.0",
      "model_name": "LayoutModel",
      "state": {}
     },
     "fa25be0d637041c8bfdc5c330d8fa1dc": {
      "model_module": "@jupyter-widgets/base",
      "model_module_version": "1.2.0",
      "model_name": "LayoutModel",
      "state": {}
     },
     "fa3e41b678ba462daed98e53511f6f77": {
      "model_module": "jupyter-matplotlib",
      "model_module_version": "^0.7.4",
      "model_name": "ToolbarModel",
      "state": {
       "layout": "IPY_MODEL_af080b7d42a34d10a38f9be881ec4d17",
       "toolitems": [
        [
         "Home",
         "Reset original view",
         "home",
         "home"
        ],
        [
         "Back",
         "Back to previous view",
         "arrow-left",
         "back"
        ],
        [
         "Forward",
         "Forward to next view",
         "arrow-right",
         "forward"
        ],
        [
         "Pan",
         "Left button pans, Right button zooms\nx/y fixes axis, CTRL fixes aspect",
         "arrows",
         "pan"
        ],
        [
         "Zoom",
         "Zoom to rectangle\nx/y fixes axis, CTRL fixes aspect",
         "square-o",
         "zoom"
        ],
        [
         "Download",
         "Download plot",
         "floppy-o",
         "save_figure"
        ]
       ]
      }
     },
     "fa4a15c98b2d4aa8a63ef248cc23edd2": {
      "model_module": "@jupyter-widgets/controls",
      "model_module_version": "1.5.0",
      "model_name": "SliderStyleModel",
      "state": {
       "description_width": ""
      }
     },
     "fa9de93a08434a47bcbe44e3fb5bddf2": {
      "model_module": "@jupyter-widgets/base",
      "model_module_version": "1.2.0",
      "model_name": "LayoutModel",
      "state": {}
     },
     "fae2f6c44fa34b06b6d899fff6e1cf9f": {
      "model_module": "@jupyter-widgets/base",
      "model_module_version": "1.2.0",
      "model_name": "LayoutModel",
      "state": {}
     },
     "faf65ae666c44763b8589ead7ba104fc": {
      "model_module": "jupyter-matplotlib",
      "model_module_version": "^0.7.4",
      "model_name": "ToolbarModel",
      "state": {
       "layout": "IPY_MODEL_a3100b70e8844669af851caad2cd0f55",
       "toolitems": [
        [
         "Home",
         "Reset original view",
         "home",
         "home"
        ],
        [
         "Back",
         "Back to previous view",
         "arrow-left",
         "back"
        ],
        [
         "Forward",
         "Forward to next view",
         "arrow-right",
         "forward"
        ],
        [
         "Pan",
         "Left button pans, Right button zooms\nx/y fixes axis, CTRL fixes aspect",
         "arrows",
         "pan"
        ],
        [
         "Zoom",
         "Zoom to rectangle\nx/y fixes axis, CTRL fixes aspect",
         "square-o",
         "zoom"
        ],
        [
         "Download",
         "Download plot",
         "floppy-o",
         "save_figure"
        ]
       ]
      }
     },
     "fb7931a4b6ad404d97b87fc91796bc4c": {
      "model_module": "jupyter-matplotlib",
      "model_module_version": "^0.7.4",
      "model_name": "MPLCanvasModel",
      "state": {
       "_cursor": "default",
       "_figure_label": "Figure 1",
       "_height": 500,
       "_image_mode": "diff",
       "_width": 500,
       "layout": "IPY_MODEL_ab8bf64bcfc44017acbfb1ffabde3014",
       "toolbar": "IPY_MODEL_4aab27e46dcd4b53ba81c80e1ac1463a",
       "toolbar_position": "left"
      }
     },
     "fc3db06456294ba7ba700203ce1bbb7e": {
      "model_module": "@jupyter-widgets/base",
      "model_module_version": "1.2.0",
      "model_name": "LayoutModel",
      "state": {}
     },
     "fc7f9f02f18d4de1b24d88c0e9c9cf14": {
      "model_module": "@jupyter-widgets/controls",
      "model_module_version": "1.5.0",
      "model_name": "ButtonStyleModel",
      "state": {}
     },
     "fc8ef244c0444db78ec5f94f08cd8caa": {
      "model_module": "@jupyter-widgets/base",
      "model_module_version": "1.2.0",
      "model_name": "LayoutModel",
      "state": {}
     },
     "fca48020e7f64b58a7c65569bb3897f5": {
      "model_module": "@jupyter-widgets/output",
      "model_module_version": "1.0.0",
      "model_name": "OutputModel",
      "state": {
       "layout": "IPY_MODEL_fc3db06456294ba7ba700203ce1bbb7e"
      }
     },
     "fcd43dafabad489fb110bc092e1476c5": {
      "model_module": "@jupyter-widgets/controls",
      "model_module_version": "1.5.0",
      "model_name": "VBoxModel",
      "state": {
       "children": [
        "IPY_MODEL_57147e60778d4a59acf718cf92182d09"
       ],
       "layout": "IPY_MODEL_fa9de93a08434a47bcbe44e3fb5bddf2"
      }
     },
     "fd7db889968d4eecbfe3b44eec4689b0": {
      "model_module": "@jupyter-widgets/controls",
      "model_module_version": "1.5.0",
      "model_name": "SliderStyleModel",
      "state": {
       "description_width": ""
      }
     },
     "fdbd5780ec85478d9d5d0cf0d36b511a": {
      "model_module": "@jupyter-widgets/controls",
      "model_module_version": "1.5.0",
      "model_name": "VBoxModel",
      "state": {
       "_dom_classes": [
        "widget-interact"
       ],
       "children": [
        "IPY_MODEL_4d33bdb17e3848169fd7a4a8f664ac71",
        "IPY_MODEL_19f47da58f7344ebb83f7ea1fae7f92e"
       ],
       "layout": "IPY_MODEL_f3f1687b093443b69bd727b0bed55913"
      }
     },
     "fdc7ba6eb1734387a50a1bc3987f23e1": {
      "model_module": "@jupyter-widgets/controls",
      "model_module_version": "1.5.0",
      "model_name": "SliderStyleModel",
      "state": {
       "description_width": ""
      }
     },
     "fdd042fdc8d24ef783208a601b5668fa": {
      "model_module": "@jupyter-widgets/base",
      "model_module_version": "1.2.0",
      "model_name": "LayoutModel",
      "state": {}
     },
     "fdd8f0529664446885668c0805c15744": {
      "model_module": "@jupyter-widgets/base",
      "model_module_version": "1.2.0",
      "model_name": "LayoutModel",
      "state": {}
     },
     "fddcd08445554f4c9f0a7d38cdbc8e8f": {
      "model_module": "@jupyter-widgets/base",
      "model_module_version": "1.2.0",
      "model_name": "LayoutModel",
      "state": {}
     },
     "fde9c9f56e104361af47418d9e765820": {
      "model_module": "@jupyter-widgets/controls",
      "model_module_version": "1.5.0",
      "model_name": "FloatSliderModel",
      "state": {
       "description": "x",
       "layout": "IPY_MODEL_37257ef2f2c5469891de50a68639a006",
       "max": 5.5,
       "min": -0.5,
       "step": 0.2,
       "style": "IPY_MODEL_d87ddaafc8ca4f5e9b9b59b877653797",
       "value": -0.5
      }
     },
     "fdf06ba4511d4ad5afbf95fdaf3e4e35": {
      "model_module": "jupyter-matplotlib",
      "model_module_version": "^0.7.4",
      "model_name": "ToolbarModel",
      "state": {
       "layout": "IPY_MODEL_bdb6bfe5dd2e44a39c731fda96a0b282",
       "toolitems": [
        [
         "Home",
         "Reset original view",
         "home",
         "home"
        ],
        [
         "Back",
         "Back to previous view",
         "arrow-left",
         "back"
        ],
        [
         "Forward",
         "Forward to next view",
         "arrow-right",
         "forward"
        ],
        [
         "Pan",
         "Left button pans, Right button zooms\nx/y fixes axis, CTRL fixes aspect",
         "arrows",
         "pan"
        ],
        [
         "Zoom",
         "Zoom to rectangle\nx/y fixes axis, CTRL fixes aspect",
         "square-o",
         "zoom"
        ],
        [
         "Download",
         "Download plot",
         "floppy-o",
         "save_figure"
        ]
       ]
      }
     },
     "feb80f2f49b04aed94ad41ff9b14f860": {
      "model_module": "@jupyter-widgets/base",
      "model_module_version": "1.2.0",
      "model_name": "LayoutModel",
      "state": {}
     },
     "fec55b392a3e4c4b88cb0625b10b863b": {
      "model_module": "@jupyter-widgets/base",
      "model_module_version": "1.2.0",
      "model_name": "LayoutModel",
      "state": {}
     },
     "fed33eda8e7c4a70889af6130624be76": {
      "model_module": "@jupyter-widgets/controls",
      "model_module_version": "1.5.0",
      "model_name": "VBoxModel",
      "state": {
       "_dom_classes": [
        "widget-interact"
       ],
       "children": [
        "IPY_MODEL_bc9620db72a14888bd525f92b1680809",
        "IPY_MODEL_058331c00c6d44f4a901d9d35afa7832"
       ],
       "layout": "IPY_MODEL_bc3ad5eb32e9435aa0f280442ca41e3a"
      }
     },
     "fee974acab0242528ed3b67aa0830222": {
      "model_module": "@jupyter-widgets/base",
      "model_module_version": "1.2.0",
      "model_name": "LayoutModel",
      "state": {}
     },
     "ff3af74a00c842588817860e3d1f7221": {
      "model_module": "@jupyter-widgets/base",
      "model_module_version": "1.2.0",
      "model_name": "LayoutModel",
      "state": {}
     },
     "ff3d693299b94e13a1a7b8a1e7550e63": {
      "model_module": "jupyter-matplotlib",
      "model_module_version": "^0.7.4",
      "model_name": "ToolbarModel",
      "state": {
       "layout": "IPY_MODEL_5fb0fc2eec304edebf4aeac4cf586d3f",
       "toolitems": [
        [
         "Home",
         "Reset original view",
         "home",
         "home"
        ],
        [
         "Back",
         "Back to previous view",
         "arrow-left",
         "back"
        ],
        [
         "Forward",
         "Forward to next view",
         "arrow-right",
         "forward"
        ],
        [
         "Pan",
         "Left button pans, Right button zooms\nx/y fixes axis, CTRL fixes aspect",
         "arrows",
         "pan"
        ],
        [
         "Zoom",
         "Zoom to rectangle\nx/y fixes axis, CTRL fixes aspect",
         "square-o",
         "zoom"
        ],
        [
         "Download",
         "Download plot",
         "floppy-o",
         "save_figure"
        ]
       ]
      }
     },
     "ff4d8fc7b4a54addb7112d75cdd32200": {
      "model_module": "@jupyter-widgets/base",
      "model_module_version": "1.2.0",
      "model_name": "LayoutModel",
      "state": {}
     },
     "ff7f02088c4241349ba489335ad27b92": {
      "model_module": "@jupyter-widgets/output",
      "model_module_version": "1.0.0",
      "model_name": "OutputModel",
      "state": {
       "layout": "IPY_MODEL_b32a0afa00b04405934a1e65c5a919e1"
      }
     },
     "ff991c1f2cd34bc1a678e505ee98aca4": {
      "model_module": "@jupyter-widgets/base",
      "model_module_version": "1.2.0",
      "model_name": "LayoutModel",
      "state": {}
     },
     "ff9b64f6df62447181212d2f02ffdffd": {
      "model_module": "@jupyter-widgets/controls",
      "model_module_version": "1.5.0",
      "model_name": "ButtonStyleModel",
      "state": {}
     },
     "ffabf927da3f41dbab3868d74a02b8e5": {
      "model_module": "@jupyter-widgets/base",
      "model_module_version": "1.2.0",
      "model_name": "LayoutModel",
      "state": {}
     },
     "ffac1349b3aa42b5b5f9e5d29368aff7": {
      "model_module": "@jupyter-widgets/controls",
      "model_module_version": "1.5.0",
      "model_name": "FloatSliderModel",
      "state": {
       "description": "x",
       "layout": "IPY_MODEL_180fbf66c0bd4e39ad0da5501e142c5e",
       "max": 5,
       "min": -1,
       "step": 0.2,
       "style": "IPY_MODEL_26b72712571d4ef9b7154ca954290dad"
      }
     },
     "ffb0796ddbb04ee0bc92d94867da37b2": {
      "model_module": "@jupyter-widgets/controls",
      "model_module_version": "1.5.0",
      "model_name": "ButtonModel",
      "state": {
       "description": "reset",
       "layout": "IPY_MODEL_bc5718011e794f84bd79381ea9faba52",
       "style": "IPY_MODEL_fc7f9f02f18d4de1b24d88c0e9c9cf14"
      }
     }
    },
    "version_major": 2,
    "version_minor": 0
   }
  }
 },
 "nbformat": 4,
 "nbformat_minor": 4
}
