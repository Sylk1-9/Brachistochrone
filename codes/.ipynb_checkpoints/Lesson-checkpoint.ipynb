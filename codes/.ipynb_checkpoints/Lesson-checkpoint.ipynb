{
 "cells": [
  {
   "cell_type": "code",
   "execution_count": 5,
   "metadata": {},
   "outputs": [],
   "source": [
    "from IPython.display import HTML"
   ]
  },
  {
   "cell_type": "code",
   "execution_count": 6,
   "metadata": {},
   "outputs": [
    {
     "data": {
      "text/html": [
       "<style>\n",
       "body {\n",
       "    font-family: \"Geneva\", cursive, sans-serif;\n",
       "    font-size: 14px;\n",
       "}\n",
       "</style>\n"
      ],
      "text/plain": [
       "<IPython.core.display.HTML object>"
      ]
     },
     "metadata": {},
     "output_type": "display_data"
    }
   ],
   "source": [
    "%%html\n",
    "<style>\n",
    "body {\n",
    "    font-family: \"Geneva\", cursive, sans-serif;\n",
    "    font-size: 14px;\n",
    "}\n",
    "</style>"
   ]
  },
  {
   "cell_type": "code",
   "execution_count": 11,
   "metadata": {},
   "outputs": [
    {
     "data": {
      "text/html": [
       "<script>\n",
       "code_show=true; \n",
       "function code_toggle() {\n",
       " if (code_show){\n",
       " $('div.input').hide();\n",
       " } else {\n",
       " $('div.input').show();\n",
       " }\n",
       " code_show = !code_show\n",
       "} \n",
       "$( document ).ready(code_toggle);\n",
       "</script>\n",
       "The raw code for this IPython notebook is by default hidden for easier reading.\n",
       "To toggle on/off the raw code, click <a href=\"javascript:code_toggle()\">here</a>."
      ],
      "text/plain": [
       "<IPython.core.display.HTML object>"
      ]
     },
     "execution_count": 11,
     "metadata": {},
     "output_type": "execute_result"
    }
   ],
   "source": [
    "HTML('''<script>\n",
    "code_show=true; \n",
    "function code_toggle() {\n",
    " if (code_show){\n",
    " $('div.input').hide();\n",
    " } else {\n",
    " $('div.input').show();\n",
    " }\n",
    " code_show = !code_show\n",
    "} \n",
    "$( document ).ready(code_toggle);\n",
    "</script>\n",
    "The raw code for this IPython notebook is by default hidden for easier reading.\n",
    "To toggle on/off the raw code, click <a href=\"javascript:code_toggle()\">here</a>.''')"
   ]
  },
  {
   "cell_type": "markdown",
   "metadata": {},
   "source": [
    "\n",
    "![FloatingIslands](images/FloatingIslands.png)\n",
    "\n",
    "\n",
    "# First part : warm up\n",
    "\n",
    "\n",
    "Legends say that on an other planet, similar to ours, some cities are built up in the sky. The houses and small neighbourhood are isolated on **floating rocks**, connected by cables and bridges. Appart from the mysterious mechanism that makes islands fly, the physic there is similar to ours.\n",
    "\n",
    "Akara lives on one of these floating islands, and she would like to send packages via a roller-coster to her friend Bonogonzo which lives just a little further down on an other island. She built a special tubular structure filled with vacuum and very slippery walls. When a parcel is sent, no initial push is given, and it simply slides down the track under gravity pull, without any friction. However, she would like to know which shape to give to the rail in order to minimise the time a package takes to arrive to her friend.\n",
    "\n",
    "The situation is picture here after. Akara's island is up left, while Bonogonzo's island is down on the right. Three different rails are showed : the first one simply follows a *straight* line (orange); the second adopts a very *steep* curve at the beginning, and flat at the end (green); the third path (red) go *deep* under Bonogonzo's island level before going up to its island. As you may have guessed already, the goal is to choose the fastest route... or deduce and build a better one, or even *the best route* ! Does it exist? And if so, does it depends on the mass of the object? Well, answers will follow. But first, as a warm up, let's try to guess if there is a fastest route, and if so, which of the tree paths is the fastest, and why. You can click the video to find out the correct answer.\n",
    "\n"
   ]
  },
  {
   "cell_type": "code",
   "execution_count": 10,
   "metadata": {},
   "outputs": [
    {
     "data": {
      "text/html": [
       "<video src=\"images/freefall2.mp4\" controls  width=\"800\" >\n",
       "      Your browser does not support the <code>video</code> element.\n",
       "    </video>"
      ],
      "text/plain": [
       "<IPython.core.display.Video object>"
      ]
     },
     "execution_count": 10,
     "metadata": {},
     "output_type": "execute_result"
    }
   ],
   "source": [
    "\n",
    "from IPython.display import Video\n",
    "\n",
    "Video(\"images/freefall2.mp4\", width=800)"
   ]
  },
  {
   "cell_type": "markdown",
   "metadata": {},
   "source": [
    "### Intuitive approach\n",
    "\n",
    "Well, what do you think about the result? Surprised? Counter-intuitive? Too easy? Probably a bug in the course writer's simulation code? Pause a moment, and think **why the steep is faster than straight** line, and **why the deep paths seems to be the fastest**. You can use the help of the animation above to observe what's going on.\n",
    "\n",
    "#### ➢ Hints and solution : \n",
    "                \n",
    "  - Intuitively, we can see that **as a package fall, it gains speed**. The lower it is in relation to Akara's island, the faster it goes along the rail.\n",
    "  - Although the **straight** line is the **shortest** distant, is it by far the **slowest**. The trajectory a rough compromise between going toward Bonogonzo's island and going down to gain speed, and clearly, success is not there. The package looses too much time at the beginning.\n",
    "  - On the contrary, the first instants on the **steep** curve are spent going down as fast as possible to gain speed, then use these speed to go right and reach destination.\n",
    "  - item Finally, the **deep** curve chooses to go rather deeply, maximising the velocity for a moment, before reaching Bonogonzo's island. This last approach is actually the **fastest**.\n",
    " \n",
    " \n",
    "\n",
    "We have our intuitive solution! The curve which is the fastest should find a **compromise between reaching high speed by going down, while still spending some time going toward B's island**. Keep in mind that this is only a intuitive solution. We do not know the exact relation between the height and the speed. Intuitions in physics are generally a good starting point, but don't get too much sentimentaly attached to them. Sometimes they can be completely misleading and prevent us from moving forward.\n",
    "\n",
    "This is only the beginning of the story. Believe it or not, Akaras's questioning is a famous problem in physics which leads to beautiful and multiple theoretical and experimental demonstrations that we will explore."
   ]
  },
  {
   "cell_type": "code",
   "execution_count": null,
   "metadata": {},
   "outputs": [],
   "source": []
  },
  {
   "cell_type": "markdown",
   "metadata": {},
   "source": [
    "### A challenge for the brightest\n",
    "\n",
    "This challenge was proposed to mathematicians by **Johann Bernoulli** in June 1696 in a straighter form :\n",
    "\n",
    "    Given two points A and B in a vertical plane, what is the curve traced out by a point acted on only by gravity, which starts at A and reaches B in the shortest time.\n",
    "    \n",
    "Such curve was labelled **Brachistochrone**, meaning 'shortest time' from Ancient Greek. For the record, according to Newton's niece, Catherine Conduitt, Newton red the letter of Johann Bernoulli on January 1697, and found a solution in a single night ! In the following, we will discover some approaches which solve this problem in a beautiful way.\n",
    "\n",
    "\n",
    "\n",
    "<figure>\n",
    "  <img src=\"images/Johann_Bernoulli2.jpg\" alt=\"Trulli\" style=\"width:200px\">\n",
    "  <figcaption>Johann Bernoulli, probably trying to find the fastest path between Akara and Bonogonzo floating islands.</figcaption>\n",
    "</figure> \n",
    "\n"
   ]
  },
  {
   "cell_type": "markdown",
   "metadata": {},
   "source": [
    "### A matter of energy\n",
    "\n",
    "Enough talking, here is a second question for you : is the mass of the package important for the path design of the rails? (remember, we can neglect all loss of speed due to friction).\n",
    "\n",
    "The answer is immediate if you know a bit of **Galileo**'s work. It is even considered as the first law of modern physics:\n",
    "     \n",
    "\n",
    "> **In the vacuum, the speed of an object in free fall is independent of its mass**\n",
    "\n",
    "Well, it looks like this is the case for us. Since there is no frictions on the rails (no vertical nor horizontal frictions), the parcels are in some kind of free fall, right?\n",
    "\n",
    "Mathematically, a similar conclusion arises when considering one of the fundamental postulate of modern physics: **energy conservation**. Knowing that the energy of a parcel is constant along the rails, and that it is equal to the sum of its kinetic and potential energy, $E_k$ and $E_p$ respectively, can you show why the absolute speed $v$ at anytime during the descent does not depend on its mass $m$, and depends only on the height $y$ of the parcel from the ground? (well supposed there is a ground of course, nobody ever saw it from the city, many legends exists...)\n",
    "\n",
    "\n",
    "#### ➢ Hints and steps of the solution\n",
    "\n",
    "\n",
    "1. In physics, the concept of an object's **energy** is very abstract. It serves to quantify the capability of this object to do some **work**. Well, what is **work** then? It is a slightly less abstract quantity, which pictures the **process of converting this energy into motion via application of a force** (the snake probably slightly bites its tail here). Energy can therefore be seen as a kind of elusive quantity which only manifests itself via multiple and indirect ways : kinetic energy of a moving object, potential energy stored by an object's position in a gravitationnal field, thermal energy due to an object's temperature, ... In physics, energy is postulated as **conserved**, and simply transfers from one form to another.\n",
    "\n",
    "    A simple example is the trebuchet, which is an other way to send \"gifts\". As the counter-weights are manually levered, they accumulate gravitationnal potential energy. When the weights are released, they briefly transfer all their energy into the projectile via the trebuchet arm. The projectile briefly undergo a huge force, which accelerates it. Some of the initial potential energy of the weights are now present in the form of kinetic energy for the projectile. The rest of the energy is transferred elsewhere during the shot via frictions and heat. \n",
    "    \n",
    "<figure>\n",
    "  <img src=\"images/trebuchet.gif\" alt=\"Trulli\" style=\"width:600px\">\n",
    "</figure> \n",
    "\n",
    "In our problem, it is **the own potential energy of the faling object which is converted into kinetic energy.**\n",
    "\n",
    "<img src=\"images/Energy.001.jpeg\" alt=\"Drawing\" style=\"width: 600px;\"/>\n",
    "\n",
    "\n",
    "2. The kinetic energy is proportional to the object's mass as well as the square of its speed $v$, and reads $\\displaystyle E_k=\\frac{m v^2}2$. While the potential $E_p=m g y$ is again proportionnal to its mass in addition to its vertical position $y$, where $g\\simeq 10 \\,\\text{m/s}^2$ is the free fall acceleration of any object on this planet (considered as constant locally). The derivation of those relations are left for an other story. Now remember the postulate of energy conservation : the parcel **total** energy (potential+kinetic) is constant along the rail. Therefore, as it looses some potential energy, it should acquire equivalently some kinetic energy.\n",
    "\n",
    "\n",
    "3. Remember that nobody has ever seen the ground? Well then, what is the heigh $y$ of the parcel in that case? Simple, choose it! **Let choose Akara's island as the \"ground level\"**, such that the **initial vertical position of the package is zero**,  $y=y_A=0$, with $y_A$ Akara's island vertical position. Bonogonzo's island vertical position will therefore be negative, $y_B<0$.\n",
    "\n",
    "    The following image pictures the coordinate choice. In addition, direction and amplitude of the absolute speed $v$ for some positions along the curve are represented as vector arrows.\n",
    "\n",
    "<img src=\"images/BrachistochroneCoordinates3.png\" alt=\"Drawing\" style=\"width: 600px;\"/>\n",
    "\n",
    "\n",
    "4. Time for maths : the key is to write the **total energy at any time** :\n",
    "\n",
    "    \\begin{align}\n",
    "    E &= E_k + E_p\\nonumber\\\\\n",
    "    &= \\frac 12  mv^2 + m g y.\\nonumber\n",
    "    \\end{align}\n",
    "\n",
    "    Now, write down and simplify the **initial energy $E_A$** of the parcel when it has not yet moved from A's island (located at height $y_A$), then equate it with the energy of the parcel $E$ when it is at any other height $y$. You should find a relation between the speed $v$ and the vertical position $y$.\n",
    "\n",
    "    \n",
    "\n",
    "5. Applying as suggested above,\n",
    "\n",
    "    \\begin{align}\n",
    "    E_A &= E_{k,A} + E_{p,A}  = 0 + mgy_A &\\text{(initial total energy of the parcel on A's island, it's kinetic energy is null)}\\nonumber\\\\\n",
    "    E &= E_{k} + E_{p} = \\frac 12  mv^2 + m g y &\\text{(total energy when anywhere else and at height $y$)}\\nonumber\\\\\n",
    "    \\rightarrow E &= E_A \\nonumber &\\text{(energy conservation)} \\\\\n",
    "    \\Leftrightarrow~& \\frac 12  mv^2 + m g y = mgy_A\\nonumber \\\\\n",
    "    \\Leftrightarrow~& \\frac 12  v^2 + g y = gy_A&\\text{(all mass terms  cancel out !)}\\nonumber \\\\\n",
    "    \\Leftrightarrow~& v = \\sqrt{2 g (y - y_A)}\\nonumber\\\\\n",
    "    \\Leftrightarrow~& \\boxed{v(y) = \\sqrt{2 g \\Delta y}}\\nonumber &\\text{with $\\Delta y=y_A - y$, the distance from A's island}\n",
    "    \\end{align}\n",
    "    \n",
    "    That's right! From energy conservation, we deduce not only that the velocity in vacuum free fall does not depend on the mass $m$, but also that it is proportional to the square root of the distance from Akara's island. We can express it as a function of time the height $y$, \n",
    "\n",
    "    \\begin{align}\n",
    "      \\boxed{v(y) = \\sqrt{2 g (y_A - y)}}\n",
    "    \\end{align}\n",
    "\n",
    "    Note that $\\Delta y=y_A - y$ is alway positive, since we choose $y_A=0$, and the parcel is alway situated at the same level or lower than A, that is to say, its vertical coordinate satisfy $y\\leq0$."
   ]
  },
  {
   "cell_type": "markdown",
   "metadata": {},
   "source": [
    "### Free fall speed \n",
    "\n",
    "Okay, this not only confirms our intuition, but provides an exact relation between speed and height as well. In addition, we make an important observation here : **the motion speed $v$ of the body in free fall along an arbitrary curve does not depend on its horizontal position $x$**.\n",
    "\n",
    "On the following figure, three different curves that express the relation between the speed $v$ and the vertical distance $\\Delta y$ are shown. Can you find which one correctly discribes the relation deduced above ? Let say that Bonogonzo's island is at heigh $y_B = -5$ meters.\n",
    "\n",
    "<img src=\"images/speed_y2.jpg\" alt=\"Drawing\" style=\"width: 600px;\"/>\n",
    "\n",
    "\n",
    "#### Answer : \n",
    "\n",
    "1. Try to compute which value does the velocity function $v(\\Delta y)$ takes for known values of $y$ (Akara and Bonogonzo's islands coordinates for example).\n",
    "2. The initial speed is $v_A = 0$, so it cannot be curve 3. In addition, we concluded that the speed should **increase** with the distance $\\Delta y$, one curve 3 it is the opposite.\n",
    "3. The final speed at Bonogonzo's island is $v_B = \\sqrt{-2 g (y_A - y_B)} = \\sqrt{100} = 10$. We see that it is the case for curve 2, indeed $v(\\Delta y) = 10$ when $\\Delta y = 5$."
   ]
  },
  {
   "cell_type": "markdown",
   "metadata": {},
   "source": [
    "# Seconde part : how light is the fastest\n",
    "\n",
    "Okey, let's recap what we known ut to now : \n",
    "\n",
    "- We are looking for a trajectory that minimises the time of free fall between two points $A$ and $B$. \n",
    "- Following the energy conservation principle, we have shown that the absolute velocity $v$ increases with the vecrtical distance $\\Delta y$ from $A$, and does not depend on the object's mass $m$.\n",
    "- \"Brachiostochrone\"is an existing word that means someting.\n",
    "\n",
    "Before tackling the Brachiostochrone problem, we will explore an other subject which at first glance seems completely unrelated to our problem : **light trajectory**."
   ]
  },
  {
   "cell_type": "code",
   "execution_count": null,
   "metadata": {},
   "outputs": [],
   "source": []
  },
  {
   "cell_type": "markdown",
   "metadata": {},
   "source": [
    "### The mud problem\n",
    "\n",
    "Let's say that, comming back from a walk, that you are in a hurry because you want to go doing some Brilliant's modules about quantum gravity. Your house is at sight, straight in front of you, in the middle of a grass field. But beetween you and your house, there is a long strip of mud land going from far on your left to far on your right. You walk slower in the mud, so you are a little bit delayed. How can you do faster? \n",
    "\n",
    "#### Solution \n",
    "\n",
    "- Never go out without your boots on a rainy day\n",
    "\n",
    "Ok, that one was easy. \n",
    "\n",
    "Now, imagine a differnet situation. The house is not in front of you, but slightly offset on your left relative to the mud strip. "
   ]
  },
  {
   "cell_type": "code",
   "execution_count": null,
   "metadata": {},
   "outputs": [],
   "source": []
  }
 ],
 "metadata": {
  "kernelspec": {
   "display_name": "Python 3",
   "language": "python",
   "name": "python3"
  },
  "language_info": {
   "codemirror_mode": {
    "name": "ipython",
    "version": 3
   },
   "file_extension": ".py",
   "mimetype": "text/x-python",
   "name": "python",
   "nbconvert_exporter": "python",
   "pygments_lexer": "ipython3",
   "version": "3.8.5"
  }
 },
 "nbformat": 4,
 "nbformat_minor": 4
}
