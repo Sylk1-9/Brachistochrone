{
 "cells": [
  {
   "cell_type": "code",
   "execution_count": 17,
   "metadata": {},
   "outputs": [],
   "source": [
    "from IPython.display import HTML"
   ]
  },
  {
   "cell_type": "code",
   "execution_count": 41,
   "metadata": {},
   "outputs": [
    {
     "data": {
      "text/html": [
       "<script>\n",
       "code_show=true; \n",
       "function code_toggle() {\n",
       " if (code_show){\n",
       " $('div.input').hide();\n",
       " } else {\n",
       " $('div.input').show();\n",
       " }\n",
       " code_show = !code_show\n",
       "} \n",
       "$( document ).ready(code_toggle);\n",
       "</script>\n",
       "The raw code for this IPython notebook is by default hidden for easier reading.\n",
       "To toggle on/off the raw code, click <a href=\"javascript:code_toggle()\">here</a>."
      ],
      "text/plain": [
       "<IPython.core.display.HTML object>"
      ]
     },
     "execution_count": 41,
     "metadata": {},
     "output_type": "execute_result"
    }
   ],
   "source": [
    "HTML('''<script>\n",
    "code_show=true; \n",
    "function code_toggle() {\n",
    " if (code_show){\n",
    " $('div.input').hide();\n",
    " } else {\n",
    " $('div.input').show();\n",
    " }\n",
    " code_show = !code_show\n",
    "} \n",
    "$( document ).ready(code_toggle);\n",
    "</script>\n",
    "The raw code for this IPython notebook is by default hidden for easier reading.\n",
    "To toggle on/off the raw code, click <a href=\"javascript:code_toggle()\">here</a>.''')"
   ]
  },
  {
   "cell_type": "code",
   "execution_count": 6,
   "metadata": {},
   "outputs": [
    {
     "data": {
      "text/html": [
       "<style>\n",
       "body {\n",
       "    font-family: \"Geneva\", cursive, sans-serif;\n",
       "    font-size: 14px;\n",
       "}\n",
       "</style>\n"
      ],
      "text/plain": [
       "<IPython.core.display.HTML object>"
      ]
     },
     "metadata": {},
     "output_type": "display_data"
    }
   ],
   "source": [
    "%%html\n",
    "<style>\n",
    "body {\n",
    "    font-family: \"Geneva\", cursive, sans-serif;\n",
    "    font-size: 14px;\n",
    "}\n",
    "</style>"
   ]
  },
  {
   "cell_type": "markdown",
   "metadata": {},
   "source": [
    "<center>\n",
    "<figure>\n",
    "  <img src=\"images/FloatingIslands.png\" alt=\"Trulli\" style=\"width:800px\">\n",
    "  <figcaption><i>Floating Islands by PeterPrime on DeviantArt - 2013</i></figcaption>\n",
    "</figure> \n",
    "</center>\n",
    "\n",
    "\n",
    "# First part : warm up\n",
    "\n",
    "\n",
    "Legends say that on an other planet, similar to ours, some cities are built up in the sky. The houses and small neighbourhood are isolated on **floating rocks**, connected by cables and bridges. Appart from the mysterious mechanism that makes islands fly, the physic there is similar to ours.\n",
    "\n",
    "Akara lives on one of these floating islands, and she would like to send packages via a roller-coster to her friend Bonogonzo which lives just a little further down on an other island. She built a special tubular structure filled with vacuum and very slippery walls. When a parcel is sent, no initial push is given, and it simply slides down the track under gravity pull, without any friction. However, she would like to know which shape to give to the rail in order to minimise the time a package takes to arrive to her friend.\n",
    "\n",
    "The situation is picture here after. Akara's island is up left, while Bonogonzo's island is down on the right. Three different rails are showed : the first one simply follows a *straight* line (orange); the second adopts a very *steep* curve at the beginning, and flat at the end (green); the third path (red) go *deep* under Bonogonzo's island level before going up to its island. As you may have guessed already, the goal is to choose the fastest route... or deduce and build a better one, or even *the best route* ! Does it exist? And if so, does it depends on the mass of the object? Well, answers will follow. But first, as a warm up, let's try to guess if there is a fastest route, and if so, which of the tree paths is the fastest, and why. You can click the video to find out the correct answer.\n",
    "\n"
   ]
  },
  {
   "cell_type": "code",
   "execution_count": 10,
   "metadata": {},
   "outputs": [
    {
     "data": {
      "text/html": [
       "<video src=\"images/freefall2.mp4\" controls  width=\"800\" >\n",
       "      Your browser does not support the <code>video</code> element.\n",
       "    </video>"
      ],
      "text/plain": [
       "<IPython.core.display.Video object>"
      ]
     },
     "execution_count": 10,
     "metadata": {},
     "output_type": "execute_result"
    }
   ],
   "source": [
    "from IPython.display import Video\n",
    "\n",
    "Video(\"images/freefall2.mp4\", width=800)"
   ]
  },
  {
   "cell_type": "markdown",
   "metadata": {},
   "source": [
    "### Intuitive approach\n",
    "\n",
    "Well, what do you think about the result? Surprised? Counter-intuitive? Too easy? Probably a bug in the course writer's simulation code? Pause a moment, and think **why the steep is faster than straight** line, and **why the deep paths seems to be the fastest**. You can use the help of the animation above to observe what's going on.\n",
    "\n",
    "<br>\n",
    "<div style=\"background-color: aquamarine ; padding: 10px; border: 2px solid green;\"> \n",
    "    \n",
    "#### Hints and solution : \n",
    "    \n",
    "  - Intuitively, we can see that **as a package fall, it gains speed**. The lower it is in relation to Akara's island, the faster it goes along the rail.\n",
    "  - Although the **straight** line is the **shortest** distant, is it by far the **slowest**. The trajectory a rough compromise between going toward Bonogonzo's island and going down to gain speed, and clearly, success is not there. The package looses too much time at the beginning.\n",
    "  - On the contrary, the first instants on the **steep** curve are spent going down as fast as possible to gain speed, then use these speed to go right and reach destination.\n",
    "  - item Finally, the **deep** curve chooses to go rather deeply, maximising the velocity for a moment, before reaching Bonogonzo's island. This last approach is actually the **fastest**.\n",
    "\n",
    "</div>\n",
    "\n",
    "\n",
    "We have our intuitive solution! The curve which is the fastest should find a **compromise between reaching high speed by going down, while still spending some time going toward B's island**. Keep in mind that this is only a intuitive solution. We do not know the exact relation between the height and the speed. Intuitions in physics are generally a good starting point, but don't get too much sentimentaly attached to them. Sometimes they can be completely misleading and prevent us from moving forward.\n",
    "\n",
    "This is only the beginning of the story. Believe it or not, Akaras's questioning is a famous problem in physics which leads to beautiful and multiple theoretical and experimental demonstrations that we will explore."
   ]
  },
  {
   "cell_type": "markdown",
   "metadata": {},
   "source": [
    "### A challenge for the brightest\n",
    "\n",
    "This challenge was proposed to mathematicians by **Johann Bernoulli** in June 1696 in a straighter form :\n",
    "\n",
    "<br>\n",
    "\n",
    "<div align=\"center\"><i>\n",
    "Given two points A and B in a vertical plane, what is the curve traced out by a point acted on only by gravity, which starts at A and reaches B in the shortest time.\n",
    "</i></div>\n",
    "\n",
    "Such curve was labelled **Brachistochrone**, meaning 'shortest time' from Ancient Greek. For the record, according to Newton's niece, Catherine Conduitt, Newton red the letter of Johann Bernoulli on January 1697, and found a solution in a single night ! In the following, we will discover some approaches which solve this problem in a beautiful way.\n",
    "\n",
    "\n",
    "<center>\n",
    "<figure>\n",
    "  <img src=\"images/Johann_Bernoulli2.jpg\" alt=\"Trulli\" style=\"width:200px\">\n",
    "  <figcaption><i>Johann Bernoulli, probably trying to draw the fastest path between Akara and Bonogonzo floating islands.</i></figcaption>\n",
    "</figure> \n",
    "</center>\n"
   ]
  },
  {
   "cell_type": "markdown",
   "metadata": {},
   "source": [
    "### A matter of energy\n",
    "\n",
    "Enough talking, here is a second question for you : is the mass of the package important for the path design of the rails? (remember, we can neglect all loss of speed due to friction).\n",
    "\n",
    "The answer is immediate if you know a bit of **Galileo**'s work. It is even considered as the first law of modern physics:\n",
    "\n",
    "<center>\n",
    "<br>\n",
    "<div style=\"background-color: #ffae42 ; padding: 10px; border: 2px solid orange;\"> \n",
    "    \n",
    "<b>\n",
    "In the vacuum, the speed of an object in free fall is independent of its mass\n",
    "</b>\n",
    "\n",
    "</div>\n",
    "</center>\n",
    "\n",
    "<br>\n",
    "<center>\n",
    "<figure>\n",
    "  <img src=\"images/Galileo.jpg\" alt=\"Trulli\" style=\"width:200px\">\n",
    "  <figcaption><i>Galileo, probably thinking of what could be the first law of modern physics. Justus Sustermans (1636)</i></figcaption>\n",
    "</figure> \n",
    "</center>\n",
    "\n",
    "\n",
    "\n",
    "Well, it looks like this is the case for us. Since there is no frictions on the rails (no vertical nor horizontal frictions), the parcels are in some kind of free fall, right?\n",
    "\n",
    "Mathematically, a similar conclusion arises when considering one of the fundamental postulate of modern physics: **energy conservation**. Knowing that the energy of a parcel is constant along the rails, and that it is equal to the sum of its kinetic and potential energy, $E_k$ and $E_p$ respectively, can you show why the absolute speed $v$ at anytime during the descent does not depend on its mass $m$, and depends only on the height $y$ of the parcel from the ground? (well supposed there is a ground of course, nobody ever saw it from the city, many legends exists...)\n",
    "\n",
    "\n",
    "<br>\n",
    "<div style=\"background-color: aquamarine ; padding: 10px; border: 2px solid green;\"> \n",
    "    \n",
    "<strong> Hints and steps of the solution </strong>\n",
    "\n",
    "1. In physics, the concept of an object's **energy** is very abstract. It serves to quantify the capability of this object to do some **work**. Well, what is **work** then? It is a slightly less abstract quantity, which pictures the **process of converting this energy into motion via application of a force** (the snake probably slightly bites its tail here). Energy can therefore be seen as a kind of elusive quantity which only manifests itself via multiple and indirect ways : kinetic energy of a moving object, potential energy stored by an object's position in a gravitationnal field, thermal energy due to an object's temperature, ... In physics, energy is postulated as **conserved**, and simply transfers from one form to another.\n",
    "\n",
    "    A simple example is the trebuchet, which is an other way to send \"packages\". As the counter-weights are manually levered, they accumulate gravitationnal potential energy. When the weights are released, they briefly transfer all their energy into the projectile via the trebuchet arm. The projectile briefly undergo a huge force (some **work**), which accelerates it. Some of the initial potential energy of the weights are now present in the form of kinetic energy for the projectile. The rest of the energy is transferred elsewhere during the shot via frictions and heat in the trebuchet structure. \n",
    "    \n",
    "<figure>\n",
    "  <img src=\"images/trebuchet.gif\" alt=\"Trulli\" style=\"width:500px\">\n",
    "</figure> \n",
    "\n",
    "<br>\n",
    "    \n",
    "In our situation, it is **the own potential energy of the falling object which is converted into kinetic energy.**\n",
    "\n",
    "<img src=\"images/Energy.001.jpeg\" alt=\"Drawing\" style=\"width: 500px;\"/>\n",
    "\n",
    "\n",
    "2. The kinetic energy is proportional to the object's mass as well as the square of its speed $v$, and reads $\\displaystyle E_k=\\frac{m v^2}2$. While the potential $E_p=m g y$ is again proportionnal to its mass in addition to its vertical position $y$, where $g\\simeq 10 \\,\\text{m/s}^2$ is the free fall acceleration of any object on this planet (considered as constant locally). The derivation of those relations are left for an other story. Now remember the postulate of energy conservation : the parcel **total** energy (potential+kinetic) is constant along the rail. Therefore, as it looses some potential energy, it should acquire equivalently some kinetic energy.\n",
    "\n",
    "\n",
    "3. Remember that nobody has ever seen the ground? Well then, what is the heigh $y$ of the parcel in that case? Simple, choose it! **Let us choose Akara's island as the \"ground level\"**, such that the **initial vertical position of the package is zero**,  $y=y_A=0$, with $y_A$ Akara's island vertical position. Bonogonzo's island vertical position will therefore be negative, $y_B<0$.\n",
    "\n",
    "    The following image pictures the coordinate choice. In addition, direction and amplitude of the absolute speed $v$ for some positions along the curve are represented as vector arrows.\n",
    "\n",
    "<img src=\"images/BrachistochroneCoordinates3.png\" alt=\"Drawing\" style=\"width: 600px;\"/>\n",
    "\n",
    "\n",
    "4. Time for maths : the key is to write the **total energy at any time** :\n",
    "\n",
    "    \\begin{align}\n",
    "    E &= E_k + E_p\\nonumber\\\\\n",
    "    &= \\frac 12  mv^2 + m g y.\\nonumber\n",
    "    \\end{align}\n",
    "\n",
    "    Now, write down and simplify the **initial energy $E_A$** of the parcel when it has not yet moved from A's island (located at height $y_A$), then equate it with the energy of the parcel $E$ when it is at any other height $y$. You should find a relation between the speed $v$ and the vertical position $y$.\n",
    "\n",
    "    \n",
    "\n",
    "5. Applying as suggested above,\n",
    "\n",
    "    \\begin{align}\n",
    "    E_A &= E_{k,A} + E_{p,A}  &\\text{(initial energy of the parcel on A's island)}\\nonumber\\\\\n",
    "    & = 0 + mgy_A &\\text{(it's kinetic part is null)}\\nonumber\\\\\n",
    "    E &= E_{k} + E_{p} = \\frac 12  mv^2 + m g y &\\text{(total energy when anywhere else and at height $y$)}\\nonumber\\\\\n",
    "    \\rightarrow E &= E_A \\nonumber &\\text{(energy conservation)} \\\\\n",
    "    \\Leftrightarrow~& \\frac 12  mv^2 + m g y = mgy_A\\nonumber \\\\\n",
    "    \\Leftrightarrow~& \\frac 12  v^2 + g y = gy_A&\\text{(all mass terms  cancel out !)}\\nonumber \\\\\n",
    "    \\Leftrightarrow~& v = \\sqrt{2 g (y - y_A)}&\\text{(isolating the speed term)}\\nonumber\\\\\n",
    "    \\Leftrightarrow~& \\boxed{v(y) = \\sqrt{2 g \\Delta y}}\\nonumber &\\text{with $\\Delta y=y_A - y$, the distance from A's island}\n",
    "    \\end{align}\n",
    "    \n",
    "    That's right! From energy conservation, we deduce not only that the velocity in vacuum free fall does not depend on the mass $m$, but also that it is proportional to the square root of the distance from Akara's island. We can express it as a function of time the height $y$, \n",
    "\n",
    "    \\begin{align}\n",
    "      \\boxed{v(y) = \\sqrt{2 g (y_A - y)}}\n",
    "    \\end{align}\n",
    "\n",
    "    Note that $\\Delta y=y_A - y$ is alway positive, since we choose $y_A=0$, and the parcel is alway situated at the same level or lower than A, that is to say, its vertical coordinate satisfies $y\\leq0$.\n",
    "\n",
    "</div>\n"
   ]
  },
  {
   "cell_type": "markdown",
   "metadata": {},
   "source": [
    "### Free fall speed \n",
    "\n",
    "Okay, this not only confirms our intuition, but provides an exact relation between speed and height as well. In addition, we make an important observation here : **the motion speed $v$ of the body in free fall along an arbitrary curve does not depend on its horizontal position $x$**.\n",
    "\n",
    "On the following figure, three different curves that express the relation between the speed $v$ and the vertical distance $\\Delta y$ are shown. Can you find which one correctly discribes the velocity relation deduced above ? Let say that Bonogonzo's island is at heigh $y_B = -5$ meters.\n",
    "\n",
    "<img src=\"images/speed_y2.jpg\" alt=\"Drawing\" style=\"width: 600px;\"/>\n",
    "\n",
    "<br>\n",
    "<div style=\"background-color: aquamarine ; padding: 10px; border: 2px solid green;\"> \n",
    "    \n",
    "#### Answer : \n",
    "\n",
    "1. Try to compute which value does the velocity function $v(\\Delta y)$ takes for known values of $y$ (Akara and Bonogonzo's islands coordinates for example).\n",
    "2. The initial speed is $v_A = 0$, so it cannot be curve 3. In addition, we concluded that the speed should **increase** with the distance $\\Delta y$, one curve 3 it is the opposite.\n",
    "3. The final speed at Bonogonzo's island is $v_B = \\sqrt{2 g (y_A - y_B)} = \\sqrt{100} = 10 \\,\\text{[m/s]}$. We see that it is the case for curve 2, indeed $v(\\Delta y) = 10 \\, \\text{[m/s]}$ when $\\Delta y = 5 \\,\\text{[m]}$.\n",
    "\n",
    "</div>\n",
    "\n",
    "<br>\n",
    "<div style=\"background-color: #ffae42 ; padding: 10px; border: 2px solid orange;\"> \n",
    "\n",
    "\n",
    "### part I : summing up\n",
    "\n",
    "As you can see, **energy conservation** is a very powerfull tool in physics. **Knowing the initial conditions** of the problem, we can easily infer some propreties of the falling object. In particular, we were able to deduce a **universal speed relation**, $v(y) = \\sqrt{2 g (y_A - y)}$, without even knowing which path we will give to the rails ! \n",
    "\n",
    "This last point if **very** important. Firstly, the relation is said to be universal as it does not depends on the mass of the falling package. It is good news for Akara, as she would only need to build one rail that will guide all her parcels as fast as possible for any weight. Secondly, now that we have a relation for the package velocity, we can go one step further and deduce the shape of the path that minimises the travel time. Can you feel why? \n",
    "    \n",
    "Indeed, the travel time is simply the traveled distance divided by the speed. Here, things are a little bit tricky, as the speed is constantly changing with the vertical position, $y$, of the package. So it is not straighfordward to find the **optimal** curve. But the main idea is here. We will see how Bernouilli had some very good intuition of what to do next.\n",
    "    \n",
    "</div>"
   ]
  },
  {
   "cell_type": "markdown",
   "metadata": {},
   "source": [
    "### part I : bonus problem : \n",
    "\n",
    "During the last century, some trebuchets were reconstructed based on ancien documents. For some of the biggest, the projectiles weight around $100$ Kg, while the counterweight about $6.000$ Kg. Knowing that the counterweight is raised 3 meters above its rest positioin before firering, and supposing that the trebuchet is a perfect machine able to completely convert the gravitational potential energy of the counterweight into kinetic energy of the projectile. Can you find the velocity of the projectile the moment it exits the trebuchet and start flying in air? What if the counterweight mass is divided by four? How does the counterweight height influence the shot?\n",
    "\n",
    "<br>\n",
    "<div style=\"background-color: aquamarine ; padding: 10px; border: 2px solid green;\"> \n",
    "    \n",
    "<strong> Solution </strong>\n",
    "\n",
    "- Again, the key is to equate potential and kinetic energy. \n",
    "- First, all of it is stored into the counterweight in the form of potential energy, $E_p = Mgh$, where $h=3\\,\\text{m}$ is the height of the counterweight, $M=6000 \\,\\text{Kg}$ its mass, and $g=10\\,\\text{m/s}$ the free fall gravitationnal acceleration.\n",
    "- Secondly, the kinetic energy of the projectile is written $E_k = \\frac 12 m v^2$ , with $m=100\\,\\text{Kg}$ its mass, and $v$ its speed (what we are looking for).\n",
    "- Equating both energies gives \n",
    "\n",
    "\\begin{align}\n",
    "    E_k &= E_p \\\\\n",
    "    \\Leftrightarrow~~ \\frac12 m v^2&= Mgh \\\\\n",
    "    \\Rightarrow~~v_1=&\\sqrt{2  g  \\frac{h M}{m}} \\\\\n",
    "    &= 60 \\, \\text{m/s} &\\text{(carrefull with units !)}\\\\\n",
    "    &= 216 \\, \\text{Km/h} \n",
    "\\end{align}\n",
    "\n",
    "- For four times lighter counterweight, the speed is divided by two. Indeed, $v_2=\\sqrt{\\dfrac{2 (M/4) g h}{m}} = \\dfrac 12 \\sqrt{\\dfrac{2 M g h}{m}} = \\dfrac{v_1}{2}$.\n",
    "    \n",
    "Well, that is a lot of speed ! Of course, in practice, trebuchets are no perfect machine, and projectiles never reach such velocity. Note that here, unlike previously witht the packages of Akara, we had to make a distinction between the counterweight mass, $M$, and that of the projectile $m$. From the equation above, we clearly see that the projectile goes faster as the mass ratio $\\dfrac {Mh}m$ is higher : smaller projectiles, heavier or higher counterweight, make faster shots.\n",
    "    \n",
    "    "
   ]
  },
  {
   "cell_type": "markdown",
   "metadata": {},
   "source": [
    "# Seconde part : how light is the fastest\n",
    "\n",
    "Okey, let's recap what we know up until to now : \n",
    "\n",
    "- We are looking for a trajectory that minimises the time of free fall between two points $A$ and $B$. \n",
    "- Following the energy conservation principle, we have shown that the absolute velocity $v$ increases with the vertical distance, $\\Delta y$, from $A$, and does not depend on the object's mass $m$.\n",
    "- \"Brachiostochrone\"is an existing word that means someting.\n",
    "\n",
    "Before tackling the Brachiostochrone problem, we will explore an other subject which at first glance seems completely unrelated to our problem : **light trajectory**."
   ]
  },
  {
   "cell_type": "markdown",
   "metadata": {},
   "source": [
    "### The mud problem\n",
    "\n",
    "Let's say that, comming back from a sleigh ride in the north with your deers, you are in a hurry because you want to go practicing some Brilliant's modules about quantum gravity. Your igloo is at sight, slightly offset on your left if you are facing to south. What is the fastest route toward your igloo? Well, straight head of course ! Straight paths are usualy the fastest if your speed is constant along the path.\n",
    "    \n",
    "Now, imagine a different situation as pictured below. Beetween you and your igloo, there is a long strip of mud land going from far ouest to far east. You are slower in the mud, as you have to push the sleigh yourself. As a consequence, you are a little bit delayed. What is your tactic to minimise the time of travel compared to going straight toward your igloo? Do you have an intuition of what to do? \n",
    "\n",
    "<center>\n",
    "<figure>\n",
    "  <img src=\"images/mud1.jpg\" alt=\"Trulli\" style=\"width:900px\">\n",
    "    <figcaption><i>Icons from Smashicons and Pixelmeetup</i></figcaption>\n",
    "    \n",
    "\n",
    "</figure> \n",
    "</center>\n",
    "\n",
    "\n",
    "<br>\n",
    "<div style=\"background-color: aquamarine ; padding: 10px; border: 2px solid green;\"> \n",
    "    \n",
    "<strong> Solution </strong>\n",
    "\n",
    "\n",
    "- Unless pushing the sled is something you’re passionate about, you will probably naturally try to minimize the time spent in the mud by first going straight into it, pass the mud strip, then steer obliquely towards your igloo once out of it.\n",
    "    \n",
    "</div>\n",
    "\n",
    "Can you do even better? Well, it depends how slow you are in the mud. \n",
    "- Let say that you move 8 times slower in the mud than on snow.\n",
    "- Let choose your position as the origin of our coordinate system. \n",
    "- Let say that the igloo is at position $(x_i, y_i) = (5, -2)$.\n"
   ]
  },
  {
   "cell_type": "code",
   "execution_count": 40,
   "metadata": {},
   "outputs": [
    {
     "data": {
      "application/vnd.jupyter.widget-view+json": {
       "model_id": "7a775751deee405890ad66550d2badb3",
       "version_major": 2,
       "version_minor": 0
      },
      "text/plain": [
       "Canvas(toolbar=Toolbar(toolitems=[('Home', 'Reset original view', 'home', 'home'), ('Back', 'Back to previous …"
      ]
     },
     "metadata": {},
     "output_type": "display_data"
    },
    {
     "data": {
      "application/vnd.jupyter.widget-view+json": {
       "model_id": "5c3d986a39a243da9f6c09a274ad23e3",
       "version_major": 2,
       "version_minor": 0
      },
      "text/plain": [
       "interactive(children=(FloatSlider(value=0.0, description='d', max=5.5, min=-0.5, step=0.2), Output()), _dom_cl…"
      ]
     },
     "metadata": {},
     "output_type": "display_data"
    }
   ],
   "source": [
    "%matplotlib widget\n",
    "\n",
    "from __future__ import print_function\n",
    "from ipywidgets import interact, interactive, fixed, interact_manual, FloatSlider\n",
    "\n",
    "import numpy as np\n",
    "import matplotlib.pyplot as plt\n",
    "import matplotlib.image as mpimg\n",
    "\n",
    "A = (0, 0)\n",
    "B = (5, -2)\n",
    "D = (0, -1)\n",
    "\n",
    "# fig, ax = plt.subplots(figsize=[10, 5])\n",
    "fig = plt.figure(figsize=[8, 4])\n",
    "ax = fig.add_subplot(1, 1, 1)\n",
    "ax.plot(0, 0, \"ko\")\n",
    "ax.fill_between([-10, 10], 0, D[1], color=\"C5\", alpha=0.3)\n",
    "ax.plot(5, -2, \"rx\")\n",
    "plt.xlim(-1, 6)\n",
    "plt.ylim(-2.3, 0.5)\n",
    "plt.xlabel(r\"x\", fontweight='bold')\n",
    "plt.ylabel(r\"y\", fontweight='bold')\n",
    "arr_sleigh = mpimg.imread('images/sleigh.png')\n",
    "arr_igloo = mpimg.imread('images/igloo.png')\n",
    "ax.imshow(arr_sleigh, extent=[-0.2, 0.2, -0.0, 0.4])\n",
    "ax.imshow(arr_igloo, extent=[B[0]-0.2, B[0]+0.2, B[1]-0.0, B[1]+0.4])\n",
    "plt.text(-0.9, -0.5, r\"Mud\", fontweight='bold')\n",
    "plt.text(-0.9, -1.7, r\"Snow\", fontweight='bold')\n",
    "l1, = ax.plot([A[0], D[0]], [A[1], D[1]], color=\"C3\", lw=2)\n",
    "l2, = ax.plot([D[0], B[0]], [D[1], B[1]], color=\"C2\", lw=2)\n",
    "t1 = ax.text((A[0]+ A[0])/2.+0.1, -0.5, r\"$d_m=1$\")\n",
    "t2 = ax.text((A[0]+ B[0])/2.+0.1, -1.5, r\"$d_s=%.1f$\" % (np.sqrt(1+25)))\n",
    "\n",
    "def update(d=1.0):\n",
    "    l1.set_xdata([A[0], d])\n",
    "    l2.set_xdata([d, B[0]])\n",
    "    t1.set_position([(d+A[0])/2.+0.1, -0.5])\n",
    "    t2.set_position([(d+B[0])/2.+0.1, -1.5])\n",
    "    t1.set_text(r\"$d_m=%.1f$ m\" %np.sqrt(1 + d**2))\n",
    "    t2.set_text(r\"$d_m=%.1f$ m\" %np.sqrt(1 + (B[0]-d)**2))\n",
    "    # fig.canvas.draw_idle()\n",
    "    ax.figure.canvas.draw()\n",
    "    # plt.show()\n",
    "\n",
    "inter = interact(update, d=FloatSlider(min=-0.5, max=5.5, step=0.2, continuous_update=True))\n",
    "\n"
   ]
  }
 ],
 "metadata": {
  "kernelspec": {
   "display_name": "Python 3",
   "language": "python",
   "name": "python3"
  },
  "language_info": {
   "codemirror_mode": {
    "name": "ipython",
    "version": 3
   },
   "file_extension": ".py",
   "mimetype": "text/x-python",
   "name": "python",
   "nbconvert_exporter": "python",
   "pygments_lexer": "ipython3",
   "version": "3.8.5"
  }
 },
 "nbformat": 4,
 "nbformat_minor": 4
}
